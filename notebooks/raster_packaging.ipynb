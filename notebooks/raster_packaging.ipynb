{
 "cells": [
  {
   "cell_type": "code",
   "execution_count": null,
   "id": "67476187-62b4-471e-b2e4-922d92b60437",
   "metadata": {},
   "outputs": [],
   "source": [
    "from ndpyramid import pyramid_reproject\n",
    "from ndpyramid.core import _multiscales_template, _get_version\n",
    "import xarray as xr\n",
    "import rioxarray\n",
    "import datatree as dt\n",
    "import fsspec\n",
    "from numcodecs.zlib import Zlib\n",
    "import regionmask"
   ]
  },
  {
   "cell_type": "code",
   "execution_count": null,
   "id": "343e4353-55e1-4c7f-95eb-cda8e5e14bbb",
   "metadata": {},
   "outputs": [],
   "source": [
    "def pyramid_reproject(ds, levels: int = None, pixels_per_tile=128) -> dt.DataTree:\n",
    "\n",
    "    from rasterio.transform import Affine\n",
    "    from rasterio.warp import Resampling\n",
    "\n",
    "    # multiscales spec\n",
    "    save_kwargs = {\"levels\": levels, \"pixels_per_tile\": pixels_per_tile}\n",
    "    attrs = {\n",
    "        \"multiscales\": _multiscales_template(\n",
    "            datasets=[{\"path\": str(i) for i in range(levels)}],\n",
    "            type=\"reduce\",\n",
    "            method=\"pyramid_reproject\",\n",
    "            version=_get_version(),\n",
    "            kwargs=save_kwargs,\n",
    "        )\n",
    "    }\n",
    "\n",
    "    # set up pyramid\n",
    "    root = xr.Dataset(attrs=attrs)\n",
    "    pyramid = dt.DataTree(data_objects={\"root\": root})\n",
    "\n",
    "    # pyramid data\n",
    "    for level in range(levels):\n",
    "        lkey = str(level)\n",
    "        dim = 2 ** level * pixels_per_tile\n",
    "        dst_transform = Affine.translation(-20026376.39, 20048966.10) * Affine.scale(\n",
    "            (20026376.39 * 2) / dim, -(20048966.10 * 2) / dim\n",
    "        )\n",
    "\n",
    "        pyramid[lkey] = xr.Dataset(attrs=ds.attrs)\n",
    "        for k, da in ds.items():\n",
    "            pyramid[lkey].ds[k] = da.rio.reproject(\n",
    "                \"EPSG:3857\",\n",
    "                resampling=Resampling.average,\n",
    "                shape=(dim, dim),\n",
    "                transform=dst_transform,\n",
    "            )\n",
    "    # pyramid = pyramid.chunk()\n",
    "    return pyramid"
   ]
  },
  {
   "cell_type": "markdown",
   "id": "cd671d9a-8a8e-45f6-a5de-72b7d3034d5d",
   "metadata": {},
   "source": [
    "# let's make some data pyramids\n"
   ]
  },
  {
   "cell_type": "code",
   "execution_count": null,
   "id": "022974e8-aaee-4ae7-bba2-dfd86d9cb882",
   "metadata": {},
   "outputs": [],
   "source": [
    "global_path = \"s3://carbonplan-climatetrace/v0.4/global/3000m/raster_tot.zarr\"\n",
    "global_raster = xr.open_zarr(global_path, consolidated=True)"
   ]
  },
  {
   "cell_type": "code",
   "execution_count": null,
   "id": "affb94fc-552f-41a2-aeb7-1547ae0a29e0",
   "metadata": {},
   "outputs": [],
   "source": [
    "# handle datatypes and missing values\n",
    "global_raster = global_raster.astype(\"float32\")\n",
    "global_raster = global_raster.fillna(0)"
   ]
  },
  {
   "cell_type": "code",
   "execution_count": null,
   "id": "7cdee3ec-14f9-48ca-acc1-e52b71dccad9",
   "metadata": {},
   "outputs": [],
   "source": [
    "global_raster = global_raster.rio.write_crs(\"EPSG:4326\")"
   ]
  },
  {
   "cell_type": "code",
   "execution_count": null,
   "id": "086e3def-b8c8-4e95-b1da-4cf9a88ab4c3",
   "metadata": {},
   "outputs": [],
   "source": [
    "global_raster = global_raster.rename({\"lat\": \"y\", \"lon\": \"x\"})"
   ]
  },
  {
   "cell_type": "code",
   "execution_count": null,
   "id": "5d93c71e-f54a-4168-8068-bd1724ad2a2e",
   "metadata": {},
   "outputs": [],
   "source": [
    "global_raster = global_raster.transpose(\"year\", \"y\", \"x\")"
   ]
  },
  {
   "cell_type": "code",
   "execution_count": null,
   "id": "e580496f-ebe4-4144-a91f-237c6c12f7e0",
   "metadata": {},
   "outputs": [],
   "source": [
    "# trim to just land\n",
    "land = regionmask.defined_regions.natural_earth.land_110\n",
    "land_mask = land.mask(global_raster.x, global_raster.y).rename({\"lat\": \"y\", \"lon\": \"x\"})\n",
    "global_raster = global_raster.where(land_mask == 0)"
   ]
  },
  {
   "cell_type": "code",
   "execution_count": null,
   "id": "85ab3e59-de77-4583-9cd4-260cee006c4b",
   "metadata": {},
   "outputs": [],
   "source": [
    "datatree = pyramid_reproject(global_raster, levels=7)\n",
    "# datatree will include collection of ds, one for each level in pyramid\n",
    "# print(str(datatree)) will show you the full datatree structure"
   ]
  },
  {
   "cell_type": "code",
   "execution_count": null,
   "id": "8eaf58ba-7665-4591-a471-8922c9837333",
   "metadata": {},
   "outputs": [],
   "source": [
    "for key in datatree.children:\n",
    "    key.ds = key.ds.chunk({\"x\": 128, \"y\": 128, \"year\": -1})\n",
    "    key.ds.emissions.attrs = {\"_FillValue\": -999}\n",
    "    key.ds[\"emissions\"] = key.ds.emissions.where(key.ds.emissions < 1e38)\n",
    "    key.ds.emissions.encoding[\"compressor\"] = Zlib()"
   ]
  },
  {
   "cell_type": "code",
   "execution_count": null,
   "id": "3cc35fc9-2ee2-46de-870e-a2ef52cde95b",
   "metadata": {},
   "outputs": [],
   "source": [
    "encoding = {\"emissions\": {\"compressor\": Zlib()}}"
   ]
  },
  {
   "cell_type": "code",
   "execution_count": null,
   "id": "a5b81216-47f2-4d7d-a08f-6ec1410ff5fd",
   "metadata": {},
   "outputs": [],
   "source": [
    "mapper = fsspec.get_mapper(\"s3://carbonplan-scratch/junk/v0_emissions_pyramids.zarr\")\n",
    "datatree.to_zarr(mapper, consolidated=True, mode=\"w\", encoding=encoding)"
   ]
  },
  {
   "cell_type": "markdown",
   "id": "6a82a4e2-a8de-419a-a9b8-c9b0121f3d11",
   "metadata": {},
   "source": [
    "# and now let's make the 1 degree raster\n"
   ]
  },
  {
   "cell_type": "code",
   "execution_count": null,
   "id": "0684076c-cf50-4fe1-8f60-e1e77e371583",
   "metadata": {},
   "outputs": [],
   "source": [
    "one_degree_raster = global_raster.coarsen(y=40, x=40).sum().compute().drop(\"spatial_ref\")"
   ]
  },
  {
   "cell_type": "code",
   "execution_count": null,
   "id": "ce06982e-3a08-4d99-96bc-d8804e1fb8a0",
   "metadata": {},
   "outputs": [],
   "source": [
    "one_degree_raster.sum(dim=\"year\").emissions.plot(cmap=\"Greens\", vmax=1e8)"
   ]
  },
  {
   "cell_type": "code",
   "execution_count": null,
   "id": "019be88a-82ac-4ea1-a63e-dbddcc479ba1",
   "metadata": {},
   "outputs": [],
   "source": [
    "one_degree_raster = one_degree_raster.chunk({\"x\": -1, \"y\": -1, \"year\": -1}).astype(\"float32\")"
   ]
  },
  {
   "cell_type": "code",
   "execution_count": null,
   "id": "0c9100a2-d9bf-4f87-9f04-7ab3e0fd80ee",
   "metadata": {},
   "outputs": [],
   "source": [
    "mapper = fsspec.get_mapper(\"s3://carbonplan-scratch/junk/v0_one_degree_raster.zarr\")"
   ]
  },
  {
   "cell_type": "code",
   "execution_count": null,
   "id": "4574cd73-64fd-4b47-bd1c-a807159e29f7",
   "metadata": {},
   "outputs": [],
   "source": [
    "one_degree_raster.to_zarr(mapper, consolidated=True, mode=\"w\", encoding=encoding)"
   ]
  }
 ],
 "metadata": {
  "kernelspec": {
   "display_name": "Python [conda env:notebook] *",
   "language": "python",
   "name": "conda-env-notebook-py"
  },
  "language_info": {
   "codemirror_mode": {
    "name": "ipython",
    "version": 3
   },
   "file_extension": ".py",
   "mimetype": "text/x-python",
   "name": "python",
   "nbconvert_exporter": "python",
   "pygments_lexer": "ipython3",
   "version": "3.9.7"
  }
 },
 "nbformat": 4,
 "nbformat_minor": 5
}
