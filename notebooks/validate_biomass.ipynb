{
 "cells": [
  {
   "cell_type": "code",
   "execution_count": null,
   "id": "recognized-lobby",
   "metadata": {},
   "outputs": [],
   "source": [
    "%load_ext autoreload\n",
    "%autoreload 2\n",
    "\n",
    "import xarray as xr\n",
    "from matplotlib import cm\n",
    "import cartopy.crs as ccrs\n",
    "import matplotlib.pyplot as plt\n",
    "from carbonplan_styles.mpl import set_theme\n",
    "set_theme()\n",
    "from sklearn.metrics import r2_score, mean_absolute_error, mean_absolute_percentage_error\n",
    "import numpy as np\n",
    "import seaborn as sns\n",
    "import pandas as pd\n",
    "from carbonplan_trace.tiles import tiles\n",
    "import rasterio\n"
   ]
  },
  {
   "cell_type": "markdown",
   "id": "e13d4d6c-10b5-4ec6-94d0-3b86e4f97c3a",
   "metadata": {},
   "source": [
    "# Get comparison data\n"
   ]
  },
  {
   "cell_type": "code",
   "execution_count": null,
   "id": "facb81ab-98b2-4142-8640-4e5f7fd3b1fb",
   "metadata": {},
   "outputs": [],
   "source": [
    "from carbonplan_trace.v1.landsat_preprocess import access_credentials\n",
    "import fsspec\n",
    "\n",
    "access_key_id, secret_access_key = access_credentials()\n",
    "fs = fsspec.get_filesystem_class(\"s3\")(\n",
    "    key=access_key_id,\n",
    "    secret=secret_access_key,\n",
    ")"
   ]
  },
  {
   "cell_type": "code",
   "execution_count": null,
   "id": "65bbede4-81af-45cd-b33c-83e8abde30c3",
   "metadata": {},
   "outputs": [],
   "source": [
    "version = \"v1.2\""
   ]
  },
  {
   "cell_type": "code",
   "execution_count": null,
   "id": "57bd7f61-12a1-4c58-8ea6-a42974f1f136",
   "metadata": {},
   "outputs": [],
   "source": [
    "log_bucket = f\"s3://carbonplan-climatetrace/{version}/changepoint_log2/\"\n",
    "completed_subtiles = fs.ls(log_bucket)\n",
    "completed_subtiles = [subtile.split(\"/\")[-1].split(\".txt\")[0] for subtile in completed_subtiles]\n",
    "len(completed_subtiles)"
   ]
  },
  {
   "cell_type": "code",
   "execution_count": null,
   "id": "3ea54c02-e366-4da9-ae62-b6994de82119",
   "metadata": {},
   "outputs": [],
   "source": [
    "ds = xr.open_zarr(\n",
    "    f\"s3://carbonplan-climatetrace/{version}/results/global/3000m/raster_biomass.zarr\"\n",
    ")\n",
    "# average carbonplan data for comparison since all other datasets are ~snapshots\n",
    "ds = ds.mean(dim=\"time\").compute()\n",
    "# rename\n",
    "ds = ds[[\"AGB\"]].rename({\"AGB\": \"CarbonPlan\"})\n",
    "ds = ds.assign_coords({\"lat\": ds.lat.round(4), \"lon\": ds.lon.round(4)})"
   ]
  },
  {
   "cell_type": "code",
   "execution_count": null,
   "id": "26785ecc-972b-49df-bdfb-13e1656bfba8",
   "metadata": {},
   "outputs": [],
   "source": [
    "comps = [\"Harris\", \"Spawn\", \"GEDI\", \"Xu\"]\n",
    "for name in comps:\n",
    "    print(name)\n",
    "    temp = xr.open_zarr(f\"s3://carbonplan-climatetrace/validation/{name.lower()}_3000m_agbd.zarr\")\n",
    "    temp = temp.assign_coords({\"lat\": ds.lat, \"lon\": ds.lon})\n",
    "    if name == \"Xu\":\n",
    "        temp = temp.drop(\"spatial_ref\").sel(year=slice(2014, 2020)).mean(dim=\"year\").compute()\n",
    "    ds[name] = temp[\"agbd\"]"
   ]
  },
  {
   "cell_type": "code",
   "execution_count": null,
   "id": "41fd4e2a-3317-4adb-b23d-81950ea2705d",
   "metadata": {},
   "outputs": [],
   "source": [
    "# also load realm\n",
    "realms = xr.open_zarr(\"s3://carbonplan-climatetrace/validation/realm_mask.zarr\")\n",
    "realms = realms.assign_coords({\"lat\": realms.lat.round(4), \"lon\": realms.lon.round(4)})\n",
    "ds[\"realm\"] = realms.realm"
   ]
  },
  {
   "cell_type": "code",
   "execution_count": null,
   "id": "738e594d-845b-41c7-a9b8-a7d7e60cd102",
   "metadata": {},
   "outputs": [],
   "source": [
    "# mask to land only\n",
    "land_mask = xr.open_zarr(\"s3://carbonplan-climatetrace/validation/land_mask.zarr\")\n",
    "land_mask = land_mask.assign_coords({\"lat\": land_mask.lat.round(4), \"lon\": land_mask.lon.round(4)})\n",
    "ds = ds.where(land_mask.land_mask == 0)"
   ]
  },
  {
   "cell_type": "markdown",
   "id": "distant-dallas",
   "metadata": {},
   "source": [
    "# Maps\n"
   ]
  },
  {
   "cell_type": "code",
   "execution_count": null,
   "id": "appointed-fossil",
   "metadata": {},
   "outputs": [],
   "source": [
    "from cartopy.io import shapereader\n",
    "import geopandas as gpd\n",
    "\n",
    "\n",
    "def cartopy_proj_plate_carree():\n",
    "    return ccrs.PlateCarree()\n",
    "\n",
    "\n",
    "def cartopy_borders_global():\n",
    "    states_df = gpd.read_file(\n",
    "        shapereader.natural_earth(\"50m\", \"cultural\", \"admin_1_states_provinces\")\n",
    "    )\n",
    "    states = states_df.set_crs(epsg=4326).to_crs(epsg=32662)[\"geometry\"].values\n",
    "\n",
    "    countries_df = gpd.read_file(shapereader.natural_earth(\"50m\", \"cultural\", \"admin_0_countries\"))\n",
    "    countries = countries_df.set_crs(epsg=4326).to_crs(epsg=32662)[\"geometry\"].values\n",
    "\n",
    "    return states, countries"
   ]
  },
  {
   "cell_type": "code",
   "execution_count": null,
   "id": "intelligent-newcastle",
   "metadata": {},
   "outputs": [],
   "source": [
    "import matplotlib as mpl\n",
    "from mpl_toolkits.axes_grid1 import make_axes_locatable\n",
    "\n",
    "\n",
    "def map_pretty(ax, title=\"\", min_lat=-90, max_lat=90, min_lon=-180, max_lon=180):\n",
    "    state_borders, country_borders = cartopy_borders_global()\n",
    "\n",
    "    ax.add_geometries(\n",
    "        state_borders,\n",
    "        facecolor=\"none\",\n",
    "        edgecolor=\"k\",\n",
    "        crs=cartopy_proj_plate_carree(),\n",
    "        linewidth=0.1,\n",
    "        zorder=0,\n",
    "    )\n",
    "    ax.add_geometries(\n",
    "        country_borders,\n",
    "        facecolor=\"none\",\n",
    "        edgecolor=\"k\",\n",
    "        crs=cartopy_proj_plate_carree(),\n",
    "        linewidth=0.3,\n",
    "        zorder=0,\n",
    "    )\n",
    "    ax.axis(\"off\")\n",
    "    ax.set_extent([min_lon, max_lon, min_lat, max_lat])\n",
    "    ax.text(0.35, 1.05, title, transform=ax.transAxes)\n",
    "\n",
    "\n",
    "def add_colorbar(\n",
    "    fig,\n",
    "    to_plot=None,\n",
    "    x_location=1.08,\n",
    "    y_location=0.76,\n",
    "    height=0.12,\n",
    "    width=0.018,\n",
    "    vmin=None,\n",
    "    vmax=None,\n",
    "    cbar_label=\"\",\n",
    "    cmap=\"viridis\",\n",
    "):\n",
    "\n",
    "    cax = fig.add_axes([x_location, y_location, width, height])\n",
    "    cax.text(\n",
    "        0.5,\n",
    "        -0.08,\n",
    "        vmin,\n",
    "        transform=cax.transAxes,\n",
    "        horizontalalignment=\"center\",\n",
    "        verticalalignment=\"center\",\n",
    "    )\n",
    "    cax.text(\n",
    "        0.5,\n",
    "        1.08,\n",
    "        vmax,\n",
    "        transform=cax.transAxes,\n",
    "        horizontalalignment=\"center\",\n",
    "        verticalalignment=\"center\",\n",
    "    )\n",
    "    cax.text(\n",
    "        1.8,\n",
    "        0.5,\n",
    "        cbar_label,\n",
    "        transform=cax.transAxes,\n",
    "        verticalalignment=\"center\",\n",
    "        multialignment=\"center\",\n",
    "        rotation=-90,\n",
    "    )\n",
    "    if to_plot is not None:\n",
    "        cbar = fig.colorbar(to_plot, cax=cax, orientation=\"vertical\")\n",
    "    else:\n",
    "        norm = mpl.colors.Normalize(vmin=vmin, vmax=vmax)\n",
    "        cbar = fig.colorbar(\n",
    "            mpl.cm.ScalarMappable(norm=norm, cmap=cmap),\n",
    "            cax=cax,\n",
    "            orientation=\"vertical\",\n",
    "        )\n",
    "    cbar.outline.set_visible(False)\n",
    "    cbar.set_ticks([])\n",
    "    return cbar"
   ]
  },
  {
   "cell_type": "code",
   "execution_count": null,
   "id": "double-corporation",
   "metadata": {},
   "outputs": [],
   "source": [
    "def plot_map(data, names, titles, plot_params):\n",
    "    vmin, vmax = plot_params[\"var_lims\"][0], plot_params[\"var_lims\"][1]\n",
    "\n",
    "    plt.figure(figsize=(20, 10))\n",
    "    for i, name in enumerate(names):\n",
    "        print(name)\n",
    "        if name is None:\n",
    "            continue\n",
    "        da = data[name]\n",
    "        plt.subplot(nrows, ncols, i + 1, projection=cartopy_proj_plate_carree())\n",
    "        ax = plt.gca()\n",
    "\n",
    "        map_plot = da.plot.imshow(\n",
    "            ax=ax,\n",
    "            cmap=plot_params[\"cmap\"],\n",
    "            vmin=vmin,\n",
    "            vmax=vmax,\n",
    "            add_colorbar=False,\n",
    "            transform=ccrs.PlateCarree(),\n",
    "        )\n",
    "\n",
    "        map_pretty(\n",
    "            ax,\n",
    "            title=titles[i],\n",
    "        )\n",
    "\n",
    "    fig = plt.gcf()\n",
    "    cax = fig.add_axes([1.05, 0.33, 0.03, 0.35])\n",
    "    cbar = fig.colorbar(map_plot, cax=cax, orientation=\"vertical\")\n",
    "    cax.text(\n",
    "        0.5,\n",
    "        -0.12,\n",
    "        plot_params[\"var_lims\"][0],\n",
    "        transform=cax.transAxes,\n",
    "        horizontalalignment=\"center\",\n",
    "    )\n",
    "    cax.text(\n",
    "        0.5,\n",
    "        1.05,\n",
    "        plot_params[\"var_lims\"][1],\n",
    "        transform=cax.transAxes,\n",
    "        horizontalalignment=\"center\",\n",
    "    )\n",
    "    cax.text(\n",
    "        1.8,\n",
    "        0.5,\n",
    "        plot_params[\"label\"],\n",
    "        transform=cax.transAxes,\n",
    "        verticalalignment=\"center\",\n",
    "        multialignment=\"center\",\n",
    "        rotation=-90,\n",
    "    )\n",
    "    cbar.outline.set_visible(False)\n",
    "    cbar.set_ticks([])\n",
    "    plt.tight_layout()\n",
    "    plt.show()\n",
    "    plt.close()"
   ]
  },
  {
   "cell_type": "code",
   "execution_count": null,
   "id": "personalized-survival",
   "metadata": {},
   "outputs": [],
   "source": [
    "nrows = 3\n",
    "ncols = 2\n",
    "names = [None, \"CarbonPlan\"] + comps\n",
    "titles = [\n",
    "    None,\n",
    "    \"CarbonPlan (2014-2020)\",\n",
    "    \"Harris (2000)\",\n",
    "    \"Spawn (2010)\",\n",
    "    \"GEDI (2019-2020)\",\n",
    "    \"Xu (2014-2019)\",\n",
    "]\n",
    "plot_params = {\n",
    "    \"cmap\": cm.Greens,\n",
    "    \"var_lims\": (0, 500),\n",
    "    \"label\": \"Aboveground Woody Biomass Density (Mg/ha)\",\n",
    "}\n",
    "\n",
    "plot_map(data=ds, names=names, titles=titles, plot_params=plot_params)"
   ]
  },
  {
   "cell_type": "code",
   "execution_count": null,
   "id": "partial-fiction",
   "metadata": {},
   "outputs": [],
   "source": [
    "abs_diff = xr.Dataset()\n",
    "for name in comps:\n",
    "    abs_diff[name] = ds[\"CarbonPlan\"] - ds[name]"
   ]
  },
  {
   "cell_type": "code",
   "execution_count": null,
   "id": "5254662c-0895-4bd6-ba9c-59b8df9c6408",
   "metadata": {},
   "outputs": [],
   "source": [
    "nrows = 3\n",
    "ncols = 2\n",
    "names = [None, None] + comps\n",
    "titles = [\n",
    "    None,\n",
    "    None,\n",
    "    \"Difference to Harris\",\n",
    "    \"Difference to Spawn\",\n",
    "    \"Difference to GEDI\",\n",
    "    \"Difference to Xu\",\n",
    "]\n",
    "plot_params = {\n",
    "    \"cmap\": cm.RdBu,\n",
    "    \"var_lims\": (-200, 200),\n",
    "    \"label\": \"Absolute Difference in Biomass Density (Mg/ha)\",\n",
    "}\n",
    "\n",
    "plot_map(data=abs_diff, names=names, titles=titles, plot_params=plot_params)"
   ]
  },
  {
   "cell_type": "code",
   "execution_count": null,
   "id": "b5b2aa02-ac86-47ab-b733-dac6168e8b5b",
   "metadata": {},
   "outputs": [],
   "source": [
    "pct_diff = xr.Dataset()\n",
    "for name in comps:\n",
    "    pct_diff[name] = 100.0 * (ds[\"CarbonPlan\"] - ds[name]) / ds[name]"
   ]
  },
  {
   "cell_type": "code",
   "execution_count": null,
   "id": "88b0927f-6941-4bd8-9db6-6cf88da75dca",
   "metadata": {},
   "outputs": [],
   "source": [
    "nrows = 3\n",
    "ncols = 2\n",
    "names = [None, None] + comps\n",
    "titles = [\n",
    "    None,\n",
    "    None,\n",
    "    \"Difference to Harris\",\n",
    "    \"Difference to Spawn\",\n",
    "    \"Difference to GEDI\",\n",
    "    \"Difference to Xu\",\n",
    "]\n",
    "plot_params = {\n",
    "    \"cmap\": cm.RdBu,\n",
    "    \"var_lims\": (-200, 200),\n",
    "    \"label\": \"Percent Difference in Biomass Density (%)\",\n",
    "}\n",
    "\n",
    "plot_map(data=pct_diff, names=names, titles=titles, plot_params=plot_params)"
   ]
  },
  {
   "cell_type": "markdown",
   "id": "da64fab8-e234-43f8-92c9-06ea9d277c35",
   "metadata": {},
   "source": [
    "# Scatter plots\n"
   ]
  },
  {
   "cell_type": "code",
   "execution_count": null,
   "id": "0fca6a81-46e6-4200-9eb9-a66ab3364302",
   "metadata": {},
   "outputs": [],
   "source": [
    "df = ds.to_dataframe()\n",
    "df[\"realm\"] = df.realm.replace([\"nan\", \"ice\"], np.nan)"
   ]
  },
  {
   "cell_type": "code",
   "execution_count": null,
   "id": "fad629c4-8cb0-4886-9499-45ba5ac1ada2",
   "metadata": {},
   "outputs": [],
   "source": [
    "def subplot_hist(\n",
    "    ax,\n",
    "    x_col,\n",
    "    y_col,\n",
    "    x_name,\n",
    "    y_name,\n",
    "    plot_params,\n",
    "    plot_metrics=True\n",
    "    #     c=\"b\",\n",
    "    #     s=0.002,\n",
    "    #     alpha=0.1,\n",
    "):\n",
    "    #     tot = np.hstack((x_col, y_col))\n",
    "    #     xmax = np.percentile(tot, 99.5)\n",
    "    xmin = plot_params[\"xmin\"]\n",
    "    xmax = plot_params[\"xmax\"]\n",
    "    ymin, ymax = None, None\n",
    "    try:\n",
    "        ymin = plot_params[\"ymin\"]\n",
    "        ymax = plot_params[\"ymax\"]\n",
    "    except:\n",
    "        pass\n",
    "    unit = plot_params[\"unit\"]\n",
    "\n",
    "    ax.plot([xmin, xmax], [xmin, xmax], \"0.5\")\n",
    "\n",
    "    #     ax.scatter(x_col, y_col, c=c, s=s, alpha=alpha, marker=\"o\")\n",
    "    ind = (xcol < xmax) & (ycol < xmax)\n",
    "    sns.histplot(ax=ax, x=xcol[ind], y=ycol[ind], pthresh=0.01, pmax=0.3)\n",
    "    if plot_metrics:\n",
    "        bias = np.mean(ycol - xcol)\n",
    "        r2 = r2_score(x_col, y_col)\n",
    "        mae = mean_absolute_error(x_col, y_col)\n",
    "        ax.text(plot_params[\"text_x\"], xmax * 0.9, f\"bias = {round(bias, 2)} {unit}\")\n",
    "        ax.text(plot_params[\"text_x\"], xmax * 0.81, f\"MAE = {round(mae, 2)} {unit}\")\n",
    "        ax.text(plot_params[\"text_x\"], xmax * 0.72, f\"R$^2$ = {round(r2, 2)}\")\n",
    "    if unit != \"\":\n",
    "        unit_str = f\"({unit})\"\n",
    "    else:\n",
    "        unit_str = \"\"\n",
    "    ax.set_xlabel(f\"Biomass from {x_name} {unit_str}\")\n",
    "    ax.set_ylabel(f\"Biomass from {y_name} {unit_str}\")\n",
    "    ax.set_xlim(xmin, xmax)\n",
    "    if ymin is not None:\n",
    "        ax.set_ylim(ymin, ymax)\n",
    "    else:\n",
    "        ax.set_ylim(xmin, xmax)\n",
    "    if xmax > 100:\n",
    "        step = 100\n",
    "    else:\n",
    "        step = 1\n",
    "\n",
    "\n",
    "#     ticks = np.arange(0, xmax, step)\n",
    "#     ax.set_xticks(ticks)\n",
    "#     ax.set_yticks(ticks)"
   ]
  },
  {
   "cell_type": "code",
   "execution_count": null,
   "id": "973a28f2-5e69-4a33-a2e5-fdb7d97c616e",
   "metadata": {},
   "outputs": [],
   "source": [
    "plot_params = {\n",
    "    \"xmin\": -10,\n",
    "    \"xmax\": 510,\n",
    "    \"unit\": \"Mg/ha\",\n",
    "    \"text_x\": 10,\n",
    "    #     \"text_y1\": 450,\n",
    "    #     \"text_y2\": 420,\n",
    "    #     \"text_y3\": 390,\n",
    "    #     \"ticks\": np.arange(0, 510, 100),\n",
    "}"
   ]
  },
  {
   "cell_type": "code",
   "execution_count": null,
   "id": "3f854ed7-d9f7-4da3-8b1b-163b808bc200",
   "metadata": {},
   "outputs": [],
   "source": [
    "fig, axarr = plt.subplots(nrows=1, ncols=4, figsize=(15, 5))\n",
    "for i, name in enumerate(comps):\n",
    "    sub = df[[\"CarbonPlan\", name]].dropna(how=\"any\")\n",
    "    ycol = sub[\"CarbonPlan\"].values\n",
    "    xcol = sub[name].values\n",
    "    subplot_hist(\n",
    "        ax=axarr[i],\n",
    "        x_col=xcol,\n",
    "        y_col=ycol,\n",
    "        x_name=name,\n",
    "        y_name=\"CarbonPlan\",\n",
    "        plot_params=plot_params,\n",
    "    )\n",
    "plt.tight_layout()\n",
    "plt.show()\n",
    "plt.close()"
   ]
  },
  {
   "cell_type": "code",
   "execution_count": null,
   "id": "42c02ea8-44f7-4b74-98da-766c1681f784",
   "metadata": {},
   "outputs": [],
   "source": [
    "realms = df.realm.dropna().unique()"
   ]
  },
  {
   "cell_type": "code",
   "execution_count": null,
   "id": "455639ce-0f05-4f8c-a695-da737aeb2ec7",
   "metadata": {},
   "outputs": [],
   "source": [
    "fig, axarr = plt.subplots(nrows=6, ncols=4, figsize=(15, 30))\n",
    "for i, realm in enumerate(realms):\n",
    "    for j, name in enumerate(comps):\n",
    "        sub = df.loc[df.realm == realm][[\"CarbonPlan\", name]].dropna(how=\"any\")\n",
    "        ycol = sub[\"CarbonPlan\"].values\n",
    "        xcol = sub[name].values\n",
    "        subplot_hist(\n",
    "            ax=axarr[i, j],\n",
    "            x_col=xcol,\n",
    "            y_col=ycol,\n",
    "            x_name=name,\n",
    "            y_name=\"CarbonPlan\",\n",
    "            plot_params=plot_params,\n",
    "        )\n",
    "        if j == 1:\n",
    "            axarr[i, j].set_title(realm)\n",
    "plt.tight_layout()\n",
    "plt.show()\n",
    "plt.close()"
   ]
  },
  {
   "cell_type": "code",
   "execution_count": null,
   "id": "a074af93-02e7-4bb3-995d-ce28fce4141c",
   "metadata": {},
   "outputs": [],
   "source": [
    "def subplot_kde(\n",
    "    ax,\n",
    "    data,\n",
    "    x_col_name,\n",
    "    y_col_name,\n",
    "    hue_name,\n",
    "    x_name,\n",
    "    y_name,\n",
    "    plot_params,\n",
    "):\n",
    "    xmin = plot_params[\"xmin\"]\n",
    "    xmax = plot_params[\"xmax\"]\n",
    "    unit = plot_params[\"unit\"]\n",
    "\n",
    "    ax.plot([xmin, xmax], [xmin, xmax], \"0.5\")\n",
    "    x_col = data[x_col_name].values\n",
    "    y_col = data[y_col_name].values\n",
    "    bias = np.mean(ycol - xcol)\n",
    "    r2 = r2_score(x_col, y_col)\n",
    "    mae = mean_absolute_error(x_col, y_col)\n",
    "\n",
    "    sub = data.loc[(data[x_col_name] < xmax) & (data[y_col_name] < xmax)].sample(int(1e6))\n",
    "    sns.kdeplot(data=sub, x=name, y=\"CarbonPlan\", hue=\"realm\", levels=7, linewidth=0.5, ax=ax)\n",
    "    ax.text(plot_params[\"text_x\"], xmax * 0.9, f\"bias = {round(bias, 2)} {unit}\")\n",
    "    ax.text(plot_params[\"text_x\"], xmax * 0.81, f\"MAE = {round(mae, 2)} {unit}\")\n",
    "    ax.text(plot_params[\"text_x\"], xmax * 0.72, f\"R$^2$ = {round(r2, 2)}\")\n",
    "    if unit != \"\":\n",
    "        unit_str = f\"({unit})\"\n",
    "    else:\n",
    "        unit_str = \"\"\n",
    "    ax.set_xlabel(f\"Biomass from {x_name} {unit_str}\")\n",
    "    ax.set_ylabel(f\"Biomass from {y_name} {unit_str}\")\n",
    "    ax.set_xlim(xmin, xmax)\n",
    "    ax.set_ylim(xmin, xmax)\n",
    "    if xmax > 100:\n",
    "        step = 100\n",
    "    else:\n",
    "        step = 1\n",
    "\n",
    "\n",
    "#     ticks = np.arange(0, xmax, step)\n",
    "#     ax.set_xticks(ticks)\n",
    "#     ax.set_yticks(ticks)"
   ]
  },
  {
   "cell_type": "code",
   "execution_count": null,
   "id": "48ce447c-052a-4dc1-b0d0-f02d5a35ff93",
   "metadata": {},
   "outputs": [],
   "source": [
    "fig, axarr = plt.subplots(nrows=1, ncols=4, figsize=(15, 5))\n",
    "for i, name in enumerate(comps):\n",
    "    sub = df[[\"CarbonPlan\", name, \"realm\"]].dropna(how=\"any\")\n",
    "\n",
    "    subplot_kde(\n",
    "        ax=axarr[i],\n",
    "        data=sub,\n",
    "        x_col_name=name,\n",
    "        y_col_name=\"CarbonPlan\",\n",
    "        hue_name=\"realm\",\n",
    "        x_name=name,\n",
    "        y_name=\"CarbonPlan\",\n",
    "        plot_params=plot_params,\n",
    "    )\n",
    "plt.tight_layout()\n",
    "plt.show()\n",
    "plt.close()"
   ]
  },
  {
   "cell_type": "markdown",
   "id": "f5970f2a-d790-422d-98ff-22c90bc20eed",
   "metadata": {},
   "source": [
    "# country level comparisons\n"
   ]
  },
  {
   "cell_type": "code",
   "execution_count": null,
   "id": "d0d55629-d406-4275-8440-dc02d6bfcc37",
   "metadata": {},
   "outputs": [],
   "source": [
    "df = pd.read_csv(f\"s3://carbonplan-climatetrace/{version}/country_rollups_AGB.csv\")\n",
    "df = df.groupby(\"iso3_country\").agbd.mean().reset_index()\n",
    "df = df.rename(columns={\"agbd\": \"CarbonPlan\"})"
   ]
  },
  {
   "cell_type": "code",
   "execution_count": null,
   "id": "31f4afed-62d6-4cdc-abc1-dcaaae319c60",
   "metadata": {},
   "outputs": [],
   "source": [
    "comps = [\"Harris\", \"Spawn\", \"GEDI\", \"Xu\"]\n",
    "for name in comps:\n",
    "    temp = pd.read_csv(\n",
    "        f\"s3://carbonplan-climatetrace/validation/{name.lower()}_country_rollups_agbd.csv\"\n",
    "    )\n",
    "    temp = temp.rename(columns={\"agbd\": name})\n",
    "    df = df.merge(temp, on=[\"iso3_country\"])"
   ]
  },
  {
   "cell_type": "code",
   "execution_count": null,
   "id": "3aa56f89-9571-4726-bb75-7e8d1af305ae",
   "metadata": {},
   "outputs": [],
   "source": [
    "df.head()"
   ]
  },
  {
   "cell_type": "code",
   "execution_count": null,
   "id": "4d7862b1-e96f-4287-8917-f107278ce598",
   "metadata": {},
   "outputs": [],
   "source": [
    "plt.figure(figsize=(5, 5))\n",
    "for name in comps:\n",
    "    plt.scatter(df[name].values, df.CarbonPlan.values, label=name, s=11)\n",
    "\n",
    "xmin = -10\n",
    "xmax = 350\n",
    "plt.plot([xmin, xmax], [xmin, xmax], \"0.5\")\n",
    "plt.legend()\n",
    "\n",
    "plt.xlim(xmin, xmax)\n",
    "plt.ylim(xmin, xmax)\n",
    "plt.xlabel(\"Average AGBD from other studies (Mg/ha)\")\n",
    "plt.ylabel(\"Average AGBD from CarbonPlan (Mg/ha)\")\n",
    "plt.show()\n",
    "plt.close()"
   ]
  },
  {
   "cell_type": "code",
   "execution_count": null,
   "id": "8b14b522-ca19-4a8e-a265-1cd722d43987",
   "metadata": {},
   "outputs": [],
   "source": [
    "df.loc[(df.CarbonPlan < 10) & (df.Harris > 50)]"
   ]
  },
  {
   "cell_type": "code",
   "execution_count": null,
   "id": "9450a57b-ae88-4953-aa34-d9c91ea08e03",
   "metadata": {},
   "outputs": [],
   "source": [
    "df.loc[(df.CarbonPlan < 10) & (df.Spawn > 50)]"
   ]
  },
  {
   "cell_type": "markdown",
   "id": "c2877e0e-01b0-4d92-a8c1-716c3efece71",
   "metadata": {},
   "source": [
    "# Compare with Xu 2021 to assess interannual biomass changes and emissions\n"
   ]
  },
  {
   "cell_type": "code",
   "execution_count": null,
   "id": "eb109215-ba22-4a25-981b-5f38409e9277",
   "metadata": {},
   "outputs": [],
   "source": [
    "ds_time_varying = xr.Dataset()"
   ]
  },
  {
   "cell_type": "code",
   "execution_count": null,
   "id": "7fd3ff67-b8f8-4d71-8e8e-ef894035c137",
   "metadata": {},
   "outputs": [],
   "source": [
    "temp = xr.open_zarr(\n",
    "    f\"s3://carbonplan-climatetrace/{version}/results/global/3000m/raster_biomass.zarr\"\n",
    ")"
   ]
  },
  {
   "cell_type": "code",
   "execution_count": null,
   "id": "2d99a298-39aa-40b9-ad6c-04f520098de8",
   "metadata": {},
   "outputs": [],
   "source": [
    "ds_time_varying[\"CarbonPlan\"] = temp.rename({\"time\": \"year\"}).assign_coords(\n",
    "    {\"year\": np.arange(2014, 2021)}\n",
    ")[\"AGB\"]"
   ]
  },
  {
   "cell_type": "code",
   "execution_count": null,
   "id": "28090a85-4fcf-4233-97be-30345b409709",
   "metadata": {},
   "outputs": [],
   "source": [
    "temp = xr.open_zarr(\"s3://carbonplan-climatetrace/validation/xu_3000m_agbd.zarr/\")\n",
    "ds_time_varying[\"Xu\"] = temp[\"agbd\"]"
   ]
  },
  {
   "cell_type": "code",
   "execution_count": null,
   "id": "c35fc441-6695-47ee-aa32-4f42f11b67fb",
   "metadata": {},
   "outputs": [],
   "source": [
    "cm = plt.get_cmap(\"RdBu\")\n",
    "cm.set_bad(\"lightgray\")"
   ]
  },
  {
   "cell_type": "code",
   "execution_count": null,
   "id": "decd3d36-8c75-4ceb-889b-3d1770e6fb55",
   "metadata": {},
   "outputs": [],
   "source": [
    "delta_biomass_absolute = ds_time_varying - ds_time_varying.shift(year=1)"
   ]
  },
  {
   "cell_type": "code",
   "execution_count": null,
   "id": "41ad5d1b-e64d-4d1c-8a2d-22094739e816",
   "metadata": {},
   "outputs": [],
   "source": [
    "delta_biomass_percentage = delta_biomass_absolute / ds_time_varying.shift(year=1) * 100"
   ]
  },
  {
   "cell_type": "code",
   "execution_count": null,
   "id": "f428dafc-f910-4638-bca1-6a55310fb1f8",
   "metadata": {
    "tags": []
   },
   "outputs": [],
   "source": [
    "delta_ds = (\n",
    "    xr.concat([delta_biomass_absolute, delta_biomass_percentage], dim=\"metric\")\n",
    "    .assign_coords({\"metric\": [\"Mg/ha\", \"%\"]})\n",
    "    .sel(year=slice(2015, 2020))\n",
    "    .compute()\n",
    ")"
   ]
  },
  {
   "cell_type": "code",
   "execution_count": null,
   "id": "a67f8b89-8918-42e9-813e-289bdefeb51d",
   "metadata": {},
   "outputs": [],
   "source": [
    "# mask to land only\n",
    "delta_ds = delta_ds.where(land_mask.land_mask == 0).compute()\n",
    "delta_ds[\"realm\"] = realms.realm"
   ]
  },
  {
   "cell_type": "code",
   "execution_count": null,
   "id": "76d839b1-26d9-4f82-94e1-e07fc7a3d53a",
   "metadata": {},
   "outputs": [],
   "source": [
    "delta_df = delta_ds.sel(metric=\"Mg/ha\").to_dataframe()"
   ]
  },
  {
   "cell_type": "code",
   "execution_count": null,
   "id": "b2b21ff2-6e7d-4a66-862b-fc0bc0ec1266",
   "metadata": {},
   "outputs": [],
   "source": [
    "delta_df[\"realm\"] = delta_df.realm.replace([\"nan\", \"ice\"], np.nan)"
   ]
  },
  {
   "cell_type": "code",
   "execution_count": null,
   "id": "508c086f-1b32-43ac-972d-714baf3f530a",
   "metadata": {},
   "outputs": [],
   "source": [
    "delta_df = delta_df[[\"CarbonPlan\", \"Xu\", \"realm\"]].dropna(how=\"any\")"
   ]
  },
  {
   "cell_type": "markdown",
   "id": "c778c2cf-f623-497f-95c1-138a6128915c",
   "metadata": {},
   "source": [
    "### for small changes, xu's change is much higher\n"
   ]
  },
  {
   "cell_type": "code",
   "execution_count": null,
   "id": "21fbe9e3-1b68-40b2-bdb7-db72aa4944c7",
   "metadata": {},
   "outputs": [],
   "source": [
    "plot_params = {\"xmin\": -5, \"xmax\": 5, \"unit\": \"Mg/ha\", \"text_x\": 5, \"ymin\": -1, \"ymax\": 1}"
   ]
  },
  {
   "cell_type": "code",
   "execution_count": null,
   "id": "04cf0330-4fcd-44ca-8d3a-ee8bcb9c17c2",
   "metadata": {},
   "outputs": [],
   "source": [
    "fig, axarr = plt.subplots(nrows=1, ncols=1, figsize=(5, 5))\n",
    "for i, name in enumerate([\"Xu\"]):\n",
    "    sub = delta_df[[\"CarbonPlan\", name]].loc[\n",
    "        delta_df[\"CarbonPlan\"].between(-1, 1) & delta_df[\"Xu\"].between(-5, 5)\n",
    "    ]\n",
    "    ycol = sub[\"CarbonPlan\"].values\n",
    "    xcol = sub[name].values\n",
    "    subplot_hist(\n",
    "        ax=axarr,\n",
    "        x_col=xcol,\n",
    "        y_col=ycol,\n",
    "        x_name=name,\n",
    "        y_name=\"CarbonPlan\",\n",
    "        plot_params=plot_params,\n",
    "        plot_metrics=False,\n",
    "    )\n",
    "plt.tight_layout()\n",
    "plt.show()\n",
    "plt.close()"
   ]
  },
  {
   "cell_type": "code",
   "execution_count": null,
   "id": "bd5e195a-286e-4902-98a1-dabbe980d265",
   "metadata": {},
   "outputs": [],
   "source": [
    "# our stdev is much lower than Xu's"
   ]
  },
  {
   "cell_type": "code",
   "execution_count": null,
   "id": "1af553e6-b15e-4880-8fa0-2771d2230a99",
   "metadata": {},
   "outputs": [],
   "source": [
    "ds_time_varying[\"CarbonPlan\"].std(dim=\"year\").plot(robust=True)"
   ]
  },
  {
   "cell_type": "code",
   "execution_count": null,
   "id": "407bebf7-6f57-4308-8d1c-945db534d688",
   "metadata": {},
   "outputs": [],
   "source": [
    "ds_time_varying[\"Xu\"].std(dim=\"year\").plot(robust=True)"
   ]
  },
  {
   "cell_type": "markdown",
   "id": "808d8c91-a394-4fa8-9c61-35223d789c95",
   "metadata": {},
   "source": [
    "# assess emissions from Xu 2021 and compare with v0 and v1\n"
   ]
  },
  {
   "cell_type": "code",
   "execution_count": null,
   "id": "7d20b19f-a72d-42aa-bd20-24cb7484044d",
   "metadata": {},
   "outputs": [],
   "source": [
    "ds_10km = xr.open_zarr(\"s3://carbonplan-climatetrace/v1.2/results/global/10km/raster_biomass.zarr\")\n",
    "ds_10km = ds_10km.rename({\"AGB\": \"CarbonPlan\"}).rename({\"x\": \"lon\", \"y\": \"lat\"}).drop(\"spatial_ref\")\n",
    "xu = xr.open_zarr(\"s3://carbonplan-climatetrace/validation/xu_10km_agbd.zarr/\")[\"agbd\"]\n",
    "ds_10km[\"Xu\"] = xu.assign_coords({\"lat\": ds_10km.lat.values, \"lon\": ds_10km.lon.values})\n",
    "ds_10km = ds_10km.chunk({\"year\": -1, \"lat\": 400, \"lon\": 400}).load()"
   ]
  },
  {
   "cell_type": "code",
   "execution_count": null,
   "id": "96a4d62f-7b32-4a7f-89ef-2debb9d94362",
   "metadata": {},
   "outputs": [],
   "source": [
    "v0_emissions = xr.open_zarr(\"s3://carbonplan-climatetrace/v0.4/global/3000m/raster_tot.zarr/\")"
   ]
  },
  {
   "cell_type": "code",
   "execution_count": null,
   "id": "19d17ec8-1c0c-4b14-af67-5ed033b89a10",
   "metadata": {},
   "outputs": [],
   "source": [
    "v0_emissions = (\n",
    "    v0_emissions.sel(year=slice(2014, 2020))\n",
    "    .rio.write_crs(\"EPSG:4326\")\n",
    "    .rename({\"lat\": \"y\", \"lon\": \"x\"})\n",
    "    .transpose(\"year\", \"y\", \"x\")\n",
    ")\n",
    "\n",
    "v0_10km = v0_emissions.rio.reproject_match(\n",
    "    ds_10km.sel(year=2015).rename({\"lat\": \"y\", \"lon\": \"x\"}),\n",
    "    resampling=rasterio.enums.Resampling.sum,\n",
    ")"
   ]
  },
  {
   "cell_type": "code",
   "execution_count": null,
   "id": "62822dfd-5ed2-4173-b02e-4964b39fa390",
   "metadata": {},
   "outputs": [],
   "source": [
    "xu_emissions = xr.Dataset()\n",
    "mechanisms = [\"deforestation\", \"degradation\", \"fireforest\", \"firenonforest\"]\n",
    "for variable in mechanisms:\n",
    "    xu_emissions[variable] = xr.open_rasterio(\n",
    "        f\"s3://carbonplan-climatetrace/validation/xu2021/{variable}_emission_0119_v2_inTg.tif\"\n",
    "    )"
   ]
  },
  {
   "cell_type": "code",
   "execution_count": null,
   "id": "04c3fab2-31e6-46a3-b87b-5a1b32336d47",
   "metadata": {},
   "outputs": [],
   "source": [
    "xu_emissions = xu_emissions.rename({\"band\": \"year\", \"x\": \"lon\", \"y\": \"lat\"}).assign_coords(\n",
    "    {\"year\": np.arange(2001, 2020)}\n",
    ")"
   ]
  },
  {
   "cell_type": "code",
   "execution_count": null,
   "id": "765c1427-cb6c-4b05-a3ad-4bb9357a9028",
   "metadata": {},
   "outputs": [],
   "source": [
    "xu_emissions *= 3.67 * 1e12 / 1e6  # xu reports emissions in Tg C so we convert to tCO2"
   ]
  },
  {
   "cell_type": "code",
   "execution_count": null,
   "id": "46c1baf1-b5db-4288-bf42-3db2d9e3a3a6",
   "metadata": {},
   "outputs": [],
   "source": [
    "v1_emissions = xr.open_zarr(\n",
    "    \"s3://carbonplan-climatetrace/v1.2/results/global/3000m/raster_split.zarr\"\n",
    ")"
   ]
  },
  {
   "cell_type": "code",
   "execution_count": null,
   "id": "2932981d-a316-48a1-a282-f84afee31388",
   "metadata": {},
   "outputs": [],
   "source": [
    "v1_emissions = (\n",
    "    v1_emissions.sel(year=slice(2014, 2020))\n",
    "    .rio.write_crs(\"EPSG:4326\")\n",
    "    .rename({\"lat\": \"y\", \"lon\": \"x\"})\n",
    "    .transpose(\"year\", \"y\", \"x\")\n",
    ")\n",
    "v1_10km = v1_emissions.rio.reproject_match(\n",
    "    ds_10km.sel(year=2015).rename({\"lat\": \"y\", \"lon\": \"x\"}),\n",
    "    resampling=rasterio.enums.Resampling.sum,\n",
    ")"
   ]
  },
  {
   "cell_type": "markdown",
   "id": "452d929d-c272-4f20-9374-a24d5dc76c41",
   "metadata": {},
   "source": [
    "### for a regional subset look at how the emissions differ among v0, v1, and Xu\n"
   ]
  },
  {
   "cell_type": "code",
   "execution_count": null,
   "id": "56a166b3-aabe-49b5-af31-79a1cd77b11e",
   "metadata": {},
   "outputs": [],
   "source": [
    "subset = {\"lat\": slice(39.7, 38.9), \"lon\": slice(-123.3, -122.6)}  # mendocino\n",
    "# subset = {'lat': slice(34.9,34.2), 'lon': slice(-120.2, -119.5)} #thomas"
   ]
  },
  {
   "cell_type": "code",
   "execution_count": null,
   "id": "0a8a002d-c974-43d1-bbb4-2f632d74b8c2",
   "metadata": {},
   "outputs": [],
   "source": [
    "v0_10km.sel({\"x\": subset[\"lon\"], \"y\": subset[\"lat\"]}).emissions.plot(col=\"year\", vmax=1.25e6)"
   ]
  },
  {
   "cell_type": "code",
   "execution_count": null,
   "id": "938f4bca-d9e2-45c5-aabe-08750d1fa0a5",
   "metadata": {},
   "outputs": [],
   "source": [
    "for mechanism in mechanisms:\n",
    "    xu_emissions[mechanism].sel(subset).sel(year=slice(2014, 2019)).plot(col=\"year\", vmax=1.25e6)"
   ]
  },
  {
   "cell_type": "code",
   "execution_count": null,
   "id": "90259e2a-129c-453b-b215-adaf859fa529",
   "metadata": {},
   "outputs": [],
   "source": [
    "(v1_10km[\"emissions_from_fire\"] + v1_10km[\"emissions_from_clearing\"]).sel(\n",
    "    {\"x\": subset[\"lon\"], \"y\": subset[\"lat\"]}\n",
    ").sel(year=slice(2014, 2019)).plot(col=\"year\", vmax=1.25e6)"
   ]
  },
  {
   "cell_type": "markdown",
   "id": "fa1ac0e2-bb5b-495a-820d-5befdbbb737b",
   "metadata": {},
   "source": [
    "### for some sample gridcells look at how the biomass in xu fluctuates and the resulting emissions\n"
   ]
  },
  {
   "cell_type": "code",
   "execution_count": null,
   "id": "47875865-1548-407a-9acd-e08969ec9f53",
   "metadata": {},
   "outputs": [],
   "source": [
    "comparison_cells = [(52.55, 107.65), (-15.95, -62.45), (0.35, 111.55), (63.25, 128.75)]\n",
    "fig, axarr = plt.subplots(nrows=2, ncols=4, figsize=(20, 4), sharex=True)\n",
    "for i, (lat, lon) in enumerate(comparison_cells):\n",
    "    for mechanism in mechanisms:\n",
    "        ds_10km.rename({\"Xu\": \"Biomass [t/ha]\"})[\"Biomass [t/ha]\"].sel(year=slice(2014, 2019)).sel(\n",
    "            lat=lat, lon=lon, method=\"nearest\"\n",
    "        ).plot(ax=axarr[0, i], label=mechanism)\n",
    "\n",
    "        xu_emissions[mechanism].sel(year=slice(2014, 2019)).sel(\n",
    "            lat=lat, lon=lon, method=\"nearest\"\n",
    "        ).plot(ax=axarr[1, i], label=mechanism)\n",
    "        axarr[1, i].set_ylabel(\"Emissions [tCO2]\")\n",
    "plt.legend()\n",
    "plt.tight_layout()"
   ]
  },
  {
   "cell_type": "markdown",
   "id": "01c3e5eb-c3b2-428f-b2e5-faad55add3a6",
   "metadata": {},
   "source": [
    "# change point detection validation\n"
   ]
  },
  {
   "cell_type": "markdown",
   "id": "00b6930e-e585-4a4a-a62c-efad9112d3b9",
   "metadata": {},
   "source": [
    "1. First randomly select from the 280 tiles, then within that tile randomly select a pixel\n",
    "2. If that pixel is all null, discard and repeat from step 1, do not increment pixel counter\n",
    "3. If that pixel is not null, plot the fillna version and the smoothed version,\n",
    "4. Increment pixel counter for with/without break point\n",
    "5. Repeat until we get 100 points for each\n"
   ]
  },
  {
   "cell_type": "code",
   "execution_count": null,
   "id": "2e5fd437-da1e-43a4-898f-7eb00500faee",
   "metadata": {},
   "outputs": [],
   "source": [
    "import random\n",
    "from carbonplan_trace.v1.biomass_rollup import open_biomass_tile\n",
    "\n",
    "random.seed(0)"
   ]
  },
  {
   "cell_type": "code",
   "execution_count": null,
   "id": "1d72342e-47a5-4499-b936-0578a0bc1232",
   "metadata": {},
   "outputs": [],
   "source": [
    "import warnings\n",
    "\n",
    "warnings.filterwarnings(\"ignore\")"
   ]
  },
  {
   "cell_type": "code",
   "execution_count": null,
   "id": "eabc2e12-2316-4d32-8b0b-d247a5e78feb",
   "metadata": {},
   "outputs": [],
   "source": [
    "tiles = [tile for tile in tiles if not tile.startswith(\"80N\")]"
   ]
  },
  {
   "cell_type": "code",
   "execution_count": null,
   "id": "22e28361-9f58-45f5-a46b-b4757ae8e8f9",
   "metadata": {},
   "outputs": [],
   "source": [
    "def pick_tile_and_pixel(version):\n",
    "    done = False\n",
    "    while not done:\n",
    "        tile_id = random.choice(tiles)\n",
    "        ds = open_biomass_tile(tile_id, version)\n",
    "        i = random.randint(0, len(ds.lat) - 1)\n",
    "        j = random.randint(0, len(ds.lon) - 1)\n",
    "        pixel = ds.isel(lat=i, lon=j)\n",
    "        if pixel.AGB.sum().values > 0:\n",
    "            done = True\n",
    "\n",
    "    return pixel.load()\n",
    "\n",
    "\n",
    "def plot_pixel(pixel, y0=2014):\n",
    "    n = len(pixel.AGB)\n",
    "    xs = np.arange(y0, y0 + n)\n",
    "    plt.figure()\n",
    "    plt.plot(xs, pixel.AGB.values, label=\"smooth\")\n",
    "    plt.plot(xs, pixel.AGB_na_filled.values, label=\"na_filled\")\n",
    "    plt.plot(xs, pixel.AGB_raw.values, label=\"raw\")\n",
    "    plt.legend()\n",
    "    lat = pixel.lat.values\n",
    "    lon = pixel.lon.values\n",
    "    breakpoint = pixel.breakpoint.values\n",
    "    pvalue = np.round(pixel.pvalue.values, 3)\n",
    "    plt.title(f\"({lat},{lon}) breakpoint={breakpoint}, pvalue={pvalue:.3f}\")\n",
    "    plt.show()\n",
    "    plt.close()\n",
    "    return {\"lat\": lat, \"lon\": lon, \"breakpoint\": breakpoint, \"pvalue\": pvalue}"
   ]
  },
  {
   "cell_type": "code",
   "execution_count": null,
   "id": "31dae12a-a931-421d-b72a-96550242be67",
   "metadata": {
    "tags": []
   },
   "outputs": [],
   "source": [
    "with_break = 0\n",
    "no_break = 0\n",
    "no_model = 0\n",
    "n = 50\n",
    "out = []\n",
    "\n",
    "while with_break < n or no_break < n or no_model < n:\n",
    "    pixel = pick_tile_and_pixel(version)\n",
    "    breakpoint = pixel.breakpoint.values\n",
    "    pvalue = pixel.pvalue.values\n",
    "    # has a break point and p value <= 0.05\n",
    "    if (not np.isnan(breakpoint)) and (pvalue <= 0.05):\n",
    "        if with_break < n:\n",
    "            out.append(plot_pixel(pixel))\n",
    "        with_break += 1\n",
    "\n",
    "    # no break point but p value <= 0.05\n",
    "    elif (np.isnan(breakpoint)) and (pvalue <= 0.05):\n",
    "        if no_break < n:\n",
    "            out.append(plot_pixel(pixel))\n",
    "        no_break += 1\n",
    "\n",
    "    # no break point and p value > 0.05\n",
    "    elif (np.isnan(breakpoint)) and (pvalue > 0.05):\n",
    "        if no_model < n:\n",
    "            out.append(plot_pixel(pixel))\n",
    "        no_model += 1"
   ]
  },
  {
   "cell_type": "code",
   "execution_count": null,
   "id": "cd84b3ed-bdbf-461f-887d-17a8446be784",
   "metadata": {},
   "outputs": [],
   "source": [
    "# pd.DataFrame(out).to_csv(\"change_point_detection_eval.csv\", index=False)"
   ]
  }
 ],
 "metadata": {
  "kernelspec": {
   "display_name": "Python [conda env:notebook] *",
   "language": "python",
   "name": "conda-env-notebook-py"
  },
  "language_info": {
   "codemirror_mode": {
    "name": "ipython",
    "version": 3
   },
   "file_extension": ".py",
   "mimetype": "text/x-python",
   "name": "python",
   "nbconvert_exporter": "python",
   "pygments_lexer": "ipython3",
   "version": "3.9.7"
  }
 },
 "nbformat": 4,
 "nbformat_minor": 5
}
