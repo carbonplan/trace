{
 "cells": [
  {
   "cell_type": "markdown",
   "id": "523be2e2-2748-4294-a5d7-0956c07fc47e",
   "metadata": {},
   "source": [
    "<img width=\"100\" src=\"https://carbonplan-assets.s3.amazonaws.com/monogram/dark-small.png\" style=\"margin-left:0px;margin-top:20px\"/>\n",
    "\n",
    "# Forest Emissions Tracking - Validation\n",
    "\n",
    "_CarbonPlan ClimateTrace Team_\n",
    "\n",
    "This notebook compares our estimates of country-level forest emissions to prior estimates from other\n",
    "groups. The notebook currently compares againsts:\n",
    "\n",
    "- Global Forest Watch (Zarin et al. 2016)\n",
    "- Global Carbon Project (Friedlingstein et al. 2020)\n"
   ]
  },
  {
   "cell_type": "code",
   "execution_count": null,
   "id": "1b2841a9-0129-41ad-b5c1-ce40dbea8a3b",
   "metadata": {},
   "outputs": [],
   "source": [
    "import geopandas\n",
    "import pandas as pd\n",
    "from io import StringIO\n",
    "import matplotlib.pyplot as plt\n",
    "import numpy as np\n",
    "from carbonplan_styles.mpl import set_theme\n",
    "\n",
    "set_theme()"
   ]
  },
  {
   "cell_type": "code",
   "execution_count": null,
   "id": "4babc33e-6bfd-46c4-9562-a82c2319589e",
   "metadata": {},
   "outputs": [],
   "source": [
    "axis_name_size = 12"
   ]
  },
  {
   "cell_type": "code",
   "execution_count": null,
   "id": "11911df6-8f1a-46f7-98e9-c80da07fb520",
   "metadata": {},
   "outputs": [],
   "source": [
    "# country shapes from GADM36\n",
    "countries = geopandas.read_file(\"s3://carbonplan-climatetrace/inputs/shapes/countries.shp\")\n",
    "\n",
    "# CarbonPlan's emissions\n",
    "emissions = pd.read_csv(\"s3://carbonplan-climatetrace/v0.4/country_rollups_emissions.csv\")"
   ]
  },
  {
   "cell_type": "code",
   "execution_count": null,
   "id": "aefe7b58-6c5d-4cad-ab41-0539d4fddb13",
   "metadata": {},
   "outputs": [],
   "source": [
    "agb = pd.read_csv(\"s3://carbonplan-climatetrace/v0.4/country_rollups_agb.csv\")"
   ]
  },
  {
   "cell_type": "code",
   "execution_count": null,
   "id": "cabb8d9d-9f68-47f0-bc09-6a424a3f1cc1",
   "metadata": {},
   "outputs": [],
   "source": [
    "# Input data\n",
    "# ----------\n",
    "\n",
    "# GFW emissions\n",
    "gfw_emissions = pd.read_excel(\n",
    "    \"s3://carbonplan-climatetrace/validation/gfw_global_emissions.xlsx\",\n",
    "    sheet_name=\"Country co2 emissions\",\n",
    ").dropna(axis=0)\n",
    "gfw_emissions = gfw_emissions[gfw_emissions[\"threshold\"] == 10]  # select threshold\n",
    "\n",
    "# rename\n",
    "gfw_emissions.loc[gfw_emissions.country == \"Republic of Congo\", \"country\"] = \"Congo\"\n",
    "gfw_emissions.loc[\n",
    "    gfw_emissions.country == \"Bolivia\", \"country\"\n",
    "] = \"Bolivia (Plurinational State of)\"\n",
    "gfw_emissions.loc[gfw_emissions.country == \"Brunei\", \"country\"] = \"Brunei Darussalam\"\n",
    "gfw_emissions.loc[gfw_emissions.country == \"Côte d'Ivoire\", \"country\"] = \"Côte dIvoire\"\n",
    "gfw_emissions.loc[gfw_emissions.country == \"Laos\", \"country\"] = \"Lao Peoples Democratic Republic\"\n",
    "gfw_emissions.loc[gfw_emissions.country == \"Swaziland\", \"country\"] = \"Eswatini\"\n",
    "gfw_emissions.loc[gfw_emissions.country == \"Tanzania\", \"country\"] = \"United Republic of Tanzania\"\n",
    "gfw_emissions.loc[\n",
    "    gfw_emissions.country == \"Venezuela\", \"country\"\n",
    "] = \"Venezuela (Bolivarian Republic of)\"\n",
    "gfw_emissions.loc[gfw_emissions.country == \"Vietnam\", \"country\"] = \"Viet Nam\"\n",
    "gfw_emissions.loc[\n",
    "    gfw_emissions.country == \"Virgin Islands, U.S.\", \"country\"\n",
    "] = \"United States Virgin Islands\"\n",
    "gfw_emissions.loc[gfw_emissions.country == \"Zimbabwe\", \"country\"] = \"Zimbabwe)\""
   ]
  },
  {
   "cell_type": "code",
   "execution_count": null,
   "id": "c43e0dde-a164-44ab-8885-55d756842f19",
   "metadata": {
    "tags": []
   },
   "outputs": [],
   "source": [
    "emissions.groupby(\"begin_date\").sum().mean() / 1e9"
   ]
  },
  {
   "cell_type": "code",
   "execution_count": null,
   "id": "f6c7a1b0-fec5-489c-8f79-1faffa028a2e",
   "metadata": {},
   "outputs": [],
   "source": [
    "# Merge emissions dataframes with countries GeoDataFrame\n",
    "gfw_countries = countries.merge(gfw_emissions.rename(columns={\"country\": \"name\"}), on=\"name\")\n",
    "trace_countries = countries.merge(emissions.rename(columns={\"iso3_country\": \"alpha3\"}), on=\"alpha3\")\n",
    "agb_countries = countries.merge(agb.rename(columns={\"iso3_country\": \"alpha3\"}), on=\"alpha3\")"
   ]
  },
  {
   "cell_type": "code",
   "execution_count": null,
   "id": "464924db-0e44-4ede-a25c-b40ab1795d4a",
   "metadata": {},
   "outputs": [],
   "source": [
    "agb = pd.merge(\n",
    "    left=agb_countries.rename(columns={\"agb\": \"trace_agb\"}),\n",
    "    right=gfw_countries[[\"alpha3\", \"abg_co2_stock_2000__Mg\"]].rename(\n",
    "        columns={\"abg_co2_stock_2000__Mg\": \"gfw_agb_co2\"}\n",
    "    ),\n",
    "    on=\"alpha3\",\n",
    ")\n",
    "agb[\"trace_agb_co2\"] = agb.trace_agb * 0.5 * 3.67\n",
    "\n",
    "agb[\"trace_agb_co2\"] = agb.trace_agb_co2 / 1e6\n",
    "agb[\"gfw_agb_co2\"] = agb.gfw_agb_co2 / 1e6\n",
    "\n",
    "agb = agb[[\"name\", \"alpha3\", \"geometry\", \"trace_agb_co2\", \"gfw_agb_co2\"]]"
   ]
  },
  {
   "cell_type": "code",
   "execution_count": null,
   "id": "674a6434-b160-4b1c-bfb8-2eadb081310d",
   "metadata": {
    "tags": []
   },
   "outputs": [],
   "source": [
    "# reformat to \"wide\" format (time x country)\n",
    "trace_wide = (\n",
    "    emissions.drop(columns=[\"end_date\"])\n",
    "    .pivot(index=\"begin_date\", columns=\"iso3_country\")\n",
    "    .droplevel(0, axis=1)\n",
    ")\n",
    "trace_wide.index = pd.to_datetime(trace_wide.index)\n",
    "\n",
    "gfw_wide = gfw_emissions.set_index(\"country\").filter(regex=\"whrc_aboveground_co2_emissions_Mg_.*\").T\n",
    "gfw_wide.index = [pd.to_datetime(f\"{l[-4:]}-01-01\") for l in gfw_wide.index]\n",
    "\n",
    "gfw_wide.head()"
   ]
  },
  {
   "cell_type": "code",
   "execution_count": null,
   "id": "422c8ac3-1039-414b-9510-83455aa3df79",
   "metadata": {
    "tags": []
   },
   "outputs": [],
   "source": [
    "df = pd.read_csv(\"s3://carbonplan-climatetrace/v0.4/country_rollups_emissions_from_clearing.csv\")"
   ]
  },
  {
   "cell_type": "code",
   "execution_count": null,
   "id": "258b717a-ee8e-4f51-b8a9-a23fd839a05f",
   "metadata": {},
   "outputs": [],
   "source": [
    "df.head()"
   ]
  },
  {
   "cell_type": "code",
   "execution_count": null,
   "id": "e0395040-06d8-49b8-a127-331255418e5e",
   "metadata": {},
   "outputs": [],
   "source": [
    "df.loc[df.iso3_country == \"AGO\"].tCO2eq / 1e6"
   ]
  },
  {
   "cell_type": "markdown",
   "id": "e5587d7a-cfee-4d15-b2b1-3378f65aa5b7",
   "metadata": {},
   "source": [
    "## Part 1 - Compare time-averaged country emissions (tropics only)\n"
   ]
  },
  {
   "cell_type": "code",
   "execution_count": null,
   "id": "374ac295-e170-482a-9fa0-691748ef7596",
   "metadata": {},
   "outputs": [],
   "source": [
    "# Create a new dataframe with average emissions\n",
    "avg_emissions = countries.set_index(\"alpha3\")\n",
    "avg_emissions[\"trace\"] = trace_wide.mean().transpose() / 1e6\n",
    "# avg_emissions[\"trace\"] = trace_wide.loc['2020-01-01']  / 1e6\n",
    "\n",
    "avg_emissions = avg_emissions.reset_index().set_index(\"name\")\n",
    "avg_emissions[\"gfw\"] = gfw_wide.mean().transpose() / 1e6\n",
    "# avg_emissions[\"gfw\"] = gfw_wide.loc['2020-01-01'] / 1e6\n",
    "\n",
    "avg_emissions = avg_emissions.dropna()"
   ]
  },
  {
   "cell_type": "code",
   "execution_count": null,
   "id": "c4b7af1e-ccab-4950-81c3-79bbff86e3bc",
   "metadata": {},
   "outputs": [],
   "source": [
    "len(avg_emissions)"
   ]
  },
  {
   "cell_type": "code",
   "execution_count": null,
   "id": "d28eb7cf-d655-487c-b6d0-ef182629a0a7",
   "metadata": {},
   "outputs": [],
   "source": [
    "from sklearn.metrics import r2_score"
   ]
  },
  {
   "cell_type": "code",
   "execution_count": null,
   "id": "2456dbb8-9ef2-4779-93d4-52b82ceb9fe3",
   "metadata": {},
   "outputs": [],
   "source": [
    "r2_score(avg_emissions.gfw, avg_emissions.trace)"
   ]
  },
  {
   "cell_type": "code",
   "execution_count": null,
   "id": "77a66da9-a2d3-4ce1-9117-38a289eb3835",
   "metadata": {},
   "outputs": [],
   "source": [
    "avg_emissions[\"me\"] = avg_emissions.trace - avg_emissions.gfw\n",
    "avg_emissions[\"mae\"] = (avg_emissions.trace - avg_emissions.gfw).abs()\n",
    "avg_emissions[\"mape\"] = (avg_emissions.trace - avg_emissions.gfw).abs() / avg_emissions.gfw * 100\n",
    "avg_emissions = avg_emissions.replace(np.inf, np.nan)\n",
    "avg_emissions.mean().round(2)"
   ]
  },
  {
   "cell_type": "code",
   "execution_count": null,
   "id": "3f33f389-9516-4763-b708-c4ebb290f231",
   "metadata": {},
   "outputs": [],
   "source": [
    "sub = avg_emissions.loc[(avg_emissions.mape > 1) & (avg_emissions.gfw > 1)]\n",
    "sub"
   ]
  },
  {
   "cell_type": "code",
   "execution_count": null,
   "id": "9696cb7d-d66d-4a37-b7f6-840132796d08",
   "metadata": {},
   "outputs": [],
   "source": [
    "(avg_emissions.gfw > 1).mean()"
   ]
  },
  {
   "cell_type": "code",
   "execution_count": null,
   "id": "20d9c8eb-a733-4505-8ff9-c75a89734823",
   "metadata": {
    "tags": []
   },
   "outputs": [],
   "source": [
    "top20 = avg_emissions.sort_values(by=\"mae\", ascending=False).head(20)"
   ]
  },
  {
   "cell_type": "code",
   "execution_count": null,
   "id": "92b722b7-6927-43c2-8eb2-e91ce7533276",
   "metadata": {},
   "outputs": [],
   "source": [
    "names = {\n",
    "    \"Democratic Republic of the Congo\": \"DRC\",\n",
    "    \"Lao Peoples Democratic Republic\": \"Laos\",\n",
    "    \"Bolivia (Plurinational State of)\": \"Bolivia\",\n",
    "    \"Côte dIvoire\": \"Côte d'Ivoire\",\n",
    "    \"United Republic of Tanzania\": \"Tanzania\",\n",
    "    \"Viet Nam\": \"Vietnam\",\n",
    "    \"Venezuela (Bolivarian Republic of)\": \"Venezuela\",\n",
    "}"
   ]
  },
  {
   "cell_type": "code",
   "execution_count": null,
   "id": "8f7b39b4-df40-401e-99ea-6c76a07aceef",
   "metadata": {
    "tags": []
   },
   "outputs": [],
   "source": [
    "plt.figure(figsize=(12, 10))\n",
    "\n",
    "for i, row in top20.reset_index()[[\"name\", \"alpha3\"]].iterrows():\n",
    "    plt.subplot(5, 4, i + 1)\n",
    "    name = row[\"name\"]\n",
    "    alpha3 = row[\"alpha3\"]\n",
    "    plt.plot(gfw_wide[name].index, gfw_wide[name].values / 1e6, label=\"Zarin et al.\")\n",
    "    plt.plot(trace_wide[alpha3].index, trace_wide[alpha3].values / 1e6, label=\"CarbonPlan\")\n",
    "\n",
    "    plt.xticks([\"2001-01-01\", \"2010-01-01\", \"2020-01-01\"], [2001, 2010, 2020])\n",
    "    if name in names:\n",
    "        name = names[name]\n",
    "    plt.title(name, fontsize=axis_name_size)\n",
    "    if i > 3:\n",
    "        plt.ylim(0, 200)\n",
    "    if i == 8:\n",
    "        plt.ylabel(\"Emissions [Mt CO2 / yr]\", fontsize=axis_name_size)\n",
    "\n",
    "ax = plt.gca()\n",
    "fig = plt.gcf()\n",
    "handles, labels = ax.get_legend_handles_labels()\n",
    "fig.legend(handles, labels, loc=\"upper center\", ncol=2, bbox_to_anchor=(0.5, 1.03))\n",
    "plt.tight_layout()\n",
    "plt.savefig(\"top20_time_series.png\", bbox_inches=\"tight\")\n",
    "plt.show()\n",
    "plt.close()"
   ]
  },
  {
   "cell_type": "code",
   "execution_count": null,
   "id": "e6ff2945-4be1-40dd-b33b-845a7c9b858c",
   "metadata": {},
   "outputs": [],
   "source": [
    "# Scatter Plot\n",
    "xmin = 1e-6\n",
    "xmax = 1e4\n",
    "plt.figure(figsize=(10, 5))\n",
    "plt.subplot(1, 2, 1)\n",
    "plt.plot([xmin, xmax], [xmin, xmax], \"0.5\")\n",
    "avg_emissions.plot.scatter(\"gfw\", \"trace\", ax=plt.gca())\n",
    "plt.gca().set_xscale(\"log\")\n",
    "plt.gca().set_yscale(\"log\")\n",
    "plt.ylabel(\"CarbonPlan [Mt CO$_2$ / yr]\", fontsize=axis_name_size)\n",
    "plt.xlabel(\"Zarin [Mt CO$_2$ / yr]\", fontsize=axis_name_size)\n",
    "plt.xlim(xmin, xmax)\n",
    "plt.ylim(xmin, xmax)\n",
    "plt.title(\"a) Forest related carbon emissions\", fontsize=axis_name_size)\n",
    "\n",
    "xmin = 1e-4\n",
    "xmax = 1e6\n",
    "plt.subplot(1, 2, 2)\n",
    "plt.plot([xmin, xmax], [xmin, xmax], \"0.5\")\n",
    "agb.plot.scatter(\"gfw_agb_co2\", \"trace_agb_co2\", ax=plt.gca())\n",
    "plt.gca().set_xscale(\"log\")\n",
    "plt.gca().set_yscale(\"log\")\n",
    "plt.ylabel(\"CarbonPlan [Mt CO$_2$]\", fontsize=axis_name_size)\n",
    "plt.xlabel(\"Zarin [Mt CO$_2$]\", fontsize=axis_name_size)\n",
    "plt.xlim(xmin, xmax)\n",
    "plt.ylim(xmin, xmax)\n",
    "plt.title(\"b) Forest AGB stock in 2000\", fontsize=axis_name_size)\n",
    "\n",
    "plt.tight_layout()\n",
    "plt.savefig(\"gfw_scatter.png\")"
   ]
  },
  {
   "cell_type": "markdown",
   "id": "d7e2617c-cba4-4351-9ce4-140cbdba7e11",
   "metadata": {},
   "source": [
    "## Part 2 - Maps of Tropical Emissions\n"
   ]
  },
  {
   "cell_type": "code",
   "execution_count": null,
   "id": "3df357f0-d51e-4236-bc49-2db07027d0a1",
   "metadata": {},
   "outputs": [],
   "source": [
    "from mpl_toolkits.axes_grid1 import make_axes_locatable"
   ]
  },
  {
   "cell_type": "code",
   "execution_count": null,
   "id": "2fb02d3f-0824-490d-9f27-4ddf1538867b",
   "metadata": {},
   "outputs": [],
   "source": [
    "plt.figure(figsize=(14, 8))\n",
    "plt.subplot(2, 1, 1)\n",
    "kwargs = dict(\n",
    "    legend=True,\n",
    "    legend_kwds={\n",
    "        \"orientation\": \"vertical\",\n",
    "        \"label\": \"Emissions [Mt CO$_2$ / yr]\",\n",
    "    },\n",
    "    lw=0.25,\n",
    "    cmap=\"Reds\",\n",
    "    vmin=0,\n",
    "    vmax=1000,\n",
    ")\n",
    "ax = plt.gca()\n",
    "divider = make_axes_locatable(ax)\n",
    "cax = divider.append_axes(\"right\", size=\"2%\", pad=0.2)\n",
    "avg_emissions.plot(\"trace\", ax=ax, cax=cax, **kwargs)\n",
    "ax.set_title(\"Forest related carbon emissions from CarbonPlan\", fontsize=axis_name_size)\n",
    "ax.set_xlabel(\"Longitude\", fontsize=axis_name_size)\n",
    "ax.set_ylabel(\"Latitude\", fontsize=axis_name_size)\n",
    "\n",
    "plt.subplot(2, 1, 2)\n",
    "kwargs = dict(\n",
    "    legend=True,\n",
    "    legend_kwds={\n",
    "        \"orientation\": \"vertical\",\n",
    "        \"label\": \"Emissions Difference [%]\",\n",
    "    },\n",
    "    lw=0.25,\n",
    "    cmap=\"RdBu_r\",\n",
    "    vmin=-20,\n",
    "    vmax=20,\n",
    ")\n",
    "avg_emissions[\"pdiff\"] = (\n",
    "    (avg_emissions[\"trace\"] - avg_emissions[\"gfw\"]) / avg_emissions[\"gfw\"]\n",
    ") * 100\n",
    "\n",
    "ax = plt.gca()\n",
    "divider = make_axes_locatable(ax)\n",
    "cax = divider.append_axes(\"right\", size=\"2%\", pad=0.2)\n",
    "avg_emissions.plot(\"pdiff\", ax=ax, cax=cax, **kwargs)\n",
    "ax.set_title(\"% difference from Zarin\", fontsize=axis_name_size)\n",
    "ax.set_xlabel(\"Longitude\", fontsize=axis_name_size)\n",
    "ax.set_ylabel(\"Latitude\", fontsize=axis_name_size)\n",
    "\n",
    "plt.tight_layout()\n",
    "plt.savefig(\"gfw_map.png\")"
   ]
  },
  {
   "cell_type": "markdown",
   "id": "89b48b85-1e55-4dfb-b290-6a7191bcc366",
   "metadata": {},
   "source": [
    "## Part 3 - Compare fire emissions\n"
   ]
  },
  {
   "cell_type": "code",
   "execution_count": null,
   "id": "a0b26b2b-bcad-4ff6-bb2e-e7160ffcf0ed",
   "metadata": {},
   "outputs": [],
   "source": [
    "# CarbonPlan's emissions\n",
    "emissions = {}\n",
    "versions = [\"v0.4\"]\n",
    "for version in versions:\n",
    "    for mechanism in [\"fire\"]:\n",
    "        emissions[version + \"-\" + mechanism] = pd.read_csv(\n",
    "            \"s3://carbonplan-climatetrace/{}/country_rollups_emissions_from_{}.csv\".format(\n",
    "                version, mechanism\n",
    "            )\n",
    "        )\n",
    "\n",
    "# Blue Sky Fire emissions\n",
    "emissions[\"Blue Sky\"] = pd.read_csv(\"forest-fires_bsa.csv\")"
   ]
  },
  {
   "cell_type": "code",
   "execution_count": null,
   "id": "029b7d9f-6312-4eba-8e00-7f96ecd6e7e1",
   "metadata": {},
   "outputs": [],
   "source": [
    "emissions[f\"{version}-fire\"]"
   ]
  },
  {
   "cell_type": "code",
   "execution_count": null,
   "id": "a6b4803e-52fe-481e-8f46-1a38c233e4b7",
   "metadata": {},
   "outputs": [],
   "source": [
    "emissions[\"Blue Sky\"]"
   ]
  },
  {
   "cell_type": "code",
   "execution_count": null,
   "id": "88ba4be5-9d1d-4e42-ae5b-fcbd9e144230",
   "metadata": {},
   "outputs": [],
   "source": [
    "version = \"v0.4\"\n",
    "\n",
    "comparison = pd.merge(\n",
    "    emissions[f\"{version}-fire\"].rename({\"tCO2eq\": \"CarbonPlan\"}, axis=1),\n",
    "    emissions[\"Blue Sky\"].rename({\"tCO2\": \"BSA\"}, axis=1),\n",
    "    how=\"inner\",  # \"left\",\n",
    "    left_on=[\"iso3_country\", \"begin_date\"],\n",
    "    right_on=[\"iso3_country\", \"begin_date\"],\n",
    ")\n",
    "\n",
    "comparison[\"BSA\"] /= 1e6\n",
    "comparison[\"CarbonPlan\"] /= 1e6\n",
    "\n",
    "comparison[\"year\"] = pd.to_datetime(comparison.begin_date).dt.year\n",
    "comparison[\"BSA\"] = comparison.BSA.fillna(0)"
   ]
  },
  {
   "cell_type": "code",
   "execution_count": null,
   "id": "3889004d-1829-4698-a04d-67058085213a",
   "metadata": {},
   "outputs": [],
   "source": [
    "r2_score(comparison.BSA, comparison.CarbonPlan)"
   ]
  },
  {
   "cell_type": "code",
   "execution_count": null,
   "id": "69a21b17-d384-4ce4-9801-8942f4f225d4",
   "metadata": {},
   "outputs": [],
   "source": [
    "(comparison.CarbonPlan - comparison.BSA).mean()"
   ]
  },
  {
   "cell_type": "code",
   "execution_count": null,
   "id": "c3f47cc7-1ea9-434a-84fa-c8b3490b26d3",
   "metadata": {},
   "outputs": [],
   "source": [
    "(comparison.CarbonPlan <= comparison.BSA).mean()"
   ]
  },
  {
   "cell_type": "code",
   "execution_count": null,
   "id": "83f0bb23-d01a-4378-b980-92fe8e3e452d",
   "metadata": {},
   "outputs": [],
   "source": [
    "len(comparison.iso3_country.unique())"
   ]
  },
  {
   "cell_type": "code",
   "execution_count": null,
   "id": "15e035d2-128a-427f-a075-98d1ad61fd30",
   "metadata": {},
   "outputs": [],
   "source": [
    "xmin = 1e-4\n",
    "xmax = 1e4\n",
    "plt.figure(figsize=(5, 5))\n",
    "plt.plot([xmin, xmax], [xmin, xmax], \"0.5\")\n",
    "comparison.plot.scatter(\"BSA\", \"CarbonPlan\", ax=plt.gca())\n",
    "plt.gca().set_xscale(\"log\")\n",
    "plt.gca().set_yscale(\"log\")\n",
    "plt.ylabel(\"CarbonPlan [Mt CO$_2$ / yr]\", fontsize=axis_name_size)\n",
    "plt.xlabel(\"BSA [Mt CO$_2$ / yr]\", fontsize=axis_name_size)\n",
    "plt.yticks()\n",
    "plt.xlim(xmin, xmax)\n",
    "plt.ylim(xmin, xmax)\n",
    "plt.title(\"Forest fire emissions\", fontsize=axis_name_size)\n",
    "plt.savefig(\"bsa_scatter.png\", bbox_inches=\"tight\")"
   ]
  },
  {
   "cell_type": "code",
   "execution_count": null,
   "id": "d4b967a0-ed72-494c-bcbb-9dbb5bccca4f",
   "metadata": {},
   "outputs": [],
   "source": [
    "avg_yr = comparison.groupby(\"iso3_country\").mean()\n",
    "\n",
    "xmin = 1e-4\n",
    "xmax = 1e4\n",
    "plt.figure(figsize=(5, 5))\n",
    "plt.plot([xmin, xmax], [xmin, xmax], \"0.5\")\n",
    "avg_yr.plot.scatter(\"BSA\", \"CarbonPlan\", ax=plt.gca())\n",
    "plt.gca().set_xscale(\"log\")\n",
    "plt.gca().set_yscale(\"log\")\n",
    "plt.ylabel(\"CarbonPlan [Mt CO$_2$ / yr]\", fontsize=axis_name_size)\n",
    "plt.xlabel(\"BSA [Mt CO$_2$ / yr]\", fontsize=axis_name_size)\n",
    "plt.xlim(xmin, xmax)\n",
    "plt.ylim(xmin, xmax)\n",
    "plt.title(\"Forest fire emissions\", fontsize=axis_name_size)\n",
    "plt.tight_layout()\n",
    "plt.savefig(\"bsa_scatter_avg.png\")"
   ]
  },
  {
   "cell_type": "code",
   "execution_count": null,
   "id": "846cb170-6fa8-4474-8398-31dbdbe50ef6",
   "metadata": {},
   "outputs": [],
   "source": [
    "comparison.head()"
   ]
  },
  {
   "cell_type": "code",
   "execution_count": null,
   "id": "82788629-92db-4018-ac60-8e1a2a5a7f74",
   "metadata": {},
   "outputs": [],
   "source": [
    "comparison.loc[comparison.iso3_country.isin([\"RUS\", \"USA\"])]"
   ]
  },
  {
   "cell_type": "code",
   "execution_count": null,
   "id": "4e0418f0-f417-457e-8d51-82ee1929614a",
   "metadata": {},
   "outputs": [],
   "source": [
    "comparison.loc[comparison.iso3_country.isin([\"BRA\"])]"
   ]
  },
  {
   "cell_type": "code",
   "execution_count": null,
   "id": "238fb409-d3ee-4d3a-b0a2-e7b243dc5165",
   "metadata": {},
   "outputs": [],
   "source": [
    "emissions[\"Mt CO2\"] = emissions.tCO2eq / 1e6\n",
    "sub = emissions.loc[(emissions.iso3_country == \"LKA\"), [\"begin_date\", \"Mt CO2\", \"iso3_country\"]]\n",
    "sub[\"year\"] = pd.to_datetime(sub.begin_date).dt.year"
   ]
  },
  {
   "cell_type": "code",
   "execution_count": null,
   "id": "ba79a736-4fbf-4d55-942d-d15c61cd1ec5",
   "metadata": {},
   "outputs": [],
   "source": [
    "plt.plot(sub.year, sub[\"Mt CO2\"], \"o-\")\n",
    "plt.xticks([2001, 2005, 2010, 2015, 2020], [2001, 2005, 2010, 2015, 2020])\n",
    "plt.ylabel(\"Mt CO2\")\n",
    "plt.grid()"
   ]
  },
  {
   "cell_type": "code",
   "execution_count": null,
   "id": "68fceb2a-90b9-4c43-9206-246b4811968a",
   "metadata": {},
   "outputs": [],
   "source": [
    "sub[[\"iso3_country\", \"year\", \"Mt CO2\"]]"
   ]
  }
 ],
 "metadata": {
  "kernelspec": {
   "display_name": "Python [conda env:notebook] *",
   "language": "python",
   "name": "conda-env-notebook-py"
  },
  "language_info": {
   "codemirror_mode": {
    "name": "ipython",
    "version": 3
   },
   "file_extension": ".py",
   "mimetype": "text/x-python",
   "name": "python",
   "nbconvert_exporter": "python",
   "pygments_lexer": "ipython3",
   "version": "3.9.7"
  }
 },
 "nbformat": 4,
 "nbformat_minor": 5
}
