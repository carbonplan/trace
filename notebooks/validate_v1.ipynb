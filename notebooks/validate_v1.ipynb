{
 "cells": [
  {
   "cell_type": "markdown",
   "id": "080680ad",
   "metadata": {},
   "source": [
    "<img width=\"100\" src=\"https://carbonplan-assets.s3.amazonaws.com/monogram/dark-small.png\" style=\"margin-left:0px;margin-top:20px\"/>\n",
    "\n",
    "# Forest Emissions Tracking - Validation\n",
    "\n",
    "_CarbonPlan ClimateTrace Team_\n",
    "\n",
    "This notebook compares our estimates of country-level forest emissions to prior estimates from other\n",
    "groups. The notebook currently compares againsts:\n",
    "\n",
    "- Global Forest Watch (Zarin et al. 2016)\n",
    "- Global Carbon Project (Friedlingstein et al. 2020)\n"
   ]
  },
  {
   "cell_type": "code",
   "execution_count": null,
   "id": "dfd06db7",
   "metadata": {},
   "outputs": [],
   "source": [
    "import geopandas\n",
    "import pandas as pd\n",
    "from io import StringIO\n",
    "import matplotlib.pyplot as plt\n",
    "import xarray as xr\n",
    "from carbonplan_styles.mpl import set_theme\n",
    "from carbonplan_styles.colors import colors\n",
    "from carbonplan_trace.v1.emissions_workflow import open_fire_mask\n",
    "import urllib3\n",
    "import numpy as np\n",
    "\n",
    "urllib3.disable_warnings()\n",
    "set_theme()"
   ]
  },
  {
   "cell_type": "markdown",
   "id": "f6c50fc3-4136-4ab3-9a82-e1e2be9ad91a",
   "metadata": {},
   "source": [
    "# load in the 3km rasters of v1 and v0\n"
   ]
  },
  {
   "cell_type": "code",
   "execution_count": null,
   "id": "f92394b4-307c-44af-b76f-7795e5c5a1ca",
   "metadata": {},
   "outputs": [],
   "source": [
    "coarse_v1 = xr.open_zarr(\"s3://carbonplan-climatetrace/v1.2/results/global/3000m/raster_split.zarr\")\n",
    "coarse_v0 = xr.open_zarr(\"s3://carbonplan-climatetrace/v0.4/global/3000m/raster_split.zarr\")"
   ]
  },
  {
   "cell_type": "code",
   "execution_count": null,
   "id": "3f58426a-6799-4952-83b4-1790492638c7",
   "metadata": {},
   "outputs": [],
   "source": [
    "coarse_v0 = coarse_v0.assign_coords({\"lat\": coarse_v1.lat.values, \"lon\": coarse_v1.lon.values})"
   ]
  },
  {
   "cell_type": "markdown",
   "id": "b228e8fb-03a9-481d-9e86-f3f4657f9be4",
   "metadata": {},
   "source": [
    "# load in a sample 30m tile (this one covers the PNW)\n"
   ]
  },
  {
   "cell_type": "code",
   "execution_count": null,
   "id": "e5fbb033-2008-4b44-8dce-5c4435e25feb",
   "metadata": {},
   "outputs": [],
   "source": [
    "tile = \"50N_130W\"\n",
    "version = \"v1.2\"\n",
    "biomass_30m = xr.open_zarr(f\"s3://carbonplan-climatetrace/{version}/results/tiles/{tile}.zarr\")\n",
    "biomass_30m = biomass_30m.rename({\"time\": \"year\"})\n",
    "biomass_30m = biomass_30m.assign_coords({\"year\": np.arange(2014, 2021)})\n",
    "emissions_30m_v0 = xr.open_zarr(f\"s3://carbonplan-climatetrace/v0.4/tiles/30m/{tile}_tot.zarr/\")\n",
    "emissions_30m_v0 = emissions_30m_v0.rename({\"emissions\": \"Emissions [tCO2/ha]\"})\n",
    "emissions_30m_v1 = xr.open_zarr(\n",
    "    f\"s3://carbonplan-climatetrace/{version}/results/tiles/30m/{tile}_split.zarr/\"\n",
    ")\n",
    "emissions_30m_v1[\"Emissions\\n[tCO2/ha]\"] = (\n",
    "    emissions_30m_v1[\"emissions_from_clearing\"] + emissions_30m_v1[\"emissions_from_fire\"]\n",
    ")\n",
    "min_lat, max_lat, min_lon, max_lon = 47.55, 47.558, -121.834, -121.82  # north bend\n",
    "# min_lat, max_lat, min_lon, max_lon = -6.32,-6.318, -53.446,-53.445#amazon\n",
    "\n",
    "small_subset = {\"lat\": slice(min_lat, max_lat), \"lon\": slice(min_lon, max_lon)}\n",
    "small_subset_reversed = {\"lat\": slice(max_lat, min_lat), \"lon\": slice(min_lon, max_lon)}"
   ]
  },
  {
   "cell_type": "code",
   "execution_count": null,
   "id": "08b6fdb3-b1d7-4c38-a0c7-a3f27a4efd65",
   "metadata": {},
   "outputs": [],
   "source": [
    "def format_panel_plot(fg, titles, label_coords):\n",
    "    for year, panel in zip(titles, fg.axes[0]):\n",
    "        panel.plot(\n",
    "            label_coords[\"lon\"],\n",
    "            label_coords[\"lat\"],\n",
    "            marker=\"o\",\n",
    "            fillstyle=\"none\",\n",
    "            markeredgecolor=\"blue\",\n",
    "        )\n",
    "        panel.set_xlabel(\"\")\n",
    "        panel.set_ylabel(\"\")\n",
    "        panel.set_title(year)\n",
    "        panel.ticklabel_format(useOffset=False)"
   ]
  },
  {
   "cell_type": "markdown",
   "id": "5ad6004b-fb63-4c99-9a95-846da409db2e",
   "metadata": {},
   "source": [
    "# make the figures that go into the v1 methods doc where we track how biomass changes and how that translates into emissions\n"
   ]
  },
  {
   "cell_type": "code",
   "execution_count": null,
   "id": "0caba63b-ab42-4dee-aa88-27a11f62f176",
   "metadata": {},
   "outputs": [],
   "source": [
    "sample_pixel = {\"lat\": 47.554, \"lon\": -121.825}"
   ]
  },
  {
   "cell_type": "code",
   "execution_count": null,
   "id": "7c4c6c4e-095c-4237-a279-59f9fe5bb8be",
   "metadata": {},
   "outputs": [],
   "source": [
    "fg = (\n",
    "    biomass_30m.sel(small_subset)\n",
    "    .rename({\"AGB\": \"AGB [t/ha]\"})[\"AGB [t/ha]\"]\n",
    "    .plot(col=\"year\", vmax=200, vmin=0, cmap=\"earth_light\", figsize=(22, 3))\n",
    ")\n",
    "format_panel_plot(fg, biomass_30m.year.values, sample_pixel)"
   ]
  },
  {
   "cell_type": "code",
   "execution_count": null,
   "id": "a211c54b-d067-43fb-863a-243be49b9d6b",
   "metadata": {},
   "outputs": [],
   "source": [
    "fg = (\n",
    "    emissions_30m_v1.sel(small_subset)\n",
    "    .rename({\"Emissions\\n[tCO2/ha]\": \"Emissions - v1 - [tCO2/ha]\"})[\"Emissions - v1 - [tCO2/ha]\"]\n",
    "    .plot(col=\"year\", vmax=400, cmap=\"fire_light\", figsize=(19, 3))\n",
    ")\n",
    "format_panel_plot(fg, emissions_30m_v1.year.values, sample_pixel)"
   ]
  },
  {
   "cell_type": "code",
   "execution_count": null,
   "id": "260e0fa1-bfc6-480b-b437-ebc2e9df4ab8",
   "metadata": {},
   "outputs": [],
   "source": [
    "fg = (\n",
    "    emissions_30m_v1.sel(small_subset)\n",
    "    .rename({\"sinks\": \"Sinks [tCO2/ha]\"})[\"Sinks [tCO2/ha]\"]\n",
    "    .plot(col=\"year\", cmap=\"water_light_r\", figsize=(19, 3))\n",
    ")\n",
    "format_panel_plot(fg, emissions_30m_v1.year.values, sample_pixel)"
   ]
  },
  {
   "cell_type": "markdown",
   "id": "67aed935-0fb8-42ac-9ce0-38f5a38335ee",
   "metadata": {},
   "source": [
    "# compare those emissions to the same region in v0 (emissions only come off in 2018 since that is the only year with a loss according to hansen)\n"
   ]
  },
  {
   "cell_type": "code",
   "execution_count": null,
   "id": "6c39c2c0-a5ba-48c3-97e6-c9b42f6610f9",
   "metadata": {},
   "outputs": [],
   "source": [
    "fg = (\n",
    "    emissions_30m_v0.sel(small_subset_reversed)\n",
    "    .sel(year=slice(2015, 2020))\n",
    "    .rename({\"Emissions [tCO2/ha]\": \"Emissions - v0 - [tCO2/ha]\"})[\"Emissions - v0 - [tCO2/ha]\"]\n",
    "    .plot(col=\"year\", vmax=400, cmap=\"fire_light\", figsize=(19, 3))\n",
    ")\n",
    "format_panel_plot(fg, emissions_30m_v0.sel(year=slice(2015, 2020)).year.values, sample_pixel)"
   ]
  },
  {
   "cell_type": "markdown",
   "id": "eeba65a4-c980-4390-9991-1367cc3d5ab8",
   "metadata": {},
   "source": [
    "# look at an individual pixel and track how the carbon pools change over time\n"
   ]
  },
  {
   "cell_type": "code",
   "execution_count": null,
   "id": "fa9f92f3-f4f0-4c2c-97fc-a31d3720f3a6",
   "metadata": {
    "tags": []
   },
   "outputs": [],
   "source": [
    "fig, axarr = plt.subplots(nrows=2, sharex=True)\n",
    "all_carbon_pools.sel(north_bend_cell).plot(label=\"Total carbon pool\", ax=axarr[0], color=\"k\")\n",
    "biomass_30m.sel(north_bend_cell).AGB.plot(label=\"AGB\", ax=axarr[0])\n",
    "biomass_30m.sel(north_bend_cell).BGB.plot(label=\"BGB\", ax=axarr[0])\n",
    "biomass_30m.sel(north_bend_cell).dead_wood.plot(label=\"Dead wood\", ax=axarr[0])\n",
    "biomass_30m.sel(north_bend_cell).litter.plot(label=\"Litter\", ax=axarr[0])\n",
    "all_carbon_pools = (\n",
    "    biomass_30m[\"AGB\"] + biomass_30m[\"BGB\"] + biomass_30m[\"dead_wood\"] + biomass_30m[\"litter\"]\n",
    ")\n",
    "ax = axarr[0].set_ylabel(\"Biomass\\n[t/hectare]\")\n",
    "emissions_30m_v1[\"Emissions\\n[tCO2/ha]\"].sel(north_bend_cell).plot(\n",
    "    label=\"Emissions\", ax=axarr[1], color=\"k\", linestyle=\"--\"\n",
    ")\n",
    "axarr[1].set_ylabel(\"Emissions\\n[tCO2/ha]\")\n",
    "lines, labels = [], []\n",
    "for ax in axarr:\n",
    "    axLine, axLabel = ax.get_legend_handles_labels()\n",
    "    ax.set_title(\"\")\n",
    "    ax.set_xlabel(\"\")\n",
    "    lines.extend(axLine)\n",
    "    labels.extend(axLabel)\n",
    "# fig.legend(lines, labels,\n",
    "#            loc = 'upper right')\n",
    "fig.legend(lines, labels, bbox_to_anchor=(0, 0), loc=\"upper left\", ncol=3)\n",
    "\n",
    "plt.xlabel(\"\")\n",
    "plt.savefig(\"single_cell_timeseries.png\", dpi=200)"
   ]
  },
  {
   "cell_type": "markdown",
   "id": "af66dfcb-a10d-496e-a519-362101ba120f",
   "metadata": {},
   "source": [
    "# then compare the emissions for that pixel between v0 and v1\n"
   ]
  },
  {
   "cell_type": "code",
   "execution_count": null,
   "id": "cd3e3b7a-9743-4d46-b83c-727fa72a12b4",
   "metadata": {},
   "outputs": [],
   "source": [
    "emissions_30m_v0[\"emissions\"].sel(year=slice(2015, 2020)).sel(north_bend_cell).plot(label=\"v0\")\n",
    "emissions_30m_v1[\"total_emissions\"].sel(north_bend_cell).plot(label=\"v1\")\n",
    "plt.legend()"
   ]
  },
  {
   "cell_type": "markdown",
   "id": "45803ea2-1825-4234-9fba-327a933bc775",
   "metadata": {},
   "source": [
    "# create a one degree roll up to inspect global emissions\n"
   ]
  },
  {
   "cell_type": "code",
   "execution_count": null,
   "id": "adbab4e2-c31f-4815-9241-305367c06e62",
   "metadata": {},
   "outputs": [],
   "source": [
    "one_degree_raster = coarse_v1.coarsen(lat=40, lon=40).sum().compute()  # .drop(\"spatial_ref\")"
   ]
  },
  {
   "cell_type": "markdown",
   "id": "dba245c9-718c-4f7c-b399-245857740eb9",
   "metadata": {},
   "source": [
    "# sources annual average\n"
   ]
  },
  {
   "cell_type": "code",
   "execution_count": null,
   "id": "c59863f9-1d9e-49ea-af91-a5de81c42371",
   "metadata": {},
   "outputs": [],
   "source": [
    "(\n",
    "    (coarse_v1[\"emissions_from_clearing\"] + coarse_v1[\"emissions_from_fire\"]).sum(dim=\"year\") / 6\n",
    ").plot(cmap=\"fire_light\", robust=True)"
   ]
  },
  {
   "cell_type": "markdown",
   "id": "5f329789-0b80-404e-a0e1-b189417e6beb",
   "metadata": {},
   "source": [
    "# sources 1 degree\n"
   ]
  },
  {
   "cell_type": "code",
   "execution_count": null,
   "id": "0532fcd1-ba11-4e66-873c-dfb007627bc4",
   "metadata": {},
   "outputs": [],
   "source": [
    "(\n",
    "    (one_degree_raster[\"emissions_from_clearing\"] + one_degree_raster[\"emissions_from_fire\"]).sum(\n",
    "        dim=\"year\"\n",
    "    )\n",
    "    / 6\n",
    ").plot(cmap=\"fire_light\", robust=True)"
   ]
  },
  {
   "cell_type": "markdown",
   "id": "f8832faa-e7db-48ec-99af-c356941d1546",
   "metadata": {},
   "source": [
    "# sources 1 degree v0\n"
   ]
  },
  {
   "cell_type": "code",
   "execution_count": null,
   "id": "523d6d5b-19eb-4549-ab34-e79e35ccc377",
   "metadata": {},
   "outputs": [],
   "source": [
    "one_degree_raster_v0 = coarse_v0.coarsen(lat=40, lon=40).sum().compute()  # .drop(\"spatial_ref\")\n",
    "(\n",
    "    (\n",
    "        one_degree_raster_v0[\"emissions_from_clearing\"]\n",
    "        + one_degree_raster_v0[\"emissions_from_fire\"]\n",
    "    ).sum(dim=\"year\")\n",
    "    / 6\n",
    ").plot(cmap=\"fire_light\", robust=True)"
   ]
  },
  {
   "cell_type": "markdown",
   "id": "22d9b650-d7d0-4684-90c3-f23e53c8f4f0",
   "metadata": {},
   "source": [
    "# sinks at one degree\n"
   ]
  },
  {
   "cell_type": "code",
   "execution_count": null,
   "id": "aa7ce387-23f2-4dc8-9760-c4ea761db6c2",
   "metadata": {},
   "outputs": [],
   "source": [
    "(one_degree_raster[\"sinks\"].sum(dim=\"year\") / 6).plot(robust=True, cmap=\"water_light_r\")"
   ]
  },
  {
   "cell_type": "markdown",
   "id": "f84cdc44-a1eb-495f-ac76-6df5a97c87b2",
   "metadata": {},
   "source": [
    "# net emissions averaged over 2015-2020\n"
   ]
  },
  {
   "cell_type": "code",
   "execution_count": null,
   "id": "d8b10312-b246-4ba1-bd80-7c5840b78d48",
   "metadata": {},
   "outputs": [],
   "source": [
    "# net 1 degree\n",
    "(one_degree_raster.to_array(\"variable\").sum(dim=\"variable\").sum(dim=\"year\") / 6).plot(\n",
    "    robust=True, cmap=\"orangeblue_light_r\"\n",
    ")"
   ]
  },
  {
   "cell_type": "markdown",
   "id": "51907e78-e900-4f4c-a9db-761b79521dbc",
   "metadata": {},
   "source": [
    "# or every year separately- the disparities among regions being net sources or sinks gets stronger in 2020\n"
   ]
  },
  {
   "cell_type": "code",
   "execution_count": null,
   "id": "08652bd0-6bea-479a-a7a3-d6a69eda1df1",
   "metadata": {},
   "outputs": [],
   "source": [
    "one_degree_raster.to_array(\"variable\").sum(dim=\"variable\").plot(\n",
    "    vmin=-1.5e6, vmax=1.5e6, col=\"year\", col_wrap=3, cmap=\"orangeblue_light_r\"\n",
    ")"
   ]
  },
  {
   "cell_type": "code",
   "execution_count": null,
   "id": "9e17ac04-529c-496e-9e2c-207402bd852c",
   "metadata": {},
   "outputs": [],
   "source": [
    "one_degree_raster.sel(year=2020).to_array(\"variable\").sum(dim=\"variable\").plot(\n",
    "    robust=True, cmap=\"orangeblue_light_r\"\n",
    ")"
   ]
  },
  {
   "cell_type": "markdown",
   "id": "b2f85bc4-2816-4584-95a9-b1694382d23a",
   "metadata": {},
   "source": [
    "# total global emissions timeseries 2015-2020\n"
   ]
  },
  {
   "cell_type": "code",
   "execution_count": null,
   "id": "72ddd83f-ce3c-4a73-a9d5-1ab4a59eeaca",
   "metadata": {},
   "outputs": [],
   "source": [
    "coarse_v0[\"total_emissions\"].sel(year=slice(2015, 2020)).sum(dim=[\"lat\", \"lon\"]).plot(label=\"v0\")\n",
    "coarse_v1[\"total_emissions\"].sel(year=slice(2015, 2020)).sum(dim=[\"lat\", \"lon\"]).plot(label=\"v1\")\n",
    "plt.ylabel(\"Global emissions \\n[tCO2/year]\")\n",
    "plt.xlabel(\"\")\n",
    "plt.legend()"
   ]
  }
 ],
 "metadata": {
  "kernelspec": {
   "display_name": "Python [conda env:notebook] *",
   "language": "python",
   "name": "conda-env-notebook-py"
  },
  "language_info": {
   "codemirror_mode": {
    "name": "ipython",
    "version": 3
   },
   "file_extension": ".py",
   "mimetype": "text/x-python",
   "name": "python",
   "nbconvert_exporter": "python",
   "pygments_lexer": "ipython3",
   "version": "3.9.7"
  }
 },
 "nbformat": 4,
 "nbformat_minor": 5
}
