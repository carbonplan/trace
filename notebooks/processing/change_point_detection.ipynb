{
 "cells": [
  {
   "cell_type": "code",
   "execution_count": null,
   "id": "1ecf1daf-c907-4f31-81b2-0cf4b64b2295",
   "metadata": {},
   "outputs": [],
   "source": [
    "%load_ext autoreload\n",
    "%autoreload 2\n",
    "\n",
    "from pyproj import CRS\n",
    "import boto3\n",
    "from rasterio.session import AWSSession\n",
    "from s3fs import S3FileSystem\n",
    "\n",
    "aws_session = AWSSession(boto3.Session(), requester_pays=True)  # profile_name='default'),\n",
    "fs = S3FileSystem(requester_pays=True)\n",
    "\n",
    "import rasterio as rio\n",
    "import numpy as np\n",
    "import xarray as xr\n",
    "import dask\n",
    "import os\n",
    "import fsspec\n",
    "\n",
    "import rioxarray  # for the extension to load\n",
    "import pandas as pd\n",
    "\n",
    "from dask_gateway import Gateway\n",
    "from carbonplan_trace.v1.landsat_preprocess import access_credentials, test_credentials\n",
    "from carbonplan_trace.v1 import utils, load\n",
    "from carbonplan_trace.tiles import tiles\n",
    "import prefect\n",
    "from prefect import task, Flow, Parameter\n",
    "from prefect.executors import DaskExecutor\n",
    "from prefect.utilities.debug import raise_on_exception\n",
    "from datetime import datetime"
   ]
  },
  {
   "cell_type": "code",
   "execution_count": null,
   "id": "545f9053-8234-4b45-9350-74b5d1f90907",
   "metadata": {},
   "outputs": [],
   "source": [
    "from carbonplan_trace.v1 import postprocess as p\n",
    "from carbonplan_trace.v1 import change_point_detection as c"
   ]
  },
  {
   "cell_type": "code",
   "execution_count": null,
   "id": "346afd2c-dd70-48c1-9936-5bd4548753af",
   "metadata": {},
   "outputs": [],
   "source": [
    "dask.config.set({\"array.slicing.split_large_chunks\": False})\n",
    "dask.config.set({\"distributed.comm.timeouts.tcp\": \"50s\"})\n",
    "dask.config.set({\"distributed.comm.timeouts.connect\": \"50s\"})"
   ]
  },
  {
   "cell_type": "code",
   "execution_count": null,
   "id": "22d0e5b1-7ea9-4b6c-bea5-95ca2bcbd055",
   "metadata": {
    "tags": []
   },
   "outputs": [],
   "source": [
    "kind_of_cluster = \"remote\"\n",
    "if kind_of_cluster == \"local\":\n",
    "    # spin up local cluster. must be on big enough machine\n",
    "    from dask.distributed import Client\n",
    "\n",
    "    local_cluster_client = Client(n_workers=15, threads_per_worker=1, resources={\"workertoken\": 1})\n",
    "\n",
    "    local_cluster_client\n",
    "elif kind_of_cluster == \"remote\":\n",
    "    gateway = Gateway()\n",
    "    options = gateway.cluster_options()\n",
    "    options.environment = {\n",
    "        \"AWS_REQUEST_PAYER\": \"requester\",\n",
    "        \"AWS_REGION_NAME\": \"us-west-2\",\n",
    "        \"DASK_DISTRIBUTED__WORKER__RESOURCES__WORKERTOKEN\": \"1\",\n",
    "    }\n",
    "    options.worker_cores = 1\n",
    "    options.worker_memory = 10\n",
    "\n",
    "    options.image = \"carbonplan/trace-python-notebook:latest\"\n",
    "    cluster = gateway.new_cluster(cluster_options=options)\n",
    "    cluster.adapt(minimum=0, maximum=150)\n",
    "#     cluster.scale(150)"
   ]
  },
  {
   "cell_type": "code",
   "execution_count": null,
   "id": "efb7deca-06e8-4e7d-870d-eec4a4353dea",
   "metadata": {},
   "outputs": [],
   "source": [
    "cluster"
   ]
  },
  {
   "cell_type": "code",
   "execution_count": null,
   "id": "1065bc3e-ef18-49d7-bf07-3992b11069f8",
   "metadata": {},
   "outputs": [],
   "source": [
    "# local_cluster_client\n",
    "client = cluster.get_client()\n",
    "client"
   ]
  },
  {
   "cell_type": "code",
   "execution_count": null,
   "id": "cb2fd3ed-79ea-4b38-8524-66497ca483d2",
   "metadata": {},
   "outputs": [],
   "source": [
    "# p._set_thread_settings()"
   ]
  },
  {
   "cell_type": "code",
   "execution_count": null,
   "id": "f7ad6abb-85f5-40b4-b910-3f74484a7c68",
   "metadata": {},
   "outputs": [],
   "source": [
    "access_key_id, secret_access_key = access_credentials()"
   ]
  },
  {
   "cell_type": "code",
   "execution_count": null,
   "id": "b2ac9f47-e707-4f71-97f2-060b6542d8f4",
   "metadata": {},
   "outputs": [],
   "source": [
    "# define starting and ending years (will want to go back to 2014 but that might not be ready right now)\n",
    "year0, year1 = 2014, 2021\n",
    "# define the size of subtile you want to work in (2 degrees recommended)\n",
    "tile_degree_size = 1\n",
    "# if you want to write the metadata for the zarr store\n",
    "write_tile_metadata = True\n",
    "version = \"v1.2\""
   ]
  },
  {
   "cell_type": "code",
   "execution_count": null,
   "id": "0ce53078-9c8e-437d-acfd-f74b3b21b4a9",
   "metadata": {
    "tags": []
   },
   "outputs": [],
   "source": [
    "log_bucket = f\"s3://carbonplan-climatetrace/{version}/carbonpool/\"\n",
    "\n",
    "completed_subtiles = fs.ls(log_bucket)\n",
    "completed_subtiles = [subtile.split(\"/\")[-1].split(\".txt\")[0] for subtile in completed_subtiles]\n",
    "len(completed_subtiles)"
   ]
  },
  {
   "cell_type": "code",
   "execution_count": null,
   "id": "0d7b3674-0233-46c3-b6f3-35743b756eeb",
   "metadata": {
    "tags": []
   },
   "outputs": [],
   "source": [
    "running_tiles = [tile for tile in tiles]  # if (\"E\" in tile)\n",
    "running_tiles = running_tiles"
   ]
  },
  {
   "cell_type": "code",
   "execution_count": null,
   "id": "188fc22b-9ebb-41cc-a9f4-6b419aca815a",
   "metadata": {
    "tags": []
   },
   "outputs": [],
   "source": [
    "len(running_tiles)"
   ]
  },
  {
   "cell_type": "code",
   "execution_count": null,
   "id": "99e8e663-1556-4cac-bf4a-e37cd0496b28",
   "metadata": {},
   "outputs": [],
   "source": [
    "parameters_list = []\n",
    "# for tile in tiles:\n",
    "for tile in running_tiles:\n",
    "    lat_tag, lon_tag = utils.get_lat_lon_tags_from_tile_path(tile)\n",
    "    lat_lon_box = utils.parse_bounding_box_from_lat_lon_tags(lat_tag, lon_tag)\n",
    "    # find the lat_lon_box for that tile\n",
    "    min_lat, max_lat, min_lon, max_lon = lat_lon_box\n",
    "    # initialize empty dataset. only need to do this once, and not if the tile has already been processed\n",
    "    data_path = p.initialize_empty_dataset(\n",
    "        lat_tag, lon_tag, year0, year1, write_tile_metadata=write_tile_metadata\n",
    "    )\n",
    "    # now we'll split up each of those tiles into smaller subtiles of length `tile_degree_size`\n",
    "    # and run through those. In this case since we've specified 2, we'll have 25 in each box\n",
    "\n",
    "    prefect_parameters = {\n",
    "        \"MIN_LAT\": min_lat,\n",
    "        \"MIN_LON\": min_lon,\n",
    "        \"YEAR_0\": year0,\n",
    "        \"YEAR_1\": year1,\n",
    "        \"TILE_DEGREE_SIZE\": tile_degree_size,\n",
    "        \"DATA_PATH\": data_path,\n",
    "        \"ACCESS_KEY_ID\": access_key_id,\n",
    "        \"SECRET_ACCESS_KEY\": secret_access_key,\n",
    "        \"LOG_BUCKET\": log_bucket,\n",
    "    }\n",
    "\n",
    "    for lat_increment in np.arange(0, 10, tile_degree_size):\n",
    "        for lon_increment in np.arange(0, 10, tile_degree_size):\n",
    "            task_tag = \"{}_{}_{}_{}\".format(min_lat, min_lon, lat_increment, lon_increment)\n",
    "            if task_tag in completed_subtiles:\n",
    "                # if this subtile has already been ran, continue\n",
    "                continue\n",
    "            else:\n",
    "\n",
    "                increment_parameters = prefect_parameters.copy()\n",
    "                increment_parameters[\"LAT_INCREMENT\"] = lat_increment\n",
    "                increment_parameters[\"LON_INCREMENT\"] = lon_increment\n",
    "                parameters_list.append(increment_parameters)"
   ]
  },
  {
   "cell_type": "code",
   "execution_count": null,
   "id": "f61b2331-7d11-4147-985e-8212f764435c",
   "metadata": {},
   "outputs": [],
   "source": [
    "len(parameters_list)"
   ]
  },
  {
   "cell_type": "code",
   "execution_count": null,
   "id": "738ab051-58c5-4b09-819f-f14e1549d1f8",
   "metadata": {},
   "outputs": [],
   "source": [
    "import random\n",
    "\n",
    "random.shuffle(parameters_list)"
   ]
  },
  {
   "cell_type": "code",
   "execution_count": null,
   "id": "415d542e-0ad2-4d54-87de-a0513135376a",
   "metadata": {
    "tags": []
   },
   "outputs": [],
   "source": [
    "# c.run_change_point_detection_for_subtile(parameters_list[0])"
   ]
  },
  {
   "cell_type": "code",
   "execution_count": null,
   "id": "8899f7da-3fda-417c-9801-26a7fd63d651",
   "metadata": {},
   "outputs": [],
   "source": [
    "if kind_of_cluster == \"local\":\n",
    "    executor = DaskExecutor(address=local_cluster_client.scheduler.address)\n",
    "elif kind_of_cluster == \"remote\":\n",
    "    executor = DaskExecutor(\n",
    "        address=client.scheduler.address,\n",
    "        client_kwargs={\"security\": cluster.security},\n",
    "        debug=True,\n",
    "    )"
   ]
  },
  {
   "cell_type": "code",
   "execution_count": null,
   "id": "95c35885-0f7d-40e0-83e9-b691467733c8",
   "metadata": {},
   "outputs": [],
   "source": [
    "def fail_nicely(task, old_state, new_state):\n",
    "    if new_state.is_running():\n",
    "        print(\"running!\")\n",
    "    if new_state.is_failed():\n",
    "        print(\"this task {} failed\".format(task))\n",
    "        raise ValueError(\"OH NO\")  # function that sends a notification\n",
    "    return new_state"
   ]
  },
  {
   "cell_type": "code",
   "execution_count": null,
   "id": "16e6c017-0a74-4987-a410-d0260cd39ae6",
   "metadata": {},
   "outputs": [],
   "source": [
    "change_point_detection_task = task(\n",
    "    c.run_change_point_detection_for_subtile,\n",
    "    tags=[\"dask-resource:workertoken=1\"],\n",
    "    state_handlers=[fail_nicely],\n",
    ")"
   ]
  },
  {
   "cell_type": "code",
   "execution_count": null,
   "id": "364f4213-3efd-41d2-ba7b-4039b37fb034",
   "metadata": {
    "tags": []
   },
   "outputs": [],
   "source": [
    "for i in range(4):\n",
    "    print(i)\n",
    "    batch_size = 1500\n",
    "    with Flow(\"ChangePoint\") as flow:\n",
    "        change_point_detection_task.map(parameters_list[i * batch_size : (i + 1) * batch_size])\n",
    "    flow.run(executor=executor)\n",
    "    client.restart()"
   ]
  },
  {
   "cell_type": "code",
   "execution_count": null,
   "id": "119efcb5-9f59-4c8e-b4b6-f823be848a4a",
   "metadata": {},
   "outputs": [],
   "source": [
    "client.shutdown()"
   ]
  },
  {
   "cell_type": "code",
   "execution_count": null,
   "id": "01bb8745-2a6b-4f65-b005-b2e38adbc901",
   "metadata": {},
   "outputs": [],
   "source": [
    "print(datetime.now())"
   ]
  },
  {
   "cell_type": "code",
   "execution_count": null,
   "id": "1b9e5f71-a98a-4bb2-bb98-22de4e50e7c7",
   "metadata": {
    "tags": []
   },
   "outputs": [],
   "source": [
    "# with raise_on_exception():\n",
    "# if running locally (no cluster)\n",
    "#     flow.run()\n",
    "# if running on cluster\n",
    "flow.run(executor=executor)"
   ]
  },
  {
   "cell_type": "code",
   "execution_count": null,
   "id": "c9e680b8-72df-4ec5-80f7-25f149f06f90",
   "metadata": {
    "tags": []
   },
   "outputs": [],
   "source": [
    "print(datetime.now())"
   ]
  },
  {
   "cell_type": "code",
   "execution_count": null,
   "id": "59d79d58-cab9-4f1e-a348-27329929fcfd",
   "metadata": {
    "tags": []
   },
   "outputs": [],
   "source": [
    "client.shutdown()"
   ]
  },
  {
   "cell_type": "code",
   "execution_count": null,
   "id": "f7f604ba-925d-46ad-9da6-2d38b4c242bd",
   "metadata": {},
   "outputs": [],
   "source": [
    "from carbonplan_trace.v1.biomass_rollup import open_biomass_tile"
   ]
  },
  {
   "cell_type": "code",
   "execution_count": null,
   "id": "995f86d1-02ac-4ffb-97d0-217811515ba7",
   "metadata": {},
   "outputs": [],
   "source": [
    "ds = open_biomass_tile(version=\"v1.2\", tile_id=\"30S_170E\")\n",
    "lat = -36.021375\n",
    "lon = 173.877375\n",
    "buffer = 1 / 40"
   ]
  },
  {
   "cell_type": "code",
   "execution_count": null,
   "id": "7c657009-7891-4e93-a256-ae6d456bf1be",
   "metadata": {},
   "outputs": [],
   "source": [
    "patch = ds.sel(lat=slice(lat - buffer, lat + buffer), lon=slice(lon - buffer, lon + buffer))"
   ]
  },
  {
   "cell_type": "code",
   "execution_count": null,
   "id": "104bb8c6-4dbe-4987-abb1-48832a82fa88",
   "metadata": {},
   "outputs": [],
   "source": [
    "patch.load()"
   ]
  },
  {
   "cell_type": "code",
   "execution_count": null,
   "id": "0202c96a-c6f9-4cf8-9141-30e625bd199f",
   "metadata": {},
   "outputs": [],
   "source": [
    "patch.AGB_raw.plot(col=\"time\", col_wrap=3, vmin=0)"
   ]
  },
  {
   "cell_type": "code",
   "execution_count": null,
   "id": "f9f5dea4-3387-4449-8d2b-f3403525decc",
   "metadata": {},
   "outputs": [],
   "source": [
    "patch.AGB.plot(col=\"time\", col_wrap=3, vmin=0)"
   ]
  }
 ],
 "metadata": {
  "kernelspec": {
   "display_name": "Python [conda env:notebook] *",
   "language": "python",
   "name": "conda-env-notebook-py"
  },
  "language_info": {
   "codemirror_mode": {
    "name": "ipython",
    "version": 3
   },
   "file_extension": ".py",
   "mimetype": "text/x-python",
   "name": "python",
   "nbconvert_exporter": "python",
   "pygments_lexer": "ipython3",
   "version": "3.9.7"
  }
 },
 "nbformat": 4,
 "nbformat_minor": 5
}
