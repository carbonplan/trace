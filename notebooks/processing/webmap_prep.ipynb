{
 "cells": [
  {
   "cell_type": "code",
   "execution_count": null,
   "id": "44b3a638",
   "metadata": {},
   "outputs": [],
   "source": [
    "import xarray as xr\n",
    "import pandas as pd\n",
    "import rioxarray\n",
    "from ndpyramid import pyramid_reproject\n",
    "from carbonplan_data.utils import set_zarr_encoding\n",
    "from carbonplan_data.metadata import get_cf_global_attrs\n",
    "import numpy as np"
   ]
  },
  {
   "cell_type": "code",
   "execution_count": null,
   "id": "92303faa",
   "metadata": {},
   "outputs": [],
   "source": [
    "save_path = \"s3://carbonplan-climatetrace/v1.2/map/\""
   ]
  },
  {
   "cell_type": "code",
   "execution_count": null,
   "id": "dc0a4d88-a409-4af0-ae02-986bf093b10c",
   "metadata": {},
   "outputs": [],
   "source": [
    "path = \"s3://carbonplan-climatetrace/v1.2/results/global/3000m/raster_split.zarr\"\n",
    "v1_emissions = xr.open_zarr(path)"
   ]
  },
  {
   "cell_type": "code",
   "execution_count": null,
   "id": "a345d32b-98ef-4a6a-baf5-42b3301a5bcb",
   "metadata": {},
   "outputs": [],
   "source": [
    "biomass = xr.open_zarr(\"s3://carbonplan-climatetrace/v1.2/results/global/3000m/raster_biomass.zarr\")\n",
    "biomass = biomass.rename({\"time\": \"year\"})\n",
    "biomass = biomass.assign_coords(\n",
    "    {\"year\": np.arange(2014, 2021), \"lat\": v1_emissions.lat, \"lon\": v1_emissions.lon}\n",
    ")"
   ]
  },
  {
   "cell_type": "code",
   "execution_count": null,
   "id": "3e72259a-2741-4896-a4f3-cc45e93f1cf9",
   "metadata": {},
   "outputs": [],
   "source": [
    "v0_emissions = xr.open_zarr(\"s3://carbonplan-climatetrace/v0.4/global/3000m/raster_tot.zarr\").sel(\n",
    "    year=slice(2015, 2020)\n",
    ")"
   ]
  },
  {
   "cell_type": "code",
   "execution_count": null,
   "id": "0c7721e3-8565-464a-91b1-af97d43a18e5",
   "metadata": {},
   "outputs": [],
   "source": [
    "v0_emissions = v0_emissions.assign_coords(v1_emissions.coords)"
   ]
  },
  {
   "cell_type": "code",
   "execution_count": null,
   "id": "64ebdb7c-f945-4ffa-813e-634ddfd7df4a",
   "metadata": {},
   "outputs": [],
   "source": [
    "# hack to get hansen tile area\n",
    "valid_mask = v0_emissions.emissions.sel(year=2018) > -1"
   ]
  },
  {
   "cell_type": "code",
   "execution_count": null,
   "id": "8e186746-d297-4930-8e5c-b9fe2205fc51",
   "metadata": {},
   "outputs": [],
   "source": [
    "v1_emissions = v1_emissions.fillna(0).where(valid_mask)\n",
    "biomass = biomass.fillna(0).where(valid_mask)"
   ]
  },
  {
   "cell_type": "code",
   "execution_count": null,
   "id": "40e7468e-529f-44be-a13d-6ce690364a4e",
   "metadata": {},
   "outputs": [],
   "source": [
    "full_ds = xr.Dataset(\n",
    "    {\n",
    "        \"biomass\": biomass[\"AGB\"],\n",
    "        \"biomass-na-filled\": biomass[\"AGB_na_filled\"],\n",
    "        \"emissions-v1\": v1_emissions[\"emissions_from_clearing\"]\n",
    "        + v1_emissions[\"emissions_from_fire\"],\n",
    "        \"sinks-v1\": v1_emissions[\"sinks\"],\n",
    "        \"net-v1\": v1_emissions[\"sinks\"]\n",
    "        + v1_emissions[\"emissions_from_clearing\"]\n",
    "        + v1_emissions[\"emissions_from_fire\"],\n",
    "        \"emissions-v0\": v0_emissions.sel(year=slice(2015, 2020))[\"emissions\"],\n",
    "    }\n",
    ")"
   ]
  },
  {
   "cell_type": "code",
   "execution_count": null,
   "id": "683d820e-c51a-4961-89ed-b9aec588bd61",
   "metadata": {},
   "outputs": [],
   "source": [
    "full_ds = xr.Dataset({\"variable\": full_ds.to_array(\"band\")}).rio.write_crs(\"EPSG:4326\")\n",
    "full_ds = full_ds.rename({\"lat\": \"y\", \"lon\": \"x\"})"
   ]
  },
  {
   "cell_type": "code",
   "execution_count": null,
   "id": "40ac9380-d84e-4e41-9773-13edcd1d06d6",
   "metadata": {},
   "outputs": [],
   "source": [
    "for dim in full_ds.dims.keys():\n",
    "    if dim != \"band\":\n",
    "        full_ds[dim] = full_ds[dim].astype(\"float32\")\n",
    "for var in full_ds.data_vars:\n",
    "    full_ds[var] = full_ds[var].astype(\"float32\")"
   ]
  },
  {
   "cell_type": "code",
   "execution_count": null,
   "id": "8a46bc32-fb1a-4683-9473-cb2e3d415ef0",
   "metadata": {},
   "outputs": [],
   "source": [
    "# create the pyramid\n",
    "dt = pyramid_reproject(full_ds, levels=6, extra_dim=\"band\")"
   ]
  },
  {
   "cell_type": "code",
   "execution_count": null,
   "id": "538d2bf1-1d3c-4915-9acd-776f302f2c6e",
   "metadata": {},
   "outputs": [],
   "source": [
    "for child in dt.children:\n",
    "    child.ds = child.ds.where(child.ds < 2e38)\n",
    "    child.ds = set_zarr_encoding(\n",
    "        child.ds, codec_config={\"id\": \"zlib\", \"level\": 1}, float_dtype=\"float32\"\n",
    "    )\n",
    "    child.ds = child.ds.chunk({\"x\": 128, \"y\": 128, \"band\": -1, \"year\": -1})\n",
    "    child.ds[\"variable\"].attrs.clear()\n",
    "dt.attrs = get_cf_global_attrs()\n",
    "\n",
    "# write the pyramid to zarr\n",
    "dt.to_zarr(save_path + \"forest_carbon_web_data_v3.pyr\", consolidated=True)"
   ]
  }
 ],
 "metadata": {
  "kernelspec": {
   "display_name": "Python [conda env:notebook] *",
   "language": "python",
   "name": "conda-env-notebook-py"
  },
  "language_info": {
   "codemirror_mode": {
    "name": "ipython",
    "version": 3
   },
   "file_extension": ".py",
   "mimetype": "text/x-python",
   "name": "python",
   "nbconvert_exporter": "python",
   "pygments_lexer": "ipython3",
   "version": "3.9.7"
  }
 },
 "nbformat": 4,
 "nbformat_minor": 5
}
