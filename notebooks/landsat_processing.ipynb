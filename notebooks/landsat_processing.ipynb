{
 "cells": [
  {
   "cell_type": "markdown",
   "metadata": {},
   "source": [
    "# Landsat Processing\n",
    "Created by: Oriana Chegwidden"
   ]
  },
  {
   "cell_type": "code",
   "execution_count": null,
   "metadata": {},
   "outputs": [],
   "source": [
    "%load_ext autoreload\n",
    "%autoreload 2\n",
    "import boto3\n",
    "from rasterio.session import AWSSession\n",
    "from s3fs import S3FileSystem\n",
    "aws_session = AWSSession(boto3.Session(), requester_pays=True)\n",
    "fs = S3FileSystem(requester_pays=True)\n",
    "from osgeo.gdal import VSICurlClearCache\n",
    "VSICurlClearCache() \n",
    "import rasterio as rio\n",
    "import xarray as xr\n",
    "import dask\n",
    "import os\n",
    "import fsspec\n",
    "import geopandas as gpd\n",
    "import regionmask as rm\n",
    "# from satsearch import Search\n",
    "from matplotlib.pyplot import imshow\n",
    "from intake import open_stac_item_collection\n",
    "import numcodecs\n",
    "import numpy as np\n",
    "import rioxarray # for the extension to load\n",
    "import matplotlib.pyplot as plt\n",
    "import utm"
   ]
  },
  {
   "cell_type": "code",
   "execution_count": null,
   "metadata": {},
   "outputs": [],
   "source": [
    "from dask_gateway import Gateway\n",
    "\n",
    "gateway = Gateway()\n",
    "options = gateway.cluster_options()\n",
    "options.worker_cores = 2\n",
    "options.worker_memory = 32\n",
    "options.environment = {'AWS_REQUEST_PAYER': 'requester'}\n",
    "cluster = gateway.new_cluster(cluster_options=options)\n",
    "cluster.adapt(minimum=1, maximum=10)\n",
    "cluster"
   ]
  },
  {
   "cell_type": "code",
   "execution_count": null,
   "metadata": {},
   "outputs": [],
   "source": [
    "client = cluster.get_client()"
   ]
  },
  {
   "cell_type": "markdown",
   "metadata": {},
   "source": [
    "Each Landsat scene is stored in cloud optimized geotiff (COG) according to a verbose (but once you understand it, human readable!) naming convention. Landsat Collection 2 uses the same naming convention as Collection 1 which is as follows (lifted from their docs at `https://prd-wret.s3.us-west-2.amazonaws.com/assets/palladium/production/atoms/files/LSDS-1656_%20Landsat_Collection1_L1_Product_Definition-v2.pdf`\n",
    "\n",
    "```LXSS_LLLL_PPPRRR_YYYYMMDD_yyyymmdd_CC_TX```\n",
    "where\n",
    "```\n",
    "L = Landsat  (constant)\n",
    "X = Sensor  (C = OLI / TIRS, O = OLI-only, T= TIRS-only, E = ETM+, T = TM, M= MSS)\n",
    "SS = Satellite  (e.g., 04 for Landsat 4, 05 for Landsat 5, 07 for Landsat 7, etc.) \n",
    "LLLL = Processing  level  (L1TP, L1GT, L1GS)\n",
    "PPP  = WRS path\n",
    "RRR  = WRS row\n",
    "YYYYMMDD = Acquisition  Year (YYYY) / Month  (MM) / Day  (DD) \n",
    "yyyymmdd  = Processing  Year (yyyy) / Month  (mm) / Day (dd)\n",
    "CC = Collection  number  (e.g., 01, 02, etc.) \n",
    "TX= RT for Real-Time, T1 for Tier 1 (highest quality), and T2 for Tier 2\n",
    "\n",
    "```\n",
    "\n",
    "Thus, we're looking for scenes coded in the following way:\n",
    "`LE07_????_PPP_RRR_YYYMMDD_yyyymmdd_02_T1` for Landsat 7 and\n",
    "`LT05_????_PPP_RRR_YYYMMDD_yyyymmdd_02_T1` for Landsat 5\n",
    "(but T1 might be wrong there)\n"
   ]
  },
  {
   "cell_type": "markdown",
   "metadata": {},
   "source": [
    "We are re-implementing (to the best of our abilities) the methods from Wang et al (in review). Jon Wang's paper said:\n",
    "\n",
    "```To extend our AGB predictions through space and time, we used time series (1984 – 2014) of 30 m surface reflectance data from the Thematic Mapper onboard Landsat 5 and the Enhanced Thematic Mapper Plus onboard Landsat 7. We used the GLAS-derived estimates of AGB as a response variable and the mean growing season (June, July, August) and non-growing season values for each of Landsat’s six spectral reflectance bands as the predictors in an ensemble machine learning model```\n",
    "\n",
    "So we'll be looking for:\n",
    "* Landsat 5 (Thematic mapper) and 7 (Enhanced Thematic Mapper Plus)\n",
    "* Growing season (June-August) and non-growing season (Sept-May) averages at an annual timestep. <--- will need to figure out around the calendar whether we want consecutive\n",
    "* All six spectral reflectance bands\n",
    "* We'll do a quality thresholding of cloudless cover for now based upon their thresholding"
   ]
  },
  {
   "cell_type": "markdown",
   "metadata": {},
   "source": [
    "In orienting myeslf, these are the potential collection options I've figured out (by poking around here on the [sat-api catalog](https://landsatlook.usgs.gov/sat-api/collections):\n",
    "* `landsat-c2l2-sr` Landsat Collection 2 Level-2 UTM Surface Reflectance (SR) Product\n",
    "* `landsat-c2l2alb-sr` Landsat Collection 2 Level-2 Albers Surface Reflectance (SR) Product\n",
    "* `landsat-c1l2alb-sr` Landsat Collection 1 Level-2 Albers Surface Reflectance (SR) Product <-- we don't want this one (b/c we'll go with collection 2)\n",
    "* `landsat-c2l1` Landsat Collection 2 Level-1 Product <-- don't think we want this because we want surface reflectance\n"
   ]
  },
  {
   "cell_type": "markdown",
   "metadata": {},
   "source": [
    "Run this once to apply the aws session to the rasterio environment"
   ]
  },
  {
   "cell_type": "code",
   "execution_count": null,
   "metadata": {},
   "outputs": [],
   "source": [
    "def test_credentials(aws_session, \n",
    "                            canary_file='s3://usgs-landsat/collection02/level-2/standard/'+\\\n",
    "                            'tm/2003/044/029/LT05_L2SP_044029_20030827_20200904_02_T1/'+\\\n",
    "                            'LT05_L2SP_044029_20030827_20200904_02_T1_SR_B2.TIF'):    \n",
    "#     VSICurlClearCache()\n",
    "    # this file is the canary in the coal mine\n",
    "    # if you can't open this one you've got *issues* because it exists!\n",
    "    # also the instantiation of the environment here\n",
    "    # might help you turn on the switch of the credentials\n",
    "    # but maybe that's just anecdotal i hate credential stuff SO MUCH\n",
    "    # if anyone is reading this message i hope you're enjoying my typing\n",
    "    # as i wait for my cluster to start up.... hmm....\n",
    "\n",
    "    with rio.Env(aws_session):\n",
    "        with rio.open(canary_file) as src:\n",
    "            profile = src.profile\n",
    "            \n",
    "            arr = src.read(1)\n",
    "        "
   ]
  },
  {
   "cell_type": "code",
   "execution_count": null,
   "metadata": {},
   "outputs": [],
   "source": [
    "def fix_link(url):\n",
    "    return url.replace('https://landsatlook.usgs.gov/data', 's3://usgs-landsat')"
   ]
  },
  {
   "cell_type": "markdown",
   "metadata": {},
   "source": [
    "There are different kinds of QA/QC bands contained in L2SP:\n",
    "* SR_CLOUD_QA - I think we want this one because anything less than 2 is either just dark dense vegetation or no flags. everything above is stuff like water, snow, cloud (different levels of obscurity). This is the result of the fmask algorithm from Zhu et al.\n",
    "* QA_PIXEL - this gets a little more specific and goes intot different kinds of clouds. Super interesting but I don't think we want to use it."
   ]
  },
  {
   "cell_type": "markdown",
   "metadata": {},
   "source": [
    "Pull in the SR_CLOUD_QA and use as a mask - see Table 5-3 in https://prd-wret.s3.us-west-2.amazonaws.com/assets/palladium/production/atoms/files/LSDS-1370_L4-7_C1-SurfaceReflectance-LEDAPS_ProductGuide-v3.pdf for description of cloud integer values to select which ones to use as drop. For now I'll drop anything greater than 1 (0= no QA concerns and 1 is Dark dense vegetation (DDV))."
   ]
  },
  {
   "cell_type": "code",
   "execution_count": null,
   "metadata": {},
   "outputs": [],
   "source": [
    "def cloud_qa(item):\n",
    "    if type(item)==str:\n",
    "        qa_path = item\n",
    "    else:\n",
    "        qa_path = fix_link(item._stac_obj.assets['SR_CLOUD_QA.TIF']['href'])\n",
    "    cog_mask = xr.open_rasterio(qa_path).squeeze().drop('band')\n",
    "    return cog_mask"
   ]
  },
  {
   "cell_type": "markdown",
   "metadata": {},
   "source": [
    "First we make the query using sat-search to find every file in the STAC catalog that we want. We'll store that list of files. We'll do this first for a single tile (in this first exmaple just covering Washington State) but then we'll loop through in 1-degree by 1-degree tiles. "
   ]
  },
  {
   "cell_type": "markdown",
   "metadata": {},
   "source": [
    "Due to memory constraints we'll average repeated captures of the same scene. Then we'll average all of those averaged scenes together to create the full mesh. As of now we're just doing a straight average but ideally we would carry the weights of the number of repeats of each scene and do a weighted average when quilting the scenes together.\n"
   ]
  },
  {
   "cell_type": "code",
   "execution_count": null,
   "metadata": {},
   "outputs": [],
   "source": [
    "def grab_ds(item, bands_of_interest, cog_mask):\n",
    "    if type(item) == str:\n",
    "        url_list = [item+'_{}.TIF'.format(band) for band in bands_of_interest]\n",
    "    else:\n",
    "        url_list = [fix_link(item._stac_obj.assets['{}.TIF'.format(band)]['href']) for band in bands_of_interest]\n",
    "    da_list = []\n",
    "    for url in url_list:\n",
    "        da_list.append(rioxarray.open_rasterio(url, chunks={'x': 1024,\n",
    "                                                    'y': 1024}))#.load())\n",
    "\n",
    "    # combine into one dataset\n",
    "    ds = xr.concat(da_list, dim='band').to_dataset(dim='band').rename({1: 'reflectance'})\n",
    "    ds = ds.assign_coords({'band': bands_of_interest})\n",
    "    # fill value is 0; let's switch it to nan\n",
    "    ds = ds.where(ds != 0)  \n",
    "    ds = ds.where(cog_mask<2)#.compute()\n",
    "#     ds['reflectance'] = ds['reflectance'].astype('int16')\n",
    "    \n",
    "    return ds"
   ]
  },
  {
   "cell_type": "code",
   "execution_count": null,
   "metadata": {},
   "outputs": [],
   "source": [
    "def average_stack_of_scenes(ds_list):\n",
    "    '''\n",
    "    Average across scenes. This will work the same regardless \n",
    "    of whether your scenes are perfectly overlapping or they're offset.\n",
    "    However, if they're offset it requires a merge and so the entire \n",
    "    datacube (pre-collapsing) will be instantiated and might make \n",
    "    your kernel explode.\n",
    "    '''\n",
    "    full_ds = xr.concat(ds_list, dim='scene').mean(dim='scene')#.compute()\n",
    "#     full_ds = full_ds.chunk({'band': 1, 'x': 256, 'y': 256})\n",
    "    return full_ds#.compute()"
   ]
  },
  {
   "cell_type": "code",
   "execution_count": null,
   "metadata": {},
   "outputs": [],
   "source": [
    "def write_out(ds, mapper, aws_session):\n",
    "    encoding = {'reflectance': {'compressor': numcodecs.Blosc()}}\n",
    "#     with rio.Env(aws_session):\n",
    "    ds.to_zarr(store=mapper,\n",
    "                        encoding=encoding, \n",
    "                         mode='w')"
   ]
  },
  {
   "cell_type": "code",
   "execution_count": null,
   "metadata": {},
   "outputs": [],
   "source": [
    "@dask.delayed \n",
    "def scene_seasonal_average(row, path, year, bucket, #aws_session,\n",
    "                           bands_of_interest='all', season='JJA'):\n",
    "    '''\n",
    "    Given location/time specifications will grab all valid scenes,\n",
    "    mask each according to its time-specific cloud QA and then \n",
    "    return average across all masked scenes\n",
    "    '''\n",
    "    aws_session = AWSSession(boto3.Session(), requester_pays=True)\n",
    "\n",
    "    with dask.config.set(scheduler='threads'): # this? **** #threads #single-threaded\n",
    "        with rio.Env(aws_session):\n",
    "            print('testing credentials')\n",
    "            test_credentials(aws_session)\n",
    "            print('it works!')\n",
    "\n",
    "            # set where you'll save the final seasonal average\n",
    "            url = f'{bucket}{row}/{path}/{year}/{season}_reflectance.zarr'\n",
    "            mapper = fsspec.get_mapper(url)\n",
    "            # all of this is just to get the right formatting stuff to access the scenes\n",
    "\n",
    "            landsat_bucket = 's3://usgs-landsat/collection02/level-2/standard/tm/{}/{:03d}/{:03d}/'\n",
    "            month_keys = {'JJA': ['06', '07', '08']}\n",
    "            valid_files, ds_list = [], []\n",
    "\n",
    "            if bands_of_interest=='all':\n",
    "                bands_of_interest = ['SR_B1', 'SR_B2', 'SR_B3', \n",
    "                                         'SR_B4', 'SR_B5', 'SR_B7']\n",
    "\n",
    "            scene_stores = fs.ls(landsat_bucket.format(year, row, path))\n",
    "            summer_datestamps = ['{}{}'.format(year, month) for month in month_keys[season]]\n",
    "            for scene_store in scene_stores:\n",
    "                for summer_datestamp in summer_datestamps:\n",
    "                    if summer_datestamp in scene_store:\n",
    "                        valid_files.append(scene_store)\n",
    "            for file in valid_files:\n",
    "                scene_id = file[-40:]\n",
    "                url = 's3://{}/{}'.format(file, scene_id)\n",
    "                cloud_mask_url = url+'_SR_CLOUD_QA.TIF'\n",
    "                cog_mask = cloud_qa(cloud_mask_url)\n",
    "                ds_list.append(grab_ds(url, bands_of_interest, cog_mask))\n",
    "            seasonal_average = average_stack_of_scenes(ds_list)\n",
    "            write_out(seasonal_average.chunk({'band': 6, 'x': 1024, 'y': 1024}), mapper, aws_session)\n",
    "            return url"
   ]
  },
  {
   "cell_type": "code",
   "execution_count": null,
   "metadata": {},
   "outputs": [],
   "source": []
  },
  {
   "cell_type": "markdown",
   "metadata": {},
   "source": [
    "Then we take the list of files for a given year to average across growing season for each of the tiles and write it out to a mapper with those specifications."
   ]
  },
  {
   "cell_type": "code",
   "execution_count": null,
   "metadata": {},
   "outputs": [],
   "source": [
    "dask.config.set({\"array.slicing.split_large_chunks\": True})"
   ]
  },
  {
   "cell_type": "code",
   "execution_count": null,
   "metadata": {},
   "outputs": [],
   "source": [
    "gdf = gpd.read_file('https://prd-wret.s3-us-west-2.amazonaws.com/assets/'\n",
    "                   'palladium/production/s3fs-public/atoms/files/'\n",
    "                   'WRS2_descending_0.zip')"
   ]
  },
  {
   "cell_type": "code",
   "execution_count": null,
   "metadata": {},
   "outputs": [],
   "source": [
    "washington_row_paths = gdf.cx[-125:-115,45:49][['PATH', 'ROW']].values"
   ]
  },
  {
   "cell_type": "code",
   "execution_count": null,
   "metadata": {},
   "outputs": [],
   "source": [
    "PANGEO_SCRATCH=os.environ['PANGEO_SCRATCH_PREFIX']+'/orianac/'\n",
    "tasks=[]\n",
    "rerun=True\n",
    "if rerun:\n",
    "    with rio.Env(aws_session): # delete\n",
    "#         for every year in GLAS record\n",
    "        for year in np.arange(2003,2009):\n",
    "            # for every row path in the domain\n",
    "            for [row, path] in washington_row_paths:\n",
    "                for season in ['JJA']:\n",
    "                        tasks.append(\n",
    "                            client.compute(\n",
    "                        scene_seasonal_average(row, path, year, PANGEO_SCRATCH, #aws_session,\n",
    "                                                              bands_of_interest='all',\n",
    "                                                              season=season),\n",
    "                            retries=1))"
   ]
  },
  {
   "cell_type": "code",
   "execution_count": null,
   "metadata": {
    "tags": []
   },
   "outputs": [],
   "source": [
    "for year in np.arange(2003,2009):\n",
    "    # for every row path in the domain\n",
    "    for [row, path] in washington_row_paths:\n",
    "        for season in ['JJA']:\n",
    "            url = f'{PANGEO_SCRATCH}{row}/{path}/{year}/{season}_reflectance.zarr'\n",
    "            if not fs.exists(url):\n",
    "                print(url)"
   ]
  },
  {
   "cell_type": "markdown",
   "metadata": {},
   "source": [
    "### Now let's link with GLAS. We'll loop through every 10x10 degree GLAS tile and repeat this process"
   ]
  },
  {
   "cell_type": "code",
   "execution_count": null,
   "metadata": {},
   "outputs": [],
   "source": [
    "ul_lat, ul_lon = 50, 120\n",
    "biomass = xr.open_zarr(PANGEO_SCRATCH+'biomass/{}N_{}W.zarr'.format(ul_lat, ul_lon), consolidated=True).load()\n",
    "biomass = biomass.stack(unique_index=(\"record_index\", \"shot_number\")).to_dataframe().dropna(how='all')"
   ]
  },
  {
   "cell_type": "code",
   "execution_count": null,
   "metadata": {},
   "outputs": [],
   "source": [
    "biomass_gdf = gpd.GeoDataFrame(\n",
    "    biomass, geometry=gpd.points_from_xy(biomass.lon, biomass.lat)).set_crs(\"EPSG:4326\")\n",
    "linked_gdf = gpd.sjoin(biomass_gdf, gdf.cx[-ul_lon:-ul_lon+10,ul_lat-10:ul_lat], how='left')"
   ]
  },
  {
   "cell_type": "markdown",
   "metadata": {},
   "source": [
    "### Now you have the row and path for each shot. Let's now get the url to the appropriate COG."
   ]
  },
  {
   "cell_type": "code",
   "execution_count": null,
   "metadata": {},
   "outputs": [],
   "source": [
    "linked_gdf['utm_zone'] = utm.from_latlon(linked_gdf['lat'], )"
   ]
  },
  {
   "cell_type": "code",
   "execution_count": null,
   "metadata": {},
   "outputs": [],
   "source": [
    "test = linked_gdf.head()"
   ]
  },
  {
   "cell_type": "code",
   "execution_count": null,
   "metadata": {},
   "outputs": [],
   "source": [
    "test.apply(lambda x: segmentMatch(x['TimeCol'], x['ResponseCol']), axis=1)"
   ]
  },
  {
   "cell_type": "code",
   "execution_count": null,
   "metadata": {},
   "outputs": [],
   "source": [
    "# grab zone (ensuring it's the right one for the row/path) mapping of the lat/lon in 6 degree increments"
   ]
  },
  {
   "cell_type": "code",
   "execution_count": null,
   "metadata": {},
   "outputs": [],
   "source": [
    "utm.from_latlon(biomass_gdf.head()['lat'].values, biomass_gdf.head()['lon'].values)"
   ]
  },
  {
   "cell_type": "code",
   "execution_count": null,
   "metadata": {},
   "outputs": [],
   "source": [
    "# convert time to date  which will go into the lookup (really we just need year)"
   ]
  },
  {
   "cell_type": "code",
   "execution_count": null,
   "metadata": {},
   "outputs": [],
   "source": [
    "# fix x/y w pyproj "
   ]
  },
  {
   "cell_type": "code",
   "execution_count": null,
   "metadata": {},
   "outputs": [],
   "source": [
    "# "
   ]
  },
  {
   "cell_type": "code",
   "execution_count": null,
   "metadata": {},
   "outputs": [],
   "source": [
    "one_shot = biomass.load()#.lat.values#, shot_number=15).load()"
   ]
  },
  {
   "cell_type": "code",
   "execution_count": null,
   "metadata": {},
   "outputs": [],
   "source": [
    "one_shot.stack(unique_index=(\"record_index\", \"shot_number\"))"
   ]
  },
  {
   "cell_type": "code",
   "execution_count": null,
   "metadata": {},
   "outputs": [],
   "source": [
    "# project lat lon "
   ]
  },
  {
   "cell_type": "code",
   "execution_count": null,
   "metadata": {},
   "outputs": [],
   "source": [
    "from pyproj import Proj, transform"
   ]
  },
  {
   "cell_type": "code",
   "execution_count": null,
   "metadata": {},
   "outputs": [],
   "source": [
    "wgs84 = Proj(proj=\"utm\", zone=10, ellps=\"WGS84\")"
   ]
  },
  {
   "cell_type": "code",
   "execution_count": null,
   "metadata": {},
   "outputs": [],
   "source": [
    "proj_x, proj_y = wgs84(one_shot.lon.values,one_shot.lat.values)"
   ]
  },
  {
   "cell_type": "code",
   "execution_count": null,
   "metadata": {},
   "outputs": [],
   "source": [
    "proj_x, proj_y "
   ]
  },
  {
   "cell_type": "code",
   "execution_count": null,
   "metadata": {},
   "outputs": [],
   "source": []
  }
 ],
 "metadata": {
  "kernelspec": {
   "display_name": "Python 3",
   "language": "python",
   "name": "python3"
  },
  "language_info": {
   "codemirror_mode": {
    "name": "ipython",
    "version": 3
   },
   "file_extension": ".py",
   "mimetype": "text/x-python",
   "name": "python",
   "nbconvert_exporter": "python",
   "pygments_lexer": "ipython3",
   "version": "3.8.8"
  }
 },
 "nbformat": 4,
 "nbformat_minor": 4
}
