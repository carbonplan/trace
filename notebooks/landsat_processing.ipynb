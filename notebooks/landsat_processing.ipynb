{
 "cells": [
  {
   "cell_type": "markdown",
   "metadata": {},
   "source": [
    "# Landsat Processing\n",
    "Created by: Oriana Chegwidden"
   ]
  },
  {
   "cell_type": "code",
   "execution_count": 2,
   "metadata": {},
   "outputs": [],
   "source": [
    "# %load_ext autoreload\n",
    "# %autoreload 2\n",
    "import boto3\n",
    "from rasterio.session import AWSSession\n",
    "from s3fs import S3FileSystem\n",
    "aws_session = AWSSession(boto3.Session(profile_name='default'), \n",
    "                         requester_pays=True)\n",
    "fs = S3FileSystem(profile='default', requester_pays=True)\n",
    "\n",
    "from osgeo.gdal import VSICurlClearCache\n",
    "VSICurlClearCache() \n",
    "import rasterio as rio\n",
    "import xarray as xr\n",
    "import dask\n",
    "import os\n",
    "import fsspec\n",
    "import geopandas as gpd\n",
    "import regionmask as rm\n",
    "# from satsearch import Search\n",
    "from matplotlib.pyplot import imshow\n",
    "from intake import open_stac_item_collection\n",
    "import numcodecs\n",
    "import numpy as np\n",
    "import rioxarray # for the extension to load\n",
    "import matplotlib.pyplot as plt\n",
    "import utm\n",
    "import pandas as pd\n",
    "from datetime import datetime\n",
    "import json\n",
    "import zarr\n",
    "import awswrangler as wr"
   ]
  },
  {
   "cell_type": "code",
   "execution_count": 3,
   "metadata": {
    "collapsed": true,
    "jupyter": {
     "outputs_hidden": true
    },
    "tags": []
   },
   "outputs": [
    {
     "ename": "KeyboardInterrupt",
     "evalue": "",
     "output_type": "error",
     "traceback": [
      "\u001b[0;31m---------------------------------------------------------------------------\u001b[0m",
      "\u001b[0;31mKeyboardInterrupt\u001b[0m                         Traceback (most recent call last)",
      "\u001b[0;32m<ipython-input-3-4ed21b9f98bb>\u001b[0m in \u001b[0;36m<module>\u001b[0;34m\u001b[0m\n\u001b[1;32m      6\u001b[0m \u001b[0moptions\u001b[0m\u001b[0;34m.\u001b[0m\u001b[0mworker_memory\u001b[0m \u001b[0;34m=\u001b[0m \u001b[0;36m32\u001b[0m\u001b[0;34m\u001b[0m\u001b[0;34m\u001b[0m\u001b[0m\n\u001b[1;32m      7\u001b[0m \u001b[0moptions\u001b[0m\u001b[0;34m.\u001b[0m\u001b[0menvironment\u001b[0m \u001b[0;34m=\u001b[0m \u001b[0;34m{\u001b[0m\u001b[0;34m'AWS_REQUEST_PAYER'\u001b[0m\u001b[0;34m:\u001b[0m \u001b[0;34m'requester'\u001b[0m\u001b[0;34m}\u001b[0m\u001b[0;34m\u001b[0m\u001b[0;34m\u001b[0m\u001b[0m\n\u001b[0;32m----> 8\u001b[0;31m \u001b[0mcluster\u001b[0m \u001b[0;34m=\u001b[0m \u001b[0mgateway\u001b[0m\u001b[0;34m.\u001b[0m\u001b[0mnew_cluster\u001b[0m\u001b[0;34m(\u001b[0m\u001b[0mcluster_options\u001b[0m\u001b[0;34m=\u001b[0m\u001b[0moptions\u001b[0m\u001b[0;34m)\u001b[0m\u001b[0;34m\u001b[0m\u001b[0;34m\u001b[0m\u001b[0m\n\u001b[0m\u001b[1;32m      9\u001b[0m \u001b[0mcluster\u001b[0m\u001b[0;34m.\u001b[0m\u001b[0madapt\u001b[0m\u001b[0;34m(\u001b[0m\u001b[0mminimum\u001b[0m\u001b[0;34m=\u001b[0m\u001b[0;36m1\u001b[0m\u001b[0;34m,\u001b[0m \u001b[0mmaximum\u001b[0m\u001b[0;34m=\u001b[0m\u001b[0;36m10\u001b[0m\u001b[0;34m)\u001b[0m\u001b[0;34m\u001b[0m\u001b[0;34m\u001b[0m\u001b[0m\n\u001b[1;32m     10\u001b[0m \u001b[0mcluster\u001b[0m\u001b[0;34m\u001b[0m\u001b[0;34m\u001b[0m\u001b[0m\n",
      "\u001b[0;32m/srv/conda/envs/notebook/lib/python3.8/site-packages/dask_gateway/client.py\u001b[0m in \u001b[0;36mnew_cluster\u001b[0;34m(self, cluster_options, shutdown_on_close, **kwargs)\u001b[0m\n\u001b[1;32m    637\u001b[0m         \u001b[0mcluster\u001b[0m \u001b[0;34m:\u001b[0m \u001b[0mGatewayCluster\u001b[0m\u001b[0;34m\u001b[0m\u001b[0;34m\u001b[0m\u001b[0m\n\u001b[1;32m    638\u001b[0m         \"\"\"\n\u001b[0;32m--> 639\u001b[0;31m         return GatewayCluster(\n\u001b[0m\u001b[1;32m    640\u001b[0m             \u001b[0maddress\u001b[0m\u001b[0;34m=\u001b[0m\u001b[0mself\u001b[0m\u001b[0;34m.\u001b[0m\u001b[0maddress\u001b[0m\u001b[0;34m,\u001b[0m\u001b[0;34m\u001b[0m\u001b[0;34m\u001b[0m\u001b[0m\n\u001b[1;32m    641\u001b[0m             \u001b[0mproxy_address\u001b[0m\u001b[0;34m=\u001b[0m\u001b[0mself\u001b[0m\u001b[0;34m.\u001b[0m\u001b[0mproxy_address\u001b[0m\u001b[0;34m,\u001b[0m\u001b[0;34m\u001b[0m\u001b[0;34m\u001b[0m\u001b[0m\n",
      "\u001b[0;32m/srv/conda/envs/notebook/lib/python3.8/site-packages/dask_gateway/client.py\u001b[0m in \u001b[0;36m__init__\u001b[0;34m(self, address, proxy_address, public_address, auth, cluster_options, shutdown_on_close, asynchronous, loop, **kwargs)\u001b[0m\n\u001b[1;32m    812\u001b[0m         \u001b[0;34m**\u001b[0m\u001b[0mkwargs\u001b[0m\u001b[0;34m,\u001b[0m\u001b[0;34m\u001b[0m\u001b[0;34m\u001b[0m\u001b[0m\n\u001b[1;32m    813\u001b[0m     ):\n\u001b[0;32m--> 814\u001b[0;31m         self._init_internal(\n\u001b[0m\u001b[1;32m    815\u001b[0m             \u001b[0maddress\u001b[0m\u001b[0;34m=\u001b[0m\u001b[0maddress\u001b[0m\u001b[0;34m,\u001b[0m\u001b[0;34m\u001b[0m\u001b[0;34m\u001b[0m\u001b[0m\n\u001b[1;32m    816\u001b[0m             \u001b[0mproxy_address\u001b[0m\u001b[0;34m=\u001b[0m\u001b[0mproxy_address\u001b[0m\u001b[0;34m,\u001b[0m\u001b[0;34m\u001b[0m\u001b[0;34m\u001b[0m\u001b[0m\n",
      "\u001b[0;32m/srv/conda/envs/notebook/lib/python3.8/site-packages/dask_gateway/client.py\u001b[0m in \u001b[0;36m_init_internal\u001b[0;34m(self, address, proxy_address, public_address, auth, cluster_options, cluster_kwargs, shutdown_on_close, asynchronous, loop, name)\u001b[0m\n\u001b[1;32m    917\u001b[0m             \u001b[0mself\u001b[0m\u001b[0;34m.\u001b[0m\u001b[0mstatus\u001b[0m \u001b[0;34m=\u001b[0m \u001b[0;34m\"starting\"\u001b[0m\u001b[0;34m\u001b[0m\u001b[0;34m\u001b[0m\u001b[0m\n\u001b[1;32m    918\u001b[0m         \u001b[0;32mif\u001b[0m \u001b[0;32mnot\u001b[0m \u001b[0mself\u001b[0m\u001b[0;34m.\u001b[0m\u001b[0masynchronous\u001b[0m\u001b[0;34m:\u001b[0m\u001b[0;34m\u001b[0m\u001b[0;34m\u001b[0m\u001b[0m\n\u001b[0;32m--> 919\u001b[0;31m             \u001b[0mself\u001b[0m\u001b[0;34m.\u001b[0m\u001b[0mgateway\u001b[0m\u001b[0;34m.\u001b[0m\u001b[0msync\u001b[0m\u001b[0;34m(\u001b[0m\u001b[0mself\u001b[0m\u001b[0;34m.\u001b[0m\u001b[0m_start_internal\u001b[0m\u001b[0;34m)\u001b[0m\u001b[0;34m\u001b[0m\u001b[0;34m\u001b[0m\u001b[0m\n\u001b[0m\u001b[1;32m    920\u001b[0m \u001b[0;34m\u001b[0m\u001b[0m\n\u001b[1;32m    921\u001b[0m     \u001b[0;34m@\u001b[0m\u001b[0mproperty\u001b[0m\u001b[0;34m\u001b[0m\u001b[0;34m\u001b[0m\u001b[0m\n",
      "\u001b[0;32m/srv/conda/envs/notebook/lib/python3.8/site-packages/dask_gateway/client.py\u001b[0m in \u001b[0;36msync\u001b[0;34m(self, func, *args, **kwargs)\u001b[0m\n\u001b[1;32m    341\u001b[0m             )\n\u001b[1;32m    342\u001b[0m             \u001b[0;32mtry\u001b[0m\u001b[0;34m:\u001b[0m\u001b[0;34m\u001b[0m\u001b[0;34m\u001b[0m\u001b[0m\n\u001b[0;32m--> 343\u001b[0;31m                 \u001b[0;32mreturn\u001b[0m \u001b[0mfuture\u001b[0m\u001b[0;34m.\u001b[0m\u001b[0mresult\u001b[0m\u001b[0;34m(\u001b[0m\u001b[0;34m)\u001b[0m\u001b[0;34m\u001b[0m\u001b[0;34m\u001b[0m\u001b[0m\n\u001b[0m\u001b[1;32m    344\u001b[0m             \u001b[0;32mexcept\u001b[0m \u001b[0mBaseException\u001b[0m\u001b[0;34m:\u001b[0m\u001b[0;34m\u001b[0m\u001b[0;34m\u001b[0m\u001b[0m\n\u001b[1;32m    345\u001b[0m                 \u001b[0mfuture\u001b[0m\u001b[0;34m.\u001b[0m\u001b[0mcancel\u001b[0m\u001b[0;34m(\u001b[0m\u001b[0;34m)\u001b[0m\u001b[0;34m\u001b[0m\u001b[0;34m\u001b[0m\u001b[0m\n",
      "\u001b[0;32m/srv/conda/envs/notebook/lib/python3.8/concurrent/futures/_base.py\u001b[0m in \u001b[0;36mresult\u001b[0;34m(self, timeout)\u001b[0m\n\u001b[1;32m    432\u001b[0m                 \u001b[0;32mreturn\u001b[0m \u001b[0mself\u001b[0m\u001b[0;34m.\u001b[0m\u001b[0m__get_result\u001b[0m\u001b[0;34m(\u001b[0m\u001b[0;34m)\u001b[0m\u001b[0;34m\u001b[0m\u001b[0;34m\u001b[0m\u001b[0m\n\u001b[1;32m    433\u001b[0m \u001b[0;34m\u001b[0m\u001b[0m\n\u001b[0;32m--> 434\u001b[0;31m             \u001b[0mself\u001b[0m\u001b[0;34m.\u001b[0m\u001b[0m_condition\u001b[0m\u001b[0;34m.\u001b[0m\u001b[0mwait\u001b[0m\u001b[0;34m(\u001b[0m\u001b[0mtimeout\u001b[0m\u001b[0;34m)\u001b[0m\u001b[0;34m\u001b[0m\u001b[0;34m\u001b[0m\u001b[0m\n\u001b[0m\u001b[1;32m    435\u001b[0m \u001b[0;34m\u001b[0m\u001b[0m\n\u001b[1;32m    436\u001b[0m             \u001b[0;32mif\u001b[0m \u001b[0mself\u001b[0m\u001b[0;34m.\u001b[0m\u001b[0m_state\u001b[0m \u001b[0;32min\u001b[0m \u001b[0;34m[\u001b[0m\u001b[0mCANCELLED\u001b[0m\u001b[0;34m,\u001b[0m \u001b[0mCANCELLED_AND_NOTIFIED\u001b[0m\u001b[0;34m]\u001b[0m\u001b[0;34m:\u001b[0m\u001b[0;34m\u001b[0m\u001b[0;34m\u001b[0m\u001b[0m\n",
      "\u001b[0;32m/srv/conda/envs/notebook/lib/python3.8/threading.py\u001b[0m in \u001b[0;36mwait\u001b[0;34m(self, timeout)\u001b[0m\n\u001b[1;32m    300\u001b[0m         \u001b[0;32mtry\u001b[0m\u001b[0;34m:\u001b[0m    \u001b[0;31m# restore state no matter what (e.g., KeyboardInterrupt)\u001b[0m\u001b[0;34m\u001b[0m\u001b[0;34m\u001b[0m\u001b[0m\n\u001b[1;32m    301\u001b[0m             \u001b[0;32mif\u001b[0m \u001b[0mtimeout\u001b[0m \u001b[0;32mis\u001b[0m \u001b[0;32mNone\u001b[0m\u001b[0;34m:\u001b[0m\u001b[0;34m\u001b[0m\u001b[0;34m\u001b[0m\u001b[0m\n\u001b[0;32m--> 302\u001b[0;31m                 \u001b[0mwaiter\u001b[0m\u001b[0;34m.\u001b[0m\u001b[0macquire\u001b[0m\u001b[0;34m(\u001b[0m\u001b[0;34m)\u001b[0m\u001b[0;34m\u001b[0m\u001b[0;34m\u001b[0m\u001b[0m\n\u001b[0m\u001b[1;32m    303\u001b[0m                 \u001b[0mgotit\u001b[0m \u001b[0;34m=\u001b[0m \u001b[0;32mTrue\u001b[0m\u001b[0;34m\u001b[0m\u001b[0;34m\u001b[0m\u001b[0m\n\u001b[1;32m    304\u001b[0m             \u001b[0;32melse\u001b[0m\u001b[0;34m:\u001b[0m\u001b[0;34m\u001b[0m\u001b[0;34m\u001b[0m\u001b[0m\n",
      "\u001b[0;31mKeyboardInterrupt\u001b[0m: "
     ]
    }
   ],
   "source": [
    "from dask_gateway import Gateway\n",
    "\n",
    "gateway = Gateway()\n",
    "options = gateway.cluster_options()\n",
    "options.worker_cores = 2\n",
    "options.worker_memory = 32\n",
    "options.environment = {'AWS_REQUEST_PAYER': 'requester'}\n",
    "cluster = gateway.new_cluster(cluster_options=options)\n",
    "cluster.adapt(minimum=1, maximum=10)\n",
    "cluster"
   ]
  },
  {
   "cell_type": "code",
   "execution_count": 159,
   "metadata": {},
   "outputs": [],
   "source": [
    "client = cluster.get_client()"
   ]
  },
  {
   "cell_type": "markdown",
   "metadata": {},
   "source": [
    "Each Landsat scene is stored in cloud optimized geotiff (COG) according to a verbose (but once you understand it, human readable!) naming convention. Landsat Collection 2 uses the same naming convention as Collection 1 which is as follows (lifted from their docs at `https://prd-wret.s3.us-west-2.amazonaws.com/assets/palladium/production/atoms/files/LSDS-1656_%20Landsat_Collection1_L1_Product_Definition-v2.pdf`\n",
    "\n",
    "```LXSS_LLLL_PPPRRR_YYYYMMDD_yyyymmdd_CC_TX```\n",
    "where\n",
    "```\n",
    "L = Landsat  (constant)\n",
    "X = Sensor  (C = OLI / TIRS, O = OLI-only, T= TIRS-only, E = ETM+, T = TM, M= MSS)\n",
    "SS = Satellite  (e.g., 04 for Landsat 4, 05 for Landsat 5, 07 for Landsat 7, etc.) \n",
    "LLLL = Processing  level  (L1TP, L1GT, L1GS)\n",
    "PPP  = WRS path\n",
    "RRR  = WRS row\n",
    "YYYYMMDD = Acquisition  Year (YYYY) / Month  (MM) / Day  (DD) \n",
    "yyyymmdd  = Processing  Year (yyyy) / Month  (mm) / Day (dd)\n",
    "CC = Collection  number  (e.g., 01, 02, etc.) \n",
    "TX= RT for Real-Time, T1 for Tier 1 (highest quality), and T2 for Tier 2\n",
    "\n",
    "```\n",
    "\n",
    "Thus, we're looking for scenes coded in the following way:\n",
    "`LE07_????_PPP_RRR_YYYMMDD_yyyymmdd_02_T1` for Landsat 7 and\n",
    "`LT05_????_PPP_RRR_YYYMMDD_yyyymmdd_02_T1` for Landsat 5\n",
    "(but T1 might be wrong there)\n"
   ]
  },
  {
   "cell_type": "markdown",
   "metadata": {},
   "source": [
    "We are re-implementing (to the best of our abilities) the methods from Wang et al (in review). Jon Wang's paper said:\n",
    "\n",
    "```To extend our AGB predictions through space and time, we used time series (1984 – 2014) of 30 m surface reflectance data from the Thematic Mapper onboard Landsat 5 and the Enhanced Thematic Mapper Plus onboard Landsat 7. We used the GLAS-derived estimates of AGB as a response variable and the mean growing season (June, July, August) and non-growing season values for each of Landsat’s six spectral reflectance bands as the predictors in an ensemble machine learning model```\n",
    "\n",
    "So we'll be looking for:\n",
    "* Landsat 5 (Thematic mapper) and 7 (Enhanced Thematic Mapper Plus)\n",
    "* Growing season (June-August) and non-growing season (Sept-May) averages at an annual timestep. <--- will need to figure out around the calendar whether we want consecutive\n",
    "* All six spectral reflectance bands\n",
    "* We'll do a quality thresholding of cloudless cover for now based upon their thresholding"
   ]
  },
  {
   "cell_type": "markdown",
   "metadata": {},
   "source": [
    "In orienting myeslf, these are the potential collection options I've figured out (by poking around here on the [sat-api catalog](https://landsatlook.usgs.gov/sat-api/collections):\n",
    "* `landsat-c2l2-sr` Landsat Collection 2 Level-2 UTM Surface Reflectance (SR) Product\n",
    "* `landsat-c2l2alb-sr` Landsat Collection 2 Level-2 Albers Surface Reflectance (SR) Product\n",
    "* `landsat-c1l2alb-sr` Landsat Collection 1 Level-2 Albers Surface Reflectance (SR) Product <-- we don't want this one (b/c we'll go with collection 2)\n",
    "* `landsat-c2l1` Landsat Collection 2 Level-1 Product <-- don't think we want this because we want surface reflectance\n"
   ]
  },
  {
   "cell_type": "markdown",
   "metadata": {},
   "source": [
    "Run this once to apply the aws session to the rasterio environment"
   ]
  },
  {
   "cell_type": "code",
   "execution_count": 3,
   "metadata": {},
   "outputs": [],
   "source": [
    "def test_credentials(aws_session, \n",
    "                            canary_file='s3://usgs-landsat/collection02/level-2/standard/'+\\\n",
    "                            'tm/2003/044/029/LT05_L2SP_044029_20030827_20200904_02_T1/'+\\\n",
    "                            'LT05_L2SP_044029_20030827_20200904_02_T1_SR_B2.TIF'):    \n",
    "#     VSICurlClearCache()\n",
    "    # this file is the canary in the coal mine\n",
    "    # if you can't open this one you've got *issues* because it exists!\n",
    "    # also the instantiation of the environment here\n",
    "    # might help you turn on the switch of the credentials\n",
    "    # but maybe that's just anecdotal i hate credential stuff SO MUCH\n",
    "    # if anyone is reading this message i hope you're enjoying my typing\n",
    "    # as i wait for my cluster to start up.... hmm....\n",
    "\n",
    "    with rio.Env(aws_session):\n",
    "        with rio.open(canary_file) as src:\n",
    "            profile = src.profile\n",
    "            \n",
    "            arr = src.read(1)\n",
    "        "
   ]
  },
  {
   "cell_type": "code",
   "execution_count": 4,
   "metadata": {},
   "outputs": [],
   "source": [
    "def fix_link(url):\n",
    "    return url.replace('https://landsatlook.usgs.gov/data', 's3://usgs-landsat')"
   ]
  },
  {
   "cell_type": "markdown",
   "metadata": {},
   "source": [
    "There are different kinds of QA/QC bands contained in L2SP:\n",
    "* SR_CLOUD_QA - I think we want this one because anything less than 2 is either just dark dense vegetation or no flags. everything above is stuff like water, snow, cloud (different levels of obscurity). This is the result of the fmask algorithm from Zhu et al.\n",
    "* QA_PIXEL - this gets a little more specific and goes intot different kinds of clouds. Super interesting but I don't think we want to use it."
   ]
  },
  {
   "cell_type": "markdown",
   "metadata": {},
   "source": [
    "Pull in the SR_CLOUD_QA and use as a mask - see Table 5-3 in https://prd-wret.s3.us-west-2.amazonaws.com/assets/palladium/production/atoms/files/LSDS-1370_L4-7_C1-SurfaceReflectance-LEDAPS_ProductGuide-v3.pdf for description of cloud integer values to select which ones to use as drop. For now I'll drop anything greater than 1 (0= no QA concerns and 1 is Dark dense vegetation (DDV))."
   ]
  },
  {
   "cell_type": "code",
   "execution_count": 5,
   "metadata": {},
   "outputs": [],
   "source": [
    "def cloud_qa(item):\n",
    "    if type(item)==str:\n",
    "        qa_path = item\n",
    "    else:\n",
    "        qa_path = fix_link(item._stac_obj.assets['SR_CLOUD_QA.TIF']['href'])\n",
    "    cog_mask = xr.open_rasterio(qa_path).squeeze().drop('band')\n",
    "    return cog_mask"
   ]
  },
  {
   "cell_type": "markdown",
   "metadata": {},
   "source": [
    "First we make the query using sat-search to find every file in the STAC catalog that we want. We'll store that list of files. We'll do this first for a single tile (in this first exmaple just covering Washington State) but then we'll loop through in 1-degree by 1-degree tiles. "
   ]
  },
  {
   "cell_type": "code",
   "execution_count": 6,
   "metadata": {},
   "outputs": [],
   "source": [
    "with rio.Env(aws_session):\n",
    "    test_ds = rioxarray.open_rasterio('s3://usgs-landsat/collection02/level-2/standard/'+\\\n",
    "                            'tm/2003/044/029/LT05_L2SP_044029_20030827_20200904_02_T1/'+\\\n",
    "                            'LT05_L2SP_044029_20030827_20200904_02_T1_SR_B4.TIF')"
   ]
  },
  {
   "cell_type": "code",
   "execution_count": 7,
   "metadata": {},
   "outputs": [
    {
     "data": {
      "text/plain": [
       "<matplotlib.image.AxesImage at 0x7f2614908bb0>"
      ]
     },
     "execution_count": 7,
     "metadata": {},
     "output_type": "execute_result"
    },
    {
     "data": {
      "image/png": "[encoded data removed]",
      "text/plain": [
       "<Figure size 432x288 with 2 Axes>"
      ]
     },
     "metadata": {
      "needs_background": "light"
     },
     "output_type": "display_data"
    }
   ],
   "source": [
    "xr.plot.imshow(test_ds.sel(band=1)*0.0000275-.2, vmin=0, vmax=1)"
   ]
  },
  {
   "cell_type": "code",
   "execution_count": 12,
   "metadata": {},
   "outputs": [
    {
     "data": {
      "text/plain": [
       "['usgs-landsat/collection02/level-2/standard/etm/2021/044/029/LE07_L2SP_044029_20210108_20210205_02_T2',\n",
       " 'usgs-landsat/collection02/level-2/standard/etm/2021/044/029/LE07_L2SP_044029_20210124_20210219_02_T1',\n",
       " 'usgs-landsat/collection02/level-2/standard/etm/2021/044/029/LE07_L2SP_044029_20210209_20210308_02_T1',\n",
       " 'usgs-landsat/collection02/level-2/standard/etm/2021/044/029/LE07_L2SP_044029_20210225_20210323_02_T1',\n",
       " 'usgs-landsat/collection02/level-2/standard/etm/2021/044/029/LE07_L2SP_044029_20210313_20210410_02_T1',\n",
       " 'usgs-landsat/collection02/level-2/standard/etm/2021/044/029/LE07_L2SP_044029_20210329_20210424_02_T1',\n",
       " 'usgs-landsat/collection02/level-2/standard/etm/2021/044/029/catalog.json']"
      ]
     },
     "execution_count": 12,
     "metadata": {},
     "output_type": "execute_result"
    }
   ],
   "source": [
    "fs.ls('s3://usgs-landsat/collection02/level-2/standard/etm/2021/044/029')"
   ]
  },
  {
   "cell_type": "markdown",
   "metadata": {},
   "source": [
    "Due to memory constraints we'll average repeated captures of the same scene. Then we'll average all of those averaged scenes together to create the full mesh. As of now we're just doing a straight average but ideally we would carry the weights of the number of repeats of each scene and do a weighted average when quilting the scenes together.\n"
   ]
  },
  {
   "cell_type": "code",
   "execution_count": 8,
   "metadata": {},
   "outputs": [],
   "source": [
    "def grab_ds(item, bands_of_interest, cog_mask, utm_zone):\n",
    "    if type(item) == str:\n",
    "        url_list = [item+'_{}.TIF'.format(band) for band in bands_of_interest]\n",
    "    else:\n",
    "        url_list = [fix_link(item._stac_obj.assets['{}.TIF'.format(band)]['href']) for band in bands_of_interest]\n",
    "    da_list = []\n",
    "    for url in url_list:\n",
    "        da_list.append(rioxarray.open_rasterio(url, chunks={'x': 1024,\n",
    "                                                    'y': 1024}))#.load())\n",
    "\n",
    "    # combine into one dataset\n",
    "    ds = xr.concat(da_list, dim='band').to_dataset(dim='band').rename({1: 'reflectance'})\n",
    "    ds = ds.assign_coords({'band': bands_of_interest})\n",
    "    # fill value is 0; let's switch it to nan\n",
    "    ds = ds.where(ds != 0)  \n",
    "    ds = ds.where(cog_mask<2)#.compute()\n",
    "    ds.attrs[\"utm_zone\"] = utm_zone\n",
    "#     ds['reflectance'] = ds['reflectance'].astype('int16')\n",
    "    return ds"
   ]
  },
  {
   "cell_type": "code",
   "execution_count": 8,
   "metadata": {},
   "outputs": [],
   "source": [
    "def average_stack_of_scenes(ds_list):\n",
    "    '''\n",
    "    Average across scenes. This will work the same regardless \n",
    "    of whether your scenes are perfectly overlapping or they're offset.\n",
    "    However, if they're offset it requires a merge and so the entire \n",
    "    datacube (pre-collapsing) will be instantiated and might make \n",
    "    your kernel explode.\n",
    "    '''\n",
    "    utm_zone = []\n",
    "    for ds in ds_list:\n",
    "        utm_zone.append(ds.attrs['utm_zone'])\n",
    "    if len(set(utm_zone))>1:\n",
    "        print('WATCH OUT: youre averaging scenes from multiple utm projections!!')\n",
    "        \n",
    "    full_ds = xr.concat(ds_list, dim='scene').mean(dim='scene')#.compute()\n",
    "    full_ds.attrs['utm_zone'] = utm_zone[0]\n",
    "#     full_ds = full_ds.chunk({'band': 1, 'x': 256, 'y': 256})\n",
    "    return full_ds#.compute()"
   ]
  },
  {
   "cell_type": "code",
   "execution_count": 9,
   "metadata": {},
   "outputs": [],
   "source": [
    "def write_out(ds, mapper, aws_session):\n",
    "    encoding = {'reflectance': {'compressor': numcodecs.Blosc()}}\n",
    "#     with rio.Env(aws_session):\n",
    "    ds.to_zarr(store=mapper,\n",
    "                        encoding=encoding, \n",
    "                         mode='w')"
   ]
  },
  {
   "cell_type": "code",
   "execution_count": 10,
   "metadata": {},
   "outputs": [],
   "source": [
    "def access_credentials():\n",
    "    with open('/home/jovyan/.aws/credentials') as f:\n",
    "        credentials = f.read().splitlines()\n",
    "        access_key_id = credentials[1].split('=')[1]\n",
    "        secret_access_key = credentials[2].split('=')[1]\n",
    "    return access_key_id, secret_access_key"
   ]
  },
  {
   "cell_type": "code",
   "execution_count": 11,
   "metadata": {},
   "outputs": [],
   "source": [
    "def get_scene_utm_zone(url):\n",
    "    metadata_url = url+'_MTL.json'\n",
    "    json_client = boto3.client('s3')\n",
    "    data = json_client.get_object(Bucket='usgs-landsat',\n",
    "                                 Key=metadata_url[18:],\n",
    "                                 RequestPayer='requester')\n",
    "    metadata = json.loads(data['Body'].read())\n",
    "    utm_zone = metadata['LANDSAT_METADATA_FILE']['PROJECTION_ATTRIBUTES']['UTM_ZONE']\n",
    "    return utm_zone"
   ]
  },
  {
   "cell_type": "code",
   "execution_count": 160,
   "metadata": {
    "tags": []
   },
   "outputs": [],
   "source": [
    "# @dask.delayed \n",
    "def scene_seasonal_average(path, row, year, bucket, access_key_id, secret_access_key,\n",
    "                           bands_of_interest='all', season='JJA'):\n",
    "    '''\n",
    "    Given location/time specifications will grab all valid scenes,\n",
    "    mask each according to its time-specific cloud QA and then \n",
    "    return average across all masked scenes\n",
    "    '''\n",
    "    aws_session = AWSSession(boto3.Session(aws_access_key_id=access_key_id,\n",
    "                                          aws_secret_access_key=secret_access_key),\n",
    "                            requester_pays=True)#profile_name='default'), requester_pays=True) \n",
    "    fs = S3FileSystem(key=access_key_id,\n",
    "                    secret=secret_access_key, requester_pays=True)\n",
    "\n",
    "    with dask.config.set(scheduler='single-threaded'): # this? **** #threads #single-threaded # threads??\n",
    "        with rio.Env(aws_session):\n",
    "            test_credentials(aws_session)\n",
    "        #             print('it works!')\n",
    "\n",
    "            # set where you'll save the final seasonal average\n",
    "            url = f'{bucket}{path}/{row}/{year}/{season}_reflectance.zarr'\n",
    "            mapper = fs.get_mapper(url) #used to be fsspec\n",
    "            # all of this is just to get the right formatting stuff to access the scenes\n",
    "\n",
    "            landsat_bucket = 's3://usgs-landsat/collection02/level-2/standard/tm/{}/{:03d}/{:03d}/'\n",
    "            month_keys = {'JJA': ['06', '07', '08']}\n",
    "            valid_files, ds_list = [], []\n",
    "\n",
    "            if bands_of_interest=='all':\n",
    "                bands_of_interest = ['SR_B1', 'SR_B2', 'SR_B3', \n",
    "                                         'SR_B4', 'SR_B5', 'SR_B7']\n",
    "            scene_stores = fs.ls(landsat_bucket.format(year, path, row))\n",
    "            summer_datestamps = ['{}{}'.format(year, month) for month in month_keys[season]]\n",
    "            for scene_store in scene_stores:\n",
    "                for summer_datestamp in summer_datestamps:\n",
    "                    if summer_datestamp in scene_store:\n",
    "                        valid_files.append(scene_store)\n",
    "            for file in valid_files:\n",
    "                scene_id = file[-40:]\n",
    "                url = 's3://{}/{}'.format(file, scene_id)\n",
    "                utm_zone = get_scene_utm_zone(url)\n",
    "                cloud_mask_url = url+'_SR_CLOUD_QA.TIF'\n",
    "                cog_mask = cloud_qa(cloud_mask_url)\n",
    "                ds_list.append(grab_ds(url, bands_of_interest, cog_mask, utm_zone))\n",
    "            seasonal_average = average_stack_of_scenes(ds_list)\n",
    "            \n",
    "            write_out(seasonal_average.chunk({'band': 6, 'x': 1024, 'y': 1024}), mapper, aws_session)\n",
    "            return url"
   ]
  },
  {
   "cell_type": "code",
   "execution_count": 11,
   "metadata": {},
   "outputs": [],
   "source": [
    "access_key_id, secret_access_key = access_credentials()"
   ]
  },
  {
   "cell_type": "code",
   "execution_count": 18,
   "metadata": {
    "tags": []
   },
   "outputs": [
    {
     "name": "stdout",
     "output_type": "stream",
     "text": [
      "<class 'str'>\n",
      "<class 'str'>\n",
      "<class 'str'>\n",
      "<class 'str'>\n",
      "<class 'str'>\n",
      "<class 'str'>\n",
      "{}\n",
      "<class 'list'>\n",
      "<class 'str'>\n"
     ]
    },
    {
     "name": "stderr",
     "output_type": "stream",
     "text": [
      "/srv/conda/envs/notebook/lib/python3.8/site-packages/dask/array/numpy_compat.py:40: RuntimeWarning: invalid value encountered in true_divide\n",
      "  x = np.divide(x1, x2, out)\n"
     ]
    }
   ],
   "source": [
    "# this is a good test on one cell to see it's working\n",
    "url='s3://carbonplan-climatetrace/v1/'\n",
    "ds = scene_seasonal_average(46, 27, 2005, url, access_key_id, secret_access_key)#, aws_session)#.chunk({'band': 6, 'x': 1024, 'y': 1024})"
   ]
  },
  {
   "cell_type": "code",
   "execution_count": 26,
   "metadata": {},
   "outputs": [],
   "source": [
    "landsat_bucket = 's3://usgs-landsat/collection02/level-2/standard/etm/{}/{:03d}/{:03d}/'"
   ]
  },
  {
   "cell_type": "code",
   "execution_count": 27,
   "metadata": {},
   "outputs": [
    {
     "data": {
      "text/plain": [
       "[]"
      ]
     },
     "execution_count": 27,
     "metadata": {},
     "output_type": "execute_result"
    }
   ],
   "source": [
    "year = 2003\n",
    "path=178\n",
    "row=61\n",
    "fs.ls(landsat_bucket.format(year, row, path))"
   ]
  },
  {
   "cell_type": "code",
   "execution_count": 52,
   "metadata": {},
   "outputs": [],
   "source": [
    "files=[]\n",
    "for year in np.arange(2000,2022):\n",
    "    files+=fs.ls('s3://usgs-landsat/collection02/level-2/standard/etm/{}/178/061'.format(year))"
   ]
  },
  {
   "cell_type": "code",
   "execution_count": 24,
   "metadata": {},
   "outputs": [],
   "source": [
    "mapper = fs.get_mapper('s3://carbonplan-climatetrace/v1/46/27/2005/JJA_reflectance.zarr')\n",
    "test_ds = xr.open_zarr(mapper).isel(x=slice(30,50), y=slice(30,50))"
   ]
  },
  {
   "cell_type": "code",
   "execution_count": 23,
   "metadata": {},
   "outputs": [
    {
     "data": {
      "text/plain": [
       "'10'"
      ]
     },
     "execution_count": 23,
     "metadata": {},
     "output_type": "execute_result"
    }
   ],
   "source": [
    "test_ds.utm_zone"
   ]
  },
  {
   "cell_type": "code",
   "execution_count": null,
   "metadata": {},
   "outputs": [],
   "source": [
    "ds.attrs"
   ]
  },
  {
   "cell_type": "code",
   "execution_count": 169,
   "metadata": {},
   "outputs": [],
   "source": [
    "for task in tasks:\n",
    "    task.cancel()"
   ]
  },
  {
   "cell_type": "markdown",
   "metadata": {},
   "source": [
    "Then we take the list of files for a given year to average across growing season for each of the tiles and write it out to a mapper with those specifications."
   ]
  },
  {
   "cell_type": "code",
   "execution_count": 22,
   "metadata": {},
   "outputs": [],
   "source": [
    "def add_landsat_utm_zone(scene_gdf):\n",
    "    '''\n",
    "    Grab sample file for each landsat scene and\n",
    "    extract the utm zone then add that to the \n",
    "    scene geodataframe\n",
    "    '''\n",
    "    scene_gdf['landsat_utm_zone'] = \"\"\n",
    "    for scene_id in scene_gdf.index:\n",
    "        scene_row = washington_scenes.loc[scene_id]['ROW']\n",
    "        scene_path = washington_scenes.loc[scene_id]['PATH']\n",
    "        url = 's3://carbonplan-climatetrace/v1/{}/{}/2004/JJA_reflectance.zarr'.format(scene_path, scene_row)\n",
    "        landsat_utm_zone = xr.open_zarr(fs.get_mapper(url)).utm_zone\n",
    "        washington_scenes.loc[scene_id, 'landsat_utm_zone'] = int(landsat_utm_zone)\n",
    "    return scene_gdf"
   ]
  },
  {
   "cell_type": "code",
   "execution_count": 33,
   "metadata": {},
   "outputs": [
    {
     "data": {
      "text/plain": [
       "<dask.config.set at 0x7f9f07eca340>"
      ]
     },
     "execution_count": 33,
     "metadata": {},
     "output_type": "execute_result"
    }
   ],
   "source": [
    "dask.config.set({\"array.slicing.split_large_chunks\": True})"
   ]
  },
  {
   "cell_type": "code",
   "execution_count": 13,
   "metadata": {},
   "outputs": [],
   "source": [
    "gdf = gpd.read_file('https://prd-wret.s3-us-west-2.amazonaws.com/assets/'\n",
    "                   'palladium/production/s3fs-public/atoms/files/'\n",
    "                   'WRS2_descending_0.zip')"
   ]
  },
  {
   "cell_type": "code",
   "execution_count": 19,
   "metadata": {},
   "outputs": [],
   "source": [
    "congo = gdf.cx[20:21,-1:-0.9]"
   ]
  },
  {
   "cell_type": "code",
   "execution_count": 20,
   "metadata": {},
   "outputs": [
    {
     "data": {
      "text/html": [
       "<div>\n",
       "<style scoped>\n",
       "    .dataframe tbody tr th:only-of-type {\n",
       "        vertical-align: middle;\n",
       "    }\n",
       "\n",
       "    .dataframe tbody tr th {\n",
       "        vertical-align: top;\n",
       "    }\n",
       "\n",
       "    .dataframe thead th {\n",
       "        text-align: right;\n",
       "    }\n",
       "</style>\n",
       "<table border=\"1\" class=\"dataframe\">\n",
       "  <thead>\n",
       "    <tr style=\"text-align: right;\">\n",
       "      <th></th>\n",
       "      <th>AREA</th>\n",
       "      <th>PERIMETER</th>\n",
       "      <th>PR_</th>\n",
       "      <th>PR_ID</th>\n",
       "      <th>RINGS_OK</th>\n",
       "      <th>RINGS_NOK</th>\n",
       "      <th>PATH</th>\n",
       "      <th>ROW</th>\n",
       "      <th>MODE</th>\n",
       "      <th>SEQUENCE</th>\n",
       "      <th>WRSPR</th>\n",
       "      <th>PR</th>\n",
       "      <th>ACQDayL7</th>\n",
       "      <th>ACQDayL8</th>\n",
       "      <th>geometry</th>\n",
       "    </tr>\n",
       "  </thead>\n",
       "  <tbody>\n",
       "    <tr>\n",
       "      <th>8616</th>\n",
       "      <td>2.58152</td>\n",
       "      <td>6.43720</td>\n",
       "      <td>2789.0</td>\n",
       "      <td>2789.0</td>\n",
       "      <td>1</td>\n",
       "      <td>0</td>\n",
       "      <td>178</td>\n",
       "      <td>61</td>\n",
       "      <td>D</td>\n",
       "      <td>15685</td>\n",
       "      <td>178061</td>\n",
       "      <td>178061</td>\n",
       "      <td>5</td>\n",
       "      <td>13</td>\n",
       "      <td>POLYGON ((22.27816 -2.32697, 20.63204 -2.08786...</td>\n",
       "    </tr>\n",
       "    <tr>\n",
       "      <th>21140</th>\n",
       "      <td>2.58143</td>\n",
       "      <td>6.43708</td>\n",
       "      <td>2541.0</td>\n",
       "      <td>2541.0</td>\n",
       "      <td>1</td>\n",
       "      <td>0</td>\n",
       "      <td>179</td>\n",
       "      <td>61</td>\n",
       "      <td>D</td>\n",
       "      <td>40981</td>\n",
       "      <td>179061</td>\n",
       "      <td>179061</td>\n",
       "      <td>12</td>\n",
       "      <td>4</td>\n",
       "      <td>POLYGON ((21.03965 -0.88038, 20.74905 -2.25170...</td>\n",
       "    </tr>\n",
       "  </tbody>\n",
       "</table>\n",
       "</div>"
      ],
      "text/plain": [
       "          AREA  PERIMETER     PR_   PR_ID  RINGS_OK  RINGS_NOK  PATH  ROW  \\\n",
       "8616   2.58152    6.43720  2789.0  2789.0         1          0   178   61   \n",
       "21140  2.58143    6.43708  2541.0  2541.0         1          0   179   61   \n",
       "\n",
       "      MODE  SEQUENCE   WRSPR      PR ACQDayL7 ACQDayL8  \\\n",
       "8616     D     15685  178061  178061        5       13   \n",
       "21140    D     40981  179061  179061       12        4   \n",
       "\n",
       "                                                geometry  \n",
       "8616   POLYGON ((22.27816 -2.32697, 20.63204 -2.08786...  \n",
       "21140  POLYGON ((21.03965 -0.88038, 20.74905 -2.25170...  "
      ]
     },
     "execution_count": 20,
     "metadata": {},
     "output_type": "execute_result"
    }
   ],
   "source": [
    "congo"
   ]
  },
  {
   "cell_type": "code",
   "execution_count": 14,
   "metadata": {},
   "outputs": [],
   "source": [
    "washington_scenes = gdf.cx[-125:-115,45:49]"
   ]
  },
  {
   "cell_type": "code",
   "execution_count": 35,
   "metadata": {},
   "outputs": [],
   "source": [
    "bucket = 's3://carbonplan-climatetrace/v1/'\n",
    "# PANGEO_SCRATCH=os.environ['PANGEO_SCRATCH_PREFIX']+'/orianac/'\n",
    "tasks=[]\n",
    "rerun=False\n",
    "if rerun:\n",
    "    with rio.Env(aws_session): # delete\n",
    "#         for every year in GLAS record\n",
    "        for year in np.arange(2003,2009):\n",
    "            # for every row path in the domain\n",
    "            for [path, row] in washington_scenes[['PATH', 'ROW']].values:\n",
    "                for season in ['JJA']:\n",
    "                        tasks.append(\n",
    "                            client.compute(\n",
    "                        scene_seasonal_average(path, row, year, bucket, access_key_id, secret_access_key,\n",
    "                                                              bands_of_interest='all',\n",
    "                                                              season=season),\n",
    "                            retries=4))"
   ]
  },
  {
   "cell_type": "code",
   "execution_count": 23,
   "metadata": {},
   "outputs": [],
   "source": [
    "washington_scenes = add_landsat_utm_zone(washington_scenes)"
   ]
  },
  {
   "cell_type": "code",
   "execution_count": 30,
   "metadata": {
    "tags": []
   },
   "outputs": [
    {
     "name": "stdout",
     "output_type": "stream",
     "text": [
      "s3://carbonplan-climatetrace/v1/45/26/2003/JJA_reflectance.zarr\n"
     ]
    }
   ],
   "source": [
    "for year in np.arange(2003,2009):\n",
    "    i=0\n",
    "    # for every row path in the domain\n",
    "    for [path, row] in washington_row_paths:\n",
    "        for season in ['JJA']:\n",
    "            url = f'{bucket}{path}/{row}/{year}/{season}_reflectance.zarr'\n",
    "            if fs.exists(url):\n",
    "                print(url)\n",
    "            break\n",
    "        break\n",
    "    break"
   ]
  },
  {
   "cell_type": "markdown",
   "metadata": {},
   "source": [
    "### Now that you've inspected the landsat scenes,make sure you have the correct utm zones for each row/path combo, because sometimes they use one that is not what you would expect. For now we'll just do it once, but should probs check that it doesn't change year-to-year"
   ]
  },
  {
   "cell_type": "markdown",
   "metadata": {},
   "source": [
    "# TODO:\n",
    "* ~fix why the attrs aren't working in zarr~\n",
    "* ~rerun all of the washington state scenes~\n",
    "\n",
    "THEN\n",
    "* ~add column for utm in the scene shapefile~\n",
    "* ~loop through all scenes, grab utm from sample file and fill into df~\n",
    "* ~then use that column to force the projection~\n",
    "* rerun the projections and create biomass dataframe"
   ]
  },
  {
   "cell_type": "markdown",
   "metadata": {},
   "source": [
    "### Now let's link with GLAS. We'll loop through every 10x10 degree GLAS tile and repeat this process"
   ]
  },
  {
   "cell_type": "markdown",
   "metadata": {},
   "source": [
    "### copy over single biomass tile"
   ]
  },
  {
   "cell_type": "code",
   "execution_count": 48,
   "metadata": {
    "tags": []
   },
   "outputs": [],
   "source": [
    "copy=False\n",
    "if copy:\n",
    "    source_mapper = fsspec.get_mapper('gs://carbonplan-climatetrace/intermediates/biomass/50N_120W.zarr')\n",
    "    # url = os.environ['PANGEO_SCRATCH_PREFIX']+'/orianac/'\n",
    "    url = 's3://carbonplan-climatetrace/v1/'\n",
    "    dest_mapper = fs.get_mapper('carbonplan-climatetrace/v1/biomass/50N_120W.zarr')\n",
    "    # fsspec.get_mapper(url+'biomass/50N_120W.zarr', storage_options={'profile': 'default'})\n",
    "    ds = xr.open_zarr(source_mapper)\n",
    "    ds = ds.drop('allometric_eq')\n",
    "    with dask.config.set(scheduler='threads'): # this? **** #threads #single-threaded\n",
    "        ds.to_zarr(dest_mapper, mode='w', consolidated=True)"
   ]
  },
  {
   "cell_type": "markdown",
   "metadata": {},
   "source": [
    "### Load in the biomass dataset for this one tile"
   ]
  },
  {
   "cell_type": "code",
   "execution_count": 24,
   "metadata": {},
   "outputs": [],
   "source": [
    "ul_lat, ul_lon = 50, 120\n",
    "file_mapper = fs.get_mapper('carbonplan-climatetrace/v1/biomass/{}N_{}W.zarr'.format(ul_lat, ul_lon))\n",
    "# biomass = xr.open_zarr(PANGEO_SCRATCH+'biomass/{}N_{}W.zarr'.format(ul_lat, ul_lon), consolidated=True).load()\n",
    "\n",
    "biomass = xr.open_zarr(file_mapper, consolidated=True).load().drop('spatial_ref')\n",
    "biomass_df = biomass.stack(unique_index=(\"record_index\", \"shot_number\")).to_dataframe().dropna(how='all')"
   ]
  },
  {
   "cell_type": "markdown",
   "metadata": {},
   "source": [
    "### Convert it to a geodataframe and attach the landsat row/col info to it. This will form the mapping from IceSAT to Landsat."
   ]
  },
  {
   "cell_type": "code",
   "execution_count": 25,
   "metadata": {},
   "outputs": [],
   "source": [
    "biomass_gdf = gpd.GeoDataFrame(\n",
    "    biomass_df, geometry=gpd.points_from_xy(biomass_df.lon, biomass_df.lat)).set_crs(\"EPSG:4326\")\n",
    "linked_gdf = gpd.sjoin(biomass_gdf, \n",
    "                       washington_scenes, #gdf.cx[-125:-115,45:49], # gdf.cx[-ul_lon:-ul_lon+10,ul_lat-10:ul_lat], \n",
    "                       how='inner') # 'left' # by selecting inner you're grabbing the intersection (so dropping any shots \n",
    "#that don't have scenes or scenes that don't have shots)"
   ]
  },
  {
   "cell_type": "markdown",
   "metadata": {},
   "source": [
    "### Now you have the row and path for each shot. Let's now get the url to the appropriate COG. For this we'll need the "
   ]
  },
  {
   "cell_type": "code",
   "execution_count": 27,
   "metadata": {},
   "outputs": [],
   "source": [
    "def convert_to_utm(df):\n",
    "    return utm.from_latlon(df['lat'], df['lon'], force_zone_number=df['landsat_utm_zone'])"
   ]
  },
  {
   "cell_type": "code",
   "execution_count": 28,
   "metadata": {},
   "outputs": [],
   "source": [
    "def add_projection_info(df):\n",
    "    projection_info = df.apply(convert_to_utm, axis=1).to_list()\n",
    "    projected_column_names = ['proj_x', 'proj_y', 'utm_zone', 'utm_letter']\n",
    "    projection_df = pd.DataFrame(projection_info, columns=projected_column_names, index=df.index)\n",
    "    updated_df = pd.concat([df, projection_df], axis=1)\n",
    "    return updated_df"
   ]
  },
  {
   "cell_type": "code",
   "execution_count": 29,
   "metadata": {},
   "outputs": [],
   "source": [
    "def grab_year(df):\n",
    "    return datetime.fromtimestamp(df['time']).year"
   ]
  },
  {
   "cell_type": "code",
   "execution_count": 30,
   "metadata": {},
   "outputs": [],
   "source": [
    "def all_linking(df):\n",
    "    df = add_projection_info(df)\n",
    "    df['year'] = df.apply(grab_year, axis=1)\n",
    "    df['url'] = df.apply(build_url, axis=1)\n",
    "    return df"
   ]
  },
  {
   "cell_type": "code",
   "execution_count": 31,
   "metadata": {},
   "outputs": [],
   "source": [
    "def build_url(df):\n",
    "    return 's3://carbonplan-climatetrace/v1/{}/{}/{}/JJA_reflectance.zarr'.format(df['PATH'], \n",
    "                                                                                   df['ROW'], \n",
    "                                                                                   df['year'])"
   ]
  },
  {
   "cell_type": "code",
   "execution_count": 32,
   "metadata": {},
   "outputs": [],
   "source": [
    "linked_gdf = all_linking(linked_gdf)"
   ]
  },
  {
   "cell_type": "markdown",
   "metadata": {},
   "source": [
    "Do all unique row/path/year combos at same time since they'll be grabbing the same file.\n",
    "Open the file and loop through each x/y location to get reflectance values"
   ]
  },
  {
   "cell_type": "code",
   "execution_count": 37,
   "metadata": {},
   "outputs": [],
   "source": [
    "unique_urls = linked_gdf['url'].unique()"
   ]
  },
  {
   "cell_type": "code",
   "execution_count": 33,
   "metadata": {},
   "outputs": [],
   "source": [
    "def create_combined_landsat_biomass_df(landsat_ds, biomass_df, \n",
    "                                       biomass_variables=['biomass', 'glas_elev', 'ecoregion']):\n",
    "    selected_landsat = landsat_ds.sel(x=xr.DataArray(biomass_df['proj_x'].values, dims='shot'), \n",
    "                      y=xr.DataArray(biomass_df['proj_y'].values, dims='shot'),\n",
    "                      method='nearest').to_dataframe().drop(['x', 'y'], axis=1)\n",
    "    selected_landsat.index = biomass_df.index\n",
    "    out_df = pd.concat([biomass_df[biomass_variables], selected_landsat], axis=1)\n",
    "    return out_df"
   ]
  },
  {
   "cell_type": "code",
   "execution_count": 148,
   "metadata": {},
   "outputs": [],
   "source": [
    "washington_row_path_strings = ['{}/{}'.format(row, path) for (row, path) in washington_row_paths]"
   ]
  },
  {
   "cell_type": "code",
   "execution_count": 38,
   "metadata": {
    "collapsed": true,
    "jupyter": {
     "outputs_hidden": true
    },
    "tags": []
   },
   "outputs": [
    {
     "data": {
      "text/plain": [
       "array(['s3://carbonplan-climatetrace/v1/41/26/2003/JJA_reflectance.zarr',\n",
       "       's3://carbonplan-climatetrace/v1/41/26/2004/JJA_reflectance.zarr',\n",
       "       's3://carbonplan-climatetrace/v1/41/26/2005/JJA_reflectance.zarr',\n",
       "       's3://carbonplan-climatetrace/v1/41/26/2006/JJA_reflectance.zarr',\n",
       "       's3://carbonplan-climatetrace/v1/41/26/2007/JJA_reflectance.zarr',\n",
       "       's3://carbonplan-climatetrace/v1/41/26/2008/JJA_reflectance.zarr',\n",
       "       's3://carbonplan-climatetrace/v1/41/27/2003/JJA_reflectance.zarr',\n",
       "       's3://carbonplan-climatetrace/v1/41/27/2004/JJA_reflectance.zarr',\n",
       "       's3://carbonplan-climatetrace/v1/41/27/2005/JJA_reflectance.zarr',\n",
       "       's3://carbonplan-climatetrace/v1/41/27/2006/JJA_reflectance.zarr',\n",
       "       's3://carbonplan-climatetrace/v1/41/27/2007/JJA_reflectance.zarr',\n",
       "       's3://carbonplan-climatetrace/v1/41/27/2008/JJA_reflectance.zarr',\n",
       "       's3://carbonplan-climatetrace/v1/41/28/2003/JJA_reflectance.zarr',\n",
       "       's3://carbonplan-climatetrace/v1/41/28/2004/JJA_reflectance.zarr',\n",
       "       's3://carbonplan-climatetrace/v1/41/28/2005/JJA_reflectance.zarr',\n",
       "       's3://carbonplan-climatetrace/v1/41/28/2006/JJA_reflectance.zarr',\n",
       "       's3://carbonplan-climatetrace/v1/41/28/2007/JJA_reflectance.zarr',\n",
       "       's3://carbonplan-climatetrace/v1/41/28/2008/JJA_reflectance.zarr',\n",
       "       's3://carbonplan-climatetrace/v1/41/29/2003/JJA_reflectance.zarr',\n",
       "       's3://carbonplan-climatetrace/v1/41/29/2004/JJA_reflectance.zarr',\n",
       "       's3://carbonplan-climatetrace/v1/41/29/2005/JJA_reflectance.zarr',\n",
       "       's3://carbonplan-climatetrace/v1/41/29/2006/JJA_reflectance.zarr',\n",
       "       's3://carbonplan-climatetrace/v1/41/29/2007/JJA_reflectance.zarr',\n",
       "       's3://carbonplan-climatetrace/v1/41/29/2008/JJA_reflectance.zarr',\n",
       "       's3://carbonplan-climatetrace/v1/43/26/2003/JJA_reflectance.zarr',\n",
       "       's3://carbonplan-climatetrace/v1/43/26/2004/JJA_reflectance.zarr',\n",
       "       's3://carbonplan-climatetrace/v1/43/26/2005/JJA_reflectance.zarr',\n",
       "       's3://carbonplan-climatetrace/v1/43/26/2006/JJA_reflectance.zarr',\n",
       "       's3://carbonplan-climatetrace/v1/43/26/2007/JJA_reflectance.zarr',\n",
       "       's3://carbonplan-climatetrace/v1/43/26/2008/JJA_reflectance.zarr',\n",
       "       's3://carbonplan-climatetrace/v1/42/26/2003/JJA_reflectance.zarr',\n",
       "       's3://carbonplan-climatetrace/v1/42/26/2004/JJA_reflectance.zarr',\n",
       "       's3://carbonplan-climatetrace/v1/42/26/2005/JJA_reflectance.zarr',\n",
       "       's3://carbonplan-climatetrace/v1/42/26/2006/JJA_reflectance.zarr',\n",
       "       's3://carbonplan-climatetrace/v1/42/26/2007/JJA_reflectance.zarr',\n",
       "       's3://carbonplan-climatetrace/v1/42/26/2008/JJA_reflectance.zarr',\n",
       "       's3://carbonplan-climatetrace/v1/42/27/2003/JJA_reflectance.zarr',\n",
       "       's3://carbonplan-climatetrace/v1/42/27/2004/JJA_reflectance.zarr',\n",
       "       's3://carbonplan-climatetrace/v1/42/27/2005/JJA_reflectance.zarr',\n",
       "       's3://carbonplan-climatetrace/v1/42/27/2006/JJA_reflectance.zarr',\n",
       "       's3://carbonplan-climatetrace/v1/42/27/2007/JJA_reflectance.zarr',\n",
       "       's3://carbonplan-climatetrace/v1/42/27/2008/JJA_reflectance.zarr',\n",
       "       's3://carbonplan-climatetrace/v1/43/27/2003/JJA_reflectance.zarr',\n",
       "       's3://carbonplan-climatetrace/v1/43/27/2004/JJA_reflectance.zarr',\n",
       "       's3://carbonplan-climatetrace/v1/43/27/2005/JJA_reflectance.zarr',\n",
       "       's3://carbonplan-climatetrace/v1/43/27/2006/JJA_reflectance.zarr',\n",
       "       's3://carbonplan-climatetrace/v1/43/27/2007/JJA_reflectance.zarr',\n",
       "       's3://carbonplan-climatetrace/v1/43/27/2008/JJA_reflectance.zarr',\n",
       "       's3://carbonplan-climatetrace/v1/42/28/2003/JJA_reflectance.zarr',\n",
       "       's3://carbonplan-climatetrace/v1/42/28/2004/JJA_reflectance.zarr',\n",
       "       's3://carbonplan-climatetrace/v1/42/28/2005/JJA_reflectance.zarr',\n",
       "       's3://carbonplan-climatetrace/v1/42/28/2006/JJA_reflectance.zarr',\n",
       "       's3://carbonplan-climatetrace/v1/42/28/2007/JJA_reflectance.zarr',\n",
       "       's3://carbonplan-climatetrace/v1/42/28/2008/JJA_reflectance.zarr',\n",
       "       's3://carbonplan-climatetrace/v1/43/28/2003/JJA_reflectance.zarr',\n",
       "       's3://carbonplan-climatetrace/v1/43/28/2004/JJA_reflectance.zarr',\n",
       "       's3://carbonplan-climatetrace/v1/43/28/2005/JJA_reflectance.zarr',\n",
       "       's3://carbonplan-climatetrace/v1/43/28/2006/JJA_reflectance.zarr',\n",
       "       's3://carbonplan-climatetrace/v1/43/28/2007/JJA_reflectance.zarr',\n",
       "       's3://carbonplan-climatetrace/v1/43/28/2008/JJA_reflectance.zarr',\n",
       "       's3://carbonplan-climatetrace/v1/42/29/2003/JJA_reflectance.zarr',\n",
       "       's3://carbonplan-climatetrace/v1/42/29/2004/JJA_reflectance.zarr',\n",
       "       's3://carbonplan-climatetrace/v1/42/29/2005/JJA_reflectance.zarr',\n",
       "       's3://carbonplan-climatetrace/v1/42/29/2006/JJA_reflectance.zarr',\n",
       "       's3://carbonplan-climatetrace/v1/42/29/2007/JJA_reflectance.zarr',\n",
       "       's3://carbonplan-climatetrace/v1/42/29/2008/JJA_reflectance.zarr',\n",
       "       's3://carbonplan-climatetrace/v1/43/29/2003/JJA_reflectance.zarr',\n",
       "       's3://carbonplan-climatetrace/v1/43/29/2004/JJA_reflectance.zarr',\n",
       "       's3://carbonplan-climatetrace/v1/43/29/2005/JJA_reflectance.zarr',\n",
       "       's3://carbonplan-climatetrace/v1/43/29/2006/JJA_reflectance.zarr',\n",
       "       's3://carbonplan-climatetrace/v1/43/29/2007/JJA_reflectance.zarr',\n",
       "       's3://carbonplan-climatetrace/v1/43/29/2008/JJA_reflectance.zarr',\n",
       "       's3://carbonplan-climatetrace/v1/45/26/2003/JJA_reflectance.zarr',\n",
       "       's3://carbonplan-climatetrace/v1/45/26/2004/JJA_reflectance.zarr',\n",
       "       's3://carbonplan-climatetrace/v1/45/26/2005/JJA_reflectance.zarr',\n",
       "       's3://carbonplan-climatetrace/v1/45/26/2006/JJA_reflectance.zarr',\n",
       "       's3://carbonplan-climatetrace/v1/45/26/2007/JJA_reflectance.zarr',\n",
       "       's3://carbonplan-climatetrace/v1/45/26/2008/JJA_reflectance.zarr',\n",
       "       's3://carbonplan-climatetrace/v1/44/26/2003/JJA_reflectance.zarr',\n",
       "       's3://carbonplan-climatetrace/v1/44/26/2004/JJA_reflectance.zarr',\n",
       "       's3://carbonplan-climatetrace/v1/44/26/2005/JJA_reflectance.zarr',\n",
       "       's3://carbonplan-climatetrace/v1/44/26/2006/JJA_reflectance.zarr',\n",
       "       's3://carbonplan-climatetrace/v1/44/26/2007/JJA_reflectance.zarr',\n",
       "       's3://carbonplan-climatetrace/v1/44/26/2008/JJA_reflectance.zarr',\n",
       "       's3://carbonplan-climatetrace/v1/44/27/2003/JJA_reflectance.zarr',\n",
       "       's3://carbonplan-climatetrace/v1/44/27/2004/JJA_reflectance.zarr',\n",
       "       's3://carbonplan-climatetrace/v1/44/27/2005/JJA_reflectance.zarr',\n",
       "       's3://carbonplan-climatetrace/v1/44/27/2006/JJA_reflectance.zarr',\n",
       "       's3://carbonplan-climatetrace/v1/44/27/2007/JJA_reflectance.zarr',\n",
       "       's3://carbonplan-climatetrace/v1/44/27/2008/JJA_reflectance.zarr',\n",
       "       's3://carbonplan-climatetrace/v1/45/27/2003/JJA_reflectance.zarr',\n",
       "       's3://carbonplan-climatetrace/v1/45/27/2004/JJA_reflectance.zarr',\n",
       "       's3://carbonplan-climatetrace/v1/45/27/2005/JJA_reflectance.zarr',\n",
       "       's3://carbonplan-climatetrace/v1/45/27/2006/JJA_reflectance.zarr',\n",
       "       's3://carbonplan-climatetrace/v1/45/27/2007/JJA_reflectance.zarr',\n",
       "       's3://carbonplan-climatetrace/v1/45/27/2008/JJA_reflectance.zarr',\n",
       "       's3://carbonplan-climatetrace/v1/44/28/2003/JJA_reflectance.zarr',\n",
       "       's3://carbonplan-climatetrace/v1/44/28/2004/JJA_reflectance.zarr',\n",
       "       's3://carbonplan-climatetrace/v1/44/28/2005/JJA_reflectance.zarr',\n",
       "       's3://carbonplan-climatetrace/v1/44/28/2006/JJA_reflectance.zarr',\n",
       "       's3://carbonplan-climatetrace/v1/44/28/2007/JJA_reflectance.zarr',\n",
       "       's3://carbonplan-climatetrace/v1/44/28/2008/JJA_reflectance.zarr',\n",
       "       's3://carbonplan-climatetrace/v1/45/28/2003/JJA_reflectance.zarr',\n",
       "       's3://carbonplan-climatetrace/v1/45/28/2004/JJA_reflectance.zarr',\n",
       "       's3://carbonplan-climatetrace/v1/45/28/2005/JJA_reflectance.zarr',\n",
       "       's3://carbonplan-climatetrace/v1/45/28/2006/JJA_reflectance.zarr',\n",
       "       's3://carbonplan-climatetrace/v1/45/28/2007/JJA_reflectance.zarr',\n",
       "       's3://carbonplan-climatetrace/v1/45/28/2008/JJA_reflectance.zarr',\n",
       "       's3://carbonplan-climatetrace/v1/44/29/2003/JJA_reflectance.zarr',\n",
       "       's3://carbonplan-climatetrace/v1/44/29/2004/JJA_reflectance.zarr',\n",
       "       's3://carbonplan-climatetrace/v1/44/29/2005/JJA_reflectance.zarr',\n",
       "       's3://carbonplan-climatetrace/v1/44/29/2006/JJA_reflectance.zarr',\n",
       "       's3://carbonplan-climatetrace/v1/44/29/2007/JJA_reflectance.zarr',\n",
       "       's3://carbonplan-climatetrace/v1/44/29/2008/JJA_reflectance.zarr',\n",
       "       's3://carbonplan-climatetrace/v1/46/26/2004/JJA_reflectance.zarr'],\n",
       "      dtype=object)"
      ]
     },
     "execution_count": 38,
     "metadata": {},
     "output_type": "execute_result"
    }
   ],
   "source": [
    "unique_urls"
   ]
  },
  {
   "cell_type": "code",
   "execution_count": 66,
   "metadata": {},
   "outputs": [
    {
     "data": {
      "text/plain": [
       "{'paths': ['s3://carbonplan-climatetrace/v1/washington_biomass_landsat.parquet'],\n",
       " 'partitions_values': {}}"
      ]
     },
     "execution_count": 66,
     "metadata": {},
     "output_type": "execute_result"
    }
   ],
   "source": [
    "wr.s3.to_parquet(\n",
    "    df=washington_df, index=True,\n",
    "    path='s3://carbonplan-climatetrace/v1/washington_biomass_landsat.parquet', \n",
    "    boto3_session=boto3.Session(aws_access_key_id=access_key_id,\n",
    "                                          aws_secret_access_key=secret_access_key)\n",
    ")"
   ]
  },
  {
   "cell_type": "code",
   "execution_count": 67,
   "metadata": {},
   "outputs": [
    {
     "name": "stdout",
     "output_type": "stream",
     "text": [
      "s3://carbonplan-climatetrace/v1/45/29/2003/JJA_reflectance.zarr had no shots\n",
      "s3://carbonplan-climatetrace/v1/48/26/2003/JJA_reflectance.zarr had no shots\n",
      "s3://carbonplan-climatetrace/v1/48/27/2003/JJA_reflectance.zarr had no shots\n",
      "s3://carbonplan-climatetrace/v1/48/28/2003/JJA_reflectance.zarr had no shots\n",
      "s3://carbonplan-climatetrace/v1/48/29/2003/JJA_reflectance.zarr had no shots\n",
      "s3://carbonplan-climatetrace/v1/46/26/2003/JJA_reflectance.zarr had no shots\n",
      "s3://carbonplan-climatetrace/v1/46/27/2003/JJA_reflectance.zarr had no shots\n",
      "s3://carbonplan-climatetrace/v1/46/28/2003/JJA_reflectance.zarr had no shots\n",
      "s3://carbonplan-climatetrace/v1/46/29/2003/JJA_reflectance.zarr had no shots\n",
      "s3://carbonplan-climatetrace/v1/49/26/2003/JJA_reflectance.zarr had no shots\n",
      "s3://carbonplan-climatetrace/v1/49/27/2003/JJA_reflectance.zarr had no shots\n",
      "s3://carbonplan-climatetrace/v1/47/26/2003/JJA_reflectance.zarr had no shots\n",
      "s3://carbonplan-climatetrace/v1/47/27/2003/JJA_reflectance.zarr had no shots\n",
      "s3://carbonplan-climatetrace/v1/47/28/2003/JJA_reflectance.zarr had no shots\n",
      "s3://carbonplan-climatetrace/v1/47/29/2003/JJA_reflectance.zarr had no shots\n",
      "s3://carbonplan-climatetrace/v1/45/29/2004/JJA_reflectance.zarr had no shots\n",
      "s3://carbonplan-climatetrace/v1/48/26/2004/JJA_reflectance.zarr had no shots\n",
      "s3://carbonplan-climatetrace/v1/48/27/2004/JJA_reflectance.zarr had no shots\n",
      "s3://carbonplan-climatetrace/v1/48/28/2004/JJA_reflectance.zarr had no shots\n",
      "s3://carbonplan-climatetrace/v1/48/29/2004/JJA_reflectance.zarr had no shots\n",
      "s3://carbonplan-climatetrace/v1/46/27/2004/JJA_reflectance.zarr had no shots\n",
      "s3://carbonplan-climatetrace/v1/46/28/2004/JJA_reflectance.zarr had no shots\n",
      "s3://carbonplan-climatetrace/v1/46/29/2004/JJA_reflectance.zarr had no shots\n",
      "s3://carbonplan-climatetrace/v1/49/26/2004/JJA_reflectance.zarr had no shots\n",
      "s3://carbonplan-climatetrace/v1/49/27/2004/JJA_reflectance.zarr had no shots\n",
      "s3://carbonplan-climatetrace/v1/47/26/2004/JJA_reflectance.zarr had no shots\n",
      "s3://carbonplan-climatetrace/v1/47/27/2004/JJA_reflectance.zarr had no shots\n",
      "s3://carbonplan-climatetrace/v1/47/28/2004/JJA_reflectance.zarr had no shots\n",
      "s3://carbonplan-climatetrace/v1/47/29/2004/JJA_reflectance.zarr had no shots\n",
      "s3://carbonplan-climatetrace/v1/45/29/2005/JJA_reflectance.zarr had no shots\n",
      "s3://carbonplan-climatetrace/v1/48/26/2005/JJA_reflectance.zarr had no shots\n",
      "s3://carbonplan-climatetrace/v1/48/27/2005/JJA_reflectance.zarr had no shots\n",
      "s3://carbonplan-climatetrace/v1/48/28/2005/JJA_reflectance.zarr had no shots\n",
      "s3://carbonplan-climatetrace/v1/48/29/2005/JJA_reflectance.zarr had no shots\n",
      "s3://carbonplan-climatetrace/v1/46/26/2005/JJA_reflectance.zarr had no shots\n",
      "s3://carbonplan-climatetrace/v1/46/27/2005/JJA_reflectance.zarr had no shots\n",
      "s3://carbonplan-climatetrace/v1/46/28/2005/JJA_reflectance.zarr had no shots\n",
      "s3://carbonplan-climatetrace/v1/46/29/2005/JJA_reflectance.zarr had no shots\n",
      "s3://carbonplan-climatetrace/v1/49/26/2005/JJA_reflectance.zarr had no shots\n",
      "s3://carbonplan-climatetrace/v1/49/27/2005/JJA_reflectance.zarr had no shots\n",
      "s3://carbonplan-climatetrace/v1/47/26/2005/JJA_reflectance.zarr had no shots\n",
      "s3://carbonplan-climatetrace/v1/47/27/2005/JJA_reflectance.zarr had no shots\n",
      "s3://carbonplan-climatetrace/v1/47/28/2005/JJA_reflectance.zarr had no shots\n",
      "s3://carbonplan-climatetrace/v1/47/29/2005/JJA_reflectance.zarr had no shots\n",
      "s3://carbonplan-climatetrace/v1/45/29/2006/JJA_reflectance.zarr had no shots\n",
      "s3://carbonplan-climatetrace/v1/48/26/2006/JJA_reflectance.zarr had no shots\n",
      "s3://carbonplan-climatetrace/v1/48/27/2006/JJA_reflectance.zarr had no shots\n",
      "s3://carbonplan-climatetrace/v1/48/28/2006/JJA_reflectance.zarr had no shots\n",
      "s3://carbonplan-climatetrace/v1/48/29/2006/JJA_reflectance.zarr had no shots\n",
      "s3://carbonplan-climatetrace/v1/46/26/2006/JJA_reflectance.zarr had no shots\n",
      "s3://carbonplan-climatetrace/v1/46/27/2006/JJA_reflectance.zarr had no shots\n",
      "s3://carbonplan-climatetrace/v1/46/28/2006/JJA_reflectance.zarr had no shots\n",
      "s3://carbonplan-climatetrace/v1/46/29/2006/JJA_reflectance.zarr had no shots\n",
      "s3://carbonplan-climatetrace/v1/49/26/2006/JJA_reflectance.zarr had no shots\n",
      "s3://carbonplan-climatetrace/v1/49/27/2006/JJA_reflectance.zarr had no shots\n",
      "s3://carbonplan-climatetrace/v1/47/26/2006/JJA_reflectance.zarr had no shots\n",
      "s3://carbonplan-climatetrace/v1/47/27/2006/JJA_reflectance.zarr had no shots\n",
      "s3://carbonplan-climatetrace/v1/47/28/2006/JJA_reflectance.zarr had no shots\n",
      "s3://carbonplan-climatetrace/v1/47/29/2006/JJA_reflectance.zarr had no shots\n",
      "s3://carbonplan-climatetrace/v1/45/29/2007/JJA_reflectance.zarr had no shots\n",
      "s3://carbonplan-climatetrace/v1/48/26/2007/JJA_reflectance.zarr had no shots\n",
      "s3://carbonplan-climatetrace/v1/48/27/2007/JJA_reflectance.zarr had no shots\n",
      "s3://carbonplan-climatetrace/v1/48/28/2007/JJA_reflectance.zarr had no shots\n",
      "s3://carbonplan-climatetrace/v1/48/29/2007/JJA_reflectance.zarr had no shots\n",
      "s3://carbonplan-climatetrace/v1/46/26/2007/JJA_reflectance.zarr had no shots\n",
      "s3://carbonplan-climatetrace/v1/46/27/2007/JJA_reflectance.zarr had no shots\n",
      "s3://carbonplan-climatetrace/v1/46/28/2007/JJA_reflectance.zarr had no shots\n",
      "s3://carbonplan-climatetrace/v1/46/29/2007/JJA_reflectance.zarr had no shots\n",
      "s3://carbonplan-climatetrace/v1/49/26/2007/JJA_reflectance.zarr had no shots\n",
      "s3://carbonplan-climatetrace/v1/49/27/2007/JJA_reflectance.zarr had no shots\n",
      "s3://carbonplan-climatetrace/v1/47/26/2007/JJA_reflectance.zarr had no shots\n",
      "s3://carbonplan-climatetrace/v1/47/27/2007/JJA_reflectance.zarr had no shots\n",
      "s3://carbonplan-climatetrace/v1/47/28/2007/JJA_reflectance.zarr had no shots\n",
      "s3://carbonplan-climatetrace/v1/47/29/2007/JJA_reflectance.zarr had no shots\n",
      "s3://carbonplan-climatetrace/v1/45/29/2008/JJA_reflectance.zarr had no shots\n",
      "s3://carbonplan-climatetrace/v1/48/26/2008/JJA_reflectance.zarr had no shots\n",
      "s3://carbonplan-climatetrace/v1/48/27/2008/JJA_reflectance.zarr had no shots\n",
      "s3://carbonplan-climatetrace/v1/48/28/2008/JJA_reflectance.zarr had no shots\n",
      "s3://carbonplan-climatetrace/v1/48/29/2008/JJA_reflectance.zarr had no shots\n",
      "s3://carbonplan-climatetrace/v1/46/26/2008/JJA_reflectance.zarr had no shots\n",
      "s3://carbonplan-climatetrace/v1/46/27/2008/JJA_reflectance.zarr had no shots\n",
      "s3://carbonplan-climatetrace/v1/46/28/2008/JJA_reflectance.zarr had no shots\n",
      "s3://carbonplan-climatetrace/v1/46/29/2008/JJA_reflectance.zarr had no shots\n",
      "s3://carbonplan-climatetrace/v1/49/26/2008/JJA_reflectance.zarr had no shots\n",
      "s3://carbonplan-climatetrace/v1/49/27/2008/JJA_reflectance.zarr had no shots\n",
      "s3://carbonplan-climatetrace/v1/47/26/2008/JJA_reflectance.zarr had no shots\n",
      "s3://carbonplan-climatetrace/v1/47/27/2008/JJA_reflectance.zarr had no shots\n",
      "s3://carbonplan-climatetrace/v1/47/28/2008/JJA_reflectance.zarr had no shots\n",
      "s3://carbonplan-climatetrace/v1/47/29/2008/JJA_reflectance.zarr had no shots\n"
     ]
    },
    {
     "data": {
      "text/plain": [
       "{'paths': ['s3://carbonplan-climatetrace/v1/washington_biomass_landsat.parquet'],\n",
       " 'partitions_values': {}}"
      ]
     },
     "execution_count": 67,
     "metadata": {},
     "output_type": "execute_result"
    }
   ],
   "source": [
    "washington_dfs = []\n",
    "# group the biomass shots according to the scene they overlap\n",
    "groupby = linked_gdf.groupby('url')\n",
    "for year in np.arange(2003,2009):\n",
    "    for (i, (path, row)) in washington_scenes[['PATH', 'ROW']].iterrows():\n",
    "        for season in ['JJA']:\n",
    "            url = f'{bucket}{path}/{row}/{year}/{season}_reflectance.zarr'\n",
    "            try:\n",
    "                shots_one_scene = groupby.get_group(url)\n",
    "                ds = xr.open_zarr(fs.get_mapper(url)).drop('spatial_ref').reflectance.to_dataset(dim='band')\n",
    "                washington_dfs.append(create_combined_landsat_biomass_df(ds, shots_one_scene))\n",
    "            except:\n",
    "                print('{} had no shots'.format(url))\n",
    "washington_df = pd.concat(washington_dfs)\n",
    "wr.s3.to_parquet(\n",
    "    df=washington_df, index=True,\n",
    "    path='s3://carbonplan-climatetrace/v1/washington_biomass_landsat.parquet', \n",
    "    boto3_session=boto3.Session(aws_access_key_id=access_key_id,\n",
    "                                          aws_secret_access_key=secret_access_key)\n",
    ")"
   ]
  },
  {
   "cell_type": "code",
   "execution_count": null,
   "metadata": {},
   "outputs": [],
   "source": []
  },
  {
   "cell_type": "code",
   "execution_count": 76,
   "metadata": {},
   "outputs": [
    {
     "data": {
      "text/plain": [
       "<AxesSubplot:xlabel='record_index,shot_number'>"
      ]
     },
     "execution_count": 76,
     "metadata": {},
     "output_type": "execute_result"
    },
    {
     "data": {
      "image/png": "[encoded data removed]",
      "text/plain": [
       "<Figure size 432x288 with 1 Axes>"
      ]
     },
     "metadata": {
      "needs_background": "light"
     },
     "output_type": "display_data"
    }
   ],
   "source": [
    "washington_df['SR_B4'].plot()"
   ]
  },
  {
   "cell_type": "code",
   "execution_count": 175,
   "metadata": {},
   "outputs": [],
   "source": [
    "with rio.Env(aws_session):\n",
    "    test_ds = rioxarray.open_rasterio('s3://usgs-landsat/collection02/level-2/standard/'+\\\n",
    "                            'tm/2003/045/028/LT05_L2SP_045028_20030106_20200905_02_T1/'+\\\n",
    "                            'LT05_L2SP_045028_20030106_20200905_02_T1_SR_B2.TIF')"
   ]
  },
  {
   "cell_type": "code",
   "execution_count": 192,
   "metadata": {},
   "outputs": [
    {
     "data": {
      "text/plain": [
       "array([548700., 548730., 548760., ..., 785940., 785970., 786000.])"
      ]
     },
     "execution_count": 192,
     "metadata": {},
     "output_type": "execute_result"
    }
   ],
   "source": [
    "test_ds.isel(band=0).x.values"
   ]
  },
  {
   "cell_type": "code",
   "execution_count": 174,
   "metadata": {},
   "outputs": [
    {
     "data": {
      "text/plain": [
       "['usgs-landsat/collection02/level-2/standard/tm/2003/045/028/LT05_L2SP_045028_20030106_20200905_02_T1',\n",
       " 'usgs-landsat/collection02/level-2/standard/tm/2003/045/028/LT05_L2SP_045028_20030122_20200905_02_T2',\n",
       " 'usgs-landsat/collection02/level-2/standard/tm/2003/045/028/LT05_L2SP_045028_20030207_20200905_02_T1',\n",
       " 'usgs-landsat/collection02/level-2/standard/tm/2003/045/028/LT05_L2SP_045028_20030223_20200904_02_T1',\n",
       " 'usgs-landsat/collection02/level-2/standard/tm/2003/045/028/LT05_L2SP_045028_20030311_20200904_02_T1',\n",
       " 'usgs-landsat/collection02/level-2/standard/tm/2003/045/028/LT05_L2SP_045028_20030327_20200905_02_T1',\n",
       " 'usgs-landsat/collection02/level-2/standard/tm/2003/045/028/LT05_L2SP_045028_20030412_20200905_02_T1',\n",
       " 'usgs-landsat/collection02/level-2/standard/tm/2003/045/028/LT05_L2SP_045028_20030428_20200905_02_T1',\n",
       " 'usgs-landsat/collection02/level-2/standard/tm/2003/045/028/LT05_L2SP_045028_20030514_20200905_02_T1',\n",
       " 'usgs-landsat/collection02/level-2/standard/tm/2003/045/028/LT05_L2SP_045028_20030530_20200904_02_T2',\n",
       " 'usgs-landsat/collection02/level-2/standard/tm/2003/045/028/LT05_L2SP_045028_20030615_20200905_02_T1',\n",
       " 'usgs-landsat/collection02/level-2/standard/tm/2003/045/028/LT05_L2SP_045028_20030701_20200904_02_T1',\n",
       " 'usgs-landsat/collection02/level-2/standard/tm/2003/045/028/LT05_L2SP_045028_20030717_20200905_02_T1',\n",
       " 'usgs-landsat/collection02/level-2/standard/tm/2003/045/028/LT05_L2SP_045028_20030802_20200904_02_T1',\n",
       " 'usgs-landsat/collection02/level-2/standard/tm/2003/045/028/LT05_L2SP_045028_20030818_20200904_02_T1',\n",
       " 'usgs-landsat/collection02/level-2/standard/tm/2003/045/028/LT05_L2SP_045028_20030903_20200904_02_T1',\n",
       " 'usgs-landsat/collection02/level-2/standard/tm/2003/045/028/LT05_L2SP_045028_20030919_20200904_02_T1',\n",
       " 'usgs-landsat/collection02/level-2/standard/tm/2003/045/028/LT05_L2SP_045028_20031005_20200904_02_T1',\n",
       " 'usgs-landsat/collection02/level-2/standard/tm/2003/045/028/LT05_L2SP_045028_20031021_20200904_02_T1',\n",
       " 'usgs-landsat/collection02/level-2/standard/tm/2003/045/028/LT05_L2SP_045028_20031106_20200904_02_T1',\n",
       " 'usgs-landsat/collection02/level-2/standard/tm/2003/045/028/LT05_L2SP_045028_20031122_20200904_02_T1',\n",
       " 'usgs-landsat/collection02/level-2/standard/tm/2003/045/028/LT05_L2SP_045028_20031208_20200904_02_T1',\n",
       " 'usgs-landsat/collection02/level-2/standard/tm/2003/045/028/LT05_L2SP_045028_20031224_20200904_02_T1',\n",
       " 'usgs-landsat/collection02/level-2/standard/tm/2003/045/028/catalog.json']"
      ]
     },
     "execution_count": 174,
     "metadata": {},
     "output_type": "execute_result"
    }
   ],
   "source": [
    "landsat_bucket = 's3://usgs-landsat/collection02/level-2/standard/tm/{}/{:03d}/{:03d}/'\n",
    "fs.ls(landsat_bucket.format(2003, 45, 28))"
   ]
  },
  {
   "cell_type": "code",
   "execution_count": null,
   "metadata": {},
   "outputs": [],
   "source": [
    "s3 = boto3.client('s3')\n",
    "object = s3.get_object(Bucket='mytestbucket',Key='EmpId007')\n",
    "serializedObject = object['Body'].read()\n",
    "\n",
    "myData = json.loads(serializedObject)"
   ]
  },
  {
   "cell_type": "code",
   "execution_count": 198,
   "metadata": {},
   "outputs": [
    {
     "ename": "JSONDecodeError",
     "evalue": "Expecting value: line 1 column 1 (char 0)",
     "output_type": "error",
     "traceback": [
      "\u001b[0;31m---------------------------------------------------------------------------\u001b[0m",
      "\u001b[0;31mJSONDecodeError\u001b[0m                           Traceback (most recent call last)",
      "\u001b[0;32m<ipython-input-198-aa2b6d13ce12>\u001b[0m in \u001b[0;36m<module>\u001b[0;34m\u001b[0m\n\u001b[1;32m      1\u001b[0m \u001b[0msample_url\u001b[0m \u001b[0;34m=\u001b[0m \u001b[0;34m's3://usgs-landsat/collection02/level-2/standard/tm/2003/045/028/'\u001b[0m\u001b[0;31m\\\u001b[0m\u001b[0;34m\u001b[0m\u001b[0;34m\u001b[0m\u001b[0m\n\u001b[1;32m      2\u001b[0m     \u001b[0;34m'LT05_L2SP_045028_20030106_20200905_02_T1/LT05_L2SP_045028_20030106_20200905_02_T1_MTL.json'\u001b[0m\u001b[0;34m\u001b[0m\u001b[0;34m\u001b[0m\u001b[0m\n\u001b[0;32m----> 3\u001b[0;31m \u001b[0mfs\u001b[0m\u001b[0;34m.\u001b[0m\u001b[0mfrom_json\u001b[0m\u001b[0;34m(\u001b[0m\u001b[0msample_url\u001b[0m\u001b[0;34m[\u001b[0m\u001b[0;36m0\u001b[0m\u001b[0;34m]\u001b[0m\u001b[0;34m)\u001b[0m\u001b[0;34m\u001b[0m\u001b[0;34m\u001b[0m\u001b[0m\n\u001b[0m",
      "\u001b[0;32m/srv/conda/envs/notebook/lib/python3.8/site-packages/fsspec/spec.py\u001b[0m in \u001b[0;36mfrom_json\u001b[0;34m(blob)\u001b[0m\n\u001b[1;32m   1059\u001b[0m         \u001b[0;32mfrom\u001b[0m \u001b[0;34m.\u001b[0m\u001b[0mregistry\u001b[0m \u001b[0;32mimport\u001b[0m \u001b[0m_import_class\u001b[0m\u001b[0;34m,\u001b[0m \u001b[0mget_filesystem_class\u001b[0m\u001b[0;34m\u001b[0m\u001b[0;34m\u001b[0m\u001b[0m\n\u001b[1;32m   1060\u001b[0m \u001b[0;34m\u001b[0m\u001b[0m\n\u001b[0;32m-> 1061\u001b[0;31m         \u001b[0mdic\u001b[0m \u001b[0;34m=\u001b[0m \u001b[0mjson\u001b[0m\u001b[0;34m.\u001b[0m\u001b[0mloads\u001b[0m\u001b[0;34m(\u001b[0m\u001b[0mblob\u001b[0m\u001b[0;34m)\u001b[0m\u001b[0;34m\u001b[0m\u001b[0;34m\u001b[0m\u001b[0m\n\u001b[0m\u001b[1;32m   1062\u001b[0m         \u001b[0mprotocol\u001b[0m \u001b[0;34m=\u001b[0m \u001b[0mdic\u001b[0m\u001b[0;34m.\u001b[0m\u001b[0mpop\u001b[0m\u001b[0;34m(\u001b[0m\u001b[0;34m\"protocol\"\u001b[0m\u001b[0;34m)\u001b[0m\u001b[0;34m\u001b[0m\u001b[0;34m\u001b[0m\u001b[0m\n\u001b[1;32m   1063\u001b[0m         \u001b[0;32mtry\u001b[0m\u001b[0;34m:\u001b[0m\u001b[0;34m\u001b[0m\u001b[0;34m\u001b[0m\u001b[0m\n",
      "\u001b[0;32m/srv/conda/envs/notebook/lib/python3.8/json/__init__.py\u001b[0m in \u001b[0;36mloads\u001b[0;34m(s, cls, object_hook, parse_float, parse_int, parse_constant, object_pairs_hook, **kw)\u001b[0m\n\u001b[1;32m    355\u001b[0m             \u001b[0mparse_int\u001b[0m \u001b[0;32mis\u001b[0m \u001b[0;32mNone\u001b[0m \u001b[0;32mand\u001b[0m \u001b[0mparse_float\u001b[0m \u001b[0;32mis\u001b[0m \u001b[0;32mNone\u001b[0m \u001b[0;32mand\u001b[0m\u001b[0;34m\u001b[0m\u001b[0;34m\u001b[0m\u001b[0m\n\u001b[1;32m    356\u001b[0m             parse_constant is None and object_pairs_hook is None and not kw):\n\u001b[0;32m--> 357\u001b[0;31m         \u001b[0;32mreturn\u001b[0m \u001b[0m_default_decoder\u001b[0m\u001b[0;34m.\u001b[0m\u001b[0mdecode\u001b[0m\u001b[0;34m(\u001b[0m\u001b[0ms\u001b[0m\u001b[0;34m)\u001b[0m\u001b[0;34m\u001b[0m\u001b[0;34m\u001b[0m\u001b[0m\n\u001b[0m\u001b[1;32m    358\u001b[0m     \u001b[0;32mif\u001b[0m \u001b[0mcls\u001b[0m \u001b[0;32mis\u001b[0m \u001b[0;32mNone\u001b[0m\u001b[0;34m:\u001b[0m\u001b[0;34m\u001b[0m\u001b[0;34m\u001b[0m\u001b[0m\n\u001b[1;32m    359\u001b[0m         \u001b[0mcls\u001b[0m \u001b[0;34m=\u001b[0m \u001b[0mJSONDecoder\u001b[0m\u001b[0;34m\u001b[0m\u001b[0;34m\u001b[0m\u001b[0m\n",
      "\u001b[0;32m/srv/conda/envs/notebook/lib/python3.8/json/decoder.py\u001b[0m in \u001b[0;36mdecode\u001b[0;34m(self, s, _w)\u001b[0m\n\u001b[1;32m    335\u001b[0m \u001b[0;34m\u001b[0m\u001b[0m\n\u001b[1;32m    336\u001b[0m         \"\"\"\n\u001b[0;32m--> 337\u001b[0;31m         \u001b[0mobj\u001b[0m\u001b[0;34m,\u001b[0m \u001b[0mend\u001b[0m \u001b[0;34m=\u001b[0m \u001b[0mself\u001b[0m\u001b[0;34m.\u001b[0m\u001b[0mraw_decode\u001b[0m\u001b[0;34m(\u001b[0m\u001b[0ms\u001b[0m\u001b[0;34m,\u001b[0m \u001b[0midx\u001b[0m\u001b[0;34m=\u001b[0m\u001b[0m_w\u001b[0m\u001b[0;34m(\u001b[0m\u001b[0ms\u001b[0m\u001b[0;34m,\u001b[0m \u001b[0;36m0\u001b[0m\u001b[0;34m)\u001b[0m\u001b[0;34m.\u001b[0m\u001b[0mend\u001b[0m\u001b[0;34m(\u001b[0m\u001b[0;34m)\u001b[0m\u001b[0;34m)\u001b[0m\u001b[0;34m\u001b[0m\u001b[0;34m\u001b[0m\u001b[0m\n\u001b[0m\u001b[1;32m    338\u001b[0m         \u001b[0mend\u001b[0m \u001b[0;34m=\u001b[0m \u001b[0m_w\u001b[0m\u001b[0;34m(\u001b[0m\u001b[0ms\u001b[0m\u001b[0;34m,\u001b[0m \u001b[0mend\u001b[0m\u001b[0;34m)\u001b[0m\u001b[0;34m.\u001b[0m\u001b[0mend\u001b[0m\u001b[0;34m(\u001b[0m\u001b[0;34m)\u001b[0m\u001b[0;34m\u001b[0m\u001b[0;34m\u001b[0m\u001b[0m\n\u001b[1;32m    339\u001b[0m         \u001b[0;32mif\u001b[0m \u001b[0mend\u001b[0m \u001b[0;34m!=\u001b[0m \u001b[0mlen\u001b[0m\u001b[0;34m(\u001b[0m\u001b[0ms\u001b[0m\u001b[0;34m)\u001b[0m\u001b[0;34m:\u001b[0m\u001b[0;34m\u001b[0m\u001b[0;34m\u001b[0m\u001b[0m\n",
      "\u001b[0;32m/srv/conda/envs/notebook/lib/python3.8/json/decoder.py\u001b[0m in \u001b[0;36mraw_decode\u001b[0;34m(self, s, idx)\u001b[0m\n\u001b[1;32m    353\u001b[0m             \u001b[0mobj\u001b[0m\u001b[0;34m,\u001b[0m \u001b[0mend\u001b[0m \u001b[0;34m=\u001b[0m \u001b[0mself\u001b[0m\u001b[0;34m.\u001b[0m\u001b[0mscan_once\u001b[0m\u001b[0;34m(\u001b[0m\u001b[0ms\u001b[0m\u001b[0;34m,\u001b[0m \u001b[0midx\u001b[0m\u001b[0;34m)\u001b[0m\u001b[0;34m\u001b[0m\u001b[0;34m\u001b[0m\u001b[0m\n\u001b[1;32m    354\u001b[0m         \u001b[0;32mexcept\u001b[0m \u001b[0mStopIteration\u001b[0m \u001b[0;32mas\u001b[0m \u001b[0merr\u001b[0m\u001b[0;34m:\u001b[0m\u001b[0;34m\u001b[0m\u001b[0;34m\u001b[0m\u001b[0m\n\u001b[0;32m--> 355\u001b[0;31m             \u001b[0;32mraise\u001b[0m \u001b[0mJSONDecodeError\u001b[0m\u001b[0;34m(\u001b[0m\u001b[0;34m\"Expecting value\"\u001b[0m\u001b[0;34m,\u001b[0m \u001b[0ms\u001b[0m\u001b[0;34m,\u001b[0m \u001b[0merr\u001b[0m\u001b[0;34m.\u001b[0m\u001b[0mvalue\u001b[0m\u001b[0;34m)\u001b[0m \u001b[0;32mfrom\u001b[0m \u001b[0;32mNone\u001b[0m\u001b[0;34m\u001b[0m\u001b[0;34m\u001b[0m\u001b[0m\n\u001b[0m\u001b[1;32m    356\u001b[0m         \u001b[0;32mreturn\u001b[0m \u001b[0mobj\u001b[0m\u001b[0;34m,\u001b[0m \u001b[0mend\u001b[0m\u001b[0;34m\u001b[0m\u001b[0;34m\u001b[0m\u001b[0m\n",
      "\u001b[0;31mJSONDecodeError\u001b[0m: Expecting value: line 1 column 1 (char 0)"
     ]
    }
   ],
   "source": [
    "sample_url = 's3://usgs-landsat/collection02/level-2/standard/tm/2003/045/028/'\\\n",
    "    'LT05_L2SP_045028_20030106_20200905_02_T1/LT05_L2SP_045028_20030106_20200905_02_T1_MTL.json'\n",
    "fs.from_json(sample_url)"
   ]
  },
  {
   "cell_type": "code",
   "execution_count": 193,
   "metadata": {},
   "outputs": [
    {
     "ename": "TypeError",
     "evalue": "from_json() takes 1 positional argument but 2 were given",
     "output_type": "error",
     "traceback": [
      "\u001b[0;31m---------------------------------------------------------------------------\u001b[0m",
      "\u001b[0;31mTypeError\u001b[0m                                 Traceback (most recent call last)",
      "\u001b[0;32m<ipython-input-193-5be1180e6220>\u001b[0m in \u001b[0;36m<module>\u001b[0;34m\u001b[0m\n\u001b[1;32m      2\u001b[0m     \u001b[0;34m'LT05_L2SP_045028_20030106_20200905_02_T1/LT05_L2SP_045028_20030106_20200905_02_T1_MTL.txt'\u001b[0m\u001b[0;34m\u001b[0m\u001b[0;34m\u001b[0m\u001b[0m\n\u001b[1;32m      3\u001b[0m \u001b[0;34m\u001b[0m\u001b[0m\n\u001b[0;32m----> 4\u001b[0;31m \u001b[0;32mwith\u001b[0m \u001b[0mfs\u001b[0m\u001b[0;34m.\u001b[0m\u001b[0mfrom_json\u001b[0m\u001b[0;34m(\u001b[0m\u001b[0msample_url\u001b[0m\u001b[0;34m,\u001b[0m \u001b[0;34m'rb'\u001b[0m\u001b[0;34m)\u001b[0m \u001b[0;32mas\u001b[0m \u001b[0mf\u001b[0m\u001b[0;34m:\u001b[0m\u001b[0;34m\u001b[0m\u001b[0;34m\u001b[0m\u001b[0m\n\u001b[0m\u001b[1;32m      5\u001b[0m     \u001b[0mprint\u001b[0m\u001b[0;34m(\u001b[0m\u001b[0mf\u001b[0m\u001b[0;34m.\u001b[0m\u001b[0mread\u001b[0m\u001b[0;34m(\u001b[0m\u001b[0;34m)\u001b[0m\u001b[0;34m)\u001b[0m\u001b[0;34m\u001b[0m\u001b[0;34m\u001b[0m\u001b[0m\n",
      "\u001b[0;31mTypeError\u001b[0m: from_json() takes 1 positional argument but 2 were given"
     ]
    }
   ],
   "source": [
    "sample_url = 's3://usgs-landsat/collection02/level-2/standard/tm/2003/045/028/'\\\n",
    "    'LT05_L2SP_045028_20030106_20200905_02_T1/LT05_L2SP_045028_20030106_20200905_02_T1_MTL.txt'\n",
    "\n",
    "with fs.from_json(sample_url, 'rb') as f:\n",
    "    print(f.read())"
   ]
  },
  {
   "cell_type": "code",
   "execution_count": 162,
   "metadata": {},
   "outputs": [
    {
     "name": "stderr",
     "output_type": "stream",
     "text": [
      "/srv/conda/envs/notebook/lib/python3.8/site-packages/geopandas/geodataframe.py:1299: UserWarning: Boolean Series key will be reindexed to match DataFrame index.\n",
      "  result = super(GeoDataFrame, self).__getitem__(key)\n"
     ]
    },
    {
     "data": {
      "text/plain": [
       "<AxesSubplot:>"
      ]
     },
     "execution_count": 162,
     "metadata": {},
     "output_type": "execute_result"
    },
    {
     "data": {
      "image/png": "[encoded data removed]",
      "text/plain": [
       "<Figure size 432x288 with 1 Axes>"
      ]
     },
     "metadata": {
      "needs_background": "light"
     },
     "output_type": "display_data"
    }
   ],
   "source": [
    "gdf[gdf['PATH']==45][gdf['ROW']==28].plot()"
   ]
  },
  {
   "cell_type": "code",
   "execution_count": 158,
   "metadata": {},
   "outputs": [
    {
     "data": {
      "text/plain": [
       "<matplotlib.collections.QuadMesh at 0x7fd8d52c7c40>"
      ]
     },
     "execution_count": 158,
     "metadata": {},
     "output_type": "execute_result"
    },
    {
     "data": {
      "image/png": "[encoded data removed]",
      "text/plain": [
       "<Figure size 432x288 with 2 Axes>"
      ]
     },
     "metadata": {
      "needs_background": "light"
     },
     "output_type": "display_data"
    }
   ],
   "source": [
    "ds.SR_B1.plot()"
   ]
  },
  {
   "cell_type": "code",
   "execution_count": 81,
   "metadata": {},
   "outputs": [],
   "source": [
    "sample_url = 's3://carbonplan-climatetrace/v1/44/29/2003/JJA_reflectance.zarr'\n",
    "ds = xr.open_zarr(fs.get_mapper(sample_url)).drop('spatial_ref').reflectance.to_dataset(dim='band')\n",
    "ds = ds.\n",
    "# ds['SR_B3'].plot()"
   ]
  },
  {
   "cell_type": "code",
   "execution_count": null,
   "metadata": {},
   "outputs": [],
   "source": []
  },
  {
   "cell_type": "code",
   "execution_count": null,
   "metadata": {},
   "outputs": [],
   "source": [
    "dfasdf"
   ]
  },
  {
   "cell_type": "code",
   "execution_count": 105,
   "metadata": {},
   "outputs": [],
   "source": [
    "selected_landsat = ds.sel(x=xr.DataArray(shots_one_scene['proj_x'].values, dims='shot'), \n",
    "      y=xr.DataArray(shots_one_scene['proj_y'].values, dims='shot'),\n",
    "      method='nearest').to_dataframe().drop(['x', 'y'], axis=1)\n",
    "selected_landsat.index = shots_one_scene.index"
   ]
  },
  {
   "cell_type": "code",
   "execution_count": 108,
   "metadata": {},
   "outputs": [
    {
     "data": {
      "text/html": [
       "<div>\n",
       "<style scoped>\n",
       "    .dataframe tbody tr th:only-of-type {\n",
       "        vertical-align: middle;\n",
       "    }\n",
       "\n",
       "    .dataframe tbody tr th {\n",
       "        vertical-align: top;\n",
       "    }\n",
       "\n",
       "    .dataframe thead th {\n",
       "        text-align: right;\n",
       "    }\n",
       "</style>\n",
       "<table border=\"1\" class=\"dataframe\">\n",
       "  <thead>\n",
       "    <tr style=\"text-align: right;\">\n",
       "      <th></th>\n",
       "      <th></th>\n",
       "      <th>MeanH</th>\n",
       "      <th>QMCH</th>\n",
       "      <th>VH</th>\n",
       "      <th>biomass</th>\n",
       "      <th>burned</th>\n",
       "      <th>ecoregion</th>\n",
       "      <th>eosd</th>\n",
       "      <th>f_slope</th>\n",
       "      <th>glas_elev</th>\n",
       "      <th>h25_Neigh</th>\n",
       "      <th>...</th>\n",
       "      <th>utm_zone</th>\n",
       "      <th>utm_letter</th>\n",
       "      <th>year</th>\n",
       "      <th>url</th>\n",
       "      <th>SR_B1</th>\n",
       "      <th>SR_B2</th>\n",
       "      <th>SR_B3</th>\n",
       "      <th>SR_B4</th>\n",
       "      <th>SR_B5</th>\n",
       "      <th>SR_B7</th>\n",
       "    </tr>\n",
       "    <tr>\n",
       "      <th>record_index</th>\n",
       "      <th>shot_number</th>\n",
       "      <th></th>\n",
       "      <th></th>\n",
       "      <th></th>\n",
       "      <th></th>\n",
       "      <th></th>\n",
       "      <th></th>\n",
       "      <th></th>\n",
       "      <th></th>\n",
       "      <th></th>\n",
       "      <th></th>\n",
       "      <th></th>\n",
       "      <th></th>\n",
       "      <th></th>\n",
       "      <th></th>\n",
       "      <th></th>\n",
       "      <th></th>\n",
       "      <th></th>\n",
       "      <th></th>\n",
       "      <th></th>\n",
       "      <th></th>\n",
       "      <th></th>\n",
       "    </tr>\n",
       "  </thead>\n",
       "  <tbody>\n",
       "    <tr>\n",
       "      <th>122322521</th>\n",
       "      <th>40</th>\n",
       "      <td>8.176169</td>\n",
       "      <td>8.176155</td>\n",
       "      <td>19.682</td>\n",
       "      <td>0.000000</td>\n",
       "      <td>0.0</td>\n",
       "      <td>348.0</td>\n",
       "      <td>NaN</td>\n",
       "      <td>1.028316</td>\n",
       "      <td>1566.696</td>\n",
       "      <td>4.737095</td>\n",
       "      <td>...</td>\n",
       "      <td>11</td>\n",
       "      <td>T</td>\n",
       "      <td>2003</td>\n",
       "      <td>s3://carbonplan-climatetrace/v1/44/29/2003/JJA...</td>\n",
       "      <td>9551.800000</td>\n",
       "      <td>10304.600000</td>\n",
       "      <td>10915.600000</td>\n",
       "      <td>13380.600000</td>\n",
       "      <td>15999.000000</td>\n",
       "      <td>14202.400000</td>\n",
       "    </tr>\n",
       "    <tr>\n",
       "      <th rowspan=\"4\" valign=\"top\">122322526</th>\n",
       "      <th>3</th>\n",
       "      <td>1.831306</td>\n",
       "      <td>1.831305</td>\n",
       "      <td>6.880</td>\n",
       "      <td>0.000000</td>\n",
       "      <td>0.0</td>\n",
       "      <td>348.0</td>\n",
       "      <td>NaN</td>\n",
       "      <td>0.792156</td>\n",
       "      <td>1583.293</td>\n",
       "      <td>-1.056887</td>\n",
       "      <td>...</td>\n",
       "      <td>11</td>\n",
       "      <td>T</td>\n",
       "      <td>2003</td>\n",
       "      <td>s3://carbonplan-climatetrace/v1/44/29/2003/JJA...</td>\n",
       "      <td>9507.000000</td>\n",
       "      <td>10332.200000</td>\n",
       "      <td>10892.000000</td>\n",
       "      <td>13379.000000</td>\n",
       "      <td>15908.800000</td>\n",
       "      <td>14173.400000</td>\n",
       "    </tr>\n",
       "    <tr>\n",
       "      <th>7</th>\n",
       "      <td>5.756794</td>\n",
       "      <td>5.756781</td>\n",
       "      <td>18.854</td>\n",
       "      <td>0.000000</td>\n",
       "      <td>0.0</td>\n",
       "      <td>348.0</td>\n",
       "      <td>NaN</td>\n",
       "      <td>0.692944</td>\n",
       "      <td>1528.847</td>\n",
       "      <td>0.356415</td>\n",
       "      <td>...</td>\n",
       "      <td>11</td>\n",
       "      <td>T</td>\n",
       "      <td>2003</td>\n",
       "      <td>s3://carbonplan-climatetrace/v1/44/29/2003/JJA...</td>\n",
       "      <td>9271.333333</td>\n",
       "      <td>9950.833333</td>\n",
       "      <td>10362.666667</td>\n",
       "      <td>13094.333333</td>\n",
       "      <td>15044.500000</td>\n",
       "      <td>13312.666667</td>\n",
       "    </tr>\n",
       "    <tr>\n",
       "      <th>17</th>\n",
       "      <td>3.429633</td>\n",
       "      <td>3.429627</td>\n",
       "      <td>13.468</td>\n",
       "      <td>0.000000</td>\n",
       "      <td>0.0</td>\n",
       "      <td>348.0</td>\n",
       "      <td>NaN</td>\n",
       "      <td>0.688523</td>\n",
       "      <td>1472.855</td>\n",
       "      <td>-1.398679</td>\n",
       "      <td>...</td>\n",
       "      <td>11</td>\n",
       "      <td>T</td>\n",
       "      <td>2003</td>\n",
       "      <td>s3://carbonplan-climatetrace/v1/44/29/2003/JJA...</td>\n",
       "      <td>9650.666667</td>\n",
       "      <td>10402.833333</td>\n",
       "      <td>11020.000000</td>\n",
       "      <td>13184.666667</td>\n",
       "      <td>15216.666667</td>\n",
       "      <td>13974.166667</td>\n",
       "    </tr>\n",
       "    <tr>\n",
       "      <th>18</th>\n",
       "      <td>4.677802</td>\n",
       "      <td>4.677794</td>\n",
       "      <td>14.592</td>\n",
       "      <td>0.000000</td>\n",
       "      <td>0.0</td>\n",
       "      <td>348.0</td>\n",
       "      <td>NaN</td>\n",
       "      <td>0.778390</td>\n",
       "      <td>1475.755</td>\n",
       "      <td>-0.949066</td>\n",
       "      <td>...</td>\n",
       "      <td>11</td>\n",
       "      <td>T</td>\n",
       "      <td>2003</td>\n",
       "      <td>s3://carbonplan-climatetrace/v1/44/29/2003/JJA...</td>\n",
       "      <td>9706.333333</td>\n",
       "      <td>10488.833333</td>\n",
       "      <td>11130.333333</td>\n",
       "      <td>13338.000000</td>\n",
       "      <td>15218.166667</td>\n",
       "      <td>13938.833333</td>\n",
       "    </tr>\n",
       "    <tr>\n",
       "      <th>...</th>\n",
       "      <th>...</th>\n",
       "      <td>...</td>\n",
       "      <td>...</td>\n",
       "      <td>...</td>\n",
       "      <td>...</td>\n",
       "      <td>...</td>\n",
       "      <td>...</td>\n",
       "      <td>...</td>\n",
       "      <td>...</td>\n",
       "      <td>...</td>\n",
       "      <td>...</td>\n",
       "      <td>...</td>\n",
       "      <td>...</td>\n",
       "      <td>...</td>\n",
       "      <td>...</td>\n",
       "      <td>...</td>\n",
       "      <td>...</td>\n",
       "      <td>...</td>\n",
       "      <td>...</td>\n",
       "      <td>...</td>\n",
       "      <td>...</td>\n",
       "      <td>...</td>\n",
       "    </tr>\n",
       "    <tr>\n",
       "      <th rowspan=\"5\" valign=\"top\">138509436</th>\n",
       "      <th>8</th>\n",
       "      <td>4.292060</td>\n",
       "      <td>4.292054</td>\n",
       "      <td>14.435</td>\n",
       "      <td>0.000000</td>\n",
       "      <td>1.0</td>\n",
       "      <td>348.0</td>\n",
       "      <td>NaN</td>\n",
       "      <td>0.603412</td>\n",
       "      <td>1430.443</td>\n",
       "      <td>1.852283</td>\n",
       "      <td>...</td>\n",
       "      <td>11</td>\n",
       "      <td>T</td>\n",
       "      <td>2003</td>\n",
       "      <td>s3://carbonplan-climatetrace/v1/44/29/2003/JJA...</td>\n",
       "      <td>9749.800000</td>\n",
       "      <td>10895.600000</td>\n",
       "      <td>11928.200000</td>\n",
       "      <td>14246.800000</td>\n",
       "      <td>16215.200000</td>\n",
       "      <td>14651.600000</td>\n",
       "    </tr>\n",
       "    <tr>\n",
       "      <th>9</th>\n",
       "      <td>2.553164</td>\n",
       "      <td>2.553160</td>\n",
       "      <td>14.663</td>\n",
       "      <td>0.000000</td>\n",
       "      <td>1.0</td>\n",
       "      <td>348.0</td>\n",
       "      <td>NaN</td>\n",
       "      <td>0.716174</td>\n",
       "      <td>1413.006</td>\n",
       "      <td>-0.842717</td>\n",
       "      <td>...</td>\n",
       "      <td>11</td>\n",
       "      <td>T</td>\n",
       "      <td>2003</td>\n",
       "      <td>s3://carbonplan-climatetrace/v1/44/29/2003/JJA...</td>\n",
       "      <td>9618.800000</td>\n",
       "      <td>10678.600000</td>\n",
       "      <td>11425.600000</td>\n",
       "      <td>14047.400000</td>\n",
       "      <td>17038.600000</td>\n",
       "      <td>15012.000000</td>\n",
       "    </tr>\n",
       "    <tr>\n",
       "      <th>10</th>\n",
       "      <td>9.412661</td>\n",
       "      <td>9.412633</td>\n",
       "      <td>21.050</td>\n",
       "      <td>0.000000</td>\n",
       "      <td>1.0</td>\n",
       "      <td>348.0</td>\n",
       "      <td>NaN</td>\n",
       "      <td>0.836513</td>\n",
       "      <td>1403.968</td>\n",
       "      <td>2.434095</td>\n",
       "      <td>...</td>\n",
       "      <td>11</td>\n",
       "      <td>T</td>\n",
       "      <td>2003</td>\n",
       "      <td>s3://carbonplan-climatetrace/v1/44/29/2003/JJA...</td>\n",
       "      <td>9476.000000</td>\n",
       "      <td>10405.200000</td>\n",
       "      <td>10811.600000</td>\n",
       "      <td>13244.800000</td>\n",
       "      <td>14961.000000</td>\n",
       "      <td>13372.400000</td>\n",
       "    </tr>\n",
       "    <tr>\n",
       "      <th>11</th>\n",
       "      <td>5.770540</td>\n",
       "      <td>5.770529</td>\n",
       "      <td>14.318</td>\n",
       "      <td>0.000000</td>\n",
       "      <td>1.0</td>\n",
       "      <td>348.0</td>\n",
       "      <td>NaN</td>\n",
       "      <td>0.681143</td>\n",
       "      <td>1334.589</td>\n",
       "      <td>0.802963</td>\n",
       "      <td>...</td>\n",
       "      <td>11</td>\n",
       "      <td>T</td>\n",
       "      <td>2003</td>\n",
       "      <td>s3://carbonplan-climatetrace/v1/44/29/2003/JJA...</td>\n",
       "      <td>9289.500000</td>\n",
       "      <td>9984.000000</td>\n",
       "      <td>10470.000000</td>\n",
       "      <td>13322.500000</td>\n",
       "      <td>15591.500000</td>\n",
       "      <td>13404.500000</td>\n",
       "    </tr>\n",
       "    <tr>\n",
       "      <th>12</th>\n",
       "      <td>8.869856</td>\n",
       "      <td>8.869826</td>\n",
       "      <td>31.403</td>\n",
       "      <td>171.323542</td>\n",
       "      <td>1.0</td>\n",
       "      <td>348.0</td>\n",
       "      <td>NaN</td>\n",
       "      <td>0.701981</td>\n",
       "      <td>1318.545</td>\n",
       "      <td>0.486897</td>\n",
       "      <td>...</td>\n",
       "      <td>11</td>\n",
       "      <td>T</td>\n",
       "      <td>2003</td>\n",
       "      <td>s3://carbonplan-climatetrace/v1/44/29/2003/JJA...</td>\n",
       "      <td>8749.500000</td>\n",
       "      <td>9521.500000</td>\n",
       "      <td>9608.000000</td>\n",
       "      <td>13194.000000</td>\n",
       "      <td>13081.500000</td>\n",
       "      <td>11469.500000</td>\n",
       "    </tr>\n",
       "  </tbody>\n",
       "</table>\n",
       "<p>901 rows × 48 columns</p>\n",
       "</div>"
      ],
      "text/plain": [
       "                             MeanH      QMCH      VH     biomass  burned  \\\n",
       "record_index shot_number                                                   \n",
       "122322521    40           8.176169  8.176155  19.682    0.000000     0.0   \n",
       "122322526    3            1.831306  1.831305   6.880    0.000000     0.0   \n",
       "             7            5.756794  5.756781  18.854    0.000000     0.0   \n",
       "             17           3.429633  3.429627  13.468    0.000000     0.0   \n",
       "             18           4.677802  4.677794  14.592    0.000000     0.0   \n",
       "...                            ...       ...     ...         ...     ...   \n",
       "138509436    8            4.292060  4.292054  14.435    0.000000     1.0   \n",
       "             9            2.553164  2.553160  14.663    0.000000     1.0   \n",
       "             10           9.412661  9.412633  21.050    0.000000     1.0   \n",
       "             11           5.770540  5.770529  14.318    0.000000     1.0   \n",
       "             12           8.869856  8.869826  31.403  171.323542     1.0   \n",
       "\n",
       "                          ecoregion  eosd   f_slope  glas_elev  h25_Neigh  \\\n",
       "record_index shot_number                                                    \n",
       "122322521    40               348.0   NaN  1.028316   1566.696   4.737095   \n",
       "122322526    3                348.0   NaN  0.792156   1583.293  -1.056887   \n",
       "             7                348.0   NaN  0.692944   1528.847   0.356415   \n",
       "             17               348.0   NaN  0.688523   1472.855  -1.398679   \n",
       "             18               348.0   NaN  0.778390   1475.755  -0.949066   \n",
       "...                             ...   ...       ...        ...        ...   \n",
       "138509436    8                348.0   NaN  0.603412   1430.443   1.852283   \n",
       "             9                348.0   NaN  0.716174   1413.006  -0.842717   \n",
       "             10               348.0   NaN  0.836513   1403.968   2.434095   \n",
       "             11               348.0   NaN  0.681143   1334.589   0.802963   \n",
       "             12               348.0   NaN  0.701981   1318.545   0.486897   \n",
       "\n",
       "                          ...  utm_zone  utm_letter  year  \\\n",
       "record_index shot_number  ...                               \n",
       "122322521    40           ...        11           T  2003   \n",
       "122322526    3            ...        11           T  2003   \n",
       "             7            ...        11           T  2003   \n",
       "             17           ...        11           T  2003   \n",
       "             18           ...        11           T  2003   \n",
       "...                       ...       ...         ...   ...   \n",
       "138509436    8            ...        11           T  2003   \n",
       "             9            ...        11           T  2003   \n",
       "             10           ...        11           T  2003   \n",
       "             11           ...        11           T  2003   \n",
       "             12           ...        11           T  2003   \n",
       "\n",
       "                                                                        url  \\\n",
       "record_index shot_number                                                      \n",
       "122322521    40           s3://carbonplan-climatetrace/v1/44/29/2003/JJA...   \n",
       "122322526    3            s3://carbonplan-climatetrace/v1/44/29/2003/JJA...   \n",
       "             7            s3://carbonplan-climatetrace/v1/44/29/2003/JJA...   \n",
       "             17           s3://carbonplan-climatetrace/v1/44/29/2003/JJA...   \n",
       "             18           s3://carbonplan-climatetrace/v1/44/29/2003/JJA...   \n",
       "...                                                                     ...   \n",
       "138509436    8            s3://carbonplan-climatetrace/v1/44/29/2003/JJA...   \n",
       "             9            s3://carbonplan-climatetrace/v1/44/29/2003/JJA...   \n",
       "             10           s3://carbonplan-climatetrace/v1/44/29/2003/JJA...   \n",
       "             11           s3://carbonplan-climatetrace/v1/44/29/2003/JJA...   \n",
       "             12           s3://carbonplan-climatetrace/v1/44/29/2003/JJA...   \n",
       "\n",
       "                                SR_B1         SR_B2         SR_B3  \\\n",
       "record_index shot_number                                            \n",
       "122322521    40           9551.800000  10304.600000  10915.600000   \n",
       "122322526    3            9507.000000  10332.200000  10892.000000   \n",
       "             7            9271.333333   9950.833333  10362.666667   \n",
       "             17           9650.666667  10402.833333  11020.000000   \n",
       "             18           9706.333333  10488.833333  11130.333333   \n",
       "...                               ...           ...           ...   \n",
       "138509436    8            9749.800000  10895.600000  11928.200000   \n",
       "             9            9618.800000  10678.600000  11425.600000   \n",
       "             10           9476.000000  10405.200000  10811.600000   \n",
       "             11           9289.500000   9984.000000  10470.000000   \n",
       "             12           8749.500000   9521.500000   9608.000000   \n",
       "\n",
       "                                 SR_B4         SR_B5         SR_B7  \n",
       "record_index shot_number                                            \n",
       "122322521    40           13380.600000  15999.000000  14202.400000  \n",
       "122322526    3            13379.000000  15908.800000  14173.400000  \n",
       "             7            13094.333333  15044.500000  13312.666667  \n",
       "             17           13184.666667  15216.666667  13974.166667  \n",
       "             18           13338.000000  15218.166667  13938.833333  \n",
       "...                                ...           ...           ...  \n",
       "138509436    8            14246.800000  16215.200000  14651.600000  \n",
       "             9            14047.400000  17038.600000  15012.000000  \n",
       "             10           13244.800000  14961.000000  13372.400000  \n",
       "             11           13322.500000  15591.500000  13404.500000  \n",
       "             12           13194.000000  13081.500000  11469.500000  \n",
       "\n",
       "[901 rows x 48 columns]"
      ]
     },
     "execution_count": 108,
     "metadata": {},
     "output_type": "execute_result"
    }
   ],
   "source": [
    "pd.concat([shots_one_scene, selected_landsat], axis=1)"
   ]
  },
  {
   "cell_type": "code",
   "execution_count": 91,
   "metadata": {},
   "outputs": [
    {
     "data": {
      "text/html": [
       "<div>\n",
       "<style scoped>\n",
       "    .dataframe tbody tr th:only-of-type {\n",
       "        vertical-align: middle;\n",
       "    }\n",
       "\n",
       "    .dataframe tbody tr th {\n",
       "        vertical-align: top;\n",
       "    }\n",
       "\n",
       "    .dataframe thead th {\n",
       "        text-align: right;\n",
       "    }\n",
       "</style>\n",
       "<table border=\"1\" class=\"dataframe\">\n",
       "  <thead>\n",
       "    <tr style=\"text-align: right;\">\n",
       "      <th></th>\n",
       "      <th>SR_B1</th>\n",
       "      <th>SR_B2</th>\n",
       "      <th>SR_B3</th>\n",
       "      <th>SR_B4</th>\n",
       "      <th>SR_B5</th>\n",
       "      <th>SR_B7</th>\n",
       "    </tr>\n",
       "    <tr>\n",
       "      <th>shot</th>\n",
       "      <th></th>\n",
       "      <th></th>\n",
       "      <th></th>\n",
       "      <th></th>\n",
       "      <th></th>\n",
       "      <th></th>\n",
       "    </tr>\n",
       "  </thead>\n",
       "  <tbody>\n",
       "    <tr>\n",
       "      <th>0</th>\n",
       "      <td>9551.800000</td>\n",
       "      <td>10304.600000</td>\n",
       "      <td>10915.600000</td>\n",
       "      <td>13380.600000</td>\n",
       "      <td>15999.000000</td>\n",
       "      <td>14202.400000</td>\n",
       "    </tr>\n",
       "    <tr>\n",
       "      <th>1</th>\n",
       "      <td>9507.000000</td>\n",
       "      <td>10332.200000</td>\n",
       "      <td>10892.000000</td>\n",
       "      <td>13379.000000</td>\n",
       "      <td>15908.800000</td>\n",
       "      <td>14173.400000</td>\n",
       "    </tr>\n",
       "    <tr>\n",
       "      <th>2</th>\n",
       "      <td>9271.333333</td>\n",
       "      <td>9950.833333</td>\n",
       "      <td>10362.666667</td>\n",
       "      <td>13094.333333</td>\n",
       "      <td>15044.500000</td>\n",
       "      <td>13312.666667</td>\n",
       "    </tr>\n",
       "    <tr>\n",
       "      <th>3</th>\n",
       "      <td>9650.666667</td>\n",
       "      <td>10402.833333</td>\n",
       "      <td>11020.000000</td>\n",
       "      <td>13184.666667</td>\n",
       "      <td>15216.666667</td>\n",
       "      <td>13974.166667</td>\n",
       "    </tr>\n",
       "    <tr>\n",
       "      <th>4</th>\n",
       "      <td>9706.333333</td>\n",
       "      <td>10488.833333</td>\n",
       "      <td>11130.333333</td>\n",
       "      <td>13338.000000</td>\n",
       "      <td>15218.166667</td>\n",
       "      <td>13938.833333</td>\n",
       "    </tr>\n",
       "    <tr>\n",
       "      <th>...</th>\n",
       "      <td>...</td>\n",
       "      <td>...</td>\n",
       "      <td>...</td>\n",
       "      <td>...</td>\n",
       "      <td>...</td>\n",
       "      <td>...</td>\n",
       "    </tr>\n",
       "    <tr>\n",
       "      <th>896</th>\n",
       "      <td>9749.800000</td>\n",
       "      <td>10895.600000</td>\n",
       "      <td>11928.200000</td>\n",
       "      <td>14246.800000</td>\n",
       "      <td>16215.200000</td>\n",
       "      <td>14651.600000</td>\n",
       "    </tr>\n",
       "    <tr>\n",
       "      <th>897</th>\n",
       "      <td>9618.800000</td>\n",
       "      <td>10678.600000</td>\n",
       "      <td>11425.600000</td>\n",
       "      <td>14047.400000</td>\n",
       "      <td>17038.600000</td>\n",
       "      <td>15012.000000</td>\n",
       "    </tr>\n",
       "    <tr>\n",
       "      <th>898</th>\n",
       "      <td>9476.000000</td>\n",
       "      <td>10405.200000</td>\n",
       "      <td>10811.600000</td>\n",
       "      <td>13244.800000</td>\n",
       "      <td>14961.000000</td>\n",
       "      <td>13372.400000</td>\n",
       "    </tr>\n",
       "    <tr>\n",
       "      <th>899</th>\n",
       "      <td>9289.500000</td>\n",
       "      <td>9984.000000</td>\n",
       "      <td>10470.000000</td>\n",
       "      <td>13322.500000</td>\n",
       "      <td>15591.500000</td>\n",
       "      <td>13404.500000</td>\n",
       "    </tr>\n",
       "    <tr>\n",
       "      <th>900</th>\n",
       "      <td>8749.500000</td>\n",
       "      <td>9521.500000</td>\n",
       "      <td>9608.000000</td>\n",
       "      <td>13194.000000</td>\n",
       "      <td>13081.500000</td>\n",
       "      <td>11469.500000</td>\n",
       "    </tr>\n",
       "  </tbody>\n",
       "</table>\n",
       "<p>901 rows × 6 columns</p>\n",
       "</div>"
      ],
      "text/plain": [
       "            SR_B1         SR_B2         SR_B3         SR_B4         SR_B5  \\\n",
       "shot                                                                        \n",
       "0     9551.800000  10304.600000  10915.600000  13380.600000  15999.000000   \n",
       "1     9507.000000  10332.200000  10892.000000  13379.000000  15908.800000   \n",
       "2     9271.333333   9950.833333  10362.666667  13094.333333  15044.500000   \n",
       "3     9650.666667  10402.833333  11020.000000  13184.666667  15216.666667   \n",
       "4     9706.333333  10488.833333  11130.333333  13338.000000  15218.166667   \n",
       "...           ...           ...           ...           ...           ...   \n",
       "896   9749.800000  10895.600000  11928.200000  14246.800000  16215.200000   \n",
       "897   9618.800000  10678.600000  11425.600000  14047.400000  17038.600000   \n",
       "898   9476.000000  10405.200000  10811.600000  13244.800000  14961.000000   \n",
       "899   9289.500000   9984.000000  10470.000000  13322.500000  15591.500000   \n",
       "900   8749.500000   9521.500000   9608.000000  13194.000000  13081.500000   \n",
       "\n",
       "             SR_B7  \n",
       "shot                \n",
       "0     14202.400000  \n",
       "1     14173.400000  \n",
       "2     13312.666667  \n",
       "3     13974.166667  \n",
       "4     13938.833333  \n",
       "...            ...  \n",
       "896   14651.600000  \n",
       "897   15012.000000  \n",
       "898   13372.400000  \n",
       "899   13404.500000  \n",
       "900   11469.500000  \n",
       "\n",
       "[901 rows x 6 columns]"
      ]
     },
     "execution_count": 91,
     "metadata": {},
     "output_type": "execute_result"
    }
   ],
   "source": [
    "selected_landsat"
   ]
  },
  {
   "cell_type": "code",
   "execution_count": null,
   "metadata": {},
   "outputs": [],
   "source": [
    "# ideally i could just select out all of the "
   ]
  },
  {
   "cell_type": "code",
   "execution_count": 76,
   "metadata": {},
   "outputs": [
    {
     "data": {
      "text/plain": [
       "band\n",
       "SR_B1     9551.8\n",
       "SR_B2    10304.6\n",
       "SR_B3    10915.6\n",
       "SR_B4    13380.6\n",
       "SR_B5    15999.0\n",
       "SR_B7    14202.4\n",
       "Name: reflectance, dtype: float64"
      ]
     },
     "execution_count": 76,
     "metadata": {},
     "output_type": "execute_result"
    }
   ],
   "source": [
    "ds.sel_points(x=, y=4856174.32039988, method='nearest').to_dataframe()['reflectance']"
   ]
  },
  {
   "cell_type": "code",
   "execution_count": 389,
   "metadata": {},
   "outputs": [],
   "source": [
    "test_strings = []\n",
    "for string in unique_urls:\n",
    "    if '44/29' in string:\n",
    "        test_strings.append(string)"
   ]
  },
  {
   "cell_type": "code",
   "execution_count": 390,
   "metadata": {},
   "outputs": [
    {
     "name": "stdout",
     "output_type": "stream",
     "text": [
      "s3://carbonplan-climatetrace/v1/44/29/2003/JJA_reflectance.zarr\n"
     ]
    }
   ],
   "source": [
    "for url in test_strings:\n",
    "    try:\n",
    "        ds = xr.open_zarr(fs.get_mapper(url))\n",
    "        print(url)\n",
    "        break\n",
    "    except:\n",
    "        print('nope')"
   ]
  },
  {
   "cell_type": "code",
   "execution_count": 393,
   "metadata": {},
   "outputs": [
    {
     "name": "stderr",
     "output_type": "stream",
     "text": [
      "/srv/conda/envs/notebook/lib/python3.8/site-packages/geopandas/geodataframe.py:1299: UserWarning: Boolean Series key will be reindexed to match DataFrame index.\n",
      "  result = super(GeoDataFrame, self).__getitem__(key)\n"
     ]
    },
    {
     "data": {
      "text/plain": [
       "<AxesSubplot:>"
      ]
     },
     "execution_count": 393,
     "metadata": {},
     "output_type": "execute_result"
    },
    {
     "data": {
      "image/png": "[encoded data removed]",
      "text/plain": [
       "<Figure size 432x288 with 1 Axes>"
      ]
     },
     "metadata": {
      "needs_background": "light"
     },
     "output_type": "display_data"
    }
   ],
   "source": [
    "gdf[gdf['PATH']==44][gdf['ROW']==29].plot()"
   ]
  },
  {
   "cell_type": "markdown",
   "metadata": {},
   "source": [
    "# the landsat datasets aren't lat lon- they're spatial- so we need to index in and find the closest landsat pixel (or pixels?) to the lat/lon"
   ]
  },
  {
   "cell_type": "markdown",
   "metadata": {},
   "source": [
    "Landsat is in meters with the utm projection of that path/row (need to check for weirdness at utm boundaries).\n",
    "So, if we give it meters locations we can get back the values from dataset."
   ]
  },
  {
   "cell_type": "code",
   "execution_count": 84,
   "metadata": {},
   "outputs": [
    {
     "data": {
      "text/plain": [
       "array([ 8216.33333333,  8869.33333333,  8687.        , 16541.33333333,\n",
       "       12305.66666667,  9986.66666667])"
      ]
     },
     "execution_count": 84,
     "metadata": {},
     "output_type": "execute_result"
    }
   ],
   "source": [
    "x=376435\n",
    "y=5409203\n",
    "ds.sel(x=x, y=y, method='nearest').reflectance.values"
   ]
  },
  {
   "cell_type": "markdown",
   "metadata": {},
   "source": [
    "What we need to do now is make a column of projected x/y in the dataframe"
   ]
  }
 ],
 "metadata": {
  "kernelspec": {
   "display_name": "Python 3",
   "language": "python",
   "name": "python3"
  },
  "language_info": {
   "codemirror_mode": {
    "name": "ipython",
    "version": 3
   },
   "file_extension": ".py",
   "mimetype": "text/x-python",
   "name": "python",
   "nbconvert_exporter": "python",
   "pygments_lexer": "ipython3",
   "version": "3.8.8"
  }
 },
 "nbformat": 4,
 "nbformat_minor": 4
}
