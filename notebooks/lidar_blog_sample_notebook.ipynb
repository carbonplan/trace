{
 "cells": [
  {
   "cell_type": "markdown",
   "id": "75d9feed-9bc7-4fbe-92d0-a7150011a946",
   "metadata": {},
   "source": [
    "<img width=50 src=\"https://carbonplan-assets.s3.amazonaws.com/monogram/dark-small.png\" style=\"margin-left:0px;margin-top:20px\"/>\n",
    "\n",
    "# Sample notebook to explore lidar dataset, lidar processing code, and lidar derived biomass\n",
    "\n",
    "Authors: Cindy Chiao, Oriana Chegwidden and Joe Hamman\n",
    "\n",
    "To run this notebook locally and produce the loveliest-possible figures, you'll want to have the\n",
    "CarbonPlan styles installed.\n"
   ]
  },
  {
   "cell_type": "code",
   "execution_count": null,
   "id": "04238914-9331-4c63-a30a-ac527ea1a471",
   "metadata": {},
   "outputs": [],
   "source": [
    "import fsspec \n",
    "import xarray as xr\n",
    "import pandas as pd\n",
    "from carbonplan_trace.v0.data import cat, cat_file\n",
    "\n",
    "import carbonplan_trace.v1.utils as utils\n",
    "from carbonplan_trace.v1.glas_preprocess import preprocess\n",
    "from carbonplan_trace.v1.glas_height_metrics import plot_shot\n",
    "from carbonplan_trace.v1.glas_allometric_eq import apply_allometric_equation\n",
    "\n",
    "from carbonplan_styles.colors import colors\n",
    "from carbonplan_styles.mpl import set_theme\n",
    "import cartopy.crs as ccrs\n",
    "import matplotlib.pyplot as plt\n",
    "\n",
    "theme = \"dark\"\n",
    "set_theme(style=f\"carbonplan_{theme}\")\n",
    "c = colors(theme)"
   ]
  },
  {
   "cell_type": "markdown",
   "id": "3509696a-a0cc-4df8-97e1-0f0e680c3969",
   "metadata": {},
   "source": [
    "# Datasets available and associated code \n",
    "\n",
    "There are three ICESat GLAS derived LiDAR datasets available on our server at varying stages of processsing. The raw data was available for download from the National Snow and Ice Data Center (NSIDC), including the Level-1A altimetry data (GLAH01) version 33 and the Level-2 L2 Global Land Surface Altimetry Data (GLAH14) version 34 in HDF5 format."
   ]
  },
  {
   "cell_type": "markdown",
   "id": "29ec1772-4caa-4e4b-9a1c-08a24104ae37",
   "metadata": {},
   "source": [
    "## 1. Extracted LiDAR data\n",
    "\n",
    "After download, relevant data in HDF5 format were extracted to a zarr format using [extract_GLAH01_data](https://github.com/carbonplan/trace/blob/3797376ef85bdc492b40811d71d5e9ec7ed75fbc/carbonplan_trace/v1/glas_extract.py#L42) and [extract_GLAH14_data](https://github.com/carbonplan/trace/blob/3797376ef85bdc492b40811d71d5e9ec7ed75fbc/carbonplan_trace/v1/glas_extract.py#L121) functions. This extracted data is avaiable to the public. "
   ]
  },
  {
   "cell_type": "code",
   "execution_count": null,
   "id": "8e9d7679-a5c6-471b-b159-d39e28fc73b1",
   "metadata": {},
   "outputs": [],
   "source": [
    "# note, this step reads all LiDAR available and takes a few mins \n",
    "data01 = utils.open_glah01_data()\n",
    "data14 = utils.open_glah14_data()"
   ]
  },
  {
   "cell_type": "code",
   "execution_count": null,
   "id": "0e2ae10f-7a83-4b5d-a580-a6323a3a914a",
   "metadata": {},
   "outputs": [],
   "source": [
    "# subset data to a bounding box of interest \n",
    "min_lat = 40 \n",
    "max_lat = 42\n",
    "min_lon = -124\n",
    "max_lon = -122\n",
    "\n",
    "sub14 = utils.subset_data_for_bounding_box(data14, min_lat, max_lat, min_lon, max_lon)\n",
    "sub01 = data01.where(data01.record_index.isin(sub14.record_index), drop=True)\n",
    "combined = sub14.merge(sub01, join=\"inner\")"
   ]
  },
  {
   "cell_type": "markdown",
   "id": "d4d13a0c-33ea-4f10-b6f4-0d072e1ac075",
   "metadata": {},
   "source": [
    "The LiDAR data is uniquely indexed by `record_index` and `shot_number`. The available variables extracted are shown below. "
   ]
  },
  {
   "cell_type": "code",
   "execution_count": null,
   "id": "0e5b1df7-9217-49c9-ba26-98b6a4a875a6",
   "metadata": {
    "tags": []
   },
   "outputs": [],
   "source": [
    "combined"
   ]
  },
  {
   "cell_type": "markdown",
   "id": "4412708e-96b0-446a-922e-7b189cc835df",
   "metadata": {},
   "source": [
    "## 2. Pre-processed LiDAR data \n",
    "\n",
    "After extraction, the LiDAR data is then preprocessed to calculate several derived variables, generate smoothed waveforms, and filtered out the records that did not fit our QA criteria. Preprocess can be done by calling the [preprocess](https://github.com/carbonplan/trace/blob/3797376ef85bdc492b40811d71d5e9ec7ed75fbc/carbonplan_trace/v1/glas_preprocess.py#L230) function on the combined data. The preprocessed data is also available to the public. "
   ]
  },
  {
   "cell_type": "code",
   "execution_count": null,
   "id": "26e5f8e3-fe1d-4259-8c21-10736cca8131",
   "metadata": {},
   "outputs": [],
   "source": [
    "# doing preprocess on the combined data, this takes a few mins to run \n",
    "\n",
    "# preprocessed = preprocess(combined, min_lat, max_lat, min_lon, max_lon)\n",
    "# preprocessed"
   ]
  },
  {
   "cell_type": "code",
   "execution_count": null,
   "id": "71ba96b5-4a2d-4a69-8c22-410919f223ae",
   "metadata": {
    "tags": []
   },
   "outputs": [],
   "source": [
    "# reading preprocessed data from s3 \n",
    "\n",
    "lat_tag = '50N'\n",
    "lon_tag = '130W'\n",
    "\n",
    "mapper = fsspec.get_mapper(f\"s3://carbonplan-climatetrace/v1/preprocessed_lidar/{lat_tag}_{lon_tag}.zarr\")\n",
    "preprocessed = (\n",
    "    xr.open_zarr(mapper)\n",
    "    .stack(unique_index=(\"record_index\", \"shot_number\"))\n",
    "    .dropna(dim=\"unique_index\", subset=[\"lat\"])\n",
    ")\n",
    "# filtering of null values stored as the maximum number for the datatype\n",
    "preprocessed = preprocessed.where(\n",
    "    (preprocessed.rec_wf < 1e35).all(dim=\"rec_bin\"), drop=True\n",
    ")\n",
    "preprocessed"
   ]
  },
  {
   "cell_type": "code",
   "execution_count": null,
   "id": "73d483eb-2f54-448e-bd68-3874d721e036",
   "metadata": {},
   "outputs": [],
   "source": [
    "# plotting an example lidar waveform \n",
    "plot_shot(preprocessed.isel(unique_index=0))"
   ]
  },
  {
   "cell_type": "markdown",
   "id": "e3dfdd1a-c6f6-4d85-ab56-22b70aca7afd",
   "metadata": {},
   "source": [
    "## 3. LiDAR derived biomass \n",
    "\n",
    "Once the LiDAR data is preprocessed, we can apply the appropriate allometric equation to the LiDAR data to obtain estimated biomass values. This can be accomplished by calling the [apply_allometric_equation](https://github.com/carbonplan/trace/blob/3797376ef85bdc492b40811d71d5e9ec7ed75fbc/carbonplan_trace/v1/glas_allometric_eq.py#L944) function, which includes a few steps: \n",
    "1. we first add ancilliary data, which includes the ecoregion, land cover types, tree cover %, and whether the area is burned, \n",
    "2. then, we assign an appropriate allometric equation to each LiDAR record based on the ancilliary data above, \n",
    "3. based on the assignment, we calculate the LiDAR derived height metric used in the allometric equation needed, \n",
    "4. calculate biomass value by applying the allometric equation,\n",
    "5. finally, biomass value is post processed where biomass for certain records is set to 0 or filtered out based on time of the year. \n",
    "\n",
    "The derived biomass values, ancilliary data, and a few height metrics are also available to the public. "
   ]
  },
  {
   "cell_type": "code",
   "execution_count": null,
   "id": "e82d2b9d-4006-4510-82dd-eee993584876",
   "metadata": {
    "tags": []
   },
   "outputs": [],
   "source": [
    "# applying allometric equations on preprocessed lidar data, this also takes a few mins to run \n",
    "\n",
    "sub = preprocessed.isel(unique_index=slice(0, 100))\n",
    "\n",
    "with_biomass = apply_allometric_equation(\n",
    "    sub, min_lat, max_lat, min_lon, max_lon\n",
    ")"
   ]
  },
  {
   "cell_type": "code",
   "execution_count": null,
   "id": "d97645c3-cf2b-4eaf-b89f-aa6b787a7f5c",
   "metadata": {},
   "outputs": [],
   "source": [
    "mapper = fsspec.get_mapper(f\"s3://carbonplan-climatetrace/v1/biomass/{lat_tag}_{lon_tag}.zarr\")\n",
    "biomass = (\n",
    "    xr.open_zarr(mapper)\n",
    "    .stack(unique_index=(\"record_index\", \"shot_number\"))\n",
    "    .dropna(dim=\"unique_index\", subset=[\"lat\"])\n",
    ")"
   ]
  },
  {
   "cell_type": "code",
   "execution_count": null,
   "id": "8e85c740-251e-49b8-b40a-f3f482ac096c",
   "metadata": {},
   "outputs": [],
   "source": [
    "# visualize biomass data \n",
    "plt.figure(figsize=(10, 6))\n",
    "s = biomass.where(biomass.biomass > 0.0, drop=True)\n",
    "p = s.plot.scatter(\n",
    "    x=\"lon\", y=\"lat\", hue=\"biomass\", \n",
    "    robust=True,\n",
    ")"
   ]
  },
  {
   "cell_type": "code",
   "execution_count": null,
   "id": "a59ef341-9d5b-4b8c-8873-e7d129ce9759",
   "metadata": {},
   "outputs": [],
   "source": []
  }
 ],
 "metadata": {
  "kernelspec": {
   "display_name": "Python 3 (ipykernel)",
   "language": "python",
   "name": "python3"
  },
  "language_info": {
   "codemirror_mode": {
    "name": "ipython",
    "version": 3
   },
   "file_extension": ".py",
   "mimetype": "text/x-python",
   "name": "python",
   "nbconvert_exporter": "python",
   "pygments_lexer": "ipython3",
   "version": "3.9.7"
  }
 },
 "nbformat": 4,
 "nbformat_minor": 5
}
