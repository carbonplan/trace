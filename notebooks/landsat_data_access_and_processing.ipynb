{
 "cells": [
  {
   "cell_type": "code",
   "execution_count": null,
   "metadata": {},
   "outputs": [],
   "source": [
    "# !curl -O https://storage.googleapis.com/gcp-public-data-landsat/index.csv.gz\n",
    "# !gunzip index.csv.gz\n",
    "# !mamba install -y -c conda-forge python-fmask\n",
    "# !pip install lcmap-pyccd\n",
    "# !mkdir tmp_scenedir"
   ]
  },
  {
   "cell_type": "code",
   "execution_count": null,
   "metadata": {},
   "outputs": [],
   "source": [
    "import pandas as pd\n",
    "import os\n",
    "import glob\n",
    "import subprocess\n",
    "from rasterio.io import MemoryFile\n",
    "from rio_cogeo.cogeo import cog_translate\n",
    "from rio_cogeo.profiles import cog_profiles\n",
    "import tempfile\n",
    "\n",
    "import fsspec\n",
    "\n",
    "# from dask.distributed import Client\n",
    "# import dask"
   ]
  },
  {
   "cell_type": "code",
   "execution_count": null,
   "metadata": {},
   "outputs": [],
   "source": [
    "df = pd.read_csv(\"index.csv\")\n",
    "df.head()"
   ]
  },
  {
   "cell_type": "code",
   "execution_count": null,
   "metadata": {},
   "outputs": [],
   "source": [
    "x0, y0, x1, y1 = [-124.763068, 45.543541, -116.915989, 49.002494]\n",
    "time_start = \"2003-02-20T00:00:00Z\"\n",
    "time_end = \"2009-10-11T23:59:59Z\""
   ]
  },
  {
   "cell_type": "code",
   "execution_count": null,
   "metadata": {},
   "outputs": [],
   "source": [
    "df_wa = df[\n",
    "    (time_start < df[\"SENSING_TIME\"])\n",
    "    & (df[\"SENSING_TIME\"] < time_end)\n",
    "    & (df[\"NORTH_LAT\"] < y1)\n",
    "    & (df[\"SOUTH_LAT\"] > y0)\n",
    "    & (df[\"WEST_LON\"] > x0)\n",
    "    & (df[\"EAST_LON\"] < x1)\n",
    "]"
   ]
  },
  {
   "cell_type": "code",
   "execution_count": null,
   "metadata": {},
   "outputs": [],
   "source": [
    "fs = fsspec.get_filesystem_class(\"gs\")()\n",
    "tmp_scenedir = \"tmp_scenedir\"\n",
    "tmp_fmask_dir = \"tmp_fmask\"\n",
    "tmp_pub_dir = \"tmp_pub\"\n",
    "\n",
    "os.makedirs(tmp_scenedir, exist_ok=True)\n",
    "os.makedirs(tmp_fmask_dir, exist_ok=True)\n",
    "os.makedirs(tmp_pub_dir, exist_ok=True)\n",
    "\n",
    "\n",
    "def download_scene(base_url, download_dir):\n",
    "    paths = fs.ls(base_url)\n",
    "    for p in paths:\n",
    "        target = p.split(\"/\")[-1]\n",
    "        print(f\"downloading {target}\")\n",
    "        fs.get_file(p, f\"./{download_dir}/{target}\")\n",
    "\n",
    "\n",
    "def clean_tempdir(dirname=tmp_scenedir):\n",
    "    paths = glob.glob(f\"{dirname}/*\")\n",
    "    for p in paths:\n",
    "        os.unlink(p)\n",
    "\n",
    "\n",
    "def run_fmask(base_url, scendir):\n",
    "    target = base_url.split(\"/\")[-1]\n",
    "    output_fname = f\"{tmp_fmask_dir}/{target}_MASK.img\"\n",
    "    print(output_fname)\n",
    "\n",
    "    # Question for Jon: did you use the default parameters here or did you customize a bit?\n",
    "    subprocess.run(\n",
    "        [\n",
    "            \"fmask_usgsLandsatStacked.py\",\n",
    "            \"--verbose\",\n",
    "            \"--output\",\n",
    "            output_fname,\n",
    "            \"--tempdir\",\n",
    "            tmp_fmask_dir,\n",
    "            \"--scenedir\",\n",
    "            scendir,\n",
    "        ],\n",
    "        check=True,\n",
    "    )\n",
    "\n",
    "    return output_fname\n",
    "\n",
    "\n",
    "def translate(fo, out_file):\n",
    "    \"\"\"translate a file object (`fo`) to cloud optimized geotiff\n",
    "\n",
    "    the resulting COG is written to the filesystem (`fs`) defined above.\n",
    "    \"\"\"\n",
    "    dst_profile = cog_profiles.get(\"deflate\")\n",
    "    with MemoryFile() as mem_dst:\n",
    "        # Important, we pass `mem_dst.name` as output dataset path\n",
    "        cog_translate(fo, mem_dst.name, dst_profile, in_memory=True)\n",
    "        print(f\"writing cog to {out_file}\")\n",
    "        with open(out_file, \"wb\") as f:\n",
    "            f.write(mem_dst.read())\n",
    "\n",
    "\n",
    "def publish(base_url, input_fname):\n",
    "    target = base_url.split(\"/\")[-1]\n",
    "    output_fname = input_fname.replace(\".img\", \".TIF\")\n",
    "    cloud_uri = f\"carbonplan-climatetrace/v1/landsat/cloudmasks/{target}_MASK.TIF\"\n",
    "\n",
    "    with open(input_fname, mode=\"rb\") as f:\n",
    "        translate(f, output_fname)\n",
    "\n",
    "    print(f\"putting file to: {cloud_uri}\")\n",
    "    fs.put_file(output_fname, cloud_uri)\n",
    "    os.unlink(output_fname)\n",
    "\n",
    "\n",
    "def process_scene(base_url):\n",
    "    tmp_scenedir = tempfile.mkdtemp()\n",
    "    print(tmp_scenedir)\n",
    "    try:\n",
    "        download_scene(base_url, tmp_scenedir)\n",
    "        mask_fname = run_fmask(base_url, tmp_scenedir)\n",
    "        publish(base_url, mask_fname)\n",
    "    finally:\n",
    "        print(\"cleaning up\")\n",
    "        clean_tempdir(tmp_scenedir)"
   ]
  },
  {
   "cell_type": "code",
   "execution_count": null,
   "metadata": {},
   "outputs": [],
   "source": [
    "tasks = []\n",
    "for base_url in df_wa[\"BASE_URL\"]:\n",
    "    try:\n",
    "        process_scene(base_url)\n",
    "    except Exception as e:\n",
    "        print(\"failed: \", base_url)\n",
    "        raise e"
   ]
  }
 ],
 "metadata": {
  "kernelspec": {
   "display_name": "Python [conda env:notebook] *",
   "language": "python",
   "name": "conda-env-notebook-py"
  },
  "language_info": {
   "codemirror_mode": {
    "name": "ipython",
    "version": 3
   },
   "file_extension": ".py",
   "mimetype": "text/x-python",
   "name": "python",
   "nbconvert_exporter": "python",
   "pygments_lexer": "ipython3",
   "version": "3.8.6"
  }
 },
 "nbformat": 4,
 "nbformat_minor": 4
}
