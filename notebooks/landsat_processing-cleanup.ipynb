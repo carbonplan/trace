{
 "cells": [
  {
   "cell_type": "markdown",
   "metadata": {},
   "source": [
    "# Landsat Processing\n",
    "\n",
    "Created by: Oriana Chegwidden\n"
   ]
  },
  {
   "cell_type": "code",
   "execution_count": null,
   "metadata": {},
   "outputs": [],
   "source": [
    "%load_ext autoreload\n",
    "%autoreload 2\n",
    "import boto3\n",
    "from rasterio.session import AWSSession\n",
    "from s3fs import S3FileSystem\n",
    "aws_session = AWSSession(boto3.Session(profile_name='default'), \n",
    "                         requester_pays=True)\n",
    "fs = S3FileSystem(profile='default', requester_pays=True)\n",
    "\n",
    "from osgeo.gdal import VSICurlClearCache\n",
    "VSICurlClearCache() \n",
    "import rasterio as rio\n",
    "import xarray as xr\n",
    "import dask\n",
    "import os\n",
    "import fsspec\n",
    "import geopandas as gpd\n",
    "import regionmask as rm\n",
    "# from satsearch import Search\n",
    "from matplotlib.pyplot import imshow\n",
    "from intake import open_stac_item_collection\n",
    "import numcodecs\n",
    "import numpy as np\n",
    "import rioxarray # for the extension to load\n",
    "import matplotlib.pyplot as plt\n",
    "import utm\n",
    "import pandas as pd\n",
    "from datetime import datetime\n",
    "import json\n",
    "import zarr\n",
    "import awswrangler as wr\n",
    "from dask.distributed import PipInstall\n",
    "from dask_gateway import Gateway\n",
    "import fsspec\n",
    "import xgboost as xgb \n",
    "from carbonplan_trace.v1.landsat_preprocess import get_scene_utm_info, access_credentials, test_credentials, scene_seasonal_average"
   ]
  },
  {
   "cell_type": "code",
   "execution_count": null,
   "metadata": {
    "tags": []
   },
   "outputs": [],
   "source": [
    "cluster = \"local\"  # 'remote' 'none'\n",
    "if cluster == \"local\":\n",
    "    # spin up local cluster. must be on big enough machine\n",
    "    from dask.distributed import Client\n",
    "\n",
    "    client = Client(n_workers=3, threads_per_worker=1, memory_limit=\"16GB\")\n",
    "    client\n",
    "else:\n",
    "    gateway = Gateway()\n",
    "    options = gateway.cluster_options()\n",
    "    options.environment = {\"AWS_REQUEST_PAYER\": \"requester\"}\n",
    "    options.worker_cores = 1\n",
    "    options.worker_memory = 32\n",
    "    cluster = gateway.new_cluster(cluster_options=options)\n",
    "    cluster.adapt(minimum=1, maximum=10)\n",
    "    cluster\n",
    "\n",
    "    client = cluster.get_client()"
   ]
  },
  {
   "cell_type": "markdown",
   "metadata": {},
   "source": [
    "Each Landsat scene is stored in cloud optimized geotiff (COG) according to a\n",
    "verbose (but once you understand it, human readable!) naming convention. Landsat\n",
    "Collection 2 uses the same naming convention as Collection 1 which is as follows\n",
    "(lifted from their docs at\n",
    "`https://prd-wret.s3.us-west-2.amazonaws.com/assets/palladium/production/atoms/files/LSDS-1656_%20Landsat_Collection1_L1_Product_Definition-v2.pdf`\n",
    "\n",
    "`LXSS_LLLL_PPPRRR_YYYYMMDD_yyyymmdd_CC_TX` where\n",
    "\n",
    "```\n",
    "L = Landsat  (constant)\n",
    "X = Sensor  (C = OLI / TIRS, O = OLI-only, T= TIRS-only, E = ETM+, T = TM, M= MSS)\n",
    "SS = Satellite  (e.g., 04 for Landsat 4, 05 for Landsat 5, 07 for Landsat 7, etc.)\n",
    "LLLL = Processing  level  (L1TP, L1GT, L1GS)\n",
    "PPP  = WRS path\n",
    "RRR  = WRS row\n",
    "YYYYMMDD = Acquisition  Year (YYYY) / Month  (MM) / Day  (DD)\n",
    "yyyymmdd  = Processing  Year (yyyy) / Month  (mm) / Day (dd)\n",
    "CC = Collection  number  (e.g., 01, 02, etc.)\n",
    "TX= RT for Real-Time, T1 for Tier 1 (highest quality), and T2 for Tier 2\n",
    "\n",
    "```\n",
    "\n",
    "Thus, we're looking for scenes coded in the following way:\n",
    "`LE07_????_PPP_RRR_YYYMMDD_yyyymmdd_02_T1` for Landsat 7 and\n",
    "`LT05_????_PPP_RRR_YYYMMDD_yyyymmdd_02_T1` for Landsat 5 (but T1 might be wrong\n",
    "there)\n"
   ]
  },
  {
   "cell_type": "markdown",
   "metadata": {},
   "source": [
    "We are re-implementing (to the best of our abilities) the methods from Wang et\n",
    "al (in review). Jon Wang's paper said:\n",
    "\n",
    "`To extend our AGB predictions through space and time, we used time series (1984 – 2014) of 30 m surface reflectance data from the Thematic Mapper onboard Landsat 5 and the Enhanced Thematic Mapper Plus onboard Landsat 7. We used the GLAS-derived estimates of AGB as a response variable and the mean growing season (June, July, August) and non-growing season values for each of Landsat’s six spectral reflectance bands as the predictors in an ensemble machine learning model`\n",
    "\n",
    "So we'll be looking for:\n",
    "\n",
    "- Landsat 5 (Thematic mapper) and 7 (Enhanced Thematic Mapper Plus)\n",
    "- Growing season (June-August) and non-growing season (Sept-May) averages at an\n",
    "  annual timestep. <--- will need to figure out around the calendar whether we\n",
    "  want consecutive\n",
    "- All six spectral reflectance bands\n",
    "- We'll do a quality thresholding of cloudless cover for now based upon their\n",
    "  thresholding\n"
   ]
  },
  {
   "cell_type": "markdown",
   "metadata": {},
   "source": [
    "In orienting myeslf, these are the potential collection options I've figured out\n",
    "(by poking around here on the\n",
    "[sat-api catalog](https://landsatlook.usgs.gov/sat-api/collections):\n",
    "\n",
    "- `landsat-c2l2-sr` Landsat Collection 2 Level-2 UTM Surface Reflectance (SR)\n",
    "  Product\n",
    "- `landsat-c2l2alb-sr` Landsat Collection 2 Level-2 Albers Surface Reflectance\n",
    "  (SR) Product\n",
    "- `landsat-c1l2alb-sr` Landsat Collection 1 Level-2 Albers Surface Reflectance\n",
    "  (SR) Product <-- we don't want this one (b/c we'll go with collection 2)\n",
    "- `landsat-c2l1` Landsat Collection 2 Level-1 Product <-- don't think we want\n",
    "  this because we want surface reflectance\n"
   ]
  },
  {
   "cell_type": "markdown",
   "metadata": {},
   "source": [
    "Run this once to apply the aws session to the rasterio environment\n"
   ]
  },
  {
   "cell_type": "markdown",
   "metadata": {},
   "source": [
    "There are different kinds of QA/QC bands contained in L2SP:\n",
    "\n",
    "- SR_CLOUD_QA - I think we want this one because anything less than 2 is either\n",
    "  just dark dense vegetation or no flags. everything above is stuff like water,\n",
    "  snow, cloud (different levels of obscurity). This is the result of the fmask\n",
    "  algorithm from Zhu et al.\n",
    "- QA_PIXEL - this gets a little more specific and goes intot different kinds of\n",
    "  clouds. Super interesting but I don't think we want to use it.\n"
   ]
  },
  {
   "cell_type": "markdown",
   "metadata": {},
   "source": [
    "Pull in the SR_CLOUD_QA and use as a mask - see Table 5-3 in\n",
    "https://prd-wret.s3.us-west-2.amazonaws.com/assets/palladium/production/atoms/files/LSDS-1370_L4-7_C1-SurfaceReflectance-LEDAPS_ProductGuide-v3.pdf\n",
    "for description of cloud integer values to select which ones to use as drop. For\n",
    "now I'll drop anything greater than 1 (0= no QA concerns and 1 is Dark dense\n",
    "vegetation (DDV)).\n"
   ]
  },
  {
   "cell_type": "markdown",
   "metadata": {},
   "source": [
    "First we make the query using sat-search to find every file in the STAC catalog\n",
    "that we want. We'll store that list of files. We'll do this first for a single\n",
    "tile (in this first exmaple just covering Washington State) but then we'll loop\n",
    "through in 1-degree by 1-degree tiles.\n"
   ]
  },
  {
   "cell_type": "code",
   "execution_count": null,
   "metadata": {},
   "outputs": [],
   "source": [
    "with rio.Env(aws_session):\n",
    "    test_ds = rioxarray.open_rasterio(\n",
    "        \"s3://usgs-landsat/collection02/level-2/standard/\"\n",
    "        + \"tm/2003/044/029/LT05_L2SP_044029_20030827_20200904_02_T1/\"\n",
    "        + \"LT05_L2SP_044029_20030827_20200904_02_T1_SR_B4.TIF\"\n",
    "    )"
   ]
  },
  {
   "cell_type": "code",
   "execution_count": null,
   "metadata": {},
   "outputs": [],
   "source": [
    "xr.plot.imshow(test_ds.sel(band=1) * 0.0000275 - 0.2, vmin=0, vmax=1)"
   ]
  },
  {
   "cell_type": "markdown",
   "metadata": {},
   "source": [
    "Due to memory constraints we'll average repeated captures of the same scene.\n",
    "Then we'll average all of those averaged scenes together to create the full\n",
    "mesh. As of now we're just doing a straight average but ideally we would carry\n",
    "the weights of the number of repeats of each scene and do a weighted average\n",
    "when quilting the scenes together.\n"
   ]
  },
  {
   "cell_type": "code",
   "execution_count": null,
   "metadata": {},
   "outputs": [],
   "source": [
    "access_key_id, secret_access_key = access_credentials()"
   ]
  },
  {
   "cell_type": "markdown",
   "metadata": {},
   "source": [
    "Then we take the list of files for a given year to average across growing season\n",
    "for each of the tiles and write it out to a mapper with those specifications.\n"
   ]
  },
  {
   "cell_type": "code",
   "execution_count": null,
   "metadata": {},
   "outputs": [],
   "source": [
    "dask.config.set({\"array.slicing.split_large_chunks\": True})"
   ]
  },
  {
   "cell_type": "code",
   "execution_count": null,
   "metadata": {},
   "outputs": [],
   "source": [
    "gdf = gpd.read_file(\n",
    "    \"https://prd-wret.s3-us-west-2.amazonaws.com/assets/\"\n",
    "    \"palladium/production/s3fs-public/atoms/files/\"\n",
    "    \"WRS2_descending_0.zip\"\n",
    ")"
   ]
  },
  {
   "cell_type": "code",
   "execution_count": null,
   "metadata": {},
   "outputs": [],
   "source": [
    "washington_scenes = gdf.cx[-125:-115, 45:49]"
   ]
  },
  {
   "cell_type": "code",
   "execution_count": null,
   "metadata": {},
   "outputs": [],
   "source": [
    "bucket = \"s3://carbonplan-climatetrace/v1/\"\n",
    "# PANGEO_SCRATCH=os.environ['PANGEO_SCRATCH_PREFIX']+'/orianac/'\n",
    "tasks = []\n",
    "rerun = False\n",
    "if rerun:\n",
    "    with rio.Env(aws_session):  # delete\n",
    "        #         for every year in GLAS record\n",
    "        for year in np.arange(2003, 2004):  # 2009):\n",
    "            # for every row path in the domain\n",
    "            for [path, row] in washington_scenes[[\"PATH\", \"ROW\"]].values[0:1]:\n",
    "                for season in [\"JJA\"]:\n",
    "                    #                         tasks.append(\n",
    "                    test = (\n",
    "                        scene_seasonal_average(\n",
    "                            path,\n",
    "                            row,\n",
    "                            year,\n",
    "                            access_key_id,\n",
    "                            secret_access_key,\n",
    "                            write_bucket=bucket,\n",
    "                            bands_of_interest=\"all\",\n",
    "                            season=season,\n",
    "                        ),\n",
    "                    )\n",
    "#                         )"
   ]
  },
  {
   "cell_type": "markdown",
   "metadata": {},
   "source": [
    "### Load in the biomass dataset for this one tile\n"
   ]
  },
  {
   "cell_type": "code",
   "execution_count": null,
   "metadata": {},
   "outputs": [],
   "source": [
    "ul_lat, ul_lon = 50, 120\n",
    "file_mapper = fs.get_mapper(\n",
    "    \"carbonplan-climatetrace/v1/data/intermediates/biomass/{}N_{}W.zarr\".format(\n",
    "        ul_lat, ul_lon\n",
    "    )\n",
    ")\n",
    "# biomass = xr.open_zarr(PANGEO_SCRATCH+'biomass/{}N_{}W.zarr'.format(ul_lat, ul_lon), consolidated=True).load()\n",
    "\n",
    "biomass = (\n",
    "    xr.open_zarr(file_mapper, consolidated=True).load().drop(\"spatial_ref\")\n",
    ")\n",
    "biomass_df = (\n",
    "    biomass.stack(unique_index=(\"record_index\", \"shot_number\"))\n",
    "    .to_dataframe()\n",
    "    .dropna(how=\"all\")\n",
    ")"
   ]
  },
  {
   "cell_type": "markdown",
   "metadata": {},
   "source": [
    "### Convert it to a geodataframe and attach the landsat row/col info to it. This will form the mapping from IceSAT to Landsat.\n"
   ]
  },
  {
   "cell_type": "code",
   "execution_count": null,
   "metadata": {},
   "outputs": [],
   "source": [
    "biomass_gdf = gpd.GeoDataFrame(\n",
    "    biomass_df, geometry=gpd.points_from_xy(biomass_df.lon, biomass_df.lat)\n",
    ").set_crs(\"EPSG:4326\")\n",
    "linked_gdf = gpd.sjoin(\n",
    "    biomass_gdf,\n",
    "    washington_scenes,  # gdf.cx[-125:-115,45:49], # gdf.cx[-ul_lon:-ul_lon+10,ul_lat-10:ul_lat],\n",
    "    how=\"inner\",\n",
    ")  # 'left' # by selecting inner you're grabbing the intersection (so dropping any shots\n",
    "# that don't have scenes or scenes that don't have shots)"
   ]
  },
  {
   "cell_type": "markdown",
   "metadata": {},
   "source": [
    "### Now you have the row and path for each shot. Let's now get the url to the appropriate COG. For this we'll need the\n"
   ]
  },
  {
   "cell_type": "code",
   "execution_count": null,
   "metadata": {},
   "outputs": [],
   "source": [
    "def convert_to_utm(df):\n",
    "    return utm.from_latlon(\n",
    "        df[\"lat\"], df[\"lon\"], force_zone_number=df[\"landsat_utm_zone\"]\n",
    "    )"
   ]
  },
  {
   "cell_type": "code",
   "execution_count": null,
   "metadata": {},
   "outputs": [],
   "source": [
    "def add_projection_info(df):\n",
    "    projection_info = df.apply(convert_to_utm, axis=1).to_list()\n",
    "    projected_column_names = [\"proj_x\", \"proj_y\", \"utm_zone\", \"utm_letter\"]\n",
    "    projection_df = pd.DataFrame(\n",
    "        projection_info, columns=projected_column_names, index=df.index\n",
    "    )\n",
    "    updated_df = pd.concat([df, projection_df], axis=1)\n",
    "    return updated_df"
   ]
  },
  {
   "cell_type": "code",
   "execution_count": null,
   "metadata": {},
   "outputs": [],
   "source": [
    "def grab_year(df):\n",
    "    return datetime.fromtimestamp(df[\"time\"]).year"
   ]
  },
  {
   "cell_type": "code",
   "execution_count": null,
   "metadata": {},
   "outputs": [],
   "source": [
    "def add_linking_info(df):\n",
    "    df = add_projection_info(df)\n",
    "    df[\"year\"] = df.apply(grab_year, axis=1)\n",
    "    df[\"url\"] = df.apply(build_url, axis=1)\n",
    "    return df"
   ]
  },
  {
   "cell_type": "code",
   "execution_count": null,
   "metadata": {},
   "outputs": [],
   "source": [
    "def build_url(df):\n",
    "    return (\n",
    "        \"s3://carbonplan-climatetrace/v1/{}/{}/{}/JJA_reflectance.zarr\".format(\n",
    "            df[\"PATH\"], df[\"ROW\"], df[\"year\"]\n",
    "        )\n",
    "    )"
   ]
  },
  {
   "cell_type": "code",
   "execution_count": null,
   "metadata": {},
   "outputs": [],
   "source": [
    "linked_gdf = add_linking_info(linked_gdf)"
   ]
  },
  {
   "cell_type": "markdown",
   "metadata": {},
   "source": [
    "Do all unique row/path/year combos at same time since they'll be grabbing the\n",
    "same file. Open the file and loop through each x/y location to get reflectance\n",
    "values\n"
   ]
  },
  {
   "cell_type": "code",
   "execution_count": null,
   "metadata": {},
   "outputs": [],
   "source": [
    "unique_urls = linked_gdf[\"url\"].unique()"
   ]
  },
  {
   "cell_type": "code",
   "execution_count": null,
   "metadata": {},
   "outputs": [],
   "source": [
    "def create_combined_landsat_biomass_df(\n",
    "    landsat_ds,\n",
    "    biomass_df,\n",
    "    biomass_variables=[\"biomass\", \"glas_elev\", \"ecoregion\"],\n",
    "):\n",
    "    selected_landsat = (\n",
    "        landsat_ds.sel(\n",
    "            x=xr.DataArray(biomass_df[\"proj_x\"].values, dims=\"shot\"),\n",
    "            y=xr.DataArray(biomass_df[\"proj_y\"].values, dims=\"shot\"),\n",
    "            method=\"nearest\",\n",
    "        )\n",
    "        .to_dataframe()\n",
    "        .drop([\"x\", \"y\"], axis=1)\n",
    "    )\n",
    "    selected_landsat.index = biomass_df.index\n",
    "    out_df = pd.concat(\n",
    "        [biomass_df[biomass_variables], selected_landsat], axis=1\n",
    "    )\n",
    "    return out_df"
   ]
  },
  {
   "cell_type": "code",
   "execution_count": null,
   "metadata": {},
   "outputs": [],
   "source": [
    "washington_row_path_strings = [\n",
    "    \"{}/{}\".format(row, path) for (row, path) in washington_row_paths\n",
    "]"
   ]
  },
  {
   "cell_type": "code",
   "execution_count": null,
   "metadata": {},
   "outputs": [],
   "source": [
    "wr.s3.to_parquet(\n",
    "    df=washington_df,\n",
    "    index=True,\n",
    "    path=\"s3://carbonplan-climatetrace/v1/washington_biomass_landsat.parquet\",\n",
    "    boto3_session=boto3.Session(\n",
    "        aws_access_key_id=access_key_id, aws_secret_access_key=secret_access_key\n",
    "    ),\n",
    ")"
   ]
  },
  {
   "cell_type": "code",
   "execution_count": null,
   "metadata": {},
   "outputs": [],
   "source": [
    "washington_dfs = []\n",
    "# group the biomass shots according to the scene they overlap\n",
    "groupby = linked_gdf.groupby(\"url\")\n",
    "for year in np.arange(2003, 2009):\n",
    "    for (i, (path, row)) in washington_scenes[[\"PATH\", \"ROW\"]].iterrows():\n",
    "        for season in [\"JJA\"]:\n",
    "            url = f\"{bucket}{path}/{row}/{year}/{season}_reflectance.zarr\"\n",
    "            try:\n",
    "                shots_one_scene = groupby.get_group(url)\n",
    "                ds = (\n",
    "                    xr.open_zarr(fs.get_mapper(url))\n",
    "                    .drop(\"spatial_ref\")\n",
    "                    .reflectance.to_dataset(dim=\"band\")\n",
    "                )\n",
    "                washington_dfs.append(\n",
    "                    create_combined_landsat_biomass_df(ds, shots_one_scene)\n",
    "                )\n",
    "            except:\n",
    "                print(\"{} had no shots\".format(url))\n",
    "washington_df = pd.concat(washington_dfs)\n",
    "wr.s3.to_parquet(\n",
    "    df=washington_df,\n",
    "    index=True,\n",
    "    path=\"s3://carbonplan-climatetrace/v1/washington_biomass_landsat.parquet\",\n",
    "    boto3_session=boto3.Session(\n",
    "        aws_access_key_id=access_key_id, aws_secret_access_key=secret_access_key\n",
    "    ),\n",
    ")"
   ]
  },
  {
   "cell_type": "code",
   "execution_count": null,
   "metadata": {},
   "outputs": [],
   "source": [
    "selected_landsat = (\n",
    "    ds.sel(\n",
    "        x=xr.DataArray(shots_one_scene[\"proj_x\"].values, dims=\"shot\"),\n",
    "        y=xr.DataArray(shots_one_scene[\"proj_y\"].values, dims=\"shot\"),\n",
    "        method=\"nearest\",\n",
    "    )\n",
    "    .to_dataframe()\n",
    "    .drop([\"x\", \"y\"], axis=1)\n",
    ")\n",
    "selected_landsat.index = shots_one_scene.index"
   ]
  },
  {
   "cell_type": "markdown",
   "metadata": {},
   "source": [
    "Landsat is in meters with the utm projection of that path/row (need to check for\n",
    "weirdness at utm boundaries). So, if we give it meters locations we can get back\n",
    "the values from dataset.\n"
   ]
  },
  {
   "cell_type": "code",
   "execution_count": null,
   "metadata": {},
   "outputs": [],
   "source": [
    "x = 376435\n",
    "y = 5409203\n",
    "ds.sel(x=x, y=y, method=\"nearest\").reflectance.values"
   ]
  },
  {
   "cell_type": "markdown",
   "metadata": {},
   "source": [
    "What we need to do now is make a column of projected x/y in the dataframe\n"
   ]
  }
 ],
 "metadata": {
  "kernelspec": {
   "display_name": "Python 3",
   "language": "python",
   "name": "python3"
  },
  "language_info": {
   "codemirror_mode": {
    "name": "ipython",
    "version": 3
   },
   "file_extension": ".py",
   "mimetype": "text/x-python",
   "name": "python",
   "nbconvert_exporter": "python",
   "pygments_lexer": "ipython3",
   "version": "3.8.10"
  }
 },
 "nbformat": 4,
 "nbformat_minor": 4
}
