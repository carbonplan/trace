{
 "cells": [
  {
   "cell_type": "markdown",
   "metadata": {},
   "source": [
    "# Landsat Processing\n",
    "Created by: Oriana Chegwidden"
   ]
  },
  {
   "cell_type": "code",
   "execution_count": 8,
   "metadata": {},
   "outputs": [],
   "source": [
    "# %load_ext autoreload\n",
    "# %autoreload 2\n",
    "import boto3\n",
    "from rasterio.session import AWSSession\n",
    "from s3fs import S3FileSystem\n",
    "aws_session = AWSSession(boto3.Session(profile_name='default'), \n",
    "                         requester_pays=True)\n",
    "fs = S3FileSystem(profile='default', requester_pays=True)\n",
    "\n",
    "from osgeo.gdal import VSICurlClearCache\n",
    "VSICurlClearCache() \n",
    "import rasterio as rio\n",
    "import xarray as xr\n",
    "import dask\n",
    "import os\n",
    "import fsspec\n",
    "import geopandas as gpd\n",
    "import regionmask as rm\n",
    "# from satsearch import Search\n",
    "from matplotlib.pyplot import imshow\n",
    "from intake import open_stac_item_collection\n",
    "import numcodecs\n",
    "import numpy as np\n",
    "import rioxarray # for the extension to load\n",
    "import matplotlib.pyplot as plt\n",
    "import utm\n",
    "import pandas as pd\n",
    "from datetime import datetime\n",
    "import json\n",
    "import zarr\n",
    "import awswrangler as wr\n",
    "from carbonplan_trace.v1.landsat_preprocess import get_scene_utm_zone, access_credentials, test_credentials # scene_seasonal_average, "
   ]
  },
  {
   "cell_type": "code",
   "execution_count": 2,
   "metadata": {
    "tags": []
   },
   "outputs": [
    {
     "data": {
      "application/vnd.jupyter.widget-view+json": {
       "model_id": "d916dd8ac8e84038a867acb1d8e95246",
       "version_major": 2,
       "version_minor": 0
      },
      "text/plain": [
       "VBox(children=(HTML(value='<h2>GatewayCluster</h2>'), HBox(children=(HTML(value='\\n<div>\\n<style scoped>\\n    …"
      ]
     },
     "metadata": {},
     "output_type": "display_data"
    }
   ],
   "source": [
    "from dask_gateway import Gateway\n",
    "\n",
    "gateway = Gateway()\n",
    "options = gateway.cluster_options()\n",
    "options.worker_cores = 2\n",
    "options.worker_memory = 32\n",
    "options.environment = {'AWS_REQUEST_PAYER': 'requester'}\n",
    "cluster = gateway.new_cluster(cluster_options=options)\n",
    "cluster.adapt(minimum=1, maximum=10)\n",
    "cluster"
   ]
  },
  {
   "cell_type": "code",
   "execution_count": 3,
   "metadata": {},
   "outputs": [],
   "source": [
    "client = cluster.get_client()"
   ]
  },
  {
   "cell_type": "markdown",
   "metadata": {},
   "source": [
    "Each Landsat scene is stored in cloud optimized geotiff (COG) according to a verbose (but once you understand it, human readable!) naming convention. Landsat Collection 2 uses the same naming convention as Collection 1 which is as follows (lifted from their docs at `https://prd-wret.s3.us-west-2.amazonaws.com/assets/palladium/production/atoms/files/LSDS-1656_%20Landsat_Collection1_L1_Product_Definition-v2.pdf`\n",
    "\n",
    "```LXSS_LLLL_PPPRRR_YYYYMMDD_yyyymmdd_CC_TX```\n",
    "where\n",
    "```\n",
    "L = Landsat  (constant)\n",
    "X = Sensor  (C = OLI / TIRS, O = OLI-only, T= TIRS-only, E = ETM+, T = TM, M= MSS)\n",
    "SS = Satellite  (e.g., 04 for Landsat 4, 05 for Landsat 5, 07 for Landsat 7, etc.) \n",
    "LLLL = Processing  level  (L1TP, L1GT, L1GS)\n",
    "PPP  = WRS path\n",
    "RRR  = WRS row\n",
    "YYYYMMDD = Acquisition  Year (YYYY) / Month  (MM) / Day  (DD) \n",
    "yyyymmdd  = Processing  Year (yyyy) / Month  (mm) / Day (dd)\n",
    "CC = Collection  number  (e.g., 01, 02, etc.) \n",
    "TX= RT for Real-Time, T1 for Tier 1 (highest quality), and T2 for Tier 2\n",
    "\n",
    "```\n",
    "\n",
    "Thus, we're looking for scenes coded in the following way:\n",
    "`LE07_????_PPP_RRR_YYYMMDD_yyyymmdd_02_T1` for Landsat 7 and\n",
    "`LT05_????_PPP_RRR_YYYMMDD_yyyymmdd_02_T1` for Landsat 5\n",
    "(but T1 might be wrong there)\n"
   ]
  },
  {
   "cell_type": "markdown",
   "metadata": {},
   "source": [
    "We are re-implementing (to the best of our abilities) the methods from Wang et al (in review). Jon Wang's paper said:\n",
    "\n",
    "```To extend our AGB predictions through space and time, we used time series (1984 – 2014) of 30 m surface reflectance data from the Thematic Mapper onboard Landsat 5 and the Enhanced Thematic Mapper Plus onboard Landsat 7. We used the GLAS-derived estimates of AGB as a response variable and the mean growing season (June, July, August) and non-growing season values for each of Landsat’s six spectral reflectance bands as the predictors in an ensemble machine learning model```\n",
    "\n",
    "So we'll be looking for:\n",
    "* Landsat 5 (Thematic mapper) and 7 (Enhanced Thematic Mapper Plus)\n",
    "* Growing season (June-August) and non-growing season (Sept-May) averages at an annual timestep. <--- will need to figure out around the calendar whether we want consecutive\n",
    "* All six spectral reflectance bands\n",
    "* We'll do a quality thresholding of cloudless cover for now based upon their thresholding"
   ]
  },
  {
   "cell_type": "markdown",
   "metadata": {},
   "source": [
    "In orienting myeslf, these are the potential collection options I've figured out (by poking around here on the [sat-api catalog](https://landsatlook.usgs.gov/sat-api/collections):\n",
    "* `landsat-c2l2-sr` Landsat Collection 2 Level-2 UTM Surface Reflectance (SR) Product\n",
    "* `landsat-c2l2alb-sr` Landsat Collection 2 Level-2 Albers Surface Reflectance (SR) Product\n",
    "* `landsat-c1l2alb-sr` Landsat Collection 1 Level-2 Albers Surface Reflectance (SR) Product <-- we don't want this one (b/c we'll go with collection 2)\n",
    "* `landsat-c2l1` Landsat Collection 2 Level-1 Product <-- don't think we want this because we want surface reflectance\n"
   ]
  },
  {
   "cell_type": "markdown",
   "metadata": {},
   "source": [
    "Run this once to apply the aws session to the rasterio environment"
   ]
  },
  {
   "cell_type": "markdown",
   "metadata": {},
   "source": [
    "There are different kinds of QA/QC bands contained in L2SP:\n",
    "* SR_CLOUD_QA - I think we want this one because anything less than 2 is either just dark dense vegetation or no flags. everything above is stuff like water, snow, cloud (different levels of obscurity). This is the result of the fmask algorithm from Zhu et al.\n",
    "* QA_PIXEL - this gets a little more specific and goes intot different kinds of clouds. Super interesting but I don't think we want to use it."
   ]
  },
  {
   "cell_type": "markdown",
   "metadata": {},
   "source": [
    "Pull in the SR_CLOUD_QA and use as a mask - see Table 5-3 in https://prd-wret.s3.us-west-2.amazonaws.com/assets/palladium/production/atoms/files/LSDS-1370_L4-7_C1-SurfaceReflectance-LEDAPS_ProductGuide-v3.pdf for description of cloud integer values to select which ones to use as drop. For now I'll drop anything greater than 1 (0= no QA concerns and 1 is Dark dense vegetation (DDV))."
   ]
  },
  {
   "cell_type": "markdown",
   "metadata": {},
   "source": [
    "First we make the query using sat-search to find every file in the STAC catalog that we want. We'll store that list of files. We'll do this first for a single tile (in this first exmaple just covering Washington State) but then we'll loop through in 1-degree by 1-degree tiles. "
   ]
  },
  {
   "cell_type": "code",
   "execution_count": 77,
   "metadata": {},
   "outputs": [],
   "source": [
    "with rio.Env(aws_session):\n",
    "    test_ds = rioxarray.open_rasterio('s3://usgs-landsat/collection02/level-2/standard/'+\\\n",
    "                            'tm/2003/044/029/LT05_L2SP_044029_20030827_20200904_02_T1/'+\\\n",
    "                            'LT05_L2SP_044029_20030827_20200904_02_T1_SR_B4.TIF')"
   ]
  },
  {
   "cell_type": "code",
   "execution_count": 86,
   "metadata": {},
   "outputs": [
    {
     "data": {
      "text/plain": [
       "<matplotlib.image.AxesImage at 0x7f4f260281f0>"
      ]
     },
     "execution_count": 86,
     "metadata": {},
     "output_type": "execute_result"
    },
    {
     "data": {
      "image/png": "[encoded data removed]",
      "text/plain": [
       "<Figure size 432x288 with 2 Axes>"
      ]
     },
     "metadata": {
      "needs_background": "light"
     },
     "output_type": "display_data"
    }
   ],
   "source": [
    "xr.plot.imshow(test_ds.sel(band=1)*0.0000275-.2, vmin=0, vmax=1)"
   ]
  },
  {
   "cell_type": "markdown",
   "metadata": {},
   "source": [
    "Due to memory constraints we'll average repeated captures of the same scene. Then we'll average all of those averaged scenes together to create the full mesh. As of now we're just doing a straight average but ideally we would carry the weights of the number of repeats of each scene and do a weighted average when quilting the scenes together.\n"
   ]
  },
  {
   "cell_type": "code",
   "execution_count": 2,
   "metadata": {},
   "outputs": [],
   "source": [
    "access_key_id, secret_access_key = access_credentials()"
   ]
  },
  {
   "cell_type": "markdown",
   "metadata": {},
   "source": [
    "Then we take the list of files for a given year to average across growing season for each of the tiles and write it out to a mapper with those specifications."
   ]
  },
  {
   "cell_type": "code",
   "execution_count": 3,
   "metadata": {},
   "outputs": [
    {
     "data": {
      "text/plain": [
       "<dask.config.set at 0x7f423c522670>"
      ]
     },
     "execution_count": 3,
     "metadata": {},
     "output_type": "execute_result"
    }
   ],
   "source": [
    "dask.config.set({\"array.slicing.split_large_chunks\": True})"
   ]
  },
  {
   "cell_type": "code",
   "execution_count": 4,
   "metadata": {},
   "outputs": [],
   "source": [
    "gdf = gpd.read_file('https://prd-wret.s3-us-west-2.amazonaws.com/assets/'\n",
    "                   'palladium/production/s3fs-public/atoms/files/'\n",
    "                   'WRS2_descending_0.zip')"
   ]
  },
  {
   "cell_type": "code",
   "execution_count": 5,
   "metadata": {},
   "outputs": [],
   "source": [
    "washington_scenes = gdf.cx[-125:-115,45:49]"
   ]
  },
  {
   "cell_type": "code",
   "execution_count": 6,
   "metadata": {},
   "outputs": [],
   "source": [
    "\n",
    "# @dask.delayed(pure=True, traverse=False)\n",
    "def scene_seasonal_average(path, row, year, bucket, access_key_id, secret_access_key,\n",
    "                           bands_of_interest='all', season='JJA'):\n",
    "    '''\n",
    "    Given location/time specifications will grab all valid scenes,\n",
    "    mask each according to its time-specific cloud QA and then \n",
    "    return average across all masked scenes\n",
    "\n",
    "    Parameters\n",
    "    ----------\n",
    "    path: int\n",
    "        the integer value for the scene's path (the swath, like longitude)\n",
    "    row: int\n",
    "        the integer value for the scene's row (location like latitude)\n",
    "    year: int\n",
    "        the calendar year you're processing- currently only working on boreal summer.\n",
    "    bucket: str\n",
    "        The path to where your outputs will be written.\n",
    "    access_key_id : str\n",
    "        Key ID for AWS credentials\n",
    "    secret_access_key : str\n",
    "        Secret access key for AWS credentials\n",
    "    bands_of_interest : list\n",
    "        List of the bands you want to process. If none is specified it will use all six.\n",
    "    season: str\n",
    "        Season to process. Currently only boreal summer is supported.\n",
    "\n",
    "    Returns\n",
    "    -------\n",
    "    url: str\n",
    "        The path where your dataset is getting written.\n",
    "    '''\n",
    "    aws_session = AWSSession(boto3.Session(aws_access_key_id=access_key_id,\n",
    "                                          aws_secret_access_key=secret_access_key),\n",
    "                            requester_pays=True)#profile_name='default'), requester_pays=True) \n",
    "    fs = S3FileSystem(key=access_key_id,\n",
    "                    secret=secret_access_key, requester_pays=True)\n",
    "\n",
    "    with dask.config.set(scheduler='single-threaded'): # this? **** #threads #single-threaded # threads??\n",
    "        with rio.Env(aws_session):\n",
    "            test_credentials(aws_session)\n",
    "        #             print('it works!')\n",
    "\n",
    "            # set where you'll save the final seasonal average\n",
    "            url = f'{bucket}{path}/{row}/{year}/{season}_reflectance.zarr'\n",
    "            mapper = fs.get_mapper(url) #used to be fsspec\n",
    "            # all of this is just to get the right formatting stuff to access the scenes\n",
    "\n",
    "            landsat_bucket = 's3://usgs-landsat/collection02/level-2/standard/tm/{}/{:03d}/{:03d}/'\n",
    "            month_keys = {'JJA': ['06', '07', '08']}\n",
    "            valid_files, ds_list = [], []\n",
    "\n",
    "            if bands_of_interest=='all':\n",
    "                bands_of_interest = ['SR_B1', 'SR_B2', 'SR_B3', \n",
    "                                         'SR_B4', 'SR_B5', 'SR_B7']\n",
    "            scene_stores = fs.ls(landsat_bucket.format(year, path, row))\n",
    "            summer_datestamps = ['{}{}'.format(year, month) for month in month_keys[season]]\n",
    "            for scene_store in scene_stores:\n",
    "                for summer_datestamp in summer_datestamps:\n",
    "                    if summer_datestamp in scene_store:\n",
    "                        valid_files.append(scene_store)\n",
    "            for file in valid_files:\n",
    "                scene_id = file[-40:]\n",
    "                url = 's3://{}/{}'.format(file, scene_id)\n",
    "                utm_zone = get_scene_utm_zone(url)\n",
    "                cloud_mask_url = url+'_SR_CLOUD_QA.TIF'\n",
    "                cog_mask = cloud_qa(cloud_mask_url)\n",
    "                ds_list.append(grab_ds(url, bands_of_interest, cog_mask, utm_zone))\n",
    "            \n",
    "            seasonal_average = average_stack_of_scenes(ds_list)\n",
    "            \n",
    "            write_out(seasonal_average.chunk({'band': 6, 'x': 1024, 'y': 1024}), mapper)\n",
    "            return url"
   ]
  },
  {
   "cell_type": "code",
   "execution_count": 16,
   "metadata": {},
   "outputs": [],
   "source": [
    "bucket = 's3://carbonplan-climatetrace/v1/'\n",
    "# PANGEO_SCRATCH=os.environ['PANGEO_SCRATCH_PREFIX']+'/orianac/'\n",
    "tasks=[]\n",
    "rerun=True\n",
    "if rerun:\n",
    "    with rio.Env(aws_session): # delete\n",
    "#         for every year in GLAS record\n",
    "        for year in np.arange(2003,2004):#2009):\n",
    "            # for every row path in the domain\n",
    "            for [path, row] in washington_scenes[['PATH', 'ROW']].values[0:2]:\n",
    "                for season in ['JJA']:\n",
    "                        tasks.append(\n",
    "                            client.compute(\n",
    "                        scene_seasonal_average(path, row, year, bucket, access_key_id, \n",
    "                                               secret_access_key,\n",
    "                                                              bands_of_interest='all',\n",
    "                                                              season=season),\n",
    "                            retries=4))"
   ]
  },
  {
   "cell_type": "code",
   "execution_count": 17,
   "metadata": {},
   "outputs": [
    {
     "data": {
      "text/plain": [
       "[<Future: pending, key: scene_seasonal_average-4b7f8478312e71c3b5e4d81584688d5f>,\n",
       " <Future: pending, key: scene_seasonal_average-cac1da22a9226b57d1855f10e594a247>]"
      ]
     },
     "execution_count": 17,
     "metadata": {},
     "output_type": "execute_result"
    },
    {
     "name": "stderr",
     "output_type": "stream",
     "text": [
      "distributed.client - ERROR - Failed to reconnect to scheduler after 10.00 seconds, closing client\n",
      "_GatheringFuture exception was never retrieved\n",
      "future: <_GatheringFuture finished exception=CancelledError()>\n",
      "asyncio.exceptions.CancelledError\n",
      "Exception in callback None()\n",
      "handle: <Handle cancelled>\n",
      "Traceback (most recent call last):\n",
      "  File \"/srv/conda/envs/notebook/lib/python3.8/site-packages/tornado/iostream.py\", line 1391, in _do_ssl_handshake\n",
      "    self.socket.do_handshake()\n",
      "  File \"/srv/conda/envs/notebook/lib/python3.8/ssl.py\", line 1309, in do_handshake\n",
      "    self._sslobj.do_handshake()\n",
      "ssl.SSLCertVerificationError: [SSL: CERTIFICATE_VERIFY_FAILED] certificate verify failed: self signed certificate (_ssl.c:1125)\n",
      "\n",
      "During handling of the above exception, another exception occurred:\n",
      "\n",
      "Traceback (most recent call last):\n",
      "  File \"/srv/conda/envs/notebook/lib/python3.8/asyncio/events.py\", line 81, in _run\n",
      "    self._context.run(self._callback, *self._args)\n",
      "  File \"/srv/conda/envs/notebook/lib/python3.8/site-packages/tornado/platform/asyncio.py\", line 189, in _handle_events\n",
      "    handler_func(fileobj, events)\n",
      "  File \"/srv/conda/envs/notebook/lib/python3.8/site-packages/tornado/iostream.py\", line 696, in _handle_events\n",
      "    self._handle_read()\n",
      "  File \"/srv/conda/envs/notebook/lib/python3.8/site-packages/tornado/iostream.py\", line 1478, in _handle_read\n",
      "    self._do_ssl_handshake()\n",
      "  File \"/srv/conda/envs/notebook/lib/python3.8/site-packages/tornado/iostream.py\", line 1409, in _do_ssl_handshake\n",
      "    return self.close(exc_info=err)\n",
      "  File \"/srv/conda/envs/notebook/lib/python3.8/site-packages/tornado/iostream.py\", line 611, in close\n",
      "    self._signal_closed()\n",
      "  File \"/srv/conda/envs/notebook/lib/python3.8/site-packages/tornado/iostream.py\", line 641, in _signal_closed\n",
      "    self._ssl_connect_future.exception()\n",
      "asyncio.exceptions.CancelledError\n"
     ]
    }
   ],
   "source": [
    "tasks"
   ]
  },
  {
   "cell_type": "code",
   "execution_count": 9,
   "metadata": {},
   "outputs": [
    {
     "ename": "NameError",
     "evalue": "name 'cloud_qa' is not defined",
     "output_type": "error",
     "traceback": [
      "\u001b[0;31m---------------------------------------------------------------------------\u001b[0m",
      "\u001b[0;31mNameError\u001b[0m                                 Traceback (most recent call last)",
      "\u001b[0;32m<ipython-input-9-3b061001edf3>\u001b[0m in \u001b[0;36m<module>\u001b[0;34m\u001b[0m\n\u001b[1;32m      1\u001b[0m \u001b[0;31m# this is a good test on one cell to see it's working\u001b[0m\u001b[0;34m\u001b[0m\u001b[0;34m\u001b[0m\u001b[0;34m\u001b[0m\u001b[0m\n\u001b[1;32m      2\u001b[0m \u001b[0murl\u001b[0m\u001b[0;34m=\u001b[0m\u001b[0;34m's3://carbonplan-climatetrace/v1/'\u001b[0m\u001b[0;34m\u001b[0m\u001b[0;34m\u001b[0m\u001b[0m\n\u001b[0;32m----> 3\u001b[0;31m \u001b[0mds\u001b[0m \u001b[0;34m=\u001b[0m \u001b[0mscene_seasonal_average\u001b[0m\u001b[0;34m(\u001b[0m\u001b[0;36m46\u001b[0m\u001b[0;34m,\u001b[0m \u001b[0;36m27\u001b[0m\u001b[0;34m,\u001b[0m \u001b[0;36m2005\u001b[0m\u001b[0;34m,\u001b[0m \u001b[0murl\u001b[0m\u001b[0;34m,\u001b[0m \u001b[0maccess_key_id\u001b[0m\u001b[0;34m,\u001b[0m \u001b[0msecret_access_key\u001b[0m\u001b[0;34m)\u001b[0m\u001b[0;31m#, aws_session)#.chunk({'band': 6, 'x': 1024, 'y': 1024})\u001b[0m\u001b[0;34m\u001b[0m\u001b[0;34m\u001b[0m\u001b[0m\n\u001b[0m",
      "\u001b[0;32m<ipython-input-6-10e66662ea3b>\u001b[0m in \u001b[0;36mscene_seasonal_average\u001b[0;34m(path, row, year, bucket, access_key_id, secret_access_key, bands_of_interest, season)\u001b[0m\n\u001b[1;32m     65\u001b[0m                 \u001b[0mutm_zone\u001b[0m \u001b[0;34m=\u001b[0m \u001b[0mget_scene_utm_zone\u001b[0m\u001b[0;34m(\u001b[0m\u001b[0murl\u001b[0m\u001b[0;34m)\u001b[0m\u001b[0;34m\u001b[0m\u001b[0;34m\u001b[0m\u001b[0m\n\u001b[1;32m     66\u001b[0m                 \u001b[0mcloud_mask_url\u001b[0m \u001b[0;34m=\u001b[0m \u001b[0murl\u001b[0m\u001b[0;34m+\u001b[0m\u001b[0;34m'_SR_CLOUD_QA.TIF'\u001b[0m\u001b[0;34m\u001b[0m\u001b[0;34m\u001b[0m\u001b[0m\n\u001b[0;32m---> 67\u001b[0;31m                 \u001b[0mcog_mask\u001b[0m \u001b[0;34m=\u001b[0m \u001b[0mcloud_qa\u001b[0m\u001b[0;34m(\u001b[0m\u001b[0mcloud_mask_url\u001b[0m\u001b[0;34m)\u001b[0m\u001b[0;34m\u001b[0m\u001b[0;34m\u001b[0m\u001b[0m\n\u001b[0m\u001b[1;32m     68\u001b[0m                 \u001b[0mds_list\u001b[0m\u001b[0;34m.\u001b[0m\u001b[0mappend\u001b[0m\u001b[0;34m(\u001b[0m\u001b[0mgrab_ds\u001b[0m\u001b[0;34m(\u001b[0m\u001b[0murl\u001b[0m\u001b[0;34m,\u001b[0m \u001b[0mbands_of_interest\u001b[0m\u001b[0;34m,\u001b[0m \u001b[0mcog_mask\u001b[0m\u001b[0;34m,\u001b[0m \u001b[0mutm_zone\u001b[0m\u001b[0;34m)\u001b[0m\u001b[0;34m)\u001b[0m\u001b[0;34m\u001b[0m\u001b[0;34m\u001b[0m\u001b[0m\n\u001b[1;32m     69\u001b[0m             \u001b[0mseasonal_average\u001b[0m \u001b[0;34m=\u001b[0m \u001b[0maverage_stack_of_scenes\u001b[0m\u001b[0;34m(\u001b[0m\u001b[0mds_list\u001b[0m\u001b[0;34m)\u001b[0m\u001b[0;34m\u001b[0m\u001b[0;34m\u001b[0m\u001b[0m\n",
      "\u001b[0;31mNameError\u001b[0m: name 'cloud_qa' is not defined"
     ]
    }
   ],
   "source": [
    "# this is a good test on one cell to see it's working\n",
    "url='s3://carbonplan-climatetrace/v1/'\n",
    "ds = scene_seasonal_average(46, 27, 2005, url, access_key_id, secret_access_key)#, aws_session)#.chunk({'band': 6, 'x': 1024, 'y': 1024})"
   ]
  },
  {
   "cell_type": "code",
   "execution_count": 23,
   "metadata": {},
   "outputs": [],
   "source": [
    "washington_scenes = add_landsat_utm_zone(washington_scenes)"
   ]
  },
  {
   "cell_type": "markdown",
   "metadata": {},
   "source": [
    "### Now that you've inspected the landsat scenes,make sure you have the correct utm zones for each row/path combo, because sometimes they use one that is not what you would expect. For now we'll just do it once, but should probs check that it doesn't change year-to-year"
   ]
  },
  {
   "cell_type": "markdown",
   "metadata": {},
   "source": [
    "# TODO:\n",
    "* ~fix why the attrs aren't working in zarr~\n",
    "* ~rerun all of the washington state scenes~\n",
    "\n",
    "THEN\n",
    "* ~add column for utm in the scene shapefile~\n",
    "* ~loop through all scenes, grab utm from sample file and fill into df~\n",
    "* ~then use that column to force the projection~\n",
    "* rerun the projections and create biomass dataframe"
   ]
  },
  {
   "cell_type": "markdown",
   "metadata": {},
   "source": [
    "### Now let's link with GLAS. We'll loop through every 10x10 degree GLAS tile and repeat this process"
   ]
  },
  {
   "cell_type": "markdown",
   "metadata": {},
   "source": [
    "### copy over single biomass tile"
   ]
  },
  {
   "cell_type": "code",
   "execution_count": 48,
   "metadata": {
    "tags": []
   },
   "outputs": [],
   "source": [
    "copy=False\n",
    "if copy:\n",
    "    source_mapper = fsspec.get_mapper('gs://carbonplan-climatetrace/intermediates/biomass/50N_120W.zarr')\n",
    "    # url = os.environ['PANGEO_SCRATCH_PREFIX']+'/orianac/'\n",
    "    url = 's3://carbonplan-climatetrace/v1/'\n",
    "    dest_mapper = fs.get_mapper('carbonplan-climatetrace/v1/biomass/50N_120W.zarr')\n",
    "    # fsspec.get_mapper(url+'biomass/50N_120W.zarr', storage_options={'profile': 'default'})\n",
    "    ds = xr.open_zarr(source_mapper)\n",
    "    ds = ds.drop('allometric_eq')\n",
    "    with dask.config.set(scheduler='threads'): # this? **** #threads #single-threaded\n",
    "        ds.to_zarr(dest_mapper, mode='w', consolidated=True)"
   ]
  },
  {
   "cell_type": "markdown",
   "metadata": {},
   "source": [
    "### Load in the biomass dataset for this one tile"
   ]
  },
  {
   "cell_type": "code",
   "execution_count": 24,
   "metadata": {},
   "outputs": [],
   "source": [
    "ul_lat, ul_lon = 50, 120\n",
    "file_mapper = fs.get_mapper('carbonplan-climatetrace/v1/biomass/{}N_{}W.zarr'.format(ul_lat, ul_lon))\n",
    "# biomass = xr.open_zarr(PANGEO_SCRATCH+'biomass/{}N_{}W.zarr'.format(ul_lat, ul_lon), consolidated=True).load()\n",
    "\n",
    "biomass = xr.open_zarr(file_mapper, consolidated=True).load().drop('spatial_ref')\n",
    "biomass_df = biomass.stack(unique_index=(\"record_index\", \"shot_number\")).to_dataframe().dropna(how='all')"
   ]
  },
  {
   "cell_type": "markdown",
   "metadata": {},
   "source": [
    "### Convert it to a geodataframe and attach the landsat row/col info to it. This will form the mapping from IceSAT to Landsat."
   ]
  },
  {
   "cell_type": "code",
   "execution_count": 25,
   "metadata": {},
   "outputs": [],
   "source": [
    "biomass_gdf = gpd.GeoDataFrame(\n",
    "    biomass_df, geometry=gpd.points_from_xy(biomass_df.lon, biomass_df.lat)).set_crs(\"EPSG:4326\")\n",
    "linked_gdf = gpd.sjoin(biomass_gdf, \n",
    "                       washington_scenes, #gdf.cx[-125:-115,45:49], # gdf.cx[-ul_lon:-ul_lon+10,ul_lat-10:ul_lat], \n",
    "                       how='inner') # 'left' # by selecting inner you're grabbing the intersection (so dropping any shots \n",
    "#that don't have scenes or scenes that don't have shots)"
   ]
  },
  {
   "cell_type": "markdown",
   "metadata": {},
   "source": [
    "### Now you have the row and path for each shot. Let's now get the url to the appropriate COG. For this we'll need the "
   ]
  },
  {
   "cell_type": "code",
   "execution_count": 27,
   "metadata": {},
   "outputs": [],
   "source": [
    "def convert_to_utm(df):\n",
    "    return utm.from_latlon(df['lat'], df['lon'], force_zone_number=df['landsat_utm_zone'])"
   ]
  },
  {
   "cell_type": "code",
   "execution_count": 28,
   "metadata": {},
   "outputs": [],
   "source": [
    "def add_projection_info(df):\n",
    "    projection_info = df.apply(convert_to_utm, axis=1).to_list()\n",
    "    projected_column_names = ['proj_x', 'proj_y', 'utm_zone', 'utm_letter']\n",
    "    projection_df = pd.DataFrame(projection_info, columns=projected_column_names, index=df.index)\n",
    "    updated_df = pd.concat([df, projection_df], axis=1)\n",
    "    return updated_df"
   ]
  },
  {
   "cell_type": "code",
   "execution_count": 29,
   "metadata": {},
   "outputs": [],
   "source": [
    "def grab_year(df):\n",
    "    return datetime.fromtimestamp(df['time']).year"
   ]
  },
  {
   "cell_type": "code",
   "execution_count": 30,
   "metadata": {},
   "outputs": [],
   "source": [
    "def add_linking_info(df):\n",
    "    df = add_projection_info(df)\n",
    "    df['year'] = df.apply(grab_year, axis=1)\n",
    "    df['url'] = df.apply(build_url, axis=1)\n",
    "    return df"
   ]
  },
  {
   "cell_type": "code",
   "execution_count": 31,
   "metadata": {},
   "outputs": [],
   "source": [
    "def build_url(df):\n",
    "    return 's3://carbonplan-climatetrace/v1/{}/{}/{}/JJA_reflectance.zarr'.format(df['PATH'], \n",
    "                                                                                   df['ROW'], \n",
    "                                                                                   df['year'])"
   ]
  },
  {
   "cell_type": "code",
   "execution_count": 32,
   "metadata": {},
   "outputs": [],
   "source": [
    "linked_gdf = add_linking_info(linked_gdf)"
   ]
  },
  {
   "cell_type": "markdown",
   "metadata": {},
   "source": [
    "Do all unique row/path/year combos at same time since they'll be grabbing the same file.\n",
    "Open the file and loop through each x/y location to get reflectance values"
   ]
  },
  {
   "cell_type": "code",
   "execution_count": 37,
   "metadata": {},
   "outputs": [],
   "source": [
    "unique_urls = linked_gdf['url'].unique()"
   ]
  },
  {
   "cell_type": "code",
   "execution_count": 33,
   "metadata": {},
   "outputs": [],
   "source": [
    "def create_combined_landsat_biomass_df(landsat_ds, biomass_df, \n",
    "                                       biomass_variables=['biomass', 'glas_elev', 'ecoregion']):\n",
    "    selected_landsat = landsat_ds.sel(x=xr.DataArray(biomass_df['proj_x'].values, dims='shot'), \n",
    "                      y=xr.DataArray(biomass_df['proj_y'].values, dims='shot'),\n",
    "                      method='nearest').to_dataframe().drop(['x', 'y'], axis=1)\n",
    "    selected_landsat.index = biomass_df.index\n",
    "    out_df = pd.concat([biomass_df[biomass_variables], selected_landsat], axis=1)\n",
    "    return out_df"
   ]
  },
  {
   "cell_type": "code",
   "execution_count": 148,
   "metadata": {},
   "outputs": [],
   "source": [
    "washington_row_path_strings = ['{}/{}'.format(row, path) for (row, path) in washington_row_paths]"
   ]
  },
  {
   "cell_type": "code",
   "execution_count": 66,
   "metadata": {},
   "outputs": [
    {
     "data": {
      "text/plain": [
       "{'paths': ['s3://carbonplan-climatetrace/v1/washington_biomass_landsat.parquet'],\n",
       " 'partitions_values': {}}"
      ]
     },
     "execution_count": 66,
     "metadata": {},
     "output_type": "execute_result"
    }
   ],
   "source": [
    "wr.s3.to_parquet(\n",
    "    df=washington_df, index=True,\n",
    "    path='s3://carbonplan-climatetrace/v1/washington_biomass_landsat.parquet', \n",
    "    boto3_session=boto3.Session(aws_access_key_id=access_key_id,\n",
    "                                          aws_secret_access_key=secret_access_key)\n",
    ")"
   ]
  },
  {
   "cell_type": "code",
   "execution_count": 67,
   "metadata": {},
   "outputs": [
    {
     "name": "stdout",
     "output_type": "stream",
     "text": [
      "s3://carbonplan-climatetrace/v1/45/29/2003/JJA_reflectance.zarr had no shots\n",
      "s3://carbonplan-climatetrace/v1/48/26/2003/JJA_reflectance.zarr had no shots\n",
      "s3://carbonplan-climatetrace/v1/48/27/2003/JJA_reflectance.zarr had no shots\n",
      "s3://carbonplan-climatetrace/v1/48/28/2003/JJA_reflectance.zarr had no shots\n",
      "s3://carbonplan-climatetrace/v1/48/29/2003/JJA_reflectance.zarr had no shots\n",
      "s3://carbonplan-climatetrace/v1/46/26/2003/JJA_reflectance.zarr had no shots\n",
      "s3://carbonplan-climatetrace/v1/46/27/2003/JJA_reflectance.zarr had no shots\n",
      "s3://carbonplan-climatetrace/v1/46/28/2003/JJA_reflectance.zarr had no shots\n",
      "s3://carbonplan-climatetrace/v1/46/29/2003/JJA_reflectance.zarr had no shots\n",
      "s3://carbonplan-climatetrace/v1/49/26/2003/JJA_reflectance.zarr had no shots\n",
      "s3://carbonplan-climatetrace/v1/49/27/2003/JJA_reflectance.zarr had no shots\n",
      "s3://carbonplan-climatetrace/v1/47/26/2003/JJA_reflectance.zarr had no shots\n",
      "s3://carbonplan-climatetrace/v1/47/27/2003/JJA_reflectance.zarr had no shots\n",
      "s3://carbonplan-climatetrace/v1/47/28/2003/JJA_reflectance.zarr had no shots\n",
      "s3://carbonplan-climatetrace/v1/47/29/2003/JJA_reflectance.zarr had no shots\n",
      "s3://carbonplan-climatetrace/v1/45/29/2004/JJA_reflectance.zarr had no shots\n",
      "s3://carbonplan-climatetrace/v1/48/26/2004/JJA_reflectance.zarr had no shots\n",
      "s3://carbonplan-climatetrace/v1/48/27/2004/JJA_reflectance.zarr had no shots\n",
      "s3://carbonplan-climatetrace/v1/48/28/2004/JJA_reflectance.zarr had no shots\n",
      "s3://carbonplan-climatetrace/v1/48/29/2004/JJA_reflectance.zarr had no shots\n",
      "s3://carbonplan-climatetrace/v1/46/27/2004/JJA_reflectance.zarr had no shots\n",
      "s3://carbonplan-climatetrace/v1/46/28/2004/JJA_reflectance.zarr had no shots\n",
      "s3://carbonplan-climatetrace/v1/46/29/2004/JJA_reflectance.zarr had no shots\n",
      "s3://carbonplan-climatetrace/v1/49/26/2004/JJA_reflectance.zarr had no shots\n",
      "s3://carbonplan-climatetrace/v1/49/27/2004/JJA_reflectance.zarr had no shots\n",
      "s3://carbonplan-climatetrace/v1/47/26/2004/JJA_reflectance.zarr had no shots\n",
      "s3://carbonplan-climatetrace/v1/47/27/2004/JJA_reflectance.zarr had no shots\n",
      "s3://carbonplan-climatetrace/v1/47/28/2004/JJA_reflectance.zarr had no shots\n",
      "s3://carbonplan-climatetrace/v1/47/29/2004/JJA_reflectance.zarr had no shots\n",
      "s3://carbonplan-climatetrace/v1/45/29/2005/JJA_reflectance.zarr had no shots\n",
      "s3://carbonplan-climatetrace/v1/48/26/2005/JJA_reflectance.zarr had no shots\n",
      "s3://carbonplan-climatetrace/v1/48/27/2005/JJA_reflectance.zarr had no shots\n",
      "s3://carbonplan-climatetrace/v1/48/28/2005/JJA_reflectance.zarr had no shots\n",
      "s3://carbonplan-climatetrace/v1/48/29/2005/JJA_reflectance.zarr had no shots\n",
      "s3://carbonplan-climatetrace/v1/46/26/2005/JJA_reflectance.zarr had no shots\n",
      "s3://carbonplan-climatetrace/v1/46/27/2005/JJA_reflectance.zarr had no shots\n",
      "s3://carbonplan-climatetrace/v1/46/28/2005/JJA_reflectance.zarr had no shots\n",
      "s3://carbonplan-climatetrace/v1/46/29/2005/JJA_reflectance.zarr had no shots\n",
      "s3://carbonplan-climatetrace/v1/49/26/2005/JJA_reflectance.zarr had no shots\n",
      "s3://carbonplan-climatetrace/v1/49/27/2005/JJA_reflectance.zarr had no shots\n",
      "s3://carbonplan-climatetrace/v1/47/26/2005/JJA_reflectance.zarr had no shots\n",
      "s3://carbonplan-climatetrace/v1/47/27/2005/JJA_reflectance.zarr had no shots\n",
      "s3://carbonplan-climatetrace/v1/47/28/2005/JJA_reflectance.zarr had no shots\n",
      "s3://carbonplan-climatetrace/v1/47/29/2005/JJA_reflectance.zarr had no shots\n",
      "s3://carbonplan-climatetrace/v1/45/29/2006/JJA_reflectance.zarr had no shots\n",
      "s3://carbonplan-climatetrace/v1/48/26/2006/JJA_reflectance.zarr had no shots\n",
      "s3://carbonplan-climatetrace/v1/48/27/2006/JJA_reflectance.zarr had no shots\n",
      "s3://carbonplan-climatetrace/v1/48/28/2006/JJA_reflectance.zarr had no shots\n",
      "s3://carbonplan-climatetrace/v1/48/29/2006/JJA_reflectance.zarr had no shots\n",
      "s3://carbonplan-climatetrace/v1/46/26/2006/JJA_reflectance.zarr had no shots\n",
      "s3://carbonplan-climatetrace/v1/46/27/2006/JJA_reflectance.zarr had no shots\n",
      "s3://carbonplan-climatetrace/v1/46/28/2006/JJA_reflectance.zarr had no shots\n",
      "s3://carbonplan-climatetrace/v1/46/29/2006/JJA_reflectance.zarr had no shots\n",
      "s3://carbonplan-climatetrace/v1/49/26/2006/JJA_reflectance.zarr had no shots\n",
      "s3://carbonplan-climatetrace/v1/49/27/2006/JJA_reflectance.zarr had no shots\n",
      "s3://carbonplan-climatetrace/v1/47/26/2006/JJA_reflectance.zarr had no shots\n",
      "s3://carbonplan-climatetrace/v1/47/27/2006/JJA_reflectance.zarr had no shots\n",
      "s3://carbonplan-climatetrace/v1/47/28/2006/JJA_reflectance.zarr had no shots\n",
      "s3://carbonplan-climatetrace/v1/47/29/2006/JJA_reflectance.zarr had no shots\n",
      "s3://carbonplan-climatetrace/v1/45/29/2007/JJA_reflectance.zarr had no shots\n",
      "s3://carbonplan-climatetrace/v1/48/26/2007/JJA_reflectance.zarr had no shots\n",
      "s3://carbonplan-climatetrace/v1/48/27/2007/JJA_reflectance.zarr had no shots\n",
      "s3://carbonplan-climatetrace/v1/48/28/2007/JJA_reflectance.zarr had no shots\n",
      "s3://carbonplan-climatetrace/v1/48/29/2007/JJA_reflectance.zarr had no shots\n",
      "s3://carbonplan-climatetrace/v1/46/26/2007/JJA_reflectance.zarr had no shots\n",
      "s3://carbonplan-climatetrace/v1/46/27/2007/JJA_reflectance.zarr had no shots\n",
      "s3://carbonplan-climatetrace/v1/46/28/2007/JJA_reflectance.zarr had no shots\n",
      "s3://carbonplan-climatetrace/v1/46/29/2007/JJA_reflectance.zarr had no shots\n",
      "s3://carbonplan-climatetrace/v1/49/26/2007/JJA_reflectance.zarr had no shots\n",
      "s3://carbonplan-climatetrace/v1/49/27/2007/JJA_reflectance.zarr had no shots\n",
      "s3://carbonplan-climatetrace/v1/47/26/2007/JJA_reflectance.zarr had no shots\n",
      "s3://carbonplan-climatetrace/v1/47/27/2007/JJA_reflectance.zarr had no shots\n",
      "s3://carbonplan-climatetrace/v1/47/28/2007/JJA_reflectance.zarr had no shots\n",
      "s3://carbonplan-climatetrace/v1/47/29/2007/JJA_reflectance.zarr had no shots\n",
      "s3://carbonplan-climatetrace/v1/45/29/2008/JJA_reflectance.zarr had no shots\n",
      "s3://carbonplan-climatetrace/v1/48/26/2008/JJA_reflectance.zarr had no shots\n",
      "s3://carbonplan-climatetrace/v1/48/27/2008/JJA_reflectance.zarr had no shots\n",
      "s3://carbonplan-climatetrace/v1/48/28/2008/JJA_reflectance.zarr had no shots\n",
      "s3://carbonplan-climatetrace/v1/48/29/2008/JJA_reflectance.zarr had no shots\n",
      "s3://carbonplan-climatetrace/v1/46/26/2008/JJA_reflectance.zarr had no shots\n",
      "s3://carbonplan-climatetrace/v1/46/27/2008/JJA_reflectance.zarr had no shots\n",
      "s3://carbonplan-climatetrace/v1/46/28/2008/JJA_reflectance.zarr had no shots\n",
      "s3://carbonplan-climatetrace/v1/46/29/2008/JJA_reflectance.zarr had no shots\n",
      "s3://carbonplan-climatetrace/v1/49/26/2008/JJA_reflectance.zarr had no shots\n",
      "s3://carbonplan-climatetrace/v1/49/27/2008/JJA_reflectance.zarr had no shots\n",
      "s3://carbonplan-climatetrace/v1/47/26/2008/JJA_reflectance.zarr had no shots\n",
      "s3://carbonplan-climatetrace/v1/47/27/2008/JJA_reflectance.zarr had no shots\n",
      "s3://carbonplan-climatetrace/v1/47/28/2008/JJA_reflectance.zarr had no shots\n",
      "s3://carbonplan-climatetrace/v1/47/29/2008/JJA_reflectance.zarr had no shots\n"
     ]
    },
    {
     "data": {
      "text/plain": [
       "{'paths': ['s3://carbonplan-climatetrace/v1/washington_biomass_landsat.parquet'],\n",
       " 'partitions_values': {}}"
      ]
     },
     "execution_count": 67,
     "metadata": {},
     "output_type": "execute_result"
    }
   ],
   "source": [
    "washington_dfs = []\n",
    "# group the biomass shots according to the scene they overlap\n",
    "groupby = linked_gdf.groupby('url')\n",
    "for year in np.arange(2003,2009):\n",
    "    for (i, (path, row)) in washington_scenes[['PATH', 'ROW']].iterrows():\n",
    "        for season in ['JJA']:\n",
    "            url = f'{bucket}{path}/{row}/{year}/{season}_reflectance.zarr'\n",
    "            try:\n",
    "                shots_one_scene = groupby.get_group(url)\n",
    "                ds = xr.open_zarr(fs.get_mapper(url)).drop('spatial_ref').reflectance.to_dataset(dim='band')\n",
    "                washington_dfs.append(create_combined_landsat_biomass_df(ds, shots_one_scene))\n",
    "            except:\n",
    "                print('{} had no shots'.format(url))\n",
    "washington_df = pd.concat(washington_dfs)\n",
    "wr.s3.to_parquet(\n",
    "    df=washington_df, index=True,\n",
    "    path='s3://carbonplan-climatetrace/v1/washington_biomass_landsat.parquet', \n",
    "    boto3_session=boto3.Session(aws_access_key_id=access_key_id,\n",
    "                                          aws_secret_access_key=secret_access_key)\n",
    ")"
   ]
  },
  {
   "cell_type": "code",
   "execution_count": 105,
   "metadata": {},
   "outputs": [],
   "source": [
    "selected_landsat = ds.sel(x=xr.DataArray(shots_one_scene['proj_x'].values, dims='shot'), \n",
    "      y=xr.DataArray(shots_one_scene['proj_y'].values, dims='shot'),\n",
    "      method='nearest').to_dataframe().drop(['x', 'y'], axis=1)\n",
    "selected_landsat.index = shots_one_scene.index"
   ]
  },
  {
   "cell_type": "markdown",
   "metadata": {},
   "source": [
    "Landsat is in meters with the utm projection of that path/row (need to check for weirdness at utm boundaries).\n",
    "So, if we give it meters locations we can get back the values from dataset."
   ]
  },
  {
   "cell_type": "code",
   "execution_count": 84,
   "metadata": {},
   "outputs": [
    {
     "data": {
      "text/plain": [
       "array([ 8216.33333333,  8869.33333333,  8687.        , 16541.33333333,\n",
       "       12305.66666667,  9986.66666667])"
      ]
     },
     "execution_count": 84,
     "metadata": {},
     "output_type": "execute_result"
    }
   ],
   "source": [
    "x=376435\n",
    "y=5409203\n",
    "ds.sel(x=x, y=y, method='nearest').reflectance.values"
   ]
  },
  {
   "cell_type": "markdown",
   "metadata": {},
   "source": [
    "What we need to do now is make a column of projected x/y in the dataframe"
   ]
  }
 ],
 "metadata": {
  "kernelspec": {
   "display_name": "Python 3",
   "language": "python",
   "name": "python3"
  },
  "language_info": {
   "codemirror_mode": {
    "name": "ipython",
    "version": 3
   },
   "file_extension": ".py",
   "mimetype": "text/x-python",
   "name": "python",
   "nbconvert_exporter": "python",
   "pygments_lexer": "ipython3",
   "version": "3.8.6"
  }
 },
 "nbformat": 4,
 "nbformat_minor": 4
}
