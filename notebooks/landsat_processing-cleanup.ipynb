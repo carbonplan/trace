{
 "cells": [
  {
   "cell_type": "markdown",
   "metadata": {},
   "source": [
    "# Landsat Processing\n",
    "Created by: Oriana Chegwidden"
   ]
  },
  {
   "cell_type": "code",
   "execution_count": 1,
   "metadata": {},
   "outputs": [],
   "source": [
    "%load_ext autoreload\n",
    "%autoreload 2\n",
    "import boto3\n",
    "from rasterio.session import AWSSession\n",
    "from s3fs import S3FileSystem\n",
    "aws_session = AWSSession(boto3.Session(profile_name='default'), \n",
    "                         requester_pays=True)\n",
    "fs = S3FileSystem(profile='default', requester_pays=True)\n",
    "\n",
    "from osgeo.gdal import VSICurlClearCache\n",
    "VSICurlClearCache() \n",
    "import rasterio as rio\n",
    "import xarray as xr\n",
    "import dask\n",
    "import os\n",
    "import fsspec\n",
    "import geopandas as gpd\n",
    "import regionmask as rm\n",
    "# from satsearch import Search\n",
    "from matplotlib.pyplot import imshow\n",
    "from intake import open_stac_item_collection\n",
    "import numcodecs\n",
    "import numpy as np\n",
    "import rioxarray # for the extension to load\n",
    "import matplotlib.pyplot as plt\n",
    "import utm\n",
    "import pandas as pd\n",
    "from datetime import datetime\n",
    "import json\n",
    "import zarr\n",
    "import awswrangler as wr\n",
    "from dask.distributed import PipInstall\n",
    "from dask_gateway import Gateway\n",
    "import fsspec\n",
    "import xgboost as xgb \n",
    "from carbonplan_trace.v1.landsat_preprocess import get_scene_utm_zone, access_credentials, test_credentials, scene_seasonal_average"
   ]
  },
  {
   "cell_type": "code",
   "execution_count": 2,
   "metadata": {
    "tags": []
   },
   "outputs": [],
   "source": [
    "cluster = 'local' # 'remote' 'none'\n",
    "if cluster == 'local':\n",
    "    # spin up local cluster. must be on big enough machine\n",
    "    from dask.distributed import Client\n",
    "    client = Client(n_workers=3, threads_per_worker=1, memory_limit='16GB')\n",
    "    client\n",
    "else:\n",
    "    gateway = Gateway()\n",
    "    options = gateway.cluster_options()\n",
    "    options.environment = {'AWS_REQUEST_PAYER': 'requester'}\n",
    "    options.worker_cores = 1\n",
    "    options.worker_memory = 32\n",
    "    cluster = gateway.new_cluster(cluster_options=options)\n",
    "    cluster.adapt(minimum=1, maximum=10)\n",
    "    cluster\n",
    "    \n",
    "    client = cluster.get_client()"
   ]
  },
  {
   "cell_type": "markdown",
   "metadata": {},
   "source": [
    "Each Landsat scene is stored in cloud optimized geotiff (COG) according to a verbose (but once you understand it, human readable!) naming convention. Landsat Collection 2 uses the same naming convention as Collection 1 which is as follows (lifted from their docs at `https://prd-wret.s3.us-west-2.amazonaws.com/assets/palladium/production/atoms/files/LSDS-1656_%20Landsat_Collection1_L1_Product_Definition-v2.pdf`\n",
    "\n",
    "```LXSS_LLLL_PPPRRR_YYYYMMDD_yyyymmdd_CC_TX```\n",
    "where\n",
    "```\n",
    "L = Landsat  (constant)\n",
    "X = Sensor  (C = OLI / TIRS, O = OLI-only, T= TIRS-only, E = ETM+, T = TM, M= MSS)\n",
    "SS = Satellite  (e.g., 04 for Landsat 4, 05 for Landsat 5, 07 for Landsat 7, etc.) \n",
    "LLLL = Processing  level  (L1TP, L1GT, L1GS)\n",
    "PPP  = WRS path\n",
    "RRR  = WRS row\n",
    "YYYYMMDD = Acquisition  Year (YYYY) / Month  (MM) / Day  (DD) \n",
    "yyyymmdd  = Processing  Year (yyyy) / Month  (mm) / Day (dd)\n",
    "CC = Collection  number  (e.g., 01, 02, etc.) \n",
    "TX= RT for Real-Time, T1 for Tier 1 (highest quality), and T2 for Tier 2\n",
    "\n",
    "```\n",
    "\n",
    "Thus, we're looking for scenes coded in the following way:\n",
    "`LE07_????_PPP_RRR_YYYMMDD_yyyymmdd_02_T1` for Landsat 7 and\n",
    "`LT05_????_PPP_RRR_YYYMMDD_yyyymmdd_02_T1` for Landsat 5\n",
    "(but T1 might be wrong there)\n"
   ]
  },
  {
   "cell_type": "markdown",
   "metadata": {},
   "source": [
    "We are re-implementing (to the best of our abilities) the methods from Wang et al (in review). Jon Wang's paper said:\n",
    "\n",
    "```To extend our AGB predictions through space and time, we used time series (1984 – 2014) of 30 m surface reflectance data from the Thematic Mapper onboard Landsat 5 and the Enhanced Thematic Mapper Plus onboard Landsat 7. We used the GLAS-derived estimates of AGB as a response variable and the mean growing season (June, July, August) and non-growing season values for each of Landsat’s six spectral reflectance bands as the predictors in an ensemble machine learning model```\n",
    "\n",
    "So we'll be looking for:\n",
    "* Landsat 5 (Thematic mapper) and 7 (Enhanced Thematic Mapper Plus)\n",
    "* Growing season (June-August) and non-growing season (Sept-May) averages at an annual timestep. <--- will need to figure out around the calendar whether we want consecutive\n",
    "* All six spectral reflectance bands\n",
    "* We'll do a quality thresholding of cloudless cover for now based upon their thresholding"
   ]
  },
  {
   "cell_type": "markdown",
   "metadata": {},
   "source": [
    "In orienting myeslf, these are the potential collection options I've figured out (by poking around here on the [sat-api catalog](https://landsatlook.usgs.gov/sat-api/collections):\n",
    "* `landsat-c2l2-sr` Landsat Collection 2 Level-2 UTM Surface Reflectance (SR) Product\n",
    "* `landsat-c2l2alb-sr` Landsat Collection 2 Level-2 Albers Surface Reflectance (SR) Product\n",
    "* `landsat-c1l2alb-sr` Landsat Collection 1 Level-2 Albers Surface Reflectance (SR) Product <-- we don't want this one (b/c we'll go with collection 2)\n",
    "* `landsat-c2l1` Landsat Collection 2 Level-1 Product <-- don't think we want this because we want surface reflectance\n"
   ]
  },
  {
   "cell_type": "markdown",
   "metadata": {},
   "source": [
    "Run this once to apply the aws session to the rasterio environment"
   ]
  },
  {
   "cell_type": "markdown",
   "metadata": {},
   "source": [
    "There are different kinds of QA/QC bands contained in L2SP:\n",
    "* SR_CLOUD_QA - I think we want this one because anything less than 2 is either just dark dense vegetation or no flags. everything above is stuff like water, snow, cloud (different levels of obscurity). This is the result of the fmask algorithm from Zhu et al.\n",
    "* QA_PIXEL - this gets a little more specific and goes intot different kinds of clouds. Super interesting but I don't think we want to use it."
   ]
  },
  {
   "cell_type": "markdown",
   "metadata": {},
   "source": [
    "Pull in the SR_CLOUD_QA and use as a mask - see Table 5-3 in https://prd-wret.s3.us-west-2.amazonaws.com/assets/palladium/production/atoms/files/LSDS-1370_L4-7_C1-SurfaceReflectance-LEDAPS_ProductGuide-v3.pdf for description of cloud integer values to select which ones to use as drop. For now I'll drop anything greater than 1 (0= no QA concerns and 1 is Dark dense vegetation (DDV))."
   ]
  },
  {
   "cell_type": "markdown",
   "metadata": {},
   "source": [
    "First we make the query using sat-search to find every file in the STAC catalog that we want. We'll store that list of files. We'll do this first for a single tile (in this first exmaple just covering Washington State) but then we'll loop through in 1-degree by 1-degree tiles. "
   ]
  },
  {
   "cell_type": "code",
   "execution_count": 8,
   "metadata": {},
   "outputs": [],
   "source": [
    "with rio.Env(aws_session):\n",
    "    test_ds = rioxarray.open_rasterio('s3://usgs-landsat/collection02/level-2/standard/'+\\\n",
    "                            'tm/2003/044/029/LT05_L2SP_044029_20030827_20200904_02_T1/'+\\\n",
    "                            'LT05_L2SP_044029_20030827_20200904_02_T1_SR_B4.TIF')"
   ]
  },
  {
   "cell_type": "code",
   "execution_count": 9,
   "metadata": {},
   "outputs": [
    {
     "data": {
      "text/plain": [
       "<matplotlib.image.AxesImage at 0x7efd750c77c0>"
      ]
     },
     "execution_count": 9,
     "metadata": {},
     "output_type": "execute_result"
    },
    {
     "data": {
      "image/png": "[encoded data removed]",
      "text/plain": [
       "<Figure size 432x288 with 2 Axes>"
      ]
     },
     "metadata": {
      "needs_background": "light"
     },
     "output_type": "display_data"
    }
   ],
   "source": [
    "xr.plot.imshow(test_ds.sel(band=1)*0.0000275-.2, vmin=0, vmax=1)"
   ]
  },
  {
   "cell_type": "markdown",
   "metadata": {},
   "source": [
    "Due to memory constraints we'll average repeated captures of the same scene. Then we'll average all of those averaged scenes together to create the full mesh. As of now we're just doing a straight average but ideally we would carry the weights of the number of repeats of each scene and do a weighted average when quilting the scenes together.\n"
   ]
  },
  {
   "cell_type": "code",
   "execution_count": 8,
   "metadata": {},
   "outputs": [],
   "source": [
    "access_key_id, secret_access_key = access_credentials()"
   ]
  },
  {
   "cell_type": "markdown",
   "metadata": {},
   "source": [
    "Then we take the list of files for a given year to average across growing season for each of the tiles and write it out to a mapper with those specifications."
   ]
  },
  {
   "cell_type": "code",
   "execution_count": 9,
   "metadata": {},
   "outputs": [
    {
     "data": {
      "text/plain": [
       "<dask.config.set at 0x7fd819e99310>"
      ]
     },
     "execution_count": 9,
     "metadata": {},
     "output_type": "execute_result"
    }
   ],
   "source": [
    "dask.config.set({\"array.slicing.split_large_chunks\": True})"
   ]
  },
  {
   "cell_type": "code",
   "execution_count": 10,
   "metadata": {},
   "outputs": [],
   "source": [
    "gdf = gpd.read_file('https://prd-wret.s3-us-west-2.amazonaws.com/assets/'\n",
    "                   'palladium/production/s3fs-public/atoms/files/'\n",
    "                   'WRS2_descending_0.zip')"
   ]
  },
  {
   "cell_type": "code",
   "execution_count": 11,
   "metadata": {},
   "outputs": [],
   "source": [
    "washington_scenes = gdf.cx[-125:-115,45:49]"
   ]
  },
  {
   "cell_type": "code",
   "execution_count": 17,
   "metadata": {},
   "outputs": [
    {
     "name": "stderr",
     "output_type": "stream",
     "text": [
      "/srv/conda/envs/notebook/lib/python3.8/site-packages/dask/array/core.py:4337: PerformanceWarning: Increasing number of chunks by factor of 25\n",
      "  result = blockwise(\n",
      "/srv/conda/envs/notebook/lib/python3.8/site-packages/dask/array/core.py:4337: PerformanceWarning: Increasing number of chunks by factor of 25\n",
      "  result = blockwise(\n",
      "/srv/conda/envs/notebook/lib/python3.8/site-packages/dask/array/core.py:4337: PerformanceWarning: Increasing number of chunks by factor of 25\n",
      "  result = blockwise(\n",
      "/srv/conda/envs/notebook/lib/python3.8/site-packages/dask/array/core.py:4337: PerformanceWarning: Increasing number of chunks by factor of 25\n",
      "  result = blockwise(\n",
      "/srv/conda/envs/notebook/lib/python3.8/site-packages/dask/array/core.py:4337: PerformanceWarning: Increasing number of chunks by factor of 25\n",
      "  result = blockwise(\n",
      "/srv/conda/envs/notebook/lib/python3.8/site-packages/dask/array/numpy_compat.py:39: RuntimeWarning: invalid value encountered in true_divide\n",
      "  x = np.divide(x1, x2, out)\n",
      "/srv/conda/envs/notebook/lib/python3.8/site-packages/dask/array/core.py:4337: PerformanceWarning: Increasing number of chunks by factor of 23\n",
      "  result = blockwise(\n",
      "/srv/conda/envs/notebook/lib/python3.8/site-packages/dask/array/core.py:4337: PerformanceWarning: Increasing number of chunks by factor of 23\n",
      "  result = blockwise(\n",
      "/srv/conda/envs/notebook/lib/python3.8/site-packages/dask/array/core.py:4337: PerformanceWarning: Increasing number of chunks by factor of 23\n",
      "  result = blockwise(\n",
      "/srv/conda/envs/notebook/lib/python3.8/site-packages/dask/array/core.py:4337: PerformanceWarning: Increasing number of chunks by factor of 24\n",
      "  result = blockwise(\n",
      "/srv/conda/envs/notebook/lib/python3.8/site-packages/dask/array/core.py:4337: PerformanceWarning: Increasing number of chunks by factor of 23\n",
      "  result = blockwise(\n",
      "/srv/conda/envs/notebook/lib/python3.8/site-packages/dask/array/numpy_compat.py:39: RuntimeWarning: invalid value encountered in true_divide\n",
      "  x = np.divide(x1, x2, out)\n",
      "/srv/conda/envs/notebook/lib/python3.8/site-packages/dask/array/core.py:4337: PerformanceWarning: Increasing number of chunks by factor of 23\n",
      "  result = blockwise(\n",
      "/srv/conda/envs/notebook/lib/python3.8/site-packages/dask/array/core.py:4337: PerformanceWarning: Increasing number of chunks by factor of 23\n",
      "  result = blockwise(\n",
      "/srv/conda/envs/notebook/lib/python3.8/site-packages/dask/array/core.py:4337: PerformanceWarning: Increasing number of chunks by factor of 23\n",
      "  result = blockwise(\n",
      "/srv/conda/envs/notebook/lib/python3.8/site-packages/dask/array/core.py:4337: PerformanceWarning: Increasing number of chunks by factor of 24\n",
      "  result = blockwise(\n",
      "/srv/conda/envs/notebook/lib/python3.8/site-packages/dask/array/core.py:4337: PerformanceWarning: Increasing number of chunks by factor of 23\n",
      "  result = blockwise(\n",
      "/srv/conda/envs/notebook/lib/python3.8/site-packages/dask/array/numpy_compat.py:39: RuntimeWarning: invalid value encountered in true_divide\n",
      "  x = np.divide(x1, x2, out)\n"
     ]
    }
   ],
   "source": [
    "bucket = 's3://carbonplan-climatetrace/v1/'\n",
    "# PANGEO_SCRATCH=os.environ['PANGEO_SCRATCH_PREFIX']+'/orianac/'\n",
    "tasks=[]\n",
    "rerun=True\n",
    "if rerun:\n",
    "    with rio.Env(aws_session): # delete\n",
    "#         for every year in GLAS record\n",
    "        for year in np.arange(2003,2004):#2009):\n",
    "            # for every row path in the domain\n",
    "            for [path, row] in washington_scenes[['PATH', 'ROW']].values[0:3]:\n",
    "                for season in ['JJA']:\n",
    "                        tasks.append(\n",
    "                                scene_seasonal_average(path, row, year, bucket, access_key_id, \n",
    "                                               secret_access_key,\n",
    "                                                              bands_of_interest='all',\n",
    "                                                              season=season),\n",
    "                        )"
   ]
  },
  {
   "cell_type": "code",
   "execution_count": null,
   "metadata": {},
   "outputs": [],
   "source": [
    "dask.compute(tasks, retries=4)"
   ]
  },
  {
   "cell_type": "code",
   "execution_count": 60,
   "metadata": {},
   "outputs": [
    {
     "ename": "NameError",
     "evalue": "name 'add_landsat_utm_zone' is not defined",
     "output_type": "error",
     "traceback": [
      "\u001b[0;31m---------------------------------------------------------------------------\u001b[0m",
      "\u001b[0;31mNameError\u001b[0m                                 Traceback (most recent call last)",
      "\u001b[0;32m<ipython-input-60-2811ea041d8c>\u001b[0m in \u001b[0;36m<module>\u001b[0;34m\u001b[0m\n\u001b[0;32m----> 1\u001b[0;31m \u001b[0mwashington_scenes\u001b[0m \u001b[0;34m=\u001b[0m \u001b[0madd_landsat_utm_zone\u001b[0m\u001b[0;34m(\u001b[0m\u001b[0mwashington_scenes\u001b[0m\u001b[0;34m)\u001b[0m\u001b[0;34m\u001b[0m\u001b[0;34m\u001b[0m\u001b[0m\n\u001b[0m",
      "\u001b[0;31mNameError\u001b[0m: name 'add_landsat_utm_zone' is not defined"
     ]
    }
   ],
   "source": [
    "washington_scenes = add_landsat_utm_zone(washington_scenes)"
   ]
  },
  {
   "cell_type": "markdown",
   "metadata": {},
   "source": [
    "### Load in the biomass dataset for this one tile"
   ]
  },
  {
   "cell_type": "code",
   "execution_count": 15,
   "metadata": {},
   "outputs": [
    {
     "data": {
      "text/plain": [
       "['carbonplan-climatetrace/v1/41',\n",
       " 'carbonplan-climatetrace/v1/42',\n",
       " 'carbonplan-climatetrace/v1/43',\n",
       " 'carbonplan-climatetrace/v1/44',\n",
       " 'carbonplan-climatetrace/v1/45',\n",
       " 'carbonplan-climatetrace/v1/46',\n",
       " 'carbonplan-climatetrace/v1/47',\n",
       " 'carbonplan-climatetrace/v1/48',\n",
       " 'carbonplan-climatetrace/v1/49',\n",
       " 'carbonplan-climatetrace/v1/biomass',\n",
       " 'carbonplan-climatetrace/v1/data',\n",
       " 'carbonplan-climatetrace/v1/test.zarr',\n",
       " 'carbonplan-climatetrace/v1/washington_biomass_landsat.parquet']"
      ]
     },
     "execution_count": 15,
     "metadata": {},
     "output_type": "execute_result"
    }
   ],
   "source": [
    "fs.ls('s3://carbonplan-climatetrace/v1/')"
   ]
  },
  {
   "cell_type": "code",
   "execution_count": 24,
   "metadata": {},
   "outputs": [],
   "source": [
    "ul_lat, ul_lon = 50, 120\n",
    "file_mapper = fs.get_mapper('carbonplan-climatetrace/v1/data/intermediates/biomass/{}N_{}W.zarr'.format(ul_lat, ul_lon))\n",
    "# biomass = xr.open_zarr(PANGEO_SCRATCH+'biomass/{}N_{}W.zarr'.format(ul_lat, ul_lon), consolidated=True).load()\n",
    "\n",
    "biomass = xr.open_zarr(file_mapper, consolidated=True).load().drop('spatial_ref')\n",
    "biomass_df = biomass.stack(unique_index=(\"record_index\", \"shot_number\")).to_dataframe().dropna(how='all')"
   ]
  },
  {
   "cell_type": "markdown",
   "metadata": {},
   "source": [
    "### Convert it to a geodataframe and attach the landsat row/col info to it. This will form the mapping from IceSAT to Landsat."
   ]
  },
  {
   "cell_type": "code",
   "execution_count": 25,
   "metadata": {},
   "outputs": [],
   "source": [
    "biomass_gdf = gpd.GeoDataFrame(\n",
    "    biomass_df, geometry=gpd.points_from_xy(biomass_df.lon, biomass_df.lat)).set_crs(\"EPSG:4326\")\n",
    "linked_gdf = gpd.sjoin(biomass_gdf, \n",
    "                       washington_scenes, #gdf.cx[-125:-115,45:49], # gdf.cx[-ul_lon:-ul_lon+10,ul_lat-10:ul_lat], \n",
    "                       how='inner') # 'left' # by selecting inner you're grabbing the intersection (so dropping any shots \n",
    "#that don't have scenes or scenes that don't have shots)"
   ]
  },
  {
   "cell_type": "markdown",
   "metadata": {},
   "source": [
    "### Now you have the row and path for each shot. Let's now get the url to the appropriate COG. For this we'll need the "
   ]
  },
  {
   "cell_type": "code",
   "execution_count": 27,
   "metadata": {},
   "outputs": [],
   "source": [
    "def convert_to_utm(df):\n",
    "    return utm.from_latlon(df['lat'], df['lon'], force_zone_number=df['landsat_utm_zone'])"
   ]
  },
  {
   "cell_type": "code",
   "execution_count": 28,
   "metadata": {},
   "outputs": [],
   "source": [
    "def add_projection_info(df):\n",
    "    projection_info = df.apply(convert_to_utm, axis=1).to_list()\n",
    "    projected_column_names = ['proj_x', 'proj_y', 'utm_zone', 'utm_letter']\n",
    "    projection_df = pd.DataFrame(projection_info, columns=projected_column_names, index=df.index)\n",
    "    updated_df = pd.concat([df, projection_df], axis=1)\n",
    "    return updated_df"
   ]
  },
  {
   "cell_type": "code",
   "execution_count": 29,
   "metadata": {},
   "outputs": [],
   "source": [
    "def grab_year(df):\n",
    "    return datetime.fromtimestamp(df['time']).year"
   ]
  },
  {
   "cell_type": "code",
   "execution_count": 30,
   "metadata": {},
   "outputs": [],
   "source": [
    "def add_linking_info(df):\n",
    "    df = add_projection_info(df)\n",
    "    df['year'] = df.apply(grab_year, axis=1)\n",
    "    df['url'] = df.apply(build_url, axis=1)\n",
    "    return df"
   ]
  },
  {
   "cell_type": "code",
   "execution_count": 31,
   "metadata": {},
   "outputs": [],
   "source": [
    "def build_url(df):\n",
    "    return 's3://carbonplan-climatetrace/v1/{}/{}/{}/JJA_reflectance.zarr'.format(df['PATH'], \n",
    "                                                                                   df['ROW'], \n",
    "                                                                                   df['year'])"
   ]
  },
  {
   "cell_type": "code",
   "execution_count": 32,
   "metadata": {},
   "outputs": [],
   "source": [
    "linked_gdf = add_linking_info(linked_gdf)"
   ]
  },
  {
   "cell_type": "markdown",
   "metadata": {},
   "source": [
    "Do all unique row/path/year combos at same time since they'll be grabbing the same file.\n",
    "Open the file and loop through each x/y location to get reflectance values"
   ]
  },
  {
   "cell_type": "code",
   "execution_count": 37,
   "metadata": {},
   "outputs": [],
   "source": [
    "unique_urls = linked_gdf['url'].unique()"
   ]
  },
  {
   "cell_type": "code",
   "execution_count": 33,
   "metadata": {},
   "outputs": [],
   "source": [
    "def create_combined_landsat_biomass_df(landsat_ds, biomass_df, \n",
    "                                       biomass_variables=['biomass', 'glas_elev', 'ecoregion']):\n",
    "    selected_landsat = landsat_ds.sel(x=xr.DataArray(biomass_df['proj_x'].values, dims='shot'), \n",
    "                      y=xr.DataArray(biomass_df['proj_y'].values, dims='shot'),\n",
    "                      method='nearest').to_dataframe().drop(['x', 'y'], axis=1)\n",
    "    selected_landsat.index = biomass_df.index\n",
    "    out_df = pd.concat([biomass_df[biomass_variables], selected_landsat], axis=1)\n",
    "    return out_df"
   ]
  },
  {
   "cell_type": "code",
   "execution_count": 148,
   "metadata": {},
   "outputs": [],
   "source": [
    "washington_row_path_strings = ['{}/{}'.format(row, path) for (row, path) in washington_row_paths]"
   ]
  },
  {
   "cell_type": "code",
   "execution_count": 66,
   "metadata": {},
   "outputs": [
    {
     "data": {
      "text/plain": [
       "{'paths': ['s3://carbonplan-climatetrace/v1/washington_biomass_landsat.parquet'],\n",
       " 'partitions_values': {}}"
      ]
     },
     "execution_count": 66,
     "metadata": {},
     "output_type": "execute_result"
    }
   ],
   "source": [
    "wr.s3.to_parquet(\n",
    "    df=washington_df, index=True,\n",
    "    path='s3://carbonplan-climatetrace/v1/washington_biomass_landsat.parquet', \n",
    "    boto3_session=boto3.Session(aws_access_key_id=access_key_id,\n",
    "                                          aws_secret_access_key=secret_access_key)\n",
    ")"
   ]
  },
  {
   "cell_type": "code",
   "execution_count": 67,
   "metadata": {},
   "outputs": [
    {
     "name": "stdout",
     "output_type": "stream",
     "text": [
      "s3://carbonplan-climatetrace/v1/45/29/2003/JJA_reflectance.zarr had no shots\n",
      "s3://carbonplan-climatetrace/v1/48/26/2003/JJA_reflectance.zarr had no shots\n",
      "s3://carbonplan-climatetrace/v1/48/27/2003/JJA_reflectance.zarr had no shots\n",
      "s3://carbonplan-climatetrace/v1/48/28/2003/JJA_reflectance.zarr had no shots\n",
      "s3://carbonplan-climatetrace/v1/48/29/2003/JJA_reflectance.zarr had no shots\n",
      "s3://carbonplan-climatetrace/v1/46/26/2003/JJA_reflectance.zarr had no shots\n",
      "s3://carbonplan-climatetrace/v1/46/27/2003/JJA_reflectance.zarr had no shots\n",
      "s3://carbonplan-climatetrace/v1/46/28/2003/JJA_reflectance.zarr had no shots\n",
      "s3://carbonplan-climatetrace/v1/46/29/2003/JJA_reflectance.zarr had no shots\n",
      "s3://carbonplan-climatetrace/v1/49/26/2003/JJA_reflectance.zarr had no shots\n",
      "s3://carbonplan-climatetrace/v1/49/27/2003/JJA_reflectance.zarr had no shots\n",
      "s3://carbonplan-climatetrace/v1/47/26/2003/JJA_reflectance.zarr had no shots\n",
      "s3://carbonplan-climatetrace/v1/47/27/2003/JJA_reflectance.zarr had no shots\n",
      "s3://carbonplan-climatetrace/v1/47/28/2003/JJA_reflectance.zarr had no shots\n",
      "s3://carbonplan-climatetrace/v1/47/29/2003/JJA_reflectance.zarr had no shots\n",
      "s3://carbonplan-climatetrace/v1/45/29/2004/JJA_reflectance.zarr had no shots\n",
      "s3://carbonplan-climatetrace/v1/48/26/2004/JJA_reflectance.zarr had no shots\n",
      "s3://carbonplan-climatetrace/v1/48/27/2004/JJA_reflectance.zarr had no shots\n",
      "s3://carbonplan-climatetrace/v1/48/28/2004/JJA_reflectance.zarr had no shots\n",
      "s3://carbonplan-climatetrace/v1/48/29/2004/JJA_reflectance.zarr had no shots\n",
      "s3://carbonplan-climatetrace/v1/46/27/2004/JJA_reflectance.zarr had no shots\n",
      "s3://carbonplan-climatetrace/v1/46/28/2004/JJA_reflectance.zarr had no shots\n",
      "s3://carbonplan-climatetrace/v1/46/29/2004/JJA_reflectance.zarr had no shots\n",
      "s3://carbonplan-climatetrace/v1/49/26/2004/JJA_reflectance.zarr had no shots\n",
      "s3://carbonplan-climatetrace/v1/49/27/2004/JJA_reflectance.zarr had no shots\n",
      "s3://carbonplan-climatetrace/v1/47/26/2004/JJA_reflectance.zarr had no shots\n",
      "s3://carbonplan-climatetrace/v1/47/27/2004/JJA_reflectance.zarr had no shots\n",
      "s3://carbonplan-climatetrace/v1/47/28/2004/JJA_reflectance.zarr had no shots\n",
      "s3://carbonplan-climatetrace/v1/47/29/2004/JJA_reflectance.zarr had no shots\n",
      "s3://carbonplan-climatetrace/v1/45/29/2005/JJA_reflectance.zarr had no shots\n",
      "s3://carbonplan-climatetrace/v1/48/26/2005/JJA_reflectance.zarr had no shots\n",
      "s3://carbonplan-climatetrace/v1/48/27/2005/JJA_reflectance.zarr had no shots\n",
      "s3://carbonplan-climatetrace/v1/48/28/2005/JJA_reflectance.zarr had no shots\n",
      "s3://carbonplan-climatetrace/v1/48/29/2005/JJA_reflectance.zarr had no shots\n",
      "s3://carbonplan-climatetrace/v1/46/26/2005/JJA_reflectance.zarr had no shots\n",
      "s3://carbonplan-climatetrace/v1/46/27/2005/JJA_reflectance.zarr had no shots\n",
      "s3://carbonplan-climatetrace/v1/46/28/2005/JJA_reflectance.zarr had no shots\n",
      "s3://carbonplan-climatetrace/v1/46/29/2005/JJA_reflectance.zarr had no shots\n",
      "s3://carbonplan-climatetrace/v1/49/26/2005/JJA_reflectance.zarr had no shots\n",
      "s3://carbonplan-climatetrace/v1/49/27/2005/JJA_reflectance.zarr had no shots\n",
      "s3://carbonplan-climatetrace/v1/47/26/2005/JJA_reflectance.zarr had no shots\n",
      "s3://carbonplan-climatetrace/v1/47/27/2005/JJA_reflectance.zarr had no shots\n",
      "s3://carbonplan-climatetrace/v1/47/28/2005/JJA_reflectance.zarr had no shots\n",
      "s3://carbonplan-climatetrace/v1/47/29/2005/JJA_reflectance.zarr had no shots\n",
      "s3://carbonplan-climatetrace/v1/45/29/2006/JJA_reflectance.zarr had no shots\n",
      "s3://carbonplan-climatetrace/v1/48/26/2006/JJA_reflectance.zarr had no shots\n",
      "s3://carbonplan-climatetrace/v1/48/27/2006/JJA_reflectance.zarr had no shots\n",
      "s3://carbonplan-climatetrace/v1/48/28/2006/JJA_reflectance.zarr had no shots\n",
      "s3://carbonplan-climatetrace/v1/48/29/2006/JJA_reflectance.zarr had no shots\n",
      "s3://carbonplan-climatetrace/v1/46/26/2006/JJA_reflectance.zarr had no shots\n",
      "s3://carbonplan-climatetrace/v1/46/27/2006/JJA_reflectance.zarr had no shots\n",
      "s3://carbonplan-climatetrace/v1/46/28/2006/JJA_reflectance.zarr had no shots\n",
      "s3://carbonplan-climatetrace/v1/46/29/2006/JJA_reflectance.zarr had no shots\n",
      "s3://carbonplan-climatetrace/v1/49/26/2006/JJA_reflectance.zarr had no shots\n",
      "s3://carbonplan-climatetrace/v1/49/27/2006/JJA_reflectance.zarr had no shots\n",
      "s3://carbonplan-climatetrace/v1/47/26/2006/JJA_reflectance.zarr had no shots\n",
      "s3://carbonplan-climatetrace/v1/47/27/2006/JJA_reflectance.zarr had no shots\n",
      "s3://carbonplan-climatetrace/v1/47/28/2006/JJA_reflectance.zarr had no shots\n",
      "s3://carbonplan-climatetrace/v1/47/29/2006/JJA_reflectance.zarr had no shots\n",
      "s3://carbonplan-climatetrace/v1/45/29/2007/JJA_reflectance.zarr had no shots\n",
      "s3://carbonplan-climatetrace/v1/48/26/2007/JJA_reflectance.zarr had no shots\n",
      "s3://carbonplan-climatetrace/v1/48/27/2007/JJA_reflectance.zarr had no shots\n",
      "s3://carbonplan-climatetrace/v1/48/28/2007/JJA_reflectance.zarr had no shots\n",
      "s3://carbonplan-climatetrace/v1/48/29/2007/JJA_reflectance.zarr had no shots\n",
      "s3://carbonplan-climatetrace/v1/46/26/2007/JJA_reflectance.zarr had no shots\n",
      "s3://carbonplan-climatetrace/v1/46/27/2007/JJA_reflectance.zarr had no shots\n",
      "s3://carbonplan-climatetrace/v1/46/28/2007/JJA_reflectance.zarr had no shots\n",
      "s3://carbonplan-climatetrace/v1/46/29/2007/JJA_reflectance.zarr had no shots\n",
      "s3://carbonplan-climatetrace/v1/49/26/2007/JJA_reflectance.zarr had no shots\n",
      "s3://carbonplan-climatetrace/v1/49/27/2007/JJA_reflectance.zarr had no shots\n",
      "s3://carbonplan-climatetrace/v1/47/26/2007/JJA_reflectance.zarr had no shots\n",
      "s3://carbonplan-climatetrace/v1/47/27/2007/JJA_reflectance.zarr had no shots\n",
      "s3://carbonplan-climatetrace/v1/47/28/2007/JJA_reflectance.zarr had no shots\n",
      "s3://carbonplan-climatetrace/v1/47/29/2007/JJA_reflectance.zarr had no shots\n",
      "s3://carbonplan-climatetrace/v1/45/29/2008/JJA_reflectance.zarr had no shots\n",
      "s3://carbonplan-climatetrace/v1/48/26/2008/JJA_reflectance.zarr had no shots\n",
      "s3://carbonplan-climatetrace/v1/48/27/2008/JJA_reflectance.zarr had no shots\n",
      "s3://carbonplan-climatetrace/v1/48/28/2008/JJA_reflectance.zarr had no shots\n",
      "s3://carbonplan-climatetrace/v1/48/29/2008/JJA_reflectance.zarr had no shots\n",
      "s3://carbonplan-climatetrace/v1/46/26/2008/JJA_reflectance.zarr had no shots\n",
      "s3://carbonplan-climatetrace/v1/46/27/2008/JJA_reflectance.zarr had no shots\n",
      "s3://carbonplan-climatetrace/v1/46/28/2008/JJA_reflectance.zarr had no shots\n",
      "s3://carbonplan-climatetrace/v1/46/29/2008/JJA_reflectance.zarr had no shots\n",
      "s3://carbonplan-climatetrace/v1/49/26/2008/JJA_reflectance.zarr had no shots\n",
      "s3://carbonplan-climatetrace/v1/49/27/2008/JJA_reflectance.zarr had no shots\n",
      "s3://carbonplan-climatetrace/v1/47/26/2008/JJA_reflectance.zarr had no shots\n",
      "s3://carbonplan-climatetrace/v1/47/27/2008/JJA_reflectance.zarr had no shots\n",
      "s3://carbonplan-climatetrace/v1/47/28/2008/JJA_reflectance.zarr had no shots\n",
      "s3://carbonplan-climatetrace/v1/47/29/2008/JJA_reflectance.zarr had no shots\n"
     ]
    },
    {
     "data": {
      "text/plain": [
       "{'paths': ['s3://carbonplan-climatetrace/v1/washington_biomass_landsat.parquet'],\n",
       " 'partitions_values': {}}"
      ]
     },
     "execution_count": 67,
     "metadata": {},
     "output_type": "execute_result"
    }
   ],
   "source": [
    "washington_dfs = []\n",
    "# group the biomass shots according to the scene they overlap\n",
    "groupby = linked_gdf.groupby('url')\n",
    "for year in np.arange(2003,2009):\n",
    "    for (i, (path, row)) in washington_scenes[['PATH', 'ROW']].iterrows():\n",
    "        for season in ['JJA']:\n",
    "            url = f'{bucket}{path}/{row}/{year}/{season}_reflectance.zarr'\n",
    "            try:\n",
    "                shots_one_scene = groupby.get_group(url)\n",
    "                ds = xr.open_zarr(fs.get_mapper(url)).drop('spatial_ref').reflectance.to_dataset(dim='band')\n",
    "                washington_dfs.append(create_combined_landsat_biomass_df(ds, shots_one_scene))\n",
    "            except:\n",
    "                print('{} had no shots'.format(url))\n",
    "washington_df = pd.concat(washington_dfs)\n",
    "wr.s3.to_parquet(\n",
    "    df=washington_df, index=True,\n",
    "    path='s3://carbonplan-climatetrace/v1/washington_biomass_landsat.parquet', \n",
    "    boto3_session=boto3.Session(aws_access_key_id=access_key_id,\n",
    "                                          aws_secret_access_key=secret_access_key)\n",
    ")"
   ]
  },
  {
   "cell_type": "code",
   "execution_count": 105,
   "metadata": {},
   "outputs": [],
   "source": [
    "selected_landsat = ds.sel(x=xr.DataArray(shots_one_scene['proj_x'].values, dims='shot'), \n",
    "      y=xr.DataArray(shots_one_scene['proj_y'].values, dims='shot'),\n",
    "      method='nearest').to_dataframe().drop(['x', 'y'], axis=1)\n",
    "selected_landsat.index = shots_one_scene.index"
   ]
  },
  {
   "cell_type": "markdown",
   "metadata": {},
   "source": [
    "Landsat is in meters with the utm projection of that path/row (need to check for weirdness at utm boundaries).\n",
    "So, if we give it meters locations we can get back the values from dataset."
   ]
  },
  {
   "cell_type": "code",
   "execution_count": 84,
   "metadata": {},
   "outputs": [
    {
     "data": {
      "text/plain": [
       "array([ 8216.33333333,  8869.33333333,  8687.        , 16541.33333333,\n",
       "       12305.66666667,  9986.66666667])"
      ]
     },
     "execution_count": 84,
     "metadata": {},
     "output_type": "execute_result"
    }
   ],
   "source": [
    "x=376435\n",
    "y=5409203\n",
    "ds.sel(x=x, y=y, method='nearest').reflectance.values"
   ]
  },
  {
   "cell_type": "markdown",
   "metadata": {},
   "source": [
    "What we need to do now is make a column of projected x/y in the dataframe"
   ]
  }
 ],
 "metadata": {
  "kernelspec": {
   "display_name": "Python 3",
   "language": "python",
   "name": "python3"
  },
  "language_info": {
   "codemirror_mode": {
    "name": "ipython",
    "version": 3
   },
   "file_extension": ".py",
   "mimetype": "text/x-python",
   "name": "python",
   "nbconvert_exporter": "python",
   "pygments_lexer": "ipython3",
   "version": "3.8.10"
  }
 },
 "nbformat": 4,
 "nbformat_minor": 4
}
