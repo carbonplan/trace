{
 "cells": [
  {
   "cell_type": "code",
   "execution_count": null,
   "id": "8bf44990-2331-4a93-8b15-8c0064e35efc",
   "metadata": {},
   "outputs": [],
   "source": [
    "%load_ext autoreload\n",
    "%autoreload 2"
   ]
  },
  {
   "cell_type": "code",
   "execution_count": null,
   "id": "99a0f686-eb27-4661-9bc0-392653bf0388",
   "metadata": {},
   "outputs": [],
   "source": [
    "import geopandas as gpd\n",
    "import pandas as pd\n",
    "import numpy as np\n",
    "import xarray as xr\n",
    "import matplotlib.pyplot as plt\n",
    "\n",
    "import os\n",
    "import shutil\n",
    "import regionmask\n",
    "import rioxarray\n",
    "\n",
    "from itertools import product\n",
    "from zarr.errors import GroupNotFoundError\n",
    "\n",
    "from shapely.geometry import Polygon\n",
    "\n",
    "import carbonplan_trace.v1.utils as utils\n",
    "from s3fs import S3FileSystem\n",
    "\n",
    "fs = S3FileSystem()"
   ]
  },
  {
   "cell_type": "markdown",
   "id": "46ac1bcd-f108-4874-9e60-89ffd55794f0",
   "metadata": {},
   "source": [
    "https://lpdaac.usgs.gov/products/mcd12q1v006/  \n",
    "https://lpdaac.usgs.gov/documents/101/MCD12_User_Guide_V6.pdf\n"
   ]
  },
  {
   "cell_type": "code",
   "execution_count": null,
   "id": "971e6adb-8c1f-452f-9dd1-7457c8e5ad50",
   "metadata": {},
   "outputs": [],
   "source": [
    "d = \"s3://carbonplan-climatetrace/inputs/igbp/\"\n",
    "files = [f for f in fs.ls(d) if not f.endswith(\"/\") and not f.endswith(\"zarr\")]\n",
    "years = [f.split(\"/\")[-1].split(\".\")[1] for f in files]\n",
    "file_df = pd.DataFrame({\"file_path\": files, \"year\": years})"
   ]
  },
  {
   "cell_type": "code",
   "execution_count": null,
   "id": "c78b1531-e4f6-4cd2-aeb3-c767a332c294",
   "metadata": {},
   "outputs": [],
   "source": [
    "file_df.year.unique()"
   ]
  },
  {
   "cell_type": "code",
   "execution_count": null,
   "id": "b27c77bf-3204-40b0-92a9-eb637485c871",
   "metadata": {},
   "outputs": [],
   "source": [
    "# concat all downloaded data into the entire globe by year\n",
    "\n",
    "# for yr, group in file_df.groupby(\"year\"):\n",
    "#     print(yr[1:5], len(group))\n",
    "#     igbp = []\n",
    "#     for i, file in group.iterrows():\n",
    "#         f = xr.open_rasterio(f\"s3://{file.file_path}\").squeeze(\n",
    "#             dim=\"band\", drop=True\n",
    "#         )\n",
    "#         igbp.append(\n",
    "#             f.to_dataset(name=\"igbp\", promote_attrs=True).chunk(\n",
    "#                 {\"x\": 2400, \"y\": 2400}\n",
    "#             )\n",
    "#         )\n",
    "#     igbp = xr.combine_by_coords(igbp, combine_attrs=\"drop_conflicts\")\n",
    "#     attrs = igbp.attrs\n",
    "#     igbp = xr.where(igbp == 255, np.nan, igbp)\n",
    "#     igbp = xr.where(igbp == 17, np.nan, igbp)\n",
    "#     igbp.attrs = attrs\n",
    "#     igbp = igbp.chunk(\n",
    "#         {\"x\": 2400, \"y\": 2400}\n",
    "#     )\n",
    "#     mapper = fs.get_mapper(\n",
    "#         f\"s3://carbonplan-climatetrace/inputs/igbp/{yr[1:5]}.zarr\"\n",
    "#     )\n",
    "#     igbp.to_zarr(mapper, mode=\"w\")"
   ]
  },
  {
   "cell_type": "code",
   "execution_count": null,
   "id": "4511b148-a885-47be-a07e-05f633f79692",
   "metadata": {},
   "outputs": [],
   "source": [
    "# test plot\n",
    "\n",
    "# igbp.igbp[::20, ::20].plot()"
   ]
  },
  {
   "cell_type": "code",
   "execution_count": null,
   "id": "9aef0526-ffe4-42c1-8c90-52d37111db1a",
   "metadata": {},
   "outputs": [],
   "source": [
    "tilepaths = [\n",
    "    f\n",
    "    for f in fs.ls(\"s3://carbonplan-climatetrace/intermediate/ecoregions_mask/\")\n",
    "    if not f.endswith(\"/\")\n",
    "]\n",
    "len(tilepaths)"
   ]
  },
  {
   "cell_type": "code",
   "execution_count": null,
   "id": "7826f56c-e177-4d17-a196-9cff31758499",
   "metadata": {},
   "outputs": [],
   "source": [
    "def get_tile_in_xr(path):\n",
    "    mapper = fs.get_mapper(path)\n",
    "    try:\n",
    "        ds = xr.open_zarr(mapper, chunks=None)\n",
    "        ds.attrs[\"crs\"] = \"EPSG:4326\"\n",
    "\n",
    "        return ds\n",
    "    except GroupNotFoundError:\n",
    "        print(f\"{path} empty, skipping\")\n",
    "\n",
    "\n",
    "def convert_raster_into_tiles(tile_ds, raster):\n",
    "    output = raster.rio.reproject_match(tile_ds)\n",
    "\n",
    "    return output"
   ]
  },
  {
   "cell_type": "code",
   "execution_count": null,
   "id": "d86816e2-88ca-4f99-ae73-14275e0d0933",
   "metadata": {
    "tags": []
   },
   "outputs": [],
   "source": [
    "# reproject match data into 10x hansen grid, processing done for the igbp data used for allometric equation assignment\n",
    "\n",
    "# for each tile\n",
    "for tp in tilepaths[103:]:\n",
    "    print(tp)\n",
    "    # load tile\n",
    "    target_tile = get_tile_in_xr(\"s3://\" + tp)\n",
    "    # preprocess\n",
    "    target_tile = target_tile.rename(lon=\"x\", lat=\"y\")\n",
    "\n",
    "    target_tile = target_tile.coarsen({\"x\": 10, \"y\": 10}).mean()\n",
    "\n",
    "    target_tile.attrs[\"crs\"] = \"EPSG:4326\"\n",
    "    # get file names\n",
    "    fn = tp.split(\"/\")[-1].split(\".\")[0]\n",
    "    local_path = f\"/home/jovyan/temp/{fn}.zarr\"\n",
    "    cloud_path = f\"s3://carbonplan-climatetrace/intermediate/igbp/{fn}.zarr\"\n",
    "    if os.path.exists(local_path):\n",
    "        shutil.rmtree(local_path)\n",
    "\n",
    "    fs.get(cloud_path, local_path, recursive=True)\n",
    "    # copy local path to a backup location\n",
    "    if os.path.exists(local_path + \".bak\"):\n",
    "        shutil.rmtree(local_path + \".bak\")\n",
    "    shutil.copytree(local_path, local_path + \".bak\")\n",
    "\n",
    "    # load igbp per year\n",
    "    for yr in np.arange(2010, 2019):\n",
    "        print(yr)\n",
    "        mapper = fs.get_mapper(f\"s3://carbonplan-climatetrace/inputs/igbp/{yr}.zarr\")\n",
    "        igbp = xr.open_zarr(mapper)\n",
    "        attrs = igbp.attrs\n",
    "        igbp = igbp.igbp\n",
    "        igbp.attrs = attrs\n",
    "        igbp.attrs[\n",
    "            \"crs\"\n",
    "        ] = \"+proj=sinu +lon_0=0 +x_0=0 +y_0=0 +R=6371007.181 +units=m +no_defs=True\"\n",
    "\n",
    "        # transform\n",
    "        output_da = convert_raster_into_tiles(tile_ds=target_tile, raster=igbp)\n",
    "        output_da.attrs = {\"crs\": \"EPSG:4326\"}\n",
    "        output_da.coords[\"x\"] = target_tile.x\n",
    "        output_da.coords[\"y\"] = target_tile.y\n",
    "        output_da = output_da.rename(x=\"lon\", y=\"lat\")\n",
    "        output_da = output_da.assign_coords(year=yr).expand_dims(\"year\")\n",
    "\n",
    "        if not os.path.exists(local_path):\n",
    "            output_da.to_dataset(promote_attrs=True).to_zarr(local_path, mode=\"w\")\n",
    "        else:\n",
    "            output_da.to_dataset(promote_attrs=True).to_zarr(local_path, append_dim=\"year\")\n",
    "\n",
    "    fs.put(local_path, cloud_path, recursive=True)\n",
    "    shutil.rmtree(local_path)\n",
    "    shutil.rmtree(local_path + \".bak\")"
   ]
  },
  {
   "cell_type": "code",
   "execution_count": null,
   "id": "791a8555-7636-4072-98eb-9d6872154724",
   "metadata": {},
   "outputs": [],
   "source": [
    "mapper = fs.get_mapper(f\"s3://carbonplan-climatetrace/intermediate/igbp/10N_010E.zarr\")\n",
    "test = xr.open_zarr(mapper)\n",
    "\n",
    "test.sel(year=2018).igbp[::10, ::10].plot()"
   ]
  },
  {
   "cell_type": "code",
   "execution_count": null,
   "id": "bfc2e4a8-f04f-4225-9e28-6040ee797439",
   "metadata": {},
   "outputs": [],
   "source": [
    "# directly reproject the entire globe data into latlon without matching hansen grid, data used for setting global domain\n",
    "\n",
    "local_path = f\"/home/jovyan/temp/global_igbp.zarr\"\n",
    "cloud_path = f\"s3://carbonplan-climatetrace/intermediate/global_igbp.zarr\"\n",
    "\n",
    "# for yr in np.arange(2010, 2019):\n",
    "#     print(yr)\n",
    "#     mapper = fs.get_mapper(f\"s3://carbonplan-climatetrace/inputs/igbp/{yr}.zarr\")\n",
    "#     igbp = xr.open_zarr(mapper)\n",
    "#     attrs = igbp.attrs\n",
    "#     igbp = igbp.igbp\n",
    "#     igbp.attrs = attrs\n",
    "#     igbp.attrs[\"crs\"] = \"+proj=sinu +lon_0=0 +x_0=0 +y_0=0 +R=6371007.181 +units=m +no_defs=True\"\n",
    "#     igbp_latlon = igbp.rio.reproject(dst_crs='EPSG:4326')\n",
    "#     igbp_latlon.attrs = {\"crs\": \"EPSG:4326\"}\n",
    "\n",
    "#     if yr == 2010:\n",
    "#         x = igbp_latlon.x\n",
    "#         y = igbp_latlon.y\n",
    "#     else:\n",
    "#         igbp_latlon.coords[\"x\"] = x\n",
    "#         igbp_latlon.coords[\"y\"] = y\n",
    "\n",
    "#     igbp_latlon = igbp_latlon.rename(x=\"lon\", y=\"lat\")\n",
    "#     igbp_latlon = igbp_latlon.assign_coords(year=yr).expand_dims(\"year\")\n",
    "\n",
    "#     if not os.path.exists(local_path):\n",
    "#         igbp_latlon.to_dataset(promote_attrs=True).to_zarr(\n",
    "#             local_path, mode=\"w\"\n",
    "#         )\n",
    "#     else:\n",
    "#         igbp_latlon.to_dataset(promote_attrs=True).to_zarr(\n",
    "#             local_path, append_dim=\"year\"\n",
    "#         )\n",
    "\n",
    "#     del igbp\n",
    "#     del igbp_latlon\n",
    "\n",
    "# fs.put(local_path, cloud_path, recursive=True)\n",
    "# shutil.rmtree(local_path)"
   ]
  },
  {
   "cell_type": "code",
   "execution_count": null,
   "id": "7db9b1ec-b03c-4765-9eca-4cb6255a08de",
   "metadata": {},
   "outputs": [],
   "source": [
    "test = xr.open_zarr(cloud_path)"
   ]
  },
  {
   "cell_type": "code",
   "execution_count": null,
   "id": "30b94dc6-cdbf-4aba-889e-3bb0801fca3c",
   "metadata": {},
   "outputs": [],
   "source": [
    "test"
   ]
  },
  {
   "cell_type": "code",
   "execution_count": null,
   "id": "67995094-726b-4433-a82a-08ea61091df2",
   "metadata": {},
   "outputs": [],
   "source": [
    "test.igbp.sel(year=2018, lat=slice(0, -2), lon=slice(-70, -68)).plot()"
   ]
  }
 ],
 "metadata": {
  "kernelspec": {
   "display_name": "Python 3 (ipykernel)",
   "language": "python",
   "name": "python3"
  },
  "language_info": {
   "codemirror_mode": {
    "name": "ipython",
    "version": 3
   },
   "file_extension": ".py",
   "mimetype": "text/x-python",
   "name": "python",
   "nbconvert_exporter": "python",
   "pygments_lexer": "ipython3",
   "version": "3.9.7"
  }
 },
 "nbformat": 4,
 "nbformat_minor": 5
}
