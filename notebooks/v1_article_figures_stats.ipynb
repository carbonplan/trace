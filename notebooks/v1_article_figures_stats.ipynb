{
 "cells": [
  {
   "cell_type": "code",
   "execution_count": null,
   "id": "04238914-9331-4c63-a30a-ac527ea1a471",
   "metadata": {},
   "outputs": [],
   "source": [
    "import xarray as xr\n",
    "from numcodecs.zlib import Zlib\n",
    "import pandas as pd\n",
    "import numpy as np"
   ]
  },
  {
   "cell_type": "code",
   "execution_count": null,
   "id": "68b39012-5f81-499c-8d08-d6b55b775c75",
   "metadata": {},
   "outputs": [],
   "source": [
    "version = \"v1.2\"\n",
    "final_lat_size = 200\n",
    "final_lon_size = 300\n",
    "time_coords = {\"time\": pd.date_range(str(2014), str(2021), freq=\"A\")}\n",
    "chunk_dict = {\"lat\": -1, \"lon\": -1, \"time\": -1}"
   ]
  },
  {
   "cell_type": "code",
   "execution_count": null,
   "id": "60bf145f-5d7c-46a1-9e83-83d23d0f2214",
   "metadata": {},
   "outputs": [],
   "source": [
    "def make_abs_diff(ds):\n",
    "    diff = ds - ds.shift(time=1)\n",
    "    diff = diff.isel(time=slice(1, None))\n",
    "    return diff\n",
    "\n",
    "\n",
    "def make_pct_diff(ds):\n",
    "    diff = ds - ds.shift(time=1)\n",
    "    diff = diff.isel(time=slice(1, None))\n",
    "    return diff / ds.shift(time=1).isel(time=slice(1, None)) * 100"
   ]
  },
  {
   "cell_type": "markdown",
   "id": "7ec72a8d-8793-4c13-9804-e2c924617e5d",
   "metadata": {},
   "source": [
    "## example for deforestation in Amazon\n"
   ]
  },
  {
   "cell_type": "code",
   "execution_count": null,
   "id": "6fb31534-7880-4ef5-bdcc-a49e4b687d0a",
   "metadata": {},
   "outputs": [],
   "source": [
    "tile = \"00N_060W\"\n",
    "name = \"amazon\"\n",
    "\n",
    "ds = xr.open_zarr(f\"s3://carbonplan-climatetrace/{version}/results/tiles/{tile}.zarr\")\n",
    "sub = ds.sel(lat=slice(-6.4, -6.2), lon=slice(-53.55, -53.25))\n",
    "# sub = ds.sel(lat=slice(-6.7, -6.2), lon=slice(-53.6, -53.1))"
   ]
  },
  {
   "cell_type": "code",
   "execution_count": null,
   "id": "7d05da84-a501-4f33-bab4-79f808768ebd",
   "metadata": {},
   "outputs": [],
   "source": [
    "# coarsen_lat = len(sub.lat) / final_lat_size\n",
    "# coarsen_lon = len(sub.lon) / final_lon_size\n",
    "# assert coarsen_lat Z== coarsen_lon\n",
    "# final_res = int(30 * coarsen_lat)\n",
    "# print(final_res)"
   ]
  },
  {
   "cell_type": "code",
   "execution_count": null,
   "id": "fbc84c7c-9a08-4089-9fcf-e3abb1452eea",
   "metadata": {},
   "outputs": [],
   "source": [
    "sub[\"total_biomass\"] = sub[\"AGB\"] + sub[\"BGB\"] + sub[\"dead_wood\"] + sub[\"litter\"]\n",
    "# coarsen = 10\n",
    "# s = sub[['total_biomass']].coarsen(lat=coarsen, lon=coarsen).mean()\n",
    "\n",
    "abs_diff = make_abs_diff(sub)\n",
    "pct_diff = make_pct_diff(sub)"
   ]
  },
  {
   "cell_type": "code",
   "execution_count": null,
   "id": "b200c899-ef8e-43d7-81c0-b66424d599f3",
   "metadata": {},
   "outputs": [],
   "source": [
    "abs_diff[\"total_biomass\"].plot(col=\"time\", col_wrap=3, vmax=0)"
   ]
  },
  {
   "cell_type": "code",
   "execution_count": null,
   "id": "d25875b4-0461-4332-983e-fbf5b45349a5",
   "metadata": {},
   "outputs": [],
   "source": [
    "pct_diff[\"total_biomass\"].plot(col=\"time\", col_wrap=3, vmax=-10, vmin=-80, levels=8, cmap=\"RdBu\")"
   ]
  },
  {
   "cell_type": "code",
   "execution_count": null,
   "id": "939cd4a3-7ab6-40f5-84d0-e9605433a160",
   "metadata": {},
   "outputs": [],
   "source": [
    "s = sub[[\"AGB\"]].coarsen(lat=int(coarsen_lat), lon=int(coarsen_lon)).mean()\n",
    "s = s.chunk(chunk_dict)\n",
    "s = s.assign_coords(time_coords)\n",
    "\n",
    "s.AGB.plot(col=\"time\", col_wrap=3, vmin=0)"
   ]
  },
  {
   "cell_type": "code",
   "execution_count": null,
   "id": "e65e5617-e0fd-42b2-abd7-f442cd206b3a",
   "metadata": {},
   "outputs": [],
   "source": [
    "diff = make_diff(s)\n",
    "diff.AGB.plot(col=\"time\", col_wrap=3)"
   ]
  },
  {
   "cell_type": "code",
   "execution_count": null,
   "id": "6e9fecbf-ef30-4b92-839c-d5c20ba1079d",
   "metadata": {},
   "outputs": [],
   "source": [
    "s.isel(time=slice(1, None)).to_zarr(\n",
    "    f\"s3://carbonplan-climatetrace/{version}/examples/{name}_biomass_{final_res}m.zarr\",\n",
    "    mode=\"w\",\n",
    "    encoding={\"AGB\": {\"compressor\": Zlib()}},\n",
    ")"
   ]
  },
  {
   "cell_type": "code",
   "execution_count": null,
   "id": "571d124e-5632-42ff-b777-a1a802a89aba",
   "metadata": {},
   "outputs": [],
   "source": [
    "diff.to_zarr(\n",
    "    f\"s3://carbonplan-climatetrace/{version}/examples/{name}_diff_{final_res}m.zarr\",\n",
    "    mode=\"w\",\n",
    "    encoding={\"AGB\": {\"compressor\": Zlib()}},\n",
    ")"
   ]
  },
  {
   "cell_type": "markdown",
   "id": "9af9c72e-6e4a-4561-90f7-3d705e9b8c44",
   "metadata": {},
   "source": [
    "## example of forest fire in Mendocino\n"
   ]
  },
  {
   "cell_type": "code",
   "execution_count": null,
   "id": "8734890c-bbb7-4a3b-a4c9-ed1423be1184",
   "metadata": {},
   "outputs": [],
   "source": [
    "tile = \"40N_130W\"\n",
    "name = \"mendocino\"\n",
    "\n",
    "ds = xr.open_zarr(f\"s3://carbonplan-climatetrace/{version}/results/tiles/{tile}.zarr\")\n",
    "sub = ds.sel(lat=slice(39, 39.6), lon=slice(-123.4, -122.5))"
   ]
  },
  {
   "cell_type": "code",
   "execution_count": null,
   "id": "25195172-cd2a-48db-a333-1e917d99a02d",
   "metadata": {},
   "outputs": [],
   "source": [
    "coarsen_lat = len(sub.lat) / final_lat_size\n",
    "coarsen_lon = len(sub.lon) / final_lon_size\n",
    "assert coarsen_lat == coarsen_lon\n",
    "final_res = int(30 * coarsen_lat)\n",
    "\n",
    "s = sub[[\"AGB\"]].coarsen(lat=int(coarsen_lat), lon=int(coarsen_lon)).mean()\n",
    "s = s.chunk(chunk_dict)\n",
    "s = s.assign_coords(time_coords)\n",
    "\n",
    "s.AGB.plot(col=\"time\", col_wrap=3, vmin=0)"
   ]
  },
  {
   "cell_type": "code",
   "execution_count": null,
   "id": "8e053a32-81e5-45c4-bb83-1814768ffff8",
   "metadata": {},
   "outputs": [],
   "source": [
    "diff = make_diff(s)\n",
    "diff.AGB.plot(col=\"time\", col_wrap=3)"
   ]
  },
  {
   "cell_type": "code",
   "execution_count": null,
   "id": "b8b5a58d-ff78-4002-81aa-8059d82457c4",
   "metadata": {},
   "outputs": [],
   "source": [
    "s.isel(time=slice(1, None)).to_zarr(\n",
    "    f\"s3://carbonplan-climatetrace/{version}/examples/{name}_biomass_{final_res}m.zarr\",\n",
    "    mode=\"w\",\n",
    "    encoding={\"AGB\": {\"compressor\": Zlib()}},\n",
    ")"
   ]
  },
  {
   "cell_type": "code",
   "execution_count": null,
   "id": "289a5f02-43fc-4eb3-a661-edd272aa2fbc",
   "metadata": {},
   "outputs": [],
   "source": [
    "diff.to_zarr(\n",
    "    f\"s3://carbonplan-climatetrace/{version}/examples/{name}_diff_{final_res}m.zarr\",\n",
    "    mode=\"w\",\n",
    "    encoding={\"AGB\": {\"compressor\": Zlib()}},\n",
    ")"
   ]
  },
  {
   "cell_type": "markdown",
   "id": "0f3ba1ea-fe73-4e38-871a-6abb1048c31a",
   "metadata": {},
   "source": [
    "# get stats\n"
   ]
  },
  {
   "cell_type": "markdown",
   "id": "5698ddc6-b558-4c3c-a107-16586552f4d2",
   "metadata": {},
   "source": [
    "## fraction of each model class\n"
   ]
  },
  {
   "cell_type": "code",
   "execution_count": null,
   "id": "3b518d08-d4ff-4588-98f1-71f9da06933e",
   "metadata": {},
   "outputs": [],
   "source": [
    "with open(\"value_counts.csv\", \"w\") as f:\n",
    "    f.write(\"tile_id,raw_not_null,final_not_null,with_break,no_break,no_model\\n\")\n",
    "\n",
    "for tile in tiles:\n",
    "    print(tile)\n",
    "    ds = open_biomass_tile(tile, version)[[\"AGB\", \"AGB_raw\", \"breakpoint\", \"pvalue\"]]\n",
    "    raw_not_null = ds.AGB_raw.notnull().sum().values\n",
    "    final_not_null = ds.AGB.notnull().sum().values\n",
    "    with_break = (ds.breakpoint.notnull() & (ds.pvalue < 0.05)).astype(int).sum().values\n",
    "    no_break = (ds.breakpoint.isnull() & (ds.pvalue < 0.05)).astype(int).sum().values\n",
    "    no_model = (ds.breakpoint.isnull() & (ds.pvalue >= 0.05)).astype(int).sum().values\n",
    "    with open(\"value_counts.csv\", \"a\") as f:\n",
    "        f.write(f\"{tile},{raw_not_null},{final_not_null},{with_break},{no_break},{no_model}\\n\")"
   ]
  },
  {
   "cell_type": "code",
   "execution_count": null,
   "id": "8a0d38f7-9314-41e9-be2b-982b2751f041",
   "metadata": {},
   "outputs": [],
   "source": [
    "df = pd.read_csv(\"value_counts.csv\")"
   ]
  },
  {
   "cell_type": "code",
   "execution_count": null,
   "id": "c369ba47-0fbd-464b-8ab8-8948179d29ad",
   "metadata": {},
   "outputs": [],
   "source": [
    "print(\"fraction of filled pixels\")\n",
    "print(round(100 * (1.0 - (df.raw_not_null.sum() / df.final_not_null.sum())), 2))\n",
    "\n",
    "total = df.with_break.sum() + df.no_break.sum() + df.no_model.sum()\n",
    "\n",
    "print(\"fraction of pixels classified as with change point\")\n",
    "print(round(100 * df.with_break.sum() / total, 1))\n",
    "\n",
    "print(\"fraction of pixels classified as with linear trend\")\n",
    "print(round(100 * df.no_break.sum() / total, 1))\n",
    "\n",
    "print(\"fraction of pixels classified as with no trend\")\n",
    "print(round(100 * df.no_model.sum() / total, 1))"
   ]
  },
  {
   "cell_type": "markdown",
   "id": "3bb30495-d57e-4375-bf97-8d4ab3626b66",
   "metadata": {},
   "source": [
    "## fraction of pixels identified to have experienced stand replacing disturbances\n"
   ]
  },
  {
   "cell_type": "code",
   "execution_count": null,
   "id": "9228dcc7-89d7-4759-bee3-0a3677d2af19",
   "metadata": {},
   "outputs": [],
   "source": [
    "from s3fs import S3FileSystem\n",
    "import geopandas\n",
    "from carbonplan_trace.v1 import utils\n",
    "import regionmask\n",
    "\n",
    "fs = S3FileSystem()\n",
    "with fs.open(f\"s3://carbonplan-climatetrace/{version}/masks/valid_landsat.shp.zip\") as f:\n",
    "    landsat_shape = geopandas.read_file(f)\n",
    "landsat_shape[\"valid_landsat\"] = 1"
   ]
  },
  {
   "cell_type": "code",
   "execution_count": null,
   "id": "622da4b1-2112-48e0-9db5-1c26e80b1e31",
   "metadata": {},
   "outputs": [],
   "source": [
    "with open(\"hansen_value_counts.csv\", \"w\") as f:\n",
    "    f.write(\"tile_id,all_pixel,with_change\\n\")\n",
    "\n",
    "for tile in tiles:\n",
    "    print(tile)\n",
    "    ds = xr.open_zarr(f\"s3://carbonplan-climatetrace/v0.4/tiles/30m/{tile}_tot.zarr\").sel(\n",
    "        year=slice(2014, 2021)\n",
    "    )\n",
    "\n",
    "    # use igbp land cover as a land mask\n",
    "    lat, lon = utils.get_lat_lon_tags_from_tile_path(tile)\n",
    "    bounding_box = utils.parse_bounding_box_from_lat_lon_tags(lat, lon)\n",
    "    igbp = utils.open_global_igbp_data(lat_lon_box=bounding_box)\n",
    "    land_mask = (igbp.igbp > 0).any(dim=\"year\")\n",
    "    land_mask = utils.find_matching_records(data=land_mask, lats=ds.lat, lons=ds.lon)\n",
    "    ds = ds.where(land_mask)\n",
    "\n",
    "    # use landsat mask\n",
    "    example = ds.isel(year=0)[[\"emissions\"]].drop(\"year\")\n",
    "    landsat_mask = regionmask.mask_geopandas(\n",
    "        landsat_shape, numbers=\"valid_landsat\", lon_or_obj=example.lon, lat=example.lat\n",
    "    )\n",
    "    ds = ds.where(landsat_mask == 1)\n",
    "\n",
    "    with_change = (ds.emissions.sum(dim=\"year\") > 0).astype(int).sum().values\n",
    "    all_pixel = ds.emissions.isel(year=0).notnull().sum().values\n",
    "\n",
    "    with open(\"hansen_value_counts.csv\", \"a\") as f:\n",
    "        f.write(f\"{tile},{all_pixel},{with_change}\\n\")"
   ]
  },
  {
   "cell_type": "code",
   "execution_count": null,
   "id": "3aa505f8-9465-4900-ab2b-fd02bcf9f099",
   "metadata": {},
   "outputs": [],
   "source": [
    "df = pd.read_csv(\"hansen_value_counts.csv\")\n",
    "\n",
    "print(\"% of pixels with stand replacing disturbances\")\n",
    "print(round(100 * df.with_change.sum() / df.all_pixel.sum(), 2))"
   ]
  },
  {
   "cell_type": "markdown",
   "id": "47bec544-ff75-445b-aefb-44ca159a88ac",
   "metadata": {},
   "source": [
    "## average % of biomass change within pixels experiencing stand replacing disturbances and growth rate\n"
   ]
  },
  {
   "cell_type": "code",
   "execution_count": null,
   "id": "8b6f108a-2981-4a37-b6ab-cf4a21bbbd81",
   "metadata": {},
   "outputs": [],
   "source": [
    "import dask\n",
    "\n",
    "dask.config.set({\"array.slicing.split_large_chunks\": False})\n",
    "from carbonplan_trace.v0.core import compute_grid_area"
   ]
  },
  {
   "cell_type": "code",
   "execution_count": null,
   "id": "4e113529-3076-4830-a259-1e31c6fe25eb",
   "metadata": {},
   "outputs": [],
   "source": [
    "with open(\"growth_rate_plus.csv\", \"w\") as f:\n",
    "    f.write(\"tile_id,area_summed,pct_change_summed,growth_rate_summed\\n\")"
   ]
  },
  {
   "cell_type": "code",
   "execution_count": null,
   "id": "11fe4098-bed5-4a45-a8c3-ad21ded6e86d",
   "metadata": {},
   "outputs": [],
   "source": [
    "# this should be combined with the above section\n",
    "\n",
    "for tile in tiles:\n",
    "    print(tile)\n",
    "\n",
    "    # open hansen and crop to landsat area\n",
    "    # doesn't need land mask because emissions there should be 0\n",
    "    hansen = xr.open_zarr(f\"s3://carbonplan-climatetrace/v0.4/tiles/30m/{tile}_tot.zarr\").sel(\n",
    "        year=slice(2015, 2021)\n",
    "    )[\"emissions\"]\n",
    "    example = hansen.isel(year=0).drop(\"year\")\n",
    "    landsat_mask = regionmask.mask_geopandas(\n",
    "        landsat_shape, numbers=\"valid_landsat\", lon_or_obj=example.lon, lat=example.lat\n",
    "    )\n",
    "    hansen = hansen.where(landsat_mask == 1)\n",
    "    disturbed = (hansen > 0).any(dim=\"year\")\n",
    "    if disturbed.lat[0] > disturbed.lat[-1]:\n",
    "        disturbed = disturbed.reindex(lat=disturbed.lat[::-1])\n",
    "\n",
    "    # open v1, constrain to hansen emission > 0, and calculate % change of each pixel\n",
    "    v1 = xr.open_zarr(f\"s3://carbonplan-climatetrace/{version}/results/tiles/{tile}.zarr\")\n",
    "    disturbed = disturbed.assign_coords({\"lat\": v1.lat, \"lon\": v1.lon})\n",
    "\n",
    "    v1 = v1.where(disturbed)\n",
    "    vmax = v1.AGB.max(dim=\"time\")\n",
    "    vmin = v1.AGB.min(dim=\"time\")\n",
    "    pct_change = (vmax - vmin) / vmax * 100\n",
    "    da_area = compute_grid_area(pct_change)\n",
    "    da_area = da_area.where(disturbed)\n",
    "\n",
    "    # calculate summary states\n",
    "    # we want the weighted average of pct change\n",
    "    # sum of area * pct change divided by sum of area\n",
    "    area_summed = da_area.sum().values\n",
    "    pct_change_summed = (da_area * pct_change).sum().values\n",
    "\n",
    "    # growth rate\n",
    "    flatline_and_linear_positive = v1.breakpoint.isnull() & (\n",
    "        v1.AGB.isel(time=-1) >= v1.AGB.isel(time=0)\n",
    "    )\n",
    "    growth_rate = (v1.AGB.isel(time=-1) - v1.AGB.isel(time=0)).where(\n",
    "        flatline_and_linear_positive\n",
    "    ) / 6.0\n",
    "    growth_rate_summed = (da_area * growth_rate).sum().values\n",
    "\n",
    "    with open(\"growth_rate_plus.csv\", \"a\") as f:\n",
    "        f.write(f\"{tile},{area_summed},{pct_change_summed},{growth_rate_summed}\\n\")"
   ]
  },
  {
   "cell_type": "code",
   "execution_count": null,
   "id": "e4781805-35ed-413d-b0d0-6ce19046a3ce",
   "metadata": {},
   "outputs": [],
   "source": [
    "df = pd.read_csv(\"growth_rate_plus.csv\")\n",
    "\n",
    "print(\"pct change within v0 stand replacing change areas\")\n",
    "print(df.pct_change_summed.sum() / df.area_summed.sum())\n",
    "\n",
    "print(\"growth rate\")\n",
    "print(df.growth_rate_summed.sum() / df.growth_area_summed.sum())"
   ]
  }
 ],
 "metadata": {
  "kernelspec": {
   "display_name": "Python [conda env:notebook] *",
   "language": "python",
   "name": "conda-env-notebook-py"
  },
  "language_info": {
   "codemirror_mode": {
    "name": "ipython",
    "version": 3
   },
   "file_extension": ".py",
   "mimetype": "text/x-python",
   "name": "python",
   "nbconvert_exporter": "python",
   "pygments_lexer": "ipython3",
   "version": "3.9.7"
  }
 },
 "nbformat": 4,
 "nbformat_minor": 5
}
