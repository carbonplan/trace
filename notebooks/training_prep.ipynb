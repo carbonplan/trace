{
 "cells": [
  {
   "cell_type": "markdown",
   "metadata": {},
   "source": [
    "# Prep datasets for training\n",
    "\n",
    "Created by: Oriana Chegwidden\n"
   ]
  },
  {
   "cell_type": "code",
   "execution_count": null,
   "metadata": {},
   "outputs": [],
   "source": [
    "%load_ext autoreload\n",
    "%autoreload 2\n",
    "\n",
    "from pyproj import CRS\n",
    "import boto3\n",
    "from rasterio.session import AWSSession\n",
    "from s3fs import S3FileSystem\n",
    "aws_session = AWSSession(boto3.Session(),#profile_name='default'), \n",
    "                         requester_pays=True)\n",
    "fs = S3FileSystem(requester_pays=True) #profile='default', \n",
    "import xgboost as xgb\n",
    "\n",
    "from osgeo.gdal import VSICurlClearCache\n",
    "import rasterio as rio\n",
    "import numpy as np\n",
    "import xarray as xr\n",
    "import dask\n",
    "import os\n",
    "import fsspec\n",
    "import geopandas as gpd\n",
    "import rioxarray # for the extension to load\n",
    "import matplotlib.pyplot as plt\n",
    "import utm\n",
    "import pandas as pd\n",
    "from datetime import datetime\n",
    "import json\n",
    "import zarr\n",
    "import awswrangler as wr\n",
    "from dask_gateway import Gateway\n",
    "from carbonplan_trace.v1.landsat_preprocess import access_credentials, test_credentials\n",
    "from carbonplan_trace.v1.inference import predict, predict_delayed\n",
    "from carbonplan_trace.v1 import utils\n",
    "from carbonplan_trace.v1.training_prep import prep_training_dataset, add_parquet_urls"
   ]
  },
  {
   "cell_type": "code",
   "execution_count": null,
   "metadata": {
    "tags": []
   },
   "outputs": [],
   "source": [
    "kind_of_cluster = \"local\"  # \"remote\"\n",
    "if kind_of_cluster == \"local\":\n",
    "    # spin up local cluster. must be on big enough machine\n",
    "    from dask.distributed import Client\n",
    "\n",
    "    client = Client(n_workers=2, threads_per_worker=2)  # _per_worker=4\n",
    "    client\n",
    "else:\n",
    "    gateway = Gateway()\n",
    "    options = gateway.cluster_options()\n",
    "    options.environment = {\n",
    "        \"AWS_REQUEST_PAYER\": \"requester\",\n",
    "        \"AWS_REGION_NAME\": \"us-west-2\",\n",
    "    }\n",
    "    options.worker_cores = 1\n",
    "    options.worker_memory = 60\n",
    "    options.image = \"carbonplan/trace-python-notebook:main\"\n",
    "    cluster = gateway.new_cluster(cluster_options=options)\n",
    "    cluster.adapt(minimum=2, maximum=40)\n",
    "    client = cluster.get_client()"
   ]
  },
  {
   "cell_type": "code",
   "execution_count": null,
   "metadata": {},
   "outputs": [],
   "source": [
    "client"
   ]
  },
  {
   "cell_type": "markdown",
   "metadata": {},
   "source": [
    "Each Landsat scene is stored in cloud optimized geotiff (COG) according to a\n",
    "verbose (but once you understand it, human readable!) naming convention. Landsat\n",
    "Collection 2 uses the same naming convention as Collection 1 which is as follows\n",
    "(lifted from their docs at\n",
    "`https://prd-wret.s3.us-west-2.amazonaws.com/assets/palladium/production/atoms/files/LSDS-1656_%20Landsat_Collection1_L1_Product_Definition-v2.pdf`\n",
    "\n",
    "`LXSS_LLLL_PPPRRR_YYYYMMDD_yyyymmdd_CC_TX` where\n",
    "\n",
    "```\n",
    "L = Landsat  (constant)\n",
    "X = Sensor  (C = OLI / TIRS, O = OLI-only, T= TIRS-only, E = ETM+, T = TM, M= MSS)\n",
    "SS = Satellite  (e.g., 04 for Landsat 4, 05 for Landsat 5, 07 for Landsat 7, etc.)\n",
    "LLLL = Processing  level  (L1TP, L1GT, L1GS)\n",
    "PPP  = WRS path\n",
    "RRR  = WRS row\n",
    "YYYYMMDD = Acquisition  Year (YYYY) / Month  (MM) / Day  (DD)\n",
    "yyyymmdd  = Processing  Year (yyyy) / Month  (mm) / Day (dd)\n",
    "CC = Collection  number  (e.g., 01, 02, etc.)\n",
    "TX= RT for Real-Time, T1 for Tier 1 (highest quality), and T2 for Tier 2\n",
    "\n",
    "```\n",
    "\n",
    "Thus, we're looking for scenes coded in the following way:\n",
    "`LE07_????_PPP_RRR_YYYMMDD_yyyymmdd_02_T1` for Landsat 7 and\n",
    "`LT05_????_PPP_RRR_YYYMMDD_yyyymmdd_02_T1` for Landsat 5 (but T1 might be wrong\n",
    "there)\n"
   ]
  },
  {
   "cell_type": "markdown",
   "metadata": {},
   "source": [
    "We are re-implementing (to the best of our abilities) the methods from Wang et\n",
    "al (in review). Jon Wang's paper said:\n",
    "\n",
    "`To extend our AGB predictions through space and time, we used time series (1984 – 2014) of 30 m surface reflectance data from the Thematic Mapper onboard Landsat 5 and the Enhanced Thematic Mapper Plus onboard Landsat 7. We used the GLAS-derived estimates of AGB as a response variable and the mean growing season (June, July, August) and non-growing season values for each of Landsat’s six spectral reflectance bands as the predictors in an ensemble machine learning model`\n",
    "\n",
    "So we'll be looking for:\n",
    "\n",
    "- Landsat 5 (Thematic mapper) and 7 (Enhanced Thematic Mapper Plus)\n",
    "- Growing season (June-August) and non-growing season (Sept-May) averages at an\n",
    "  annual timestep. <--- will need to figure out around the calendar whether we\n",
    "  want consecutive\n",
    "- All six spectral reflectance bands\n",
    "- We'll do a quality thresholding of cloudless cover for now based upon their\n",
    "  thresholding\n"
   ]
  },
  {
   "cell_type": "markdown",
   "metadata": {},
   "source": [
    "In orienting myeslf, these are the potential collection options I've figured out\n",
    "(by poking around here on the\n",
    "[sat-api catalog](https://landsatlook.usgs.gov/sat-api/collections):\n",
    "\n",
    "- `landsat-c2l2-sr` Landsat Collection 2 Level-2 UTM Surface Reflectance (SR)\n",
    "  Product\n",
    "- `landsat-c2l2alb-sr` Landsat Collection 2 Level-2 Albers Surface Reflectance\n",
    "  (SR) Product\n",
    "- `landsat-c1l2alb-sr` Landsat Collection 1 Level-2 Albers Surface Reflectance\n",
    "  (SR) Product <-- we don't want this one (b/c we'll go with collection 2)\n",
    "- `landsat-c2l1` Landsat Collection 2 Level-1 Product <-- don't think we want\n",
    "  this because we want surface reflectance\n"
   ]
  },
  {
   "cell_type": "markdown",
   "metadata": {},
   "source": [
    "Run this once to apply the aws session to the rasterio environment\n"
   ]
  },
  {
   "cell_type": "markdown",
   "metadata": {},
   "source": [
    "There are different kinds of QA/QC bands contained in L2SP:\n",
    "\n",
    "- SR_CLOUD_QA - I think we want this one because anything less than 2 is either\n",
    "  just dark dense vegetation or no flags. everything above is stuff like water,\n",
    "  snow, cloud (different levels of obscurity). This is the result of the fmask\n",
    "  algorithm from Zhu et al.\n",
    "- QA_PIXEL - this gets a little more specific and goes intot different kinds of\n",
    "  clouds. Super interesting but I don't think we want to use it.\n"
   ]
  },
  {
   "cell_type": "markdown",
   "metadata": {},
   "source": [
    "Pull in the SR_CLOUD_QA and use as a mask - see Table 5-3 in\n",
    "https://prd-wret.s3.us-west-2.amazonaws.com/assets/palladium/production/atoms/files/LSDS-1370_L4-7_C1-SurfaceReflectance-LEDAPS_ProductGuide-v3.pdf\n",
    "for description of cloud integer values to select which ones to use as drop. For\n",
    "now I'll drop anything greater than 1 (0= no QA concerns and 1 is Dark dense\n",
    "vegetation (DDV)).\n"
   ]
  },
  {
   "cell_type": "markdown",
   "metadata": {},
   "source": [
    "First we make the query using sat-search to find every file in the STAC catalog\n",
    "that we want. We'll store that list of files. We'll do this first for a single\n",
    "tile (in this first exmaple just covering Washington State) but then we'll loop\n",
    "through in 1-degree by 1-degree tiles.\n"
   ]
  },
  {
   "cell_type": "code",
   "execution_count": null,
   "metadata": {},
   "outputs": [],
   "source": [
    "def shutdown_cluster(kind_of_cluster):\n",
    "    if kind_of_cluster == \"local\":\n",
    "        client.shutdown()\n",
    "    elif kind_of_cluster == \"remote\":\n",
    "        cluster.shutdown()"
   ]
  },
  {
   "cell_type": "code",
   "execution_count": null,
   "metadata": {},
   "outputs": [],
   "source": [
    "# shutdown_cluster(kind_of_cluster)"
   ]
  },
  {
   "cell_type": "markdown",
   "metadata": {},
   "source": [
    "Due to memory constraints we'll average repeated captures of the same scene.\n",
    "Then we'll average all of those averaged scenes together to create the full\n",
    "mesh. As of now we're just doing a straight average but ideally we would carry\n",
    "the weights of the number of repeats of each scene and do a weighted average\n",
    "when quilting the scenes together.\n"
   ]
  },
  {
   "cell_type": "markdown",
   "metadata": {},
   "source": [
    "Then we take the list of files for a given year to average across growing season\n",
    "for each of the tiles and write it out to a mapper with those specifications.\n"
   ]
  },
  {
   "cell_type": "code",
   "execution_count": null,
   "metadata": {},
   "outputs": [],
   "source": [
    "access_key_id, secret_access_key = access_credentials()"
   ]
  },
  {
   "cell_type": "code",
   "execution_count": null,
   "metadata": {},
   "outputs": [],
   "source": [
    "test_credentials(aws_session)"
   ]
  },
  {
   "cell_type": "code",
   "execution_count": null,
   "metadata": {},
   "outputs": [],
   "source": [
    "dask.config.set({\"array.slicing.split_large_chunks\": True})"
   ]
  },
  {
   "cell_type": "code",
   "execution_count": null,
   "metadata": {},
   "outputs": [],
   "source": [
    "gdf = gpd.read_file(\n",
    "    \"https://prd-wret.s3-us-west-2.amazonaws.com/assets/\"\n",
    "    \"palladium/production/s3fs-public/atoms/files/\"\n",
    "    \"WRS2_descending_0.zip\"\n",
    ")\n",
    "bucket = \"s3://carbonplan-climatetrace/v1\"\n",
    "\n",
    "biomass_folder = bucket + \"/biomass/\"\n",
    "biomass_files = fs.ls(biomass_folder)\n",
    "lat_lon_tags = [\n",
    "    utils.get_lat_lon_tags_from_tile_path(fp) for fp in biomass_files\n",
    "]\n",
    "\n",
    "# # example tile\n",
    "# lat_lon_tags = [(\"50N\", \"120W\")]\n",
    "bounding_boxes = [\n",
    "    utils.parse_bounding_box_from_lat_lon_tags(lat, lon)\n",
    "    for lat, lon in lat_lon_tags\n",
    "]"
   ]
  },
  {
   "cell_type": "code",
   "execution_count": null,
   "metadata": {},
   "outputs": [],
   "source": [
    "tasks = []\n",
    "landsat_bucket = (\n",
    "    \"s3://usgs-landsat/collection02/level-2/standard/etm/{}/{:03d}/{:03d}/\"\n",
    ")\n",
    "\n",
    "with rio.Env(aws_session):\n",
    "    for bounding_box in bounding_boxes:\n",
    "        min_lat, max_lat, min_lon, max_lon = bounding_box\n",
    "        scenes_in_tile = gdf.cx[min_lon:max_lon, min_lat:max_lat][\n",
    "            [\"PATH\", \"ROW\"]\n",
    "        ].values\n",
    "        for year in np.arange(2003, 2010):\n",
    "            for [path, row] in scenes_in_tile:\n",
    "                scene_stores = fs.ls(landsat_bucket.format(year, path, row))\n",
    "                if len(scene_stores) == 0:\n",
    "                    continue\n",
    "                else:\n",
    "                    tasks.append(\n",
    "                        prep_training_dataset(\n",
    "                            path=path,\n",
    "                            row=row,\n",
    "                            year=year,\n",
    "                            access_key_id=access_key_id,\n",
    "                            secret_access_key=secret_access_key,\n",
    "                            training_write_bucket=f\"{bucket}/training/\",\n",
    "                        )\n",
    "                    )"
   ]
  },
  {
   "cell_type": "markdown",
   "metadata": {},
   "source": [
    "### In case you want to aggregate the parquet files the following snippets could be useful. They're written currently to aggregate back to make a file for a 10x10 tile.\n"
   ]
  },
  {
   "cell_type": "code",
   "execution_count": null,
   "metadata": {},
   "outputs": [],
   "source": [
    "combine_parquet_files_full_tile(\n",
    "    ul_lat,\n",
    "    ul_lon,\n",
    "    write=True,\n",
    "    access_key_id=access_key_id,\n",
    "    secret_access_key=secret_access_key,\n",
    ")"
   ]
  }
 ],
 "metadata": {
  "kernelspec": {
   "display_name": "Python 3",
   "language": "python",
   "name": "python3"
  },
  "language_info": {
   "codemirror_mode": {
    "name": "ipython",
    "version": 3
   },
   "file_extension": ".py",
   "mimetype": "text/x-python",
   "name": "python",
   "nbconvert_exporter": "python",
   "pygments_lexer": "ipython3",
   "version": "3.8.10"
  }
 },
 "nbformat": 4,
 "nbformat_minor": 4
}
