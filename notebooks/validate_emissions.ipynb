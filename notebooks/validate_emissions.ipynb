{
 "cells": [
  {
   "cell_type": "markdown",
   "id": "523be2e2-2748-4294-a5d7-0956c07fc47e",
   "metadata": {},
   "source": [
    "<img width=\"100\" src=\"https://carbonplan-assets.s3.amazonaws.com/monogram/dark-small.png\" style=\"margin-left:0px;margin-top:20px\"/>\n",
    "\n",
    "# Forest Emissions Tracking - Validation\n",
    "\n",
    "_CarbonPlan ClimateTrace Team_\n",
    "\n",
    "This notebook compares our estimates of country-level forest emissions to prior\n",
    "estimates from other groups. The notebook currently compares againsts:\n",
    "\n",
    "- Global Forest Watch (Zarin et al. 2016)\n",
    "- Global Carbon Project (Friedlingstein et al. 2020)\n"
   ]
  },
  {
   "cell_type": "code",
   "execution_count": 54,
   "id": "1b2841a9-0129-41ad-b5c1-ce40dbea8a3b",
   "metadata": {},
   "outputs": [],
   "source": [
    "import geopandas\n",
    "import pandas as pd\n",
    "from io import StringIO\n",
    "import matplotlib.pyplot as plt\n",
    "\n",
    "from carbonplan_styles.mpl import set_theme\n",
    "from carbonplan_styles.colors import dark\n",
    "set_theme()"
   ]
  },
  {
   "cell_type": "code",
   "execution_count": 15,
   "id": "cabb8d9d-9f68-47f0-bc09-6a424a3f1cc1",
   "metadata": {},
   "outputs": [],
   "source": [
    "# Input data\n",
    "# ----------\n",
    "\n",
    "# country shapes from GADM36\n",
    "countries = geopandas.read_file(\n",
    "    \"s3://carbonplan-climatetrace/inputs/shapes/countries.shp\"\n",
    ")\n",
    "\n",
    "# CarbonPlan's emissions\n",
    "emissions = {}\n",
    "versions = [ 'v0.3', 'v0.4'] #'v0.1',\n",
    "for version in versions:\n",
    "#     try:\n",
    "#         emissions[version] = pd.read_csv(\"s3://carbonplan-climatetrace/{}/country_rollups_emissions.csv\".format(version))\n",
    "#     except:\n",
    "#         emissions[version] = pd.read_csv(\"s3://carbonplan-climatetrace/{}/country_rollups.csv\".format(version))\n",
    "# #         continue\n",
    "\n",
    "    for mechanism in ['fire', 'clearing']:\n",
    "        emissions[version+'-'+mechanism] = pd.read_csv(\"s3://carbonplan-climatetrace/{}/country_rollups_emissions_from_{}.csv\".format(version, mechanism))\n",
    "    emissions[version] = emissions[version+'-fire'].copy(deep=True)\n",
    "    emissions[version]['tCO2eq'] = emissions[version+'-fire']['tCO2eq']+emissions[version+'-clearing']['tCO2eq']\n",
    "# GFW emissions\n",
    "gfw_emissions = pd.read_excel(\n",
    "    \"s3://carbonplan-climatetrace/validation/gfw_global_emissions.xlsx\",\n",
    "    sheet_name=\"Country co2 emissions\",\n",
    ").dropna(axis=0)\n",
    "gfw_emissions = gfw_emissions[\n",
    "    gfw_emissions[\"threshold\"] == 10\n",
    "]  # select threshold\n",
    "\n",
    "# Global Carbon Project\n",
    "gcp_emissions = (\n",
    "    pd.read_excel(\n",
    "        \"s3://carbonplan-climatetrace/validation/Global_Carbon_Budget_2020v1.0.xlsx\",\n",
    "        sheet_name=\"Land-Use Change Emissions\",\n",
    "        skiprows=28,\n",
    "    )\n",
    "    .dropna(axis=1)\n",
    "    .set_index(\"Year\")\n",
    ")\n",
    "gcp_emissions *= 3.664  # C->CO2\n",
    "gcp_emissions.index = [\n",
    "    pd.to_datetime(f\"{y}-01-01\") for y in gcp_emissions.index\n",
    "]\n",
    "gcp_emissions = gcp_emissions[[\"GCB\", \"H&N\", \"BLUE\", \"OSCAR\"]]\n",
    "\n",
    "# Blue Sky Fire emissions\n",
    "emissions['Blue Sky'] = pd.read_csv(\n",
    "    \"s3://carbonplan-climatetrace/validation/forest-fires_bsa.csv\")\n",
    "\n",
    "# all the inventories\n",
    "inventories_df = pd.read_csv(\n",
    "    \"s3://carbonplan-climatetrace/validation/210623_all_inventory_data.csv\")\n"
   ]
  },
  {
   "cell_type": "code",
   "execution_count": 16,
   "id": "f6c7a1b0-fec5-489c-8f79-1faffa028a2e",
   "metadata": {},
   "outputs": [],
   "source": [
    "# Merge emissions dataframes with countries GeoDataFrame\n",
    "gfw_countries = countries.merge(\n",
    "    gfw_emissions.rename(columns={\"country\": \"name\"}), on=\"name\"\n",
    ")\n",
    "trace_countries = {}\n",
    "for version in versions:\n",
    "    trace_countries[version] = countries.merge(\n",
    "        emissions[version].rename(columns={\"iso3_country\": \"alpha3\"}), on=\"alpha3\"\n",
    "    )\n",
    "    for mechanism in ['fire', 'clearing']:\n",
    "        trace_countries[version+'-'+mechanism] = countries.merge(\n",
    "            emissions[version+'-'+mechanism].rename(columns={\"iso3_country\": \"alpha3\"}), on=\"alpha3\"\n",
    "        )"
   ]
  },
  {
   "cell_type": "code",
   "execution_count": null,
   "id": "72aa6949-8db4-4424-a887-7a3a119619d0",
   "metadata": {},
   "outputs": [],
   "source": []
  },
  {
   "cell_type": "code",
   "execution_count": 5,
   "id": "4897eb53-cade-4f47-93e0-0a8f7c1c5cae",
   "metadata": {},
   "outputs": [
    {
     "name": "stderr",
     "output_type": "stream",
     "text": [
      "/tmp/ipykernel_67/3859830404.py:4: UserWarning: Boolean Series key will be reindexed to match DataFrame index.\n",
      "  us_emissions = df[df['iso3_country']=='USA'][df['begin_date']=='2015-01-01']['tCO2eq'].values\n"
     ]
    },
    {
     "name": "stdout",
     "output_type": "stream",
     "text": [
      "US - 2015 - fire - v0.3 - [0.15196833] Gt\n",
      "US - 2015 - fire - v0.4 - [0.10664691] Gt\n",
      "US - 2015 - clearing - v0.3 - [0.52205376] Gt\n",
      "US - 2015 - clearing - v0.4 - [0.47170273] Gt\n"
     ]
    }
   ],
   "source": [
    "for mechanism in ['fire', 'clearing']:\n",
    "    for version in ['v0.3', 'v0.4']:\n",
    "        df = pd.read_csv(\"s3://carbonplan-climatetrace/{}/country_rollups_emissions_from_{}.csv\".format(version, mechanism))\n",
    "        us_emissions = df[df['iso3_country']=='USA'][df['begin_date']=='2015-01-01']['tCO2eq'].values\n",
    "        print('US - 2015 - {} - {} - {} Gt'.format(mechanism, version, us_emissions))"
   ]
  },
  {
   "cell_type": "code",
   "execution_count": 17,
   "id": "674a6434-b160-4b1c-bfb8-2eadb081310d",
   "metadata": {},
   "outputs": [
    {
     "data": {
      "text/html": [
       "<div>\n",
       "<style scoped>\n",
       "    .dataframe tbody tr th:only-of-type {\n",
       "        vertical-align: middle;\n",
       "    }\n",
       "\n",
       "    .dataframe tbody tr th {\n",
       "        vertical-align: top;\n",
       "    }\n",
       "\n",
       "    .dataframe thead th {\n",
       "        text-align: right;\n",
       "    }\n",
       "</style>\n",
       "<table border=\"1\" class=\"dataframe\">\n",
       "  <thead>\n",
       "    <tr style=\"text-align: right;\">\n",
       "      <th>country</th>\n",
       "      <th>Angola</th>\n",
       "      <th>Anguilla</th>\n",
       "      <th>Antigua and Barbuda</th>\n",
       "      <th>Aruba</th>\n",
       "      <th>Bahamas</th>\n",
       "      <th>Bangladesh</th>\n",
       "      <th>Barbados</th>\n",
       "      <th>Belize</th>\n",
       "      <th>Benin</th>\n",
       "      <th>Bhutan</th>\n",
       "      <th>...</th>\n",
       "      <th>Timor-Leste</th>\n",
       "      <th>Togo</th>\n",
       "      <th>Trinidad and Tobago</th>\n",
       "      <th>Turks and Caicos Islands</th>\n",
       "      <th>Uganda</th>\n",
       "      <th>Venezuela</th>\n",
       "      <th>Vietnam</th>\n",
       "      <th>Virgin Islands, U.S.</th>\n",
       "      <th>Zambia</th>\n",
       "      <th>Zimbabwe</th>\n",
       "    </tr>\n",
       "  </thead>\n",
       "  <tbody>\n",
       "    <tr>\n",
       "      <th>2001-01-01</th>\n",
       "      <td>31136879.0</td>\n",
       "      <td>538.0</td>\n",
       "      <td>5376.0</td>\n",
       "      <td>0.0</td>\n",
       "      <td>62247.0</td>\n",
       "      <td>1926681.0</td>\n",
       "      <td>2948.0</td>\n",
       "      <td>2664263.0</td>\n",
       "      <td>2595676.0</td>\n",
       "      <td>140861.0</td>\n",
       "      <td>...</td>\n",
       "      <td>307218.0</td>\n",
       "      <td>1019587.0</td>\n",
       "      <td>641304.0</td>\n",
       "      <td>1059.0</td>\n",
       "      <td>10925954.0</td>\n",
       "      <td>37489138.0</td>\n",
       "      <td>18637306.0</td>\n",
       "      <td>33872.0</td>\n",
       "      <td>11120464.0</td>\n",
       "      <td>3341102.0</td>\n",
       "    </tr>\n",
       "    <tr>\n",
       "      <th>2002-01-01</th>\n",
       "      <td>16829411.0</td>\n",
       "      <td>22.0</td>\n",
       "      <td>3893.0</td>\n",
       "      <td>85.0</td>\n",
       "      <td>112943.0</td>\n",
       "      <td>1589109.0</td>\n",
       "      <td>2873.0</td>\n",
       "      <td>4076547.0</td>\n",
       "      <td>2780439.0</td>\n",
       "      <td>107165.0</td>\n",
       "      <td>...</td>\n",
       "      <td>704508.0</td>\n",
       "      <td>819767.0</td>\n",
       "      <td>253466.0</td>\n",
       "      <td>674.0</td>\n",
       "      <td>3159491.0</td>\n",
       "      <td>26071313.0</td>\n",
       "      <td>18995849.0</td>\n",
       "      <td>6316.0</td>\n",
       "      <td>15524726.0</td>\n",
       "      <td>3497928.0</td>\n",
       "    </tr>\n",
       "    <tr>\n",
       "      <th>2003-01-01</th>\n",
       "      <td>13910080.0</td>\n",
       "      <td>190.0</td>\n",
       "      <td>4064.0</td>\n",
       "      <td>156.0</td>\n",
       "      <td>41118.0</td>\n",
       "      <td>848477.0</td>\n",
       "      <td>794.0</td>\n",
       "      <td>2218989.0</td>\n",
       "      <td>4134499.0</td>\n",
       "      <td>227076.0</td>\n",
       "      <td>...</td>\n",
       "      <td>312124.0</td>\n",
       "      <td>948716.0</td>\n",
       "      <td>255138.0</td>\n",
       "      <td>1140.0</td>\n",
       "      <td>4203655.0</td>\n",
       "      <td>27666280.0</td>\n",
       "      <td>16483340.0</td>\n",
       "      <td>11361.0</td>\n",
       "      <td>15746559.0</td>\n",
       "      <td>3571212.0</td>\n",
       "    </tr>\n",
       "    <tr>\n",
       "      <th>2004-01-01</th>\n",
       "      <td>18427670.0</td>\n",
       "      <td>1327.0</td>\n",
       "      <td>6235.0</td>\n",
       "      <td>0.0</td>\n",
       "      <td>89321.0</td>\n",
       "      <td>1635774.0</td>\n",
       "      <td>2295.0</td>\n",
       "      <td>1320572.0</td>\n",
       "      <td>522435.0</td>\n",
       "      <td>497910.0</td>\n",
       "      <td>...</td>\n",
       "      <td>870732.0</td>\n",
       "      <td>1152064.0</td>\n",
       "      <td>276882.0</td>\n",
       "      <td>1325.0</td>\n",
       "      <td>5912218.0</td>\n",
       "      <td>27342980.0</td>\n",
       "      <td>28882631.0</td>\n",
       "      <td>10498.0</td>\n",
       "      <td>10901084.0</td>\n",
       "      <td>4330461.0</td>\n",
       "    </tr>\n",
       "    <tr>\n",
       "      <th>2005-01-01</th>\n",
       "      <td>23622906.0</td>\n",
       "      <td>571.0</td>\n",
       "      <td>16365.0</td>\n",
       "      <td>0.0</td>\n",
       "      <td>213287.0</td>\n",
       "      <td>1334780.0</td>\n",
       "      <td>2226.0</td>\n",
       "      <td>2578664.0</td>\n",
       "      <td>4509795.0</td>\n",
       "      <td>391291.0</td>\n",
       "      <td>...</td>\n",
       "      <td>565295.0</td>\n",
       "      <td>1276745.0</td>\n",
       "      <td>429870.0</td>\n",
       "      <td>2475.0</td>\n",
       "      <td>9948475.0</td>\n",
       "      <td>28190210.0</td>\n",
       "      <td>39344380.0</td>\n",
       "      <td>5310.0</td>\n",
       "      <td>22127861.0</td>\n",
       "      <td>5612324.0</td>\n",
       "    </tr>\n",
       "  </tbody>\n",
       "</table>\n",
       "<p>5 rows × 101 columns</p>\n",
       "</div>"
      ],
      "text/plain": [
       "country         Angola  Anguilla  Antigua and Barbuda  Aruba   Bahamas  \\\n",
       "2001-01-01  31136879.0     538.0               5376.0    0.0   62247.0   \n",
       "2002-01-01  16829411.0      22.0               3893.0   85.0  112943.0   \n",
       "2003-01-01  13910080.0     190.0               4064.0  156.0   41118.0   \n",
       "2004-01-01  18427670.0    1327.0               6235.0    0.0   89321.0   \n",
       "2005-01-01  23622906.0     571.0              16365.0    0.0  213287.0   \n",
       "\n",
       "country     Bangladesh  Barbados     Belize      Benin    Bhutan  ...  \\\n",
       "2001-01-01   1926681.0    2948.0  2664263.0  2595676.0  140861.0  ...   \n",
       "2002-01-01   1589109.0    2873.0  4076547.0  2780439.0  107165.0  ...   \n",
       "2003-01-01    848477.0     794.0  2218989.0  4134499.0  227076.0  ...   \n",
       "2004-01-01   1635774.0    2295.0  1320572.0   522435.0  497910.0  ...   \n",
       "2005-01-01   1334780.0    2226.0  2578664.0  4509795.0  391291.0  ...   \n",
       "\n",
       "country     Timor-Leste       Togo  Trinidad and Tobago  \\\n",
       "2001-01-01     307218.0  1019587.0             641304.0   \n",
       "2002-01-01     704508.0   819767.0             253466.0   \n",
       "2003-01-01     312124.0   948716.0             255138.0   \n",
       "2004-01-01     870732.0  1152064.0             276882.0   \n",
       "2005-01-01     565295.0  1276745.0             429870.0   \n",
       "\n",
       "country     Turks and Caicos Islands      Uganda   Venezuela     Vietnam  \\\n",
       "2001-01-01                    1059.0  10925954.0  37489138.0  18637306.0   \n",
       "2002-01-01                     674.0   3159491.0  26071313.0  18995849.0   \n",
       "2003-01-01                    1140.0   4203655.0  27666280.0  16483340.0   \n",
       "2004-01-01                    1325.0   5912218.0  27342980.0  28882631.0   \n",
       "2005-01-01                    2475.0   9948475.0  28190210.0  39344380.0   \n",
       "\n",
       "country     Virgin Islands, U.S.      Zambia   Zimbabwe  \n",
       "2001-01-01               33872.0  11120464.0  3341102.0  \n",
       "2002-01-01                6316.0  15524726.0  3497928.0  \n",
       "2003-01-01               11361.0  15746559.0  3571212.0  \n",
       "2004-01-01               10498.0  10901084.0  4330461.0  \n",
       "2005-01-01                5310.0  22127861.0  5612324.0  \n",
       "\n",
       "[5 rows x 101 columns]"
      ]
     },
     "execution_count": 17,
     "metadata": {},
     "output_type": "execute_result"
    }
   ],
   "source": [
    "# reformat to \"wide\" format (time x country)\n",
    "trace_wide = {}\n",
    "for version in emissions.keys():\n",
    "    if version != 'Blue Sky':\n",
    "        trace_wide[version] = (\n",
    "            emissions[version].drop(columns=[\"end_date\"])\n",
    "            .pivot(index=\"begin_date\", columns=\"iso3_country\")\n",
    "            .droplevel(0, axis=1)\n",
    "        )\n",
    "        trace_wide[version].index = pd.to_datetime(trace_wide[version].index)\n",
    "gfw_wide = (\n",
    "    gfw_emissions.set_index(\"country\")\n",
    "    .filter(regex=\"whrc_aboveground_co2_emissions_Mg_.*\")\n",
    "    .T\n",
    ")\n",
    "gfw_wide.index = [pd.to_datetime(f\"{l[-4:]}-01-01\") for l in gfw_wide.index]\n",
    "\n",
    "gfw_wide.head()"
   ]
  },
  {
   "cell_type": "markdown",
   "id": "e5587d7a-cfee-4d15-b2b1-3378f65aa5b7",
   "metadata": {},
   "source": [
    "## Part 1 - Compare time-averaged country emissions (tropics only)\n"
   ]
  },
  {
   "cell_type": "code",
   "execution_count": 18,
   "id": "374ac295-e170-482a-9fa0-691748ef7596",
   "metadata": {},
   "outputs": [],
   "source": [
    "# Create a new dataframe with average emissions\n",
    "avg_emissions = countries.set_index(\"alpha3\")\n",
    "for version in trace_wide.keys():\n",
    "    avg_emissions[version] = trace_wide[version].mean().transpose()\n",
    "avg_emissions = avg_emissions.set_index(\"name\")\n",
    "avg_emissions[\"gfw\"] = gfw_wide.mean().transpose() / 1e9"
   ]
  },
  {
   "cell_type": "code",
   "execution_count": 19,
   "id": "83f5161f-7e3f-4c16-9f22-7bb3cb812dfe",
   "metadata": {},
   "outputs": [],
   "source": [
    "avg_emissions['diff_fire'] = avg_emissions['v0.3-fire'] - avg_emissions['v0.4-fire']"
   ]
  },
  {
   "cell_type": "code",
   "execution_count": 20,
   "id": "e6ff2945-4be1-40dd-b33b-845a7c9b858c",
   "metadata": {},
   "outputs": [
    {
     "name": "stderr",
     "output_type": "stream",
     "text": [
      "*c* argument looks like a single numeric RGB or RGBA sequence, which should be avoided as value-mapping will have precedence in case its length matches with *x* & *y*.  Please use the *color* keyword-argument or provide a 2D array with a single row if you intend to specify the same RGB or RGBA value for all points.\n",
      "*c* argument looks like a single numeric RGB or RGBA sequence, which should be avoided as value-mapping will have precedence in case its length matches with *x* & *y*.  Please use the *color* keyword-argument or provide a 2D array with a single row if you intend to specify the same RGB or RGBA value for all points.\n"
     ]
    },
    {
     "data": {
      "image/png": "[encoded data removed]",
      "text/plain": [
       "<Figure size 432x288 with 2 Axes>"
      ]
     },
     "metadata": {},
     "output_type": "display_data"
    }
   ],
   "source": [
    "# Scatter Plot\n",
    "fig, axarr = plt.subplots(ncols=2, sharey=True)\n",
    "for i, version in enumerate(versions):\n",
    "    avg_emissions.plot.scatter(\"gfw\", version, ax=axarr[i])\n",
    "    axarr[i].set_ylabel(\"Trace [Gt CO2e]\")\n",
    "    axarr[i].set_xlabel(\"GFW [Gt CO2e]\")\n",
    "    axarr[i].set_title(\"Trace-{}\".format(version))"
   ]
  },
  {
   "cell_type": "code",
   "execution_count": 21,
   "id": "e9a3394c-8a77-426f-bc05-eb19ce894fe6",
   "metadata": {},
   "outputs": [
    {
     "name": "stderr",
     "output_type": "stream",
     "text": [
      "*c* argument looks like a single numeric RGB or RGBA sequence, which should be avoided as value-mapping will have precedence in case its length matches with *x* & *y*.  Please use the *color* keyword-argument or provide a 2D array with a single row if you intend to specify the same RGB or RGBA value for all points.\n",
      "*c* argument looks like a single numeric RGB or RGBA sequence, which should be avoided as value-mapping will have precedence in case its length matches with *x* & *y*.  Please use the *color* keyword-argument or provide a 2D array with a single row if you intend to specify the same RGB or RGBA value for all points.\n"
     ]
    },
    {
     "data": {
      "image/png": "[encoded data removed]",
      "text/plain": [
       "<Figure size 432x288 with 2 Axes>"
      ]
     },
     "metadata": {},
     "output_type": "display_data"
    }
   ],
   "source": [
    "# Scatter Plot\n",
    "fig, axarr = plt.subplots(ncols=2, sharey=True)\n",
    "for i, version in enumerate(versions):\n",
    "    avg_emissions.plot.scatter(\"gfw\", version, ax=axarr[i])\n",
    "    axarr[i].set_ylabel(\"Trace [Gt CO2e]\")\n",
    "    axarr[i].set_xlabel(\"GFW [Gt CO2e]\")\n",
    "    axarr[i].set_title(\"Trace-{}\".format(version))"
   ]
  },
  {
   "cell_type": "markdown",
   "id": "d7e2617c-cba4-4351-9ce4-140cbdba7e11",
   "metadata": {},
   "source": [
    "## Part 2 - Maps of Tropical Emissions\n"
   ]
  },
  {
   "cell_type": "code",
   "execution_count": 22,
   "id": "1bcee465-7726-4cd4-b9c9-ef407c86fb9e",
   "metadata": {},
   "outputs": [],
   "source": [
    "avg_emissions_nonan = avg_emissions.dropna()"
   ]
  },
  {
   "cell_type": "code",
   "execution_count": 23,
   "id": "b58858bc-53bf-4212-a9f1-dc1aca9e5800",
   "metadata": {},
   "outputs": [
    {
     "data": {
      "image/png": "[encoded data removed]",
      "text/plain": [
       "<Figure size 432x288 with 6 Axes>"
      ]
     },
     "metadata": {},
     "output_type": "display_data"
    }
   ],
   "source": [
    "fig, axarr = plt.subplots(nrows=2, ncols=2)\n",
    "for i, version in enumerate(versions):\n",
    "    kwargs = dict(\n",
    "        legend=True,\n",
    "        legend_kwds={\"orientation\": \"horizontal\", \"label\": \"Emissions [Gt CO2e]\"},\n",
    "        lw=0.25,\n",
    "        cmap=\"Reds\",\n",
    "        vmin=0,\n",
    "        vmax=1,\n",
    "        ax=axarr[0,i]\n",
    "    )\n",
    "    avg_emissions_nonan.plot(\"{}-fire\".format(version), **kwargs)\n",
    "    axarr[0,i].set_title(\"Trace-{}\".format(version))\n"
   ]
  },
  {
   "cell_type": "code",
   "execution_count": 28,
   "id": "1879b57f-eabd-4783-9699-d9b2e0a884ed",
   "metadata": {},
   "outputs": [
    {
     "name": "stderr",
     "output_type": "stream",
     "text": [
      "/srv/conda/envs/notebook/lib/python3.8/site-packages/geopandas/geodataframe.py:1322: SettingWithCopyWarning: \n",
      "A value is trying to be set on a copy of a slice from a DataFrame.\n",
      "Try using .loc[row_indexer,col_indexer] = value instead\n",
      "\n",
      "See the caveats in the documentation: https://pandas.pydata.org/pandas-docs/stable/user_guide/indexing.html#returning-a-view-versus-a-copy\n",
      "  super(GeoDataFrame, self).__setitem__(key, value)\n",
      "/srv/conda/envs/notebook/lib/python3.8/site-packages/geopandas/geodataframe.py:1322: SettingWithCopyWarning: \n",
      "A value is trying to be set on a copy of a slice from a DataFrame.\n",
      "Try using .loc[row_indexer,col_indexer] = value instead\n",
      "\n",
      "See the caveats in the documentation: https://pandas.pydata.org/pandas-docs/stable/user_guide/indexing.html#returning-a-view-versus-a-copy\n",
      "  super(GeoDataFrame, self).__setitem__(key, value)\n"
     ]
    },
    {
     "data": {
      "image/png": "[encoded data removed]",
      "text/plain": [
       "<Figure size 432x288 with 8 Axes>"
      ]
     },
     "metadata": {},
     "output_type": "display_data"
    }
   ],
   "source": [
    "fig, axarr = plt.subplots(nrows=2, ncols=2)\n",
    "for i, version in enumerate(versions):\n",
    "    kwargs = dict(\n",
    "        legend=True,\n",
    "        legend_kwds={\"orientation\": \"horizontal\", \"label\": \"Emissions [Gt CO2e]\"},\n",
    "        lw=0.25,\n",
    "        cmap=\"Reds\",\n",
    "        vmin=0,\n",
    "        vmax=1,\n",
    "        ax=axarr[0,i]\n",
    "    )\n",
    "    avg_emissions_nonan.plot(\"{}\".format(version), **kwargs)\n",
    "    axarr[0,i].set_title(\"Trace-{}\".format(version))\n",
    "\n",
    "for i, version in enumerate(versions):\n",
    "    kwargs = dict(\n",
    "    legend=True,\n",
    "    legend_kwds={\n",
    "        \"orientation\": \"horizontal\",\n",
    "        \"label\": \"Emissions Difference [%]\",\n",
    "    },\n",
    "    lw=0.25,\n",
    "    cmap=\"RdBu_r\",\n",
    "    vmin=-40,\n",
    "    vmax=40,\n",
    "    ax=axarr[1,i]\n",
    ")\n",
    "    avg_emissions_nonan[\"pdiff\"] = (\n",
    "        (avg_emissions_nonan[\"{}\".format(version)] - avg_emissions_nonan[\"gfw\"])\n",
    "        / avg_emissions_nonan[\"gfw\"]\n",
    "    ) * 100\n",
    "    avg_emissions_nonan.plot(\"pdiff\", **kwargs)\n",
    "    axarr[1,i].set_title(\"% difference from GFW\")\n",
    "    \n",
    "plt.tight_layout()"
   ]
  },
  {
   "cell_type": "code",
   "execution_count": 29,
   "id": "29deb312-ec7c-4d10-868a-1f94f3f6554a",
   "metadata": {},
   "outputs": [
    {
     "ename": "TypeError",
     "evalue": "unsupported operand type(s) for ** or pow(): 'str' and 'dict'",
     "output_type": "error",
     "traceback": [
      "\u001b[0;31m---------------------------------------------------------------------------\u001b[0m",
      "\u001b[0;31mTypeError\u001b[0m                                 Traceback (most recent call last)",
      "\u001b[0;32m/tmp/ipykernel_67/292407231.py\u001b[0m in \u001b[0;36m<module>\u001b[0;34m\u001b[0m\n\u001b[1;32m      8\u001b[0m         \u001b[0max\u001b[0m\u001b[0;34m=\u001b[0m\u001b[0maxarr\u001b[0m\u001b[0;34m[\u001b[0m\u001b[0;36m0\u001b[0m\u001b[0;34m,\u001b[0m\u001b[0mi\u001b[0m\u001b[0;34m]\u001b[0m\u001b[0;34m\u001b[0m\u001b[0;34m\u001b[0m\u001b[0m\n\u001b[1;32m      9\u001b[0m     )\n\u001b[0;32m---> 10\u001b[0;31m \u001b[0mavg_emissions_nonan\u001b[0m\u001b[0;34m.\u001b[0m\u001b[0mplot\u001b[0m\u001b[0;34m(\u001b[0m\u001b[0;34m\"gfw\"\u001b[0m \u001b[0;34m**\u001b[0m\u001b[0mkwargs\u001b[0m\u001b[0;34m)\u001b[0m\u001b[0;34m\u001b[0m\u001b[0;34m\u001b[0m\u001b[0m\n\u001b[0m\u001b[1;32m     11\u001b[0m \u001b[0;34m\u001b[0m\u001b[0m\n\u001b[1;32m     12\u001b[0m \u001b[0mplt\u001b[0m\u001b[0;34m.\u001b[0m\u001b[0mtitle\u001b[0m\u001b[0;34m(\u001b[0m\u001b[0;34m\"GFW Tropics\"\u001b[0m\u001b[0;34m)\u001b[0m\u001b[0;34m\u001b[0m\u001b[0;34m\u001b[0m\u001b[0m\n",
      "\u001b[0;31mTypeError\u001b[0m: unsupported operand type(s) for ** or pow(): 'str' and 'dict'"
     ]
    }
   ],
   "source": [
    "kwargs = dict(\n",
    "        legend=True,\n",
    "        legend_kwds={\"orientation\": \"horizontal\", \"label\": \"Emissions [Gt CO2e]\"},\n",
    "        lw=0.25,\n",
    "        cmap=\"Reds\",\n",
    "        vmin=0,\n",
    "        vmax=1,\n",
    "        ax=axarr[0,i]\n",
    "    )\n",
    "avg_emissions_nonan.plot(\"gfw\" **kwargs)\n",
    "\n",
    "plt.title(\"GFW Tropics\")"
   ]
  },
  {
   "cell_type": "code",
   "execution_count": null,
   "id": "fb62fd65-f62d-4cf4-bb2f-254f91fd58b8",
   "metadata": {},
   "outputs": [],
   "source": []
  },
  {
   "cell_type": "markdown",
   "id": "89b48b85-1e55-4dfb-b290-6a7191bcc366",
   "metadata": {},
   "source": [
    "## Part 3 - Compare trace_wideglobal emissions timeseries to Global Carbon Project\n"
   ]
  },
  {
   "cell_type": "code",
   "execution_count": 79,
   "id": "a0b26b2b-bcad-4ff6-bb2e-e7160ffcf0ed",
   "metadata": {},
   "outputs": [
    {
     "data": {
      "image/png": "[encoded data removed]",
      "text/plain": [
       "<Figure size 504x324 with 1 Axes>"
      ]
     },
     "metadata": {},
     "output_type": "display_data"
    }
   ],
   "source": [
    "plt.figure(figsize=(7,4.5))\n",
    "ax = gcp_emissions[\"GCB\"].loc[\"2000\":].plot(label=\"GCB\", lw=4, color=dark['blue'])\n",
    "for dataset, line_style in zip([\"H&N\", \"BLUE\", \"OSCAR\"], ['--', '-', ':']):\n",
    "    gcp_emissions[dataset].loc[\"2000\":].plot(label=dataset+' [GCB]', ls=line_style, color=dark['blue'])\n",
    "# trace_wide['v0.1'].sum(axis=1).plot(ax=ax, label=\"Trace v0.1\".format(version), c=\"k\", lw=3)\n",
    "trace_wide['v0.3'].sum(axis=1).plot(ax=ax, label=\"Climate Trace\".format(version), c=\"k\", ls='-', lw=4)\n",
    "ax.hlines(7.9, xmin='2001', xmax='2018', label='Harris et al (2020)', color=dark['green'], lw=4)\n",
    "plt.ylabel(\"Land Sector Emissions\\n[Gt CO2e]\")\n",
    "plt.xlabel('')\n",
    "plt.legend(ncol=2)\n",
    "plt.ylim(2,14)\n",
    "plt.savefig('global_comparisons.png')\n"
   ]
  },
  {
   "cell_type": "markdown",
   "id": "68d4ba1b-427b-41a1-b367-599260c9f847",
   "metadata": {},
   "source": [
    "## Part 4 - Compare fire emissions from CarbonPlan with those from Blue Sky"
   ]
  },
  {
   "cell_type": "code",
   "execution_count": 31,
   "id": "245839da-046a-4f6c-b3b5-84c0f8c9d3a9",
   "metadata": {},
   "outputs": [],
   "source": [
    "bsa = pd.read_csv('global-CO2-estimates-per-vegetation-2015-2020-BSA.csv')"
   ]
  },
  {
   "cell_type": "code",
   "execution_count": 32,
   "id": "6eca9efd-3aed-429d-a12d-1cd2ed43ebd6",
   "metadata": {},
   "outputs": [],
   "source": [
    "opencanopy = bsa[bsa['parent_class']=='open_canopy_forest'].drop('parent_class', axis=1)\n",
    "\n",
    "closedcanopy = bsa[bsa['parent_class']=='closed_canopy_forest'].drop('parent_class', axis=1)\n",
    "\n",
    "merged = pd.merge(opencanopy.rename({'tCO2': 'open_canopy'}, axis=1), \n",
    "         closedcanopy.rename({'tCO2': 'closed_canopy'}, axis=1),\n",
    "         how='left', left_on=['iso3_country','begin_date'],\n",
    "         right_on=['iso3_country','begin_date'])"
   ]
  },
  {
   "cell_type": "code",
   "execution_count": 33,
   "id": "510c1bf0-5768-4d39-9e3b-83904d79ffca",
   "metadata": {},
   "outputs": [],
   "source": [
    "merged['total'] = merged['open_canopy'] + merged['closed_canopy']\n",
    "\n",
    "bsa_comparisons = pd.merge(emissions['Blue Sky'].rename({'tCO2': 'website'}, axis=1),\n",
    "                           merged.rename({'total': 'slack'}, axis=1),\n",
    "                           how='left', left_on=['iso3_country','begin_date'],\n",
    "         right_on=['iso3_country','begin_date'])"
   ]
  },
  {
   "cell_type": "code",
   "execution_count": 34,
   "id": "8206855a-dc42-48fb-bae6-8f1fe5316523",
   "metadata": {},
   "outputs": [
    {
     "data": {
      "text/html": [
       "<div>\n",
       "<style scoped>\n",
       "    .dataframe tbody tr th:only-of-type {\n",
       "        vertical-align: middle;\n",
       "    }\n",
       "\n",
       "    .dataframe tbody tr th {\n",
       "        vertical-align: top;\n",
       "    }\n",
       "\n",
       "    .dataframe thead th {\n",
       "        text-align: right;\n",
       "    }\n",
       "</style>\n",
       "<table border=\"1\" class=\"dataframe\">\n",
       "  <thead>\n",
       "    <tr style=\"text-align: right;\">\n",
       "      <th></th>\n",
       "      <th>website</th>\n",
       "      <th>iso3_country</th>\n",
       "      <th>begin_date</th>\n",
       "      <th>end_date</th>\n",
       "      <th>open_canopy</th>\n",
       "      <th>end_date_x</th>\n",
       "      <th>closed_canopy</th>\n",
       "      <th>end_date_y</th>\n",
       "      <th>slack</th>\n",
       "    </tr>\n",
       "  </thead>\n",
       "  <tbody>\n",
       "    <tr>\n",
       "      <th>49</th>\n",
       "      <td>6.922832e+08</td>\n",
       "      <td>COD</td>\n",
       "      <td>2015-01-01</td>\n",
       "      <td>2016-01-01</td>\n",
       "      <td>1.211562e+08</td>\n",
       "      <td>2016-01-01</td>\n",
       "      <td>4.968389e+08</td>\n",
       "      <td>2016-01-01</td>\n",
       "      <td>6.179951e+08</td>\n",
       "    </tr>\n",
       "    <tr>\n",
       "      <th>256</th>\n",
       "      <td>7.486633e+08</td>\n",
       "      <td>COD</td>\n",
       "      <td>2016-01-01</td>\n",
       "      <td>2017-01-01</td>\n",
       "      <td>1.215563e+08</td>\n",
       "      <td>2017-01-01</td>\n",
       "      <td>5.561352e+08</td>\n",
       "      <td>2017-01-01</td>\n",
       "      <td>6.776915e+08</td>\n",
       "    </tr>\n",
       "    <tr>\n",
       "      <th>465</th>\n",
       "      <td>6.773686e+08</td>\n",
       "      <td>COD</td>\n",
       "      <td>2017-01-01</td>\n",
       "      <td>2018-01-01</td>\n",
       "      <td>1.159877e+08</td>\n",
       "      <td>2018-01-01</td>\n",
       "      <td>4.925143e+08</td>\n",
       "      <td>2018-01-01</td>\n",
       "      <td>6.085021e+08</td>\n",
       "    </tr>\n",
       "    <tr>\n",
       "      <th>674</th>\n",
       "      <td>6.781723e+08</td>\n",
       "      <td>COD</td>\n",
       "      <td>2018-01-01</td>\n",
       "      <td>2019-01-01</td>\n",
       "      <td>1.143420e+08</td>\n",
       "      <td>2019-01-01</td>\n",
       "      <td>4.966938e+08</td>\n",
       "      <td>2019-01-01</td>\n",
       "      <td>6.110357e+08</td>\n",
       "    </tr>\n",
       "    <tr>\n",
       "      <th>881</th>\n",
       "      <td>6.675174e+08</td>\n",
       "      <td>COD</td>\n",
       "      <td>2019-01-01</td>\n",
       "      <td>2020-01-01</td>\n",
       "      <td>1.085527e+08</td>\n",
       "      <td>2020-01-01</td>\n",
       "      <td>4.895868e+08</td>\n",
       "      <td>2020-01-01</td>\n",
       "      <td>5.981395e+08</td>\n",
       "    </tr>\n",
       "    <tr>\n",
       "      <th>1088</th>\n",
       "      <td>7.217670e+08</td>\n",
       "      <td>COD</td>\n",
       "      <td>2020-01-01</td>\n",
       "      <td>2021-01-01</td>\n",
       "      <td>1.134957e+08</td>\n",
       "      <td>2021-01-01</td>\n",
       "      <td>5.505704e+08</td>\n",
       "      <td>2021-01-01</td>\n",
       "      <td>6.640661e+08</td>\n",
       "    </tr>\n",
       "  </tbody>\n",
       "</table>\n",
       "</div>"
      ],
      "text/plain": [
       "           website iso3_country  begin_date    end_date   open_canopy  \\\n",
       "49    6.922832e+08          COD  2015-01-01  2016-01-01  1.211562e+08   \n",
       "256   7.486633e+08          COD  2016-01-01  2017-01-01  1.215563e+08   \n",
       "465   6.773686e+08          COD  2017-01-01  2018-01-01  1.159877e+08   \n",
       "674   6.781723e+08          COD  2018-01-01  2019-01-01  1.143420e+08   \n",
       "881   6.675174e+08          COD  2019-01-01  2020-01-01  1.085527e+08   \n",
       "1088  7.217670e+08          COD  2020-01-01  2021-01-01  1.134957e+08   \n",
       "\n",
       "      end_date_x  closed_canopy  end_date_y         slack  \n",
       "49    2016-01-01   4.968389e+08  2016-01-01  6.179951e+08  \n",
       "256   2017-01-01   5.561352e+08  2017-01-01  6.776915e+08  \n",
       "465   2018-01-01   4.925143e+08  2018-01-01  6.085021e+08  \n",
       "674   2019-01-01   4.966938e+08  2019-01-01  6.110357e+08  \n",
       "881   2020-01-01   4.895868e+08  2020-01-01  5.981395e+08  \n",
       "1088  2021-01-01   5.505704e+08  2021-01-01  6.640661e+08  "
      ]
     },
     "execution_count": 34,
     "metadata": {},
     "output_type": "execute_result"
    }
   ],
   "source": [
    "bsa_comparisons[bsa_comparisons['iso3_country']=='COD']"
   ]
  },
  {
   "cell_type": "code",
   "execution_count": 35,
   "id": "a9e0bbca-010a-455d-85c9-0d3b28f7edc8",
   "metadata": {},
   "outputs": [],
   "source": [
    "comparison = pd.merge(emissions['v0.3-fire'].rename({'tCO2eq': 'CarbonPlan'}, axis=1), \n",
    "                      emissions['Blue Sky'].rename({'tCO2': 'Blue Sky'}, axis=1),  how='left', left_on=['iso3_country','begin_date'], \n",
    "                      right_on = ['iso3_country','begin_date'])"
   ]
  },
  {
   "cell_type": "code",
   "execution_count": 36,
   "id": "ef1c049c-8c46-4ae4-aa4e-9692ae4ea537",
   "metadata": {},
   "outputs": [],
   "source": [
    "comparison = comparison.drop(['end_date_x', 'end_date_y'], axis=1)\n",
    "comparison['Blue Sky'] /= 1e9"
   ]
  },
  {
   "cell_type": "code",
   "execution_count": 37,
   "id": "c1f4c926-0c94-4c48-93ea-c29a44baced0",
   "metadata": {},
   "outputs": [],
   "source": [
    "for dataset in ['CarbonPlan', 'Blue Sky']:\n",
    "    comparison = comparison.rename({dataset: dataset+' [GtCO2/year]'}, axis=1)"
   ]
  },
  {
   "cell_type": "code",
   "execution_count": 38,
   "id": "25246635-54be-498e-b579-df76b7faa1a4",
   "metadata": {},
   "outputs": [
    {
     "name": "stderr",
     "output_type": "stream",
     "text": [
      "*c* argument looks like a single numeric RGB or RGBA sequence, which should be avoided as value-mapping will have precedence in case its length matches with *x* & *y*.  Please use the *color* keyword-argument or provide a 2D array with a single row if you intend to specify the same RGB or RGBA value for all points.\n"
     ]
    },
    {
     "data": {
      "text/plain": [
       "[<matplotlib.lines.Line2D at 0x7f643280d250>]"
      ]
     },
     "execution_count": 38,
     "metadata": {},
     "output_type": "execute_result"
    },
    {
     "data": {
      "image/png": "[encoded data removed]",
      "text/plain": [
       "<Figure size 432x432 with 1 Axes>"
      ]
     },
     "metadata": {},
     "output_type": "display_data"
    }
   ],
   "source": [
    "fig, ax = plt.subplots(figsize=(6,6))\n",
    "comparison.plot.scatter('CarbonPlan [GtCO2/year]', 'Blue Sky [GtCO2/year]', ax=ax)\n",
    "ax.set_xlim(0,0.9)\n",
    "ax.set_ylim(0,0.9)\n",
    "plt.plot([0,1], [0,1], 'k-', lw=1)"
   ]
  },
  {
   "cell_type": "code",
   "execution_count": 39,
   "id": "b9c36987-6353-4422-be35-34718ed97614",
   "metadata": {},
   "outputs": [],
   "source": [
    "## Part 5 - Compare emissions from CarbonPlan with other inventories"
   ]
  },
  {
   "cell_type": "code",
   "execution_count": 40,
   "id": "ffc91e31-0fc0-4dad-baa7-28fbab8690cf",
   "metadata": {},
   "outputs": [],
   "source": [
    "inventories_df = pd.read_csv(\n",
    "    \"s3://carbonplan-climatetrace/validation/210623_all_inventory_data.csv\")\n"
   ]
  },
  {
   "cell_type": "code",
   "execution_count": 9,
   "id": "461f6b76-9ea9-4060-b4d1-0eabe2b1df35",
   "metadata": {},
   "outputs": [
    {
     "data": {
      "text/plain": [
       "{'CAIT',\n",
       " 'ClimateTRACE',\n",
       " 'EDGAR',\n",
       " 'GCP',\n",
       " 'PIK-CR',\n",
       " 'PIK-TP',\n",
       " 'carbon monitor',\n",
       " 'unfccc',\n",
       " 'unfccc_nai'}"
      ]
     },
     "execution_count": 9,
     "metadata": {},
     "output_type": "execute_result"
    }
   ],
   "source": [
    "set(inventories_df['Data source'].values)"
   ]
  },
  {
   "cell_type": "code",
   "execution_count": 82,
   "id": "b269622c-f41e-4ae4-802b-d176dee9c029",
   "metadata": {},
   "outputs": [],
   "source": [
    "def select_inventory_timeseries(df, inventory=None, country=None, sector=None):\n",
    "    if inventory is not None:\n",
    "        df = df[df['Data source']==inventory]\n",
    "    if country is not None:\n",
    "        df = df[df['Country'] == country]\n",
    "    if sector is not None:\n",
    "        df= df[df['Sector'] == sector]\n",
    "    return df"
   ]
  },
  {
   "cell_type": "code",
   "execution_count": 86,
   "id": "2e8e3fa8-4a84-43b1-8d2f-b51c69e67ae0",
   "metadata": {},
   "outputs": [
    {
     "data": {
      "text/html": [
       "<div>\n",
       "<style scoped>\n",
       "    .dataframe tbody tr th:only-of-type {\n",
       "        vertical-align: middle;\n",
       "    }\n",
       "\n",
       "    .dataframe tbody tr th {\n",
       "        vertical-align: top;\n",
       "    }\n",
       "\n",
       "    .dataframe thead th {\n",
       "        text-align: right;\n",
       "    }\n",
       "</style>\n",
       "<table border=\"1\" class=\"dataframe\">\n",
       "  <thead>\n",
       "    <tr style=\"text-align: right;\">\n",
       "      <th></th>\n",
       "      <th>2000</th>\n",
       "      <th>2001</th>\n",
       "      <th>2002</th>\n",
       "      <th>2003</th>\n",
       "      <th>2004</th>\n",
       "      <th>2005</th>\n",
       "      <th>2006</th>\n",
       "      <th>2007</th>\n",
       "      <th>2008</th>\n",
       "      <th>2009</th>\n",
       "      <th>2010</th>\n",
       "      <th>2011</th>\n",
       "      <th>2012</th>\n",
       "      <th>2013</th>\n",
       "      <th>2014</th>\n",
       "      <th>2015</th>\n",
       "      <th>2016</th>\n",
       "      <th>2017</th>\n",
       "      <th>2018</th>\n",
       "    </tr>\n",
       "  </thead>\n",
       "  <tbody>\n",
       "    <tr>\n",
       "      <th>31</th>\n",
       "      <td>1041.43</td>\n",
       "      <td>1105.43</td>\n",
       "      <td>1112.14</td>\n",
       "      <td>1110.98</td>\n",
       "      <td>1112.4</td>\n",
       "      <td>1115.42</td>\n",
       "      <td>1107.64</td>\n",
       "      <td>1118.24</td>\n",
       "      <td>1106.46</td>\n",
       "      <td>1103.36</td>\n",
       "      <td>1118.17</td>\n",
       "      <td>265.75</td>\n",
       "      <td>269.54</td>\n",
       "      <td>264.18</td>\n",
       "      <td>266.89</td>\n",
       "      <td>271.59</td>\n",
       "      <td>392.29</td>\n",
       "      <td>396.51</td>\n",
       "      <td>387.94</td>\n",
       "    </tr>\n",
       "  </tbody>\n",
       "</table>\n",
       "</div>"
      ],
      "text/plain": [
       "       2000     2001     2002     2003    2004     2005     2006     2007  \\\n",
       "31  1041.43  1105.43  1112.14  1110.98  1112.4  1115.42  1107.64  1118.24   \n",
       "\n",
       "       2008     2009     2010    2011    2012    2013    2014    2015    2016  \\\n",
       "31  1106.46  1103.36  1118.17  265.75  269.54  264.18  266.89  271.59  392.29   \n",
       "\n",
       "      2017    2018  \n",
       "31  396.51  387.94  "
      ]
     },
     "execution_count": 86,
     "metadata": {},
     "output_type": "execute_result"
    }
   ],
   "source": [
    "select_inventory_timeseries(inventories_df, country='Brazil', inventory='CAIT', sector='Land-Use Change and Forestry')[[str(year) for year in range(2000, 2019)]]"
   ]
  }
 ],
 "metadata": {
  "kernelspec": {
   "display_name": "Python 3 (ipykernel)",
   "language": "python",
   "name": "python3"
  },
  "language_info": {
   "codemirror_mode": {
    "name": "ipython",
    "version": 3
   },
   "file_extension": ".py",
   "mimetype": "text/x-python",
   "name": "python",
   "nbconvert_exporter": "python",
   "pygments_lexer": "ipython3",
   "version": "3.8.10"
  }
 },
 "nbformat": 4,
 "nbformat_minor": 5
}
