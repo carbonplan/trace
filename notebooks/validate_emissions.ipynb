{
 "cells": [
  {
   "cell_type": "markdown",
   "id": "080680ad",
   "metadata": {},
   "source": [
    "<img width=\"100\" src=\"https://carbonplan-assets.s3.amazonaws.com/monogram/dark-small.png\" style=\"margin-left:0px;margin-top:20px\"/>\n",
    "\n",
    "# Forest Emissions Tracking - Validation\n",
    "\n",
    "_CarbonPlan ClimateTrace Team_\n",
    "\n",
    "This notebook compares our estimates of country-level forest emissions to prior estimates from other\n",
    "groups. The notebook currently compares againsts:\n",
    "\n",
    "- Global Forest Watch (Zarin et al. 2016)\n",
    "- Global Carbon Project (Friedlingstein et al. 2020)\n"
   ]
  },
  {
   "cell_type": "code",
   "execution_count": null,
   "id": "dfd06db7",
   "metadata": {},
   "outputs": [],
   "source": [
    "import geopandas\n",
    "import pandas as pd\n",
    "from io import StringIO\n",
    "import matplotlib.pyplot as plt\n",
    "import xarray as xr\n",
    "from carbonplan_styles.mpl import set_theme\n",
    "import urllib3\n",
    "\n",
    "urllib3.disable_warnings()\n",
    "set_theme()"
   ]
  },
  {
   "cell_type": "code",
   "execution_count": null,
   "id": "28aa8ea3",
   "metadata": {},
   "outputs": [],
   "source": [
    "# Input data\n",
    "# ----------\n",
    "\n",
    "# country shapes from GADM36\n",
    "countries = geopandas.read_file(\"s3://carbonplan-climatetrace/inputs/shapes/countries.shp\")\n",
    "\n",
    "# CarbonPlan's emissions\n",
    "emissions = pd.read_csv(\"s3://carbonplan-climatetrace/v0.4/country_rollups_emissions.csv\")\n",
    "\n",
    "# GFW emissions\n",
    "gfw_emissions = pd.read_excel(\n",
    "    \"s3://carbonplan-climatetrace/validation/gfw_global_emissions.xlsx\",\n",
    "    sheet_name=\"Country co2 emissions\",\n",
    ").dropna(axis=0)\n",
    "gfw_emissions = gfw_emissions[gfw_emissions[\"threshold\"] == 10]  # select threshold\n",
    "\n",
    "# Global Carbon Project\n",
    "gcp_emissions = (\n",
    "    pd.read_excel(\n",
    "        \"s3://carbonplan-climatetrace/validation/Global_Carbon_Budget_2020v1.0.xlsx\",\n",
    "        sheet_name=\"Land-Use Change Emissions\",\n",
    "        skiprows=28,\n",
    "    )\n",
    "    .dropna(axis=1)\n",
    "    .set_index(\"Year\")\n",
    ")\n",
    "gcp_emissions *= 3.664  # C->CO2\n",
    "gcp_emissions.index = [pd.to_datetime(f\"{y}-01-01\") for y in gcp_emissions.index]\n",
    "gcp_emissions = gcp_emissions[[\"GCB\", \"H&N\", \"BLUE\", \"OSCAR\"]]"
   ]
  },
  {
   "cell_type": "code",
   "execution_count": null,
   "id": "2ea0e992-fd57-4cfa-9dc1-22e2b5d89554",
   "metadata": {},
   "outputs": [],
   "source": [
    "v1_emissions_fire = pd.read_csv(\n",
    "    \"s3://carbonplan-climatetrace/v1.2/country_rollups_emissions_from_fire.csv\"\n",
    ")\n",
    "v1_emissions_clearing = pd.read_csv(\n",
    "    \"s3://carbonplan-climatetrace/v1.2/country_rollups_emissions_from_clearing.csv\"\n",
    ")\n",
    "v1_sinks = pd.read_csv(\"s3://carbonplan-climatetrace/v1.2/country_rollups_sinks.csv\")\n",
    "v1_net = pd.read_csv(\"s3://carbonplan-climatetrace/v1.2/country_rollups_net.csv\")"
   ]
  },
  {
   "cell_type": "code",
   "execution_count": null,
   "id": "795aa19e-6ada-4923-b69a-1e617890c4f8",
   "metadata": {},
   "outputs": [],
   "source": [
    "v1_total = v1_emissions_fire.copy()\n",
    "v1_total[\"tCO2eq\"] = v1_emissions_fire[\"tCO2eq\"] + v1_emissions_clearing[\"tCO2eq\"]"
   ]
  },
  {
   "cell_type": "code",
   "execution_count": null,
   "id": "7f18ff4b",
   "metadata": {},
   "outputs": [],
   "source": [
    "# Merge emissions dataframes with countries GeoDataFrame\n",
    "gfw_counties = countries.merge(gfw_emissions.rename(columns={\"country\": \"name\"}), on=\"name\")\n",
    "trace_counties = countries.merge(emissions.rename(columns={\"iso3_country\": \"alpha3\"}), on=\"alpha3\")"
   ]
  },
  {
   "cell_type": "code",
   "execution_count": null,
   "id": "6f3f914f-bdb4-4e2c-86e0-c5445862f5f5",
   "metadata": {},
   "outputs": [],
   "source": [
    "# reformat to \"wide\" format (time x country)\n",
    "emissions_dfs, trace_wide = {}, {}\n",
    "emissions_dfs[\"v1\"] = v1_total\n",
    "emissions_dfs[\"v0\"] = emissions\n",
    "emissions_dfs[\"v1-net\"] = v1_net\n",
    "emissions_dfs[\"v1-sinks\"] = v1_sinks"
   ]
  },
  {
   "cell_type": "code",
   "execution_count": null,
   "id": "2b300c12-0412-4205-983d-3b347d10c7d9",
   "metadata": {},
   "outputs": [],
   "source": [
    "for version, df in emissions_dfs.items():\n",
    "\n",
    "    trace_wide[version] = (\n",
    "        df.drop(columns=[\"end_date\"])\n",
    "        .pivot(index=\"begin_date\", columns=\"iso3_country\")\n",
    "        .droplevel(0, axis=1)\n",
    "    )\n",
    "    trace_wide[version].index = pd.to_datetime(trace_wide[version].index)\n",
    "    trace_wide[version] = trace_wide[version].truncate(before=\"2015\")\n",
    "gfw_wide = gfw_emissions.set_index(\"country\").filter(regex=\"whrc_aboveground_co2_emissions_Mg_.*\").T\n",
    "gfw_wide.index = [pd.to_datetime(f\"{l[-4:]}-01-01\") for l in gfw_wide.index]\n",
    "\n",
    "gfw_wide.head()"
   ]
  },
  {
   "cell_type": "markdown",
   "id": "44530345",
   "metadata": {},
   "source": [
    "## Part 1 - Compare time-averaged country emissions (tropics only)\n"
   ]
  },
  {
   "cell_type": "code",
   "execution_count": null,
   "id": "00467c62",
   "metadata": {},
   "outputs": [],
   "source": [
    "# Create a new dataframe with average emissions\n",
    "avg_emissions = countries.set_index(\"alpha3\")\n",
    "avg_emissions[\"trace-v0\"] = trace_wide[\"v0\"].mean().transpose() / 1e9\n",
    "avg_emissions[\"trace-v1\"] = trace_wide[\"v1\"].mean().transpose() / 1e9\n",
    "avg_emissions[\"trace-v1-net\"] = trace_wide[\"v1-net\"].mean().transpose() / 1e3\n",
    "avg_emissions[\"trace-v1-sinks\"] = trace_wide[\"v1-sinks\"].mean().transpose() / 1e9\n",
    "\n",
    "\n",
    "avg_emissions = avg_emissions.set_index(\"name\")\n",
    "avg_emissions[\"gfw\"] = gfw_wide.mean().transpose() / 1e9"
   ]
  },
  {
   "cell_type": "code",
   "execution_count": null,
   "id": "bb75bbe4",
   "metadata": {},
   "outputs": [],
   "source": [
    "# Scatter Plot\n",
    "\n",
    "avg_emissions.plot.scatter(\"trace-v1\", \"trace-v0\")\n",
    "plt.ylabel(\"Trace-v1 [Tg CO2e]\")\n",
    "plt.xlabel(\"Trace-v0 [Tg CO2e]\")\n",
    "\n",
    "plt.plot([0, 1.2], [0, 1.2], \"k\")\n",
    "plt.ylim(0, 1.2)\n",
    "plt.xlim(0, 1.2)"
   ]
  },
  {
   "cell_type": "markdown",
   "id": "532bfd81",
   "metadata": {},
   "source": [
    "## Part 2 - Maps of Tropical Emissions\n"
   ]
  },
  {
   "cell_type": "code",
   "execution_count": null,
   "id": "6312c2a1",
   "metadata": {},
   "outputs": [],
   "source": [
    "avg_emissions_nonan = avg_emissions.dropna()"
   ]
  },
  {
   "cell_type": "code",
   "execution_count": null,
   "id": "cc9c2540-2209-4cce-943f-64152478544f",
   "metadata": {},
   "outputs": [],
   "source": [
    "avg_emissions"
   ]
  },
  {
   "cell_type": "code",
   "execution_count": null,
   "id": "15cb2818",
   "metadata": {},
   "outputs": [],
   "source": [
    "kwargs = dict(\n",
    "    legend=True,\n",
    "    legend_kwds={\"orientation\": \"horizontal\", \"label\": \"Emissions [Tg CO2e]\"},\n",
    "    lw=0.25,\n",
    "    cmap=\"fire_light\",\n",
    "    vmin=0,\n",
    "    vmax=1,\n",
    ")\n",
    "avg_emissions.plot(\"trace-v0\", **kwargs)\n",
    "plt.title(\"Trace-v0 emissions (avg. 2015-2020)\")"
   ]
  },
  {
   "cell_type": "code",
   "execution_count": null,
   "id": "8ea6066f",
   "metadata": {},
   "outputs": [],
   "source": [
    "avg_emissions.plot(\"trace-v1\", **kwargs)\n",
    "\n",
    "plt.title(\"Trace-v1 emissions (avg. 2015-2020)\")"
   ]
  },
  {
   "cell_type": "code",
   "execution_count": null,
   "id": "0681c43e",
   "metadata": {},
   "outputs": [],
   "source": [
    "kwargs = dict(\n",
    "    legend=True,\n",
    "    legend_kwds={\n",
    "        \"orientation\": \"horizontal\",\n",
    "        \"label\": \"Emissions Difference [%]\",\n",
    "    },\n",
    "    lw=0.25,\n",
    "    cmap=\"RdBu_r\",\n",
    "    vmin=-1000,\n",
    "    vmax=100,\n",
    ")\n",
    "avg_emissions[\"pdiff\"] = (\n",
    "    (avg_emissions[\"trace-v1\"] - avg_emissions[\"trace-v0\"]) / avg_emissions[\"trace-v0\"]\n",
    ") * 100\n",
    "avg_emissions.plot(\"pdiff\", **kwargs)\n",
    "plt.title(\"Difference in emissions 2015-2020 (v1 - v0)\")"
   ]
  },
  {
   "cell_type": "code",
   "execution_count": null,
   "id": "21c0b0f3-dcb8-41af-abe7-16d030c76b99",
   "metadata": {},
   "outputs": [],
   "source": [
    "kwargs = dict(\n",
    "    legend=True,\n",
    "    legend_kwds={\"orientation\": \"horizontal\", \"label\": \"Emissions [Tg CO2e]\"},\n",
    "    lw=0.25,\n",
    "    cmap=\"water_light_r\",\n",
    "    vmin=-1,\n",
    "    vmax=0,\n",
    ")\n",
    "avg_emissions.plot(\"trace-v1-sinks\", **kwargs)\n",
    "plt.title(\"Trace v1\")"
   ]
  },
  {
   "cell_type": "code",
   "execution_count": null,
   "id": "4de1c509-80af-429c-a2c0-fbd5a5958d61",
   "metadata": {},
   "outputs": [],
   "source": [
    "kwargs = dict(\n",
    "    legend=True,\n",
    "    legend_kwds={\n",
    "        \"orientation\": \"horizontal\",\n",
    "        \"label\": \"Net emissions [kt CO2]\",\n",
    "    },\n",
    "    lw=0.25,\n",
    "    cmap=\"orangeblue_light_r\",\n",
    "    vmin=-1e5,\n",
    "    vmax=1e5,\n",
    ")\n",
    "avg_emissions.plot(\"trace-v1-net\", **kwargs)\n",
    "\n",
    "plt.title(\"Net CO2 flux v1 (average 2015-2020)\")"
   ]
  },
  {
   "cell_type": "markdown",
   "id": "122a4eae",
   "metadata": {},
   "source": [
    "gcp_emissions## Part 3 - Compare global emissions timeseries to Global Carbon Project\n"
   ]
  },
  {
   "cell_type": "code",
   "execution_count": null,
   "id": "497cb35c",
   "metadata": {},
   "outputs": [],
   "source": [
    "ax = gcp_emissions[[\"H&N\", \"BLUE\", \"OSCAR\"]].loc[\"2000\":].plot(ls=\"--\")\n",
    "gcp_emissions[\"GCB\"].loc[\"2000\":].plot(ax=ax, label=\"GCB\", lw=3)\n",
    "(trace_wide[\"v0\"].sum(axis=1) / 1e9).plot(ax=ax, label=\"Trace v0\", c=\"k\", lw=3)\n",
    "(trace_wide[\"v1\"].sum(axis=1) / 1e9).plot(ax=ax, label=\"Trace v1\", c=\"g\", lw=3)\n",
    "plt.ylabel(\"Emissions [Tg CO2e]\")\n",
    "plt.legend()"
   ]
  }
 ],
 "metadata": {
  "kernelspec": {
   "display_name": "Python [conda env:notebook] *",
   "language": "python",
   "name": "conda-env-notebook-py"
  },
  "language_info": {
   "codemirror_mode": {
    "name": "ipython",
    "version": 3
   },
   "file_extension": ".py",
   "mimetype": "text/x-python",
   "name": "python",
   "nbconvert_exporter": "python",
   "pygments_lexer": "ipython3",
   "version": "3.9.7"
  }
 },
 "nbformat": 4,
 "nbformat_minor": 5
}
