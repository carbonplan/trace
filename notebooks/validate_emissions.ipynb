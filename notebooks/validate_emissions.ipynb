{
 "cells": [
  {
   "cell_type": "markdown",
   "id": "080680ad",
   "metadata": {},
   "source": [
    "<img width=\"100\" src=\"https://carbonplan-assets.s3.amazonaws.com/monogram/dark-small.png\" style=\"margin-left:0px;margin-top:20px\"/>\n",
    "\n",
    "# Forest Emissions Tracking - Validation\n",
    "\n",
    "_CarbonPlan ClimateTrace Team_\n",
    "\n",
    "This notebook compares our estimates of country-level forest emissions to prior estimates from other\n",
    "groups. The notebook currently compares againsts:\n",
    "\n",
    "- Global Forest Watch (Zarin et al. 2016)\n",
    "- Global Carbon Project (Friedlingstein et al. 2020)\n"
   ]
  },
  {
   "cell_type": "code",
   "execution_count": null,
   "id": "dfd06db7",
   "metadata": {},
   "outputs": [],
   "source": [
    "import geopandas\n",
    "import pandas as pd\n",
    "from io import StringIO\n",
    "import matplotlib.pyplot as plt\n",
    "\n",
    "from carbonplan_styles.mpl import set_theme\n",
    "\n",
    "set_theme()"
   ]
  },
  {
   "cell_type": "code",
   "execution_count": null,
   "id": "28aa8ea3",
   "metadata": {},
   "outputs": [],
   "source": [
    "# Input data\n",
    "# ----------\n",
    "\n",
    "# country shapes from GADM36\n",
    "countries = geopandas.read_file(\"s3://carbonplan-climatetrace/inputs/shapes/countries.shp\")\n",
    "\n",
    "# CarbonPlan's emissions\n",
    "emissions = pd.read_csv(\"s3://carbonplan-climatetrace/v0.1/country_rollups.csv\")\n",
    "\n",
    "# GFW emissions\n",
    "gfw_emissions = pd.read_excel(\n",
    "    \"s3://carbonplan-climatetrace/validation/gfw_global_emissions.xlsx\",\n",
    "    sheet_name=\"Country co2 emissions\",\n",
    ").dropna(axis=0)\n",
    "gfw_emissions = gfw_emissions[gfw_emissions[\"threshold\"] == 10]  # select threshold\n",
    "\n",
    "# Global Carbon Project\n",
    "gcp_emissions = (\n",
    "    pd.read_excel(\n",
    "        \"s3://carbonplan-climatetrace/validation/Global_Carbon_Budget_2020v1.0.xlsx\",\n",
    "        sheet_name=\"Land-Use Change Emissions\",\n",
    "        skiprows=28,\n",
    "    )\n",
    "    .dropna(axis=1)\n",
    "    .set_index(\"Year\")\n",
    ")\n",
    "gcp_emissions *= 3.664  # C->CO2\n",
    "gcp_emissions.index = [pd.to_datetime(f\"{y}-01-01\") for y in gcp_emissions.index]\n",
    "gcp_emissions = gcp_emissions[[\"GCB\", \"H&N\", \"BLUE\", \"OSCAR\"]]"
   ]
  },
  {
   "cell_type": "code",
   "execution_count": null,
   "id": "7f18ff4b",
   "metadata": {},
   "outputs": [],
   "source": [
    "# Merge emissions dataframes with countries GeoDataFrame\n",
    "gfw_counties = countries.merge(gfw_emissions.rename(columns={\"country\": \"name\"}), on=\"name\")\n",
    "trace_counties = countries.merge(emissions.rename(columns={\"iso3_country\": \"alpha3\"}), on=\"alpha3\")"
   ]
  },
  {
   "cell_type": "code",
   "execution_count": null,
   "id": "140fa014",
   "metadata": {},
   "outputs": [],
   "source": [
    "# reformat to \"wide\" format (time x country)\n",
    "trace_wide = (\n",
    "    emissions.drop(columns=[\"end_date\"])\n",
    "    .pivot(index=\"begin_date\", columns=\"iso3_country\")\n",
    "    .droplevel(0, axis=1)\n",
    ")\n",
    "trace_wide.index = pd.to_datetime(trace_wide.index)\n",
    "\n",
    "gfw_wide = gfw_emissions.set_index(\"country\").filter(regex=\"whrc_aboveground_co2_emissions_Mg_.*\").T\n",
    "gfw_wide.index = [pd.to_datetime(f\"{l[-4:]}-01-01\") for l in gfw_wide.index]\n",
    "\n",
    "gfw_wide.head()"
   ]
  },
  {
   "cell_type": "markdown",
   "id": "44530345",
   "metadata": {},
   "source": [
    "## Part 1 - Compare time-averaged country emissions (tropics only)\n"
   ]
  },
  {
   "cell_type": "code",
   "execution_count": null,
   "id": "00467c62",
   "metadata": {},
   "outputs": [],
   "source": [
    "# Create a new dataframe with average emissions\n",
    "avg_emissions = countries.set_index(\"alpha3\")\n",
    "avg_emissions[\"trace\"] = trace_wide.mean().transpose()\n",
    "\n",
    "avg_emissions = avg_emissions.set_index(\"name\")\n",
    "avg_emissions[\"gfw\"] = gfw_wide.mean().transpose() / 1e9"
   ]
  },
  {
   "cell_type": "code",
   "execution_count": null,
   "id": "bb75bbe4",
   "metadata": {},
   "outputs": [],
   "source": [
    "# Scatter Plot\n",
    "avg_emissions.plot.scatter(\"gfw\", \"trace\")\n",
    "plt.ylabel(\"Trace [Tg CO2e]\")\n",
    "plt.xlabel(\"GFW [Tg CO2e]\")"
   ]
  },
  {
   "cell_type": "markdown",
   "id": "532bfd81",
   "metadata": {},
   "source": [
    "## Part 2 - Maps of Tropical Emissions\n"
   ]
  },
  {
   "cell_type": "code",
   "execution_count": null,
   "id": "6312c2a1",
   "metadata": {},
   "outputs": [],
   "source": [
    "avg_emissions_nonan = avg_emissions.dropna()"
   ]
  },
  {
   "cell_type": "code",
   "execution_count": null,
   "id": "15cb2818",
   "metadata": {},
   "outputs": [],
   "source": [
    "kwargs = dict(\n",
    "    legend=True,\n",
    "    legend_kwds={\"orientation\": \"horizontal\", \"label\": \"Emissions [Tg CO2e]\"},\n",
    "    lw=0.25,\n",
    "    cmap=\"Reds\",\n",
    "    vmin=0,\n",
    "    vmax=1,\n",
    ")\n",
    "avg_emissions_nonan.plot(\"trace\", **kwargs)\n",
    "plt.title(\"Trace v0\")"
   ]
  },
  {
   "cell_type": "code",
   "execution_count": null,
   "id": "8ea6066f",
   "metadata": {},
   "outputs": [],
   "source": [
    "avg_emissions_nonan.plot(\"gfw\", **kwargs)\n",
    "\n",
    "plt.title(\"GFW Tropics\")"
   ]
  },
  {
   "cell_type": "code",
   "execution_count": null,
   "id": "0681c43e",
   "metadata": {},
   "outputs": [],
   "source": [
    "kwargs = dict(\n",
    "    legend=True,\n",
    "    legend_kwds={\n",
    "        \"orientation\": \"horizontal\",\n",
    "        \"label\": \"Emissions Difference [%]\",\n",
    "    },\n",
    "    lw=0.25,\n",
    "    cmap=\"RdBu_r\",\n",
    "    vmin=-40,\n",
    "    vmax=40,\n",
    ")\n",
    "avg_emissions_nonan[\"pdiff\"] = (\n",
    "    (avg_emissions_nonan[\"trace\"] - avg_emissions_nonan[\"gfw\"]) / avg_emissions_nonan[\"gfw\"]\n",
    ") * 100\n",
    "avg_emissions_nonan.plot(\"pdiff\", **kwargs)\n",
    "plt.title(\"% difference\")"
   ]
  },
  {
   "cell_type": "markdown",
   "id": "122a4eae",
   "metadata": {},
   "source": [
    "## Part 3 - Compare global emissions timeseries to Global Carbon Project\n"
   ]
  },
  {
   "cell_type": "code",
   "execution_count": null,
   "id": "497cb35c",
   "metadata": {},
   "outputs": [],
   "source": [
    "ax = gcp_emissions[[\"H&N\", \"BLUE\", \"OSCAR\"]].loc[\"2000\":].plot(ls=\"--\")\n",
    "gcp_emissions[\"GCB\"].loc[\"2000\":].plot(ax=ax, label=\"GCB\", lw=3)\n",
    "trace_wide.sum(axis=1).plot(ax=ax, label=\"Trace v0\", c=\"k\", lw=3)\n",
    "plt.ylabel(\"Emissions [Tg CO2e]\")\n",
    "plt.legend()"
   ]
  }
 ],
 "metadata": {
  "kernelspec": {
   "display_name": "Python 3",
   "language": "python",
   "name": "python3"
  },
  "language_info": {
   "codemirror_mode": {
    "name": "ipython",
    "version": 3
   },
   "file_extension": ".py",
   "mimetype": "text/x-python",
   "name": "python",
   "nbconvert_exporter": "python",
   "pygments_lexer": "ipython3",
   "version": "3.9.4"
  }
 },
 "nbformat": 4,
 "nbformat_minor": 5
}
