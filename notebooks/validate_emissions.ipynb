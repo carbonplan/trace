{
 "cells": [
  {
   "cell_type": "markdown",
   "id": "523be2e2-2748-4294-a5d7-0956c07fc47e",
   "metadata": {},
   "source": [
    "<img width=\"100\" src=\"https://carbonplan-assets.s3.amazonaws.com/monogram/dark-small.png\" style=\"margin-left:0px;margin-top:20px\"/>\n",
    "\n",
    "# Forest Emissions Tracking - Validation\n",
    "\n",
    "_CarbonPlan ClimateTrace Team_\n",
    "\n",
    "This notebook compares our estimates of country-level forest emissions to prior\n",
    "estimates from other groups. The notebook currently compares againsts:\n",
    "\n",
    "- Global Forest Watch (Zarin et al. 2016)\n",
    "- Global Carbon Project (Friedlingstein et al. 2020)\n"
   ]
  },
  {
   "cell_type": "code",
   "execution_count": null,
   "id": "1b2841a9-0129-41ad-b5c1-ce40dbea8a3b",
   "metadata": {},
   "outputs": [],
   "source": [
    "import geopandas\n",
    "import pandas as pd\n",
    "from io import StringIO\n",
    "import matplotlib.pyplot as plt\n",
    "\n",
    "from carbonplan_styles.mpl import set_theme\n",
    "\n",
    "set_theme()"
   ]
  },
  {
   "cell_type": "code",
   "execution_count": null,
   "id": "cabb8d9d-9f68-47f0-bc09-6a424a3f1cc1",
   "metadata": {},
   "outputs": [],
   "source": [
    "# Input data\n",
    "# ----------\n",
    "\n",
    "# country shapes from GADM36\n",
    "countries = geopandas.read_file(\n",
    "    \"s3://carbonplan-climatetrace/inputs/shapes/countries.shp\"\n",
    ")\n",
    "\n",
    "# CarbonPlan's emissions\n",
    "emissions = {}\n",
    "versions = [\"v0.1\", \"v0.4\"]\n",
    "for version in versions:\n",
    "    try:\n",
    "        emissions[version] = pd.read_csv(\n",
    "            \"s3://carbonplan-climatetrace/{}/country_rollups_emissions.csv\".format(\n",
    "                version\n",
    "            )\n",
    "        )\n",
    "    except:\n",
    "        emissions[version] = pd.read_csv(\n",
    "            \"s3://carbonplan-climatetrace/{}/country_rollups.csv\".format(\n",
    "                version\n",
    "            )\n",
    "        )\n",
    "        continue\n",
    "\n",
    "    for mechanism in [\"fire\", \"clearing\"]:\n",
    "        emissions[version + \"-\" + mechanism] = pd.read_csv(\n",
    "            \"s3://carbonplan-climatetrace/{}/country_rollups_emissions_from_{}.csv\".format(\n",
    "                version, mechanism\n",
    "            )\n",
    "        )\n",
    "    emissions[version] = emissions[version + \"-fire\"].copy(deep=True)\n",
    "    emissions[version][\"tCO2eq\"] = (\n",
    "        emissions[version + \"-fire\"][\"tCO2eq\"]\n",
    "        + emissions[version + \"-clearing\"][\"tCO2eq\"]\n",
    "    )\n",
    "# GFW emissions\n",
    "gfw_emissions = pd.read_excel(\n",
    "    \"s3://carbonplan-climatetrace/validation/gfw_global_emissions.xlsx\",\n",
    "    sheet_name=\"Country co2 emissions\",\n",
    ").dropna(axis=0)\n",
    "gfw_emissions = gfw_emissions[\n",
    "    gfw_emissions[\"threshold\"] == 10\n",
    "]  # select threshold\n",
    "\n",
    "# Global Carbon Project\n",
    "gcp_emissions = (\n",
    "    pd.read_excel(\n",
    "        \"s3://carbonplan-climatetrace/validation/Global_Carbon_Budget_2020v1.0.xlsx\",\n",
    "        sheet_name=\"Land-Use Change Emissions\",\n",
    "        skiprows=28,\n",
    "    )\n",
    "    .dropna(axis=1)\n",
    "    .set_index(\"Year\")\n",
    ")\n",
    "gcp_emissions *= 3.664  # C->CO2\n",
    "gcp_emissions.index = [\n",
    "    pd.to_datetime(f\"{y}-01-01\") for y in gcp_emissions.index\n",
    "]\n",
    "gcp_emissions = gcp_emissions[[\"GCB\", \"H&N\", \"BLUE\", \"OSCAR\"]]\n",
    "\n",
    "# Blue Sky Fire emissions\n",
    "emissions[\"Blue Sky\"] = pd.read_csv(\n",
    "    \"s3://carbonplan-climatetrace/validation/forest-fires_bsa.csv\"\n",
    ")"
   ]
  },
  {
   "cell_type": "code",
   "execution_count": null,
   "id": "f6c7a1b0-fec5-489c-8f79-1faffa028a2e",
   "metadata": {},
   "outputs": [],
   "source": [
    "# Merge emissions dataframes with countries GeoDataFrame\n",
    "gfw_countries = countries.merge(\n",
    "    gfw_emissions.rename(columns={\"country\": \"name\"}), on=\"name\"\n",
    ")\n",
    "trace_countries = {}\n",
    "for version in versions:\n",
    "    trace_countries[version] = countries.merge(\n",
    "        emissions[version].rename(columns={\"iso3_country\": \"alpha3\"}),\n",
    "        on=\"alpha3\",\n",
    "    )"
   ]
  },
  {
   "cell_type": "code",
   "execution_count": null,
   "id": "674a6434-b160-4b1c-bfb8-2eadb081310d",
   "metadata": {},
   "outputs": [],
   "source": [
    "# reformat to \"wide\" format (time x country)\n",
    "trace_wide = {}\n",
    "for version in versions:\n",
    "    trace_wide[version] = (\n",
    "        emissions[version]\n",
    "        .drop(columns=[\"end_date\"])\n",
    "        .pivot(index=\"begin_date\", columns=\"iso3_country\")\n",
    "        .droplevel(0, axis=1)\n",
    "    )\n",
    "    trace_wide[version].index = pd.to_datetime(trace_wide[version].index)\n",
    "\n",
    "gfw_wide = (\n",
    "    gfw_emissions.set_index(\"country\")\n",
    "    .filter(regex=\"whrc_aboveground_co2_emissions_Mg_.*\")\n",
    "    .T\n",
    ")\n",
    "gfw_wide.index = [pd.to_datetime(f\"{l[-4:]}-01-01\") for l in gfw_wide.index]\n",
    "\n",
    "gfw_wide.head()"
   ]
  },
  {
   "cell_type": "markdown",
   "id": "e5587d7a-cfee-4d15-b2b1-3378f65aa5b7",
   "metadata": {},
   "source": [
    "## Part 1 - Compare time-averaged country emissions (tropics only)\n"
   ]
  },
  {
   "cell_type": "code",
   "execution_count": null,
   "id": "374ac295-e170-482a-9fa0-691748ef7596",
   "metadata": {},
   "outputs": [],
   "source": [
    "# Create a new dataframe with average emissions\n",
    "avg_emissions = countries.set_index(\"alpha3\")\n",
    "for version in versions:\n",
    "    avg_emissions[\"trace-\" + version] = trace_wide[version].mean().transpose()\n",
    "\n",
    "avg_emissions = avg_emissions.set_index(\"name\")\n",
    "avg_emissions[\"gfw\"] = gfw_wide.mean().transpose() / 1e9"
   ]
  },
  {
   "cell_type": "code",
   "execution_count": null,
   "id": "e6ff2945-4be1-40dd-b33b-845a7c9b858c",
   "metadata": {},
   "outputs": [],
   "source": [
    "# Scatter Plot\n",
    "fig, axarr = plt.subplots(ncols=2, sharey=True)\n",
    "for i, version in enumerate(versions):\n",
    "    avg_emissions.plot.scatter(\"gfw\", \"trace-\" + version, ax=axarr[i])\n",
    "    axarr[i].set_ylabel(\"Trace [Gt CO2e]\")\n",
    "    axarr[i].set_xlabel(\"GFW [Gt CO2e]\")\n",
    "    axarr[i].set_title(\"Trace-{}\".format(version))"
   ]
  },
  {
   "cell_type": "markdown",
   "id": "d7e2617c-cba4-4351-9ce4-140cbdba7e11",
   "metadata": {},
   "source": [
    "## Part 2 - Maps of Tropical Emissions\n"
   ]
  },
  {
   "cell_type": "code",
   "execution_count": null,
   "id": "1bcee465-7726-4cd4-b9c9-ef407c86fb9e",
   "metadata": {},
   "outputs": [],
   "source": [
    "avg_emissions_nonan = avg_emissions.dropna()"
   ]
  },
  {
   "cell_type": "code",
   "execution_count": null,
   "id": "1879b57f-eabd-4783-9699-d9b2e0a884ed",
   "metadata": {},
   "outputs": [],
   "source": [
    "fig, axarr = plt.subplots(nrows=2, ncols=2)\n",
    "for i, version in enumerate(versions):\n",
    "    kwargs = dict(\n",
    "        legend=True,\n",
    "        legend_kwds={\n",
    "            \"orientation\": \"horizontal\",\n",
    "            \"label\": \"Emissions [Gt CO2e]\",\n",
    "        },\n",
    "        lw=0.25,\n",
    "        cmap=\"Reds\",\n",
    "        vmin=0,\n",
    "        vmax=1,\n",
    "        ax=axarr[0, i],\n",
    "    )\n",
    "    avg_emissions_nonan.plot(\"trace-{}\".format(version), **kwargs)\n",
    "    axarr[0, i].set_title(\"Trace-{}\".format(version))\n",
    "\n",
    "for i, version in enumerate(versions):\n",
    "    kwargs = dict(\n",
    "        legend=True,\n",
    "        legend_kwds={\n",
    "            \"orientation\": \"horizontal\",\n",
    "            \"label\": \"Emissions Difference [%]\",\n",
    "        },\n",
    "        lw=0.25,\n",
    "        cmap=\"RdBu_r\",\n",
    "        vmin=-40,\n",
    "        vmax=40,\n",
    "        ax=axarr[1, i],\n",
    "    )\n",
    "    avg_emissions_nonan[\"pdiff\"] = (\n",
    "        (\n",
    "            avg_emissions_nonan[\"trace-{}\".format(version)]\n",
    "            - avg_emissions_nonan[\"gfw\"]\n",
    "        )\n",
    "        / avg_emissions_nonan[\"gfw\"]\n",
    "    ) * 100\n",
    "    avg_emissions_nonan.plot(\"pdiff\", **kwargs)\n",
    "    axarr[1, i].set_title(\"% difference from GFW\")\n",
    "\n",
    "plt.tight_layout()"
   ]
  },
  {
   "cell_type": "code",
   "execution_count": null,
   "id": "29deb312-ec7c-4d10-868a-1f94f3f6554a",
   "metadata": {},
   "outputs": [],
   "source": [
    "kwargs = dict(\n",
    "    legend=True,\n",
    "    legend_kwds={\"orientation\": \"horizontal\", \"label\": \"Emissions [Gt CO2e]\"},\n",
    "    lw=0.25,\n",
    "    cmap=\"Reds\",\n",
    "    vmin=0,\n",
    "    vmax=1,\n",
    "    ax=axarr[0, i],\n",
    ")\n",
    "avg_emissions_nonan.plot(\"gfw\" ** kwargs)\n",
    "\n",
    "plt.title(\"GFW Tropics\")"
   ]
  },
  {
   "cell_type": "markdown",
   "id": "89b48b85-1e55-4dfb-b290-6a7191bcc366",
   "metadata": {},
   "source": [
    "## Part 3 - Compare trace_wideglobal emissions timeseries to Global Carbon Project\n"
   ]
  },
  {
   "cell_type": "code",
   "execution_count": null,
   "id": "a0b26b2b-bcad-4ff6-bb2e-e7160ffcf0ed",
   "metadata": {},
   "outputs": [],
   "source": [
    "ax = gcp_emissions[[\"H&N\", \"BLUE\", \"OSCAR\"]].loc[\"2000\":].plot(ls=\"--\")\n",
    "gcp_emissions[\"GCB\"].loc[\"2000\":].plot(ax=ax, label=\"GCB\", lw=3)\n",
    "trace_wide[\"v0.1\"].sum(axis=1).plot(\n",
    "    ax=ax, label=\"Trace v0.1\".format(version), c=\"k\", lw=3\n",
    ")\n",
    "trace_wide[\"v0.4\"].sum(axis=1).plot(\n",
    "    ax=ax, label=\"Trace v0.1\".format(version), c=\"k\", ls=\"--\", lw=3\n",
    ")\n",
    "\n",
    "plt.ylabel(\"Emissions [Gt CO2e]\")\n",
    "plt.legend()"
   ]
  },
  {
   "cell_type": "markdown",
   "id": "68d4ba1b-427b-41a1-b367-599260c9f847",
   "metadata": {},
   "source": [
    "## Part 4 - Compare fire emissions from CarbonPlan with those from Blue Sky\n"
   ]
  },
  {
   "cell_type": "code",
   "execution_count": null,
   "id": "a9e0bbca-010a-455d-85c9-0d3b28f7edc8",
   "metadata": {},
   "outputs": [],
   "source": [
    "comparison = pd.merge(\n",
    "    emissions[\"v0.3-fire\"].rename({\"tCO2eq\": \"CarbonPlan\"}, axis=1),\n",
    "    emissions[\"Blue Sky\"].rename({\"tCO2\": \"Blue Sky\"}, axis=1),\n",
    "    how=\"left\",\n",
    "    left_on=[\"iso3_country\", \"begin_date\"],\n",
    "    right_on=[\"iso3_country\", \"begin_date\"],\n",
    ")"
   ]
  },
  {
   "cell_type": "code",
   "execution_count": null,
   "id": "ef1c049c-8c46-4ae4-aa4e-9692ae4ea537",
   "metadata": {},
   "outputs": [],
   "source": [
    "comparison = comparison.drop([\"end_date_x\", \"end_date_y\"], axis=1)\n",
    "comparison[\"Blue Sky\"] /= 1e9"
   ]
  },
  {
   "cell_type": "code",
   "execution_count": null,
   "id": "c1f4c926-0c94-4c48-93ea-c29a44baced0",
   "metadata": {},
   "outputs": [],
   "source": [
    "for dataset in [\"CarbonPlan\", \"Blue Sky\"]:\n",
    "    comparison = comparison.rename({dataset: dataset + \" [GtCO2/year]\"}, axis=1)"
   ]
  },
  {
   "cell_type": "code",
   "execution_count": null,
   "id": "25246635-54be-498e-b579-df76b7faa1a4",
   "metadata": {},
   "outputs": [],
   "source": [
    "fig, ax = plt.subplots(figsize=(6, 6))\n",
    "comparison.plot.scatter(\n",
    "    \"CarbonPlan [GtCO2/year]\", \"Blue Sky [GtCO2/year]\", ax=ax\n",
    ")\n",
    "ax.set_xlim(0, 0.9)\n",
    "ax.set_ylim(0, 0.9)\n",
    "plt.plot([0, 1], [0, 1], \"k-\", lw=1)"
   ]
  }
 ],
 "metadata": {
  "kernelspec": {
   "display_name": "Python 3",
   "language": "python",
   "name": "python3"
  },
  "language_info": {
   "codemirror_mode": {
    "name": "ipython",
    "version": 3
   },
   "file_extension": ".py",
   "mimetype": "text/x-python",
   "name": "python",
   "nbconvert_exporter": "python",
   "pygments_lexer": "ipython3",
   "version": "3.8.10"
  }
 },
 "nbformat": 4,
 "nbformat_minor": 5
}
