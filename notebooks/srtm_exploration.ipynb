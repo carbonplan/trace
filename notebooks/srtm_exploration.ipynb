{
 "cells": [
  {
   "cell_type": "code",
   "execution_count": null,
   "id": "coated-somewhere",
   "metadata": {},
   "outputs": [],
   "source": [
    "%load_ext autoreload\n",
    "%autoreload 2"
   ]
  },
  {
   "cell_type": "code",
   "execution_count": null,
   "id": "exceptional-badge",
   "metadata": {},
   "outputs": [],
   "source": [
    "import fsspec\n",
    "import xarray as xr\n",
    "import carbonplan_trace.v1.glas_height_metrics as ht\n",
    "from carbonplan_trace.v1.glas_preprocess import calculate_derived_variables"
   ]
  },
  {
   "cell_type": "code",
   "execution_count": null,
   "id": "adapted-listing",
   "metadata": {},
   "outputs": [],
   "source": [
    "from carbonplan_trace.v1.glas_extract import (\n",
    "    extract_GLAH14_data,\n",
    "    extract_GLAH01_data,\n",
    ")\n",
    "\n",
    "# test extraction combined data\n",
    "\n",
    "f01 = \"/home/jovyan/data/glas/example/GLAH01_033_2107_003_0241_4_02_0001.H5\"\n",
    "f14 = \"/home/jovyan/data/glas/example/GLAH14_634_2107_003_0239_0_01_0001.H5\"\n",
    "\n",
    "data01 = extract_GLAH01_data(f01).chunk({\"record_index\": 1000, \"shot_number\": 10})\n",
    "data14 = extract_GLAH14_data(f14).chunk({\"record_index\": 1000, \"shot_number\": 10})\n",
    "\n",
    "combined = data14.merge(data01, join=\"inner\")\n",
    "combined = combined.chunk({\"record_index\": 1000, \"shot_number\": 10})"
   ]
  },
  {
   "cell_type": "code",
   "execution_count": null,
   "id": "demographic-discovery",
   "metadata": {},
   "outputs": [],
   "source": [
    "# variables used in the rest of the preprocess\n",
    "combined = calculate_derived_variables(combined)\n",
    "\n",
    "# stack the record index and shot number together so we have a ~1D tabular data structure\n",
    "combined = combined.stack(unique_index=(\"record_index\", \"shot_number\"))\n",
    "\n",
    "\n",
    "def convert_long3_to_long1(long3):\n",
    "    # see https://confluence.ecmwf.int/pages/viewpage.action?pageId=149337515\n",
    "    long1 = (long3 + 180) % 360 - 180\n",
    "    return long1\n",
    "\n",
    "\n",
    "combined[\"lon\"] = convert_long3_to_long1(combined.lon)"
   ]
  },
  {
   "cell_type": "code",
   "execution_count": null,
   "id": "bound-reach",
   "metadata": {},
   "outputs": [],
   "source": [
    "combined"
   ]
  },
  {
   "cell_type": "code",
   "execution_count": null,
   "id": "fresh-denmark",
   "metadata": {},
   "outputs": [],
   "source": [
    "srtm = (\n",
    "    xr.open_rasterio(\n",
    "        #     '/home/jovyan/data/N40W078.hgt',\n",
    "        \"/home/jovyan/data/N42W078.hgt\",\n",
    "        parse_coordinates=True,\n",
    "    )\n",
    "    .rename({\"x\": \"lon\", \"y\": \"lat\"})\n",
    "    .squeeze(drop=True)\n",
    ")"
   ]
  },
  {
   "cell_type": "code",
   "execution_count": null,
   "id": "biblical-batman",
   "metadata": {},
   "outputs": [],
   "source": [
    "combined[\"SRTM\"] = srtm.sel(lat=combined.lat, lon=combined.lon, method=\"nearest\").drop_vars(\n",
    "    [\"lat\", \"lon\"]\n",
    ")"
   ]
  },
  {
   "cell_type": "code",
   "execution_count": null,
   "id": "advance-taiwan",
   "metadata": {},
   "outputs": [],
   "source": [
    "df = combined[\n",
    "    [\n",
    "        \"lat\",\n",
    "        \"lon\",\n",
    "        \"elevation\",\n",
    "        \"elevation_correction\",\n",
    "        \"elevation_SRTM\",\n",
    "        \"delta_ellipse\",\n",
    "        \"geoid\",\n",
    "        \"ground_peak_dist\",\n",
    "        \"elv_cloud_flg\",\n",
    "        \"elev_use_flg\",\n",
    "        \"SRTM\",\n",
    "    ]\n",
    "].to_dataframe()"
   ]
  },
  {
   "cell_type": "code",
   "execution_count": null,
   "id": "protective-people",
   "metadata": {},
   "outputs": [],
   "source": [
    "len(df)"
   ]
  },
  {
   "cell_type": "code",
   "execution_count": null,
   "id": "political-shower",
   "metadata": {},
   "outputs": [],
   "source": [
    "df = df.loc[~df.lat.isnull()]"
   ]
  },
  {
   "cell_type": "code",
   "execution_count": null,
   "id": "marine-manitoba",
   "metadata": {},
   "outputs": [],
   "source": [
    "len(df)"
   ]
  },
  {
   "cell_type": "code",
   "execution_count": null,
   "id": "minimal-qualification",
   "metadata": {},
   "outputs": [],
   "source": [
    "df[\"glas_elev\"] = df.elevation + df.elevation_correction"
   ]
  },
  {
   "cell_type": "code",
   "execution_count": null,
   "id": "painful-engineer",
   "metadata": {},
   "outputs": [],
   "source": [
    "df.elevation_SRTM.isnull().sum()"
   ]
  },
  {
   "cell_type": "code",
   "execution_count": null,
   "id": "forced-nicholas",
   "metadata": {},
   "outputs": [],
   "source": [
    "not_consistent_1 = (df.glas_elev - df.elevation_SRTM.fillna(df.glas_elev)).abs() > 30\n",
    "not_consistent_1.mean()"
   ]
  },
  {
   "cell_type": "code",
   "execution_count": null,
   "id": "legal-relevance",
   "metadata": {},
   "outputs": [],
   "source": [
    "box = (\n",
    "    (df.lat >= srtm.lat.min().values)\n",
    "    & (df.lat <= srtm.lat.max().values)\n",
    "    & (df.lon >= srtm.lon.min().values)\n",
    "    & (df.lon <= srtm.lon.max().values)\n",
    ")\n",
    "df[\"glas_SRTM_adj\"] = df.elevation_SRTM - df.delta_ellipse - df.geoid\n",
    "df[\"SRTM_in_TP\"] = df.SRTM + df.delta_ellipse + df.geoid"
   ]
  },
  {
   "cell_type": "code",
   "execution_count": null,
   "id": "double-scott",
   "metadata": {},
   "outputs": [],
   "source": [
    "(df.loc[box].SRTM - df.loc[box].elevation_SRTM).mean()"
   ]
  },
  {
   "cell_type": "code",
   "execution_count": null,
   "id": "shared-daughter",
   "metadata": {},
   "outputs": [],
   "source": [
    "(df.loc[box].SRTM - df.loc[box].glas_SRTM_adj).mean()"
   ]
  },
  {
   "cell_type": "code",
   "execution_count": null,
   "id": "built-chrome",
   "metadata": {},
   "outputs": [],
   "source": [
    "(df.loc[box].SRTM_in_TP - df.loc[box].elevation_SRTM).mean()"
   ]
  },
  {
   "cell_type": "code",
   "execution_count": null,
   "id": "liquid-match",
   "metadata": {},
   "outputs": [],
   "source": [
    "df.loc[box].isnull().sum()"
   ]
  },
  {
   "cell_type": "code",
   "execution_count": null,
   "id": "variable-palace",
   "metadata": {},
   "outputs": [],
   "source": [
    "not_consistent_2 = (df.loc[box].glas_elev - df.loc[box].SRTM_in_TP).abs() > 30\n",
    "not_consistent_2.mean()"
   ]
  },
  {
   "cell_type": "code",
   "execution_count": null,
   "id": "removed-authority",
   "metadata": {},
   "outputs": [],
   "source": [
    "not_consistent_2 = (df.loc[box].glas_elev - df.loc[box].elevation_SRTM).abs() > 30\n",
    "not_consistent_2.mean()"
   ]
  },
  {
   "cell_type": "code",
   "execution_count": null,
   "id": "capable-rachel",
   "metadata": {},
   "outputs": [],
   "source": [
    "df.loc[box, [\"glas_elev\", \"elevation_SRTM\", \"SRTM_in_TP\"]]"
   ]
  }
 ],
 "metadata": {
  "kernelspec": {
   "display_name": "Python 3",
   "language": "python",
   "name": "python3"
  },
  "language_info": {
   "codemirror_mode": {
    "name": "ipython",
    "version": 3
   },
   "file_extension": ".py",
   "mimetype": "text/x-python",
   "name": "python",
   "nbconvert_exporter": "python",
   "pygments_lexer": "ipython3",
   "version": "3.8.8"
  }
 },
 "nbformat": 4,
 "nbformat_minor": 5
}
