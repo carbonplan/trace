{
 "cells": [
  {
   "cell_type": "code",
   "execution_count": 1,
   "id": "e8475135-c041-447b-a16a-f631846a64ba",
   "metadata": {},
   "outputs": [],
   "source": [
    "import functools\n",
    "import sys\n",
    "import geopandas as gpd\n",
    "import numpy as np\n",
    "import pandas as pd\n",
    "import xarray as xr\n",
    "from s3fs import S3FileSystem\n",
    "fs = S3FileSystem()\n"
   ]
  },
  {
   "cell_type": "code",
   "execution_count": 2,
   "id": "04bc2483-8b6f-48a6-887d-812134441cd1",
   "metadata": {},
   "outputs": [],
   "source": [
    "mapper = fs.get_mapper('s3://carbonplan-climatetrace/v0.3/global/3000m/raster.zarr')\n",
    "ds = xr.open_zarr(mapper, consolidated=True)"
   ]
  },
  {
   "cell_type": "code",
   "execution_count": null,
   "id": "628a3501-fcbf-4441-ab1e-d95afc060fc0",
   "metadata": {},
   "outputs": [
    {
     "name": "stdout",
     "output_type": "stream",
     "text": [
      "working on emissions_from_fire\n"
     ]
    }
   ],
   "source": [
    "for variable in ['emissions_from_clearing', 'emissions_from_fire']:\n",
    "    df = ds[variable].to_dataframe()\n",
    "    # remove any pixels that are below 1000 tons. this makes the geojson\n",
    "    # much smaller and easier to work with\n",
    "    subset = df[df[variable] > 1000]\n",
    "    final = subset.reset_index()\n",
    "    lon = final['lon']\n",
    "    lat = final['lat']\n",
    "    out = final[['year', variable]].rename(columns={'year': 'y', variable: 'e'})\n",
    "    out['e'] = np.round((out['e']), 2)\n",
    "    out['i'] = list(out.index)\n",
    "    gdf = gpd.GeoDataFrame(out, geometry=gpd.points_from_xy(lon, lat))\n",
    "\n",
    "    with fsspec.open(f's3://carbonplan-scratch/{variable}.json', mode='w') as f:\n",
    "        f.write(gdf.to_json())\n",
    "#     out_mapper = fs.get_mapper(f'{variable}.geojson')\n",
    "#     gdf.to_file(f'{variable}.geojson', driver='GeoJSON')"
   ]
  }
 ],
 "metadata": {
  "kernelspec": {
   "display_name": "Python 3 (ipykernel)",
   "language": "python",
   "name": "python3"
  },
  "language_info": {
   "codemirror_mode": {
    "name": "ipython",
    "version": 3
   },
   "file_extension": ".py",
   "mimetype": "text/x-python",
   "name": "python",
   "nbconvert_exporter": "python",
   "pygments_lexer": "ipython3",
   "version": "3.8.10"
  }
 },
 "nbformat": 4,
 "nbformat_minor": 5
}
