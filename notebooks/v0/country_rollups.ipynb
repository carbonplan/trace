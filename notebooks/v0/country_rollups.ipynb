{
 "cells": [
  {
   "cell_type": "code",
   "execution_count": null,
   "metadata": {},
   "outputs": [],
   "source": [
    "import fsspec\n",
    "import xarray as xr\n",
    "import dask\n",
    "import intake\n",
    "import numpy as np\n",
    "import matplotlib.pyplot as plt\n",
    "import regionmask\n",
    "\n",
    "dask.config.set(**{\"array.slicing.split_large_chunks\": False})\n",
    "\n",
    "SQM_PER_HA = 10000\n",
    "cat = intake.open_catalog(\"./catalog.yaml\")\n",
    "\n",
    "\n",
    "def compute_grid_area(da):\n",
    "    R = 6.371e6\n",
    "    total_area = 4 * np.pi * R ** 2\n",
    "    dϕ = np.radians((da[\"lat\"][1] - da[\"lat\"][0]).values)\n",
    "    dλ = np.radians((da[\"lon\"][1] - da[\"lon\"][0]).values)\n",
    "    dA = R ** 2 * np.abs(dϕ * dλ) * np.cos(np.radians(da[\"lat\"]))\n",
    "    areacella = dA * (0 * da + 1)\n",
    "\n",
    "    return areacella / SQM_PER_HA"
   ]
  },
  {
   "cell_type": "code",
   "execution_count": null,
   "metadata": {},
   "outputs": [],
   "source": [
    "lat = \"00N\"\n",
    "lon = \"070W\"\n",
    "da_zarin = (\n",
    "    cat.hansen_emissions_px(lat=lat, lon=lon)\n",
    "    .to_dask()\n",
    "    .rename({\"x\": \"lon\", \"y\": \"lat\"})\n",
    "    .coarsen(lon=100, lat=100)\n",
    "    .sum()\n",
    "    .load()\n",
    ")"
   ]
  },
  {
   "cell_type": "code",
   "execution_count": null,
   "metadata": {},
   "outputs": [],
   "source": [
    "mapper = fsspec.get_mapper(f\"gs://carbonplan-scratch/global-forest-emissions/{lat}_{lon}.zarr\")\n",
    "da_americas = xr.open_zarr(mapper)[\"emissions\"]\n",
    "da_area = compute_grid_area(da_americas.isel(year=0, drop=True))\n",
    "da_americas = (da_americas * da_area).coarsen(lat=100, lon=100).sum().load()"
   ]
  },
  {
   "cell_type": "code",
   "execution_count": null,
   "metadata": {},
   "outputs": [],
   "source": [
    "da_americas_sum = da_americas.sum(\"year\")"
   ]
  },
  {
   "cell_type": "code",
   "execution_count": null,
   "metadata": {},
   "outputs": [],
   "source": [
    "da_zarin.where(da_zarin).plot(vmin=0, vmax=200000)\n",
    "plt.title(\"Zarin Emissions\")"
   ]
  },
  {
   "cell_type": "code",
   "execution_count": null,
   "metadata": {},
   "outputs": [],
   "source": [
    "da_americas_sum.where(da_americas_sum).plot(vmin=0, vmax=200000)\n",
    "plt.title(\"CarbonPlan Emissions\")"
   ]
  },
  {
   "cell_type": "code",
   "execution_count": null,
   "metadata": {},
   "outputs": [],
   "source": [
    "((da_zarin - da_americas_sum) / da_zarin).plot(robust=True)\n",
    "plt.title(\"% difference\")"
   ]
  },
  {
   "cell_type": "code",
   "execution_count": null,
   "metadata": {},
   "outputs": [],
   "source": [
    "coarsened_url = f\"gs://carbonplan-scratch/global-forest-emissions/americas/3000m/raster_v2.zarr\"\n",
    "mapper = fsspec.get_mapper(coarsened_url)\n",
    "ds_ameri = xr.open_zarr(mapper)"
   ]
  },
  {
   "cell_type": "code",
   "execution_count": null,
   "metadata": {},
   "outputs": [],
   "source": [
    "ds_ameri"
   ]
  },
  {
   "cell_type": "code",
   "execution_count": null,
   "metadata": {},
   "outputs": [],
   "source": [
    "ds_ameri.isel(year=0, lat=slice(None, None, 10), lon=slice(None, None, 10)).emissions.plot(\n",
    "    robust=True\n",
    ")"
   ]
  },
  {
   "cell_type": "code",
   "execution_count": null,
   "metadata": {},
   "outputs": [],
   "source": [
    "countries = regionmask.defined_regions.natural_earth.countries_110\n",
    "names = dict(zip(countries.numbers, countries.names))\n",
    "mask = countries.mask(ds_ameri.emissions)\n",
    "\n",
    "df = ds_ameri.emissions.groupby(mask).sum().to_pandas()\n",
    "columns = {k: names[int(k)] for k in df.columns}\n",
    "df = df.rename(columns=columns)\n",
    "df.head()"
   ]
  },
  {
   "cell_type": "code",
   "execution_count": null,
   "metadata": {},
   "outputs": [],
   "source": [
    "for k, s in df.items():\n",
    "    plt.figure()\n",
    "    (s / 1e9).plot()\n",
    "    plt.title(k)"
   ]
  },
  {
   "cell_type": "code",
   "execution_count": null,
   "metadata": {},
   "outputs": [],
   "source": [
    "data = (df / 1e9).to_dict()"
   ]
  },
  {
   "cell_type": "code",
   "execution_count": null,
   "metadata": {},
   "outputs": [],
   "source": [
    "out = {}\n",
    "for k, d in data.items():\n",
    "    l = []\n",
    "    for y, v in d.items():\n",
    "        l.append({\"year\": y, \"emissions\": v})\n",
    "    out[k] = l"
   ]
  },
  {
   "cell_type": "code",
   "execution_count": null,
   "metadata": {},
   "outputs": [],
   "source": [
    "import json\n",
    "\n",
    "with open(\"data.json\", \"w\") as f:\n",
    "    json.dump(out, f, indent=2)"
   ]
  }
 ],
 "metadata": {
  "kernelspec": {
   "display_name": "Python 3",
   "language": "python",
   "name": "python3"
  },
  "language_info": {
   "codemirror_mode": {
    "name": "ipython",
    "version": 3
   },
   "file_extension": ".py",
   "mimetype": "text/x-python",
   "name": "python",
   "nbconvert_exporter": "python",
   "pygments_lexer": "ipython3",
   "version": "3.8.6"
  }
 },
 "nbformat": 4,
 "nbformat_minor": 4
}
