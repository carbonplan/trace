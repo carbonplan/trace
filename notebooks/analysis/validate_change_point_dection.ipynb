{
 "cells": [
  {
   "cell_type": "markdown",
   "id": "83439a18-1c21-494f-8c2d-823207980f25",
   "metadata": {},
   "source": [
    "# change point detection validation\n"
   ]
  },
  {
   "cell_type": "markdown",
   "id": "a4c681b9-e471-4987-9088-5403d8bae20c",
   "metadata": {},
   "source": [
    "1. First randomly select from the 280 tiles, then within that tile randomly select a pixel\n",
    "2. If that pixel is all null, discard and repeat from step 1, do not increment pixel counter\n",
    "3. If that pixel is not null, plot the fillna version and the smoothed version,\n",
    "4. Increment pixel counter for with/without break point\n",
    "5. Repeat until we get 100 points for each\n"
   ]
  },
  {
   "cell_type": "code",
   "execution_count": null,
   "id": "094f9821-ad97-428c-bca9-d44314fb5bed",
   "metadata": {},
   "outputs": [],
   "source": [
    "%load_ext autoreload\n",
    "%autoreload 2\n",
    "\n",
    "import xarray as xr\n",
    "from matplotlib import cm\n",
    "import cartopy.crs as ccrs\n",
    "import matplotlib.pyplot as plt\n",
    "from carbonplan_styles.mpl import set_theme\n",
    "set_theme()\n",
    "from sklearn.metrics import r2_score, mean_absolute_error, mean_absolute_percentage_error\n",
    "import numpy as np\n",
    "import seaborn as sns\n",
    "import pandas as pd\n",
    "from carbonplan_trace.tiles import tiles\n",
    "from carbonplan_trace.v0.core import coarsen_emissions\n",
    "from carbonplan_data.utils import set_zarr_encoding"
   ]
  },
  {
   "cell_type": "code",
   "execution_count": null,
   "id": "5e7c25df-2dcf-4b17-9742-1ea0b5e73695",
   "metadata": {},
   "outputs": [],
   "source": [
    "import random\n",
    "from carbonplan_trace.v1.biomass_rollup import open_biomass_tile\n",
    "\n",
    "random.seed(1)"
   ]
  },
  {
   "cell_type": "code",
   "execution_count": null,
   "id": "1ffa1c39-c0ed-4a81-afce-540ff11a2c9e",
   "metadata": {},
   "outputs": [],
   "source": [
    "import warnings\n",
    "\n",
    "warnings.filterwarnings(\"ignore\")"
   ]
  },
  {
   "cell_type": "code",
   "execution_count": null,
   "id": "3e2bfb41-0ba3-4a2a-9e27-77b69272c534",
   "metadata": {},
   "outputs": [],
   "source": [
    "def pick_tile_and_pixel(version):\n",
    "    done = False\n",
    "    while not done:\n",
    "        tile_id = random.choice(tiles)\n",
    "        ds = open_biomass_tile(tile_id, version)\n",
    "        i = random.randint(0, len(ds.lat) - 1)\n",
    "        j = random.randint(0, len(ds.lon) - 1)\n",
    "        pixel = ds.isel(lat=i, lon=j)\n",
    "        if pixel.AGB.sum().values > 0:\n",
    "            done = True\n",
    "\n",
    "    return pixel.load()\n",
    "\n",
    "\n",
    "def plot_pixel(pixel, y0=2014):\n",
    "    n = len(pixel.AGB)\n",
    "    xs = np.arange(y0, y0 + n)\n",
    "    plt.figure()\n",
    "    plt.plot(xs, pixel.AGB.values, label=\"smooth\")\n",
    "    plt.plot(xs, pixel.AGB_na_filled.values, label=\"na_filled\")\n",
    "    plt.plot(xs, pixel.AGB_raw.values, label=\"raw\")\n",
    "    plt.legend()\n",
    "    lat = pixel.lat.values\n",
    "    lon = pixel.lon.values\n",
    "    breakpoint = pixel.breakpoint.values\n",
    "    pvalue = np.round(pixel.pvalue.values, 3)\n",
    "    plt.title(f\"({lat},{lon}) breakpoint={breakpoint}, pvalue={pvalue:.3f}\")\n",
    "    plt.show()\n",
    "    plt.close()\n",
    "    return {\"lat\": lat, \"lon\": lon, \"breakpoint\": breakpoint, \"pvalue\": pvalue}"
   ]
  },
  {
   "cell_type": "code",
   "execution_count": null,
   "id": "f10ca9cf-835f-4dbd-b1a1-52d3d4139727",
   "metadata": {},
   "outputs": [],
   "source": [
    "with_break = 0\n",
    "no_break = 0\n",
    "no_model = 0\n",
    "n = 50\n",
    "out = []\n",
    "\n",
    "while with_break < n or no_break < n or no_model < n:\n",
    "    pixel = pick_tile_and_pixel(version)\n",
    "    breakpoint = pixel.breakpoint.values\n",
    "    pvalue = pixel.pvalue.values\n",
    "    # has a break point and p value <= 0.05\n",
    "    if (not np.isnan(breakpoint)) and (pvalue <= 0.05):\n",
    "        if with_break < n:\n",
    "            out.append(plot_pixel(pixel))\n",
    "        with_break += 1\n",
    "\n",
    "    # no break point but p value <= 0.05\n",
    "    elif (np.isnan(breakpoint)) and (pvalue <= 0.05):\n",
    "        if no_break < n:\n",
    "            out.append(plot_pixel(pixel))\n",
    "        no_break += 1\n",
    "\n",
    "    # no break point and p value > 0.05\n",
    "    elif (np.isnan(breakpoint)) and (pvalue > 0.05):\n",
    "        if no_model < n:\n",
    "            out.append(plot_pixel(pixel))\n",
    "        no_model += 1"
   ]
  },
  {
   "cell_type": "code",
   "execution_count": null,
   "id": "76e26a0a-c207-4c63-8c27-01341746ae76",
   "metadata": {},
   "outputs": [],
   "source": [
    "pd.DataFrame(out).to_csv(\"change_point_detection_eval.csv\", index=False)"
   ]
  }
 ],
 "metadata": {
  "kernelspec": {
   "display_name": "Python 3 (ipykernel)",
   "language": "python",
   "name": "python3"
  },
  "language_info": {
   "codemirror_mode": {
    "name": "ipython",
    "version": 3
   },
   "file_extension": ".py",
   "mimetype": "text/x-python",
   "name": "python",
   "nbconvert_exporter": "python",
   "pygments_lexer": "ipython3",
   "version": "3.9.7"
  }
 },
 "nbformat": 4,
 "nbformat_minor": 5
}
