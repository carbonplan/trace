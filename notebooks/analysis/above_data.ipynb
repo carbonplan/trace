{
 "cells": [
  {
   "cell_type": "code",
   "execution_count": null,
   "id": "8bf44990-2331-4a93-8b15-8c0064e35efc",
   "metadata": {},
   "outputs": [],
   "source": [
    "%load_ext autoreload\n",
    "%autoreload 2"
   ]
  },
  {
   "cell_type": "code",
   "execution_count": null,
   "id": "99a0f686-eb27-4661-9bc0-392653bf0388",
   "metadata": {},
   "outputs": [],
   "source": [
    "import geopandas as gpd\n",
    "import pandas as pd\n",
    "import numpy as np\n",
    "import xarray as xr\n",
    "import matplotlib.pyplot as plt\n",
    "\n",
    "import os\n",
    "import shutil\n",
    "import regionmask\n",
    "import rioxarray\n",
    "\n",
    "from itertools import product\n",
    "from zarr.errors import GroupNotFoundError\n",
    "\n",
    "from shapely.geometry import Polygon\n",
    "\n",
    "import carbonplan_trace.v1.utils as utils\n",
    "from s3fs import S3FileSystem\n",
    "\n",
    "fs = S3FileSystem()"
   ]
  },
  {
   "cell_type": "markdown",
   "id": "46ac1bcd-f108-4874-9e60-89ffd55794f0",
   "metadata": {},
   "source": [
    "https://daac.ornl.gov/ABOVE/guides/Annual_30m_AGB.html\n"
   ]
  },
  {
   "cell_type": "code",
   "execution_count": null,
   "id": "971e6adb-8c1f-452f-9dd1-7457c8e5ad50",
   "metadata": {},
   "outputs": [],
   "source": [
    "d = \"s3://carbonplan-climatetrace/validation/ABoVE/\"\n",
    "files = [f for f in fs.ls(d) if not f.endswith(\"/\") and \"SE\" not in f]\n",
    "years = [2010, 2014]"
   ]
  },
  {
   "cell_type": "markdown",
   "id": "e9fb2ad7-09d4-4dbf-95b9-ab5839a12fda",
   "metadata": {},
   "source": [
    "## Download data\n"
   ]
  },
  {
   "cell_type": "code",
   "execution_count": null,
   "id": "0adfdeac-cda3-464e-b57b-3ec894478de9",
   "metadata": {
    "tags": []
   },
   "outputs": [],
   "source": [
    "# for year in years:\n",
    "#     data_by_year = []\n",
    "#     for f in files:\n",
    "#         print(f)\n",
    "#         ds = xr.open_rasterio(f\"s3://{f}\").assign_coords({'band': np.arange(1984, 2015)}).sel(band=year)\n",
    "#         ds = ds.drop('band').assign_coords({'x': np.round(ds.x, 5), 'y': np.round(ds.y, 5)})\n",
    "#         data_by_year.append(ds.load())\n",
    "#     data_by_year = xr.combine_by_coords(data_by_year, combine_attrs='drop_conflicts')\n",
    "#     data_by_year.to_dataset(name='biomass').to_zarr(f'temp_{year}.zarr', mode='w', consolidated=True)"
   ]
  },
  {
   "cell_type": "markdown",
   "id": "c63bd9dd-74f8-41f6-a7ed-386855d84c9d",
   "metadata": {},
   "source": [
    "## Regrid data to Hansen's grid\n"
   ]
  },
  {
   "cell_type": "code",
   "execution_count": null,
   "id": "e4a7f2d8-2be8-49a7-be5a-d7d5655a01c1",
   "metadata": {},
   "outputs": [],
   "source": [
    "# based on the map shown in https://daac.ornl.gov/ABOVE/guides/Annual_30m_AGB.html,\n",
    "# identify all tiles of interest\n",
    "\n",
    "tiles = [\n",
    "    \"60N_140W\",\n",
    "    \"60N_130W\",\n",
    "    \"60N_120W\",\n",
    "    \"60N_110W\",\n",
    "    \"70N_170W\",\n",
    "    \"70N_160W\",\n",
    "    \"70N_150W\",\n",
    "    \"70N_140W\",\n",
    "    \"70N_130W\",\n",
    "    \"70N_120W\",\n",
    "]\n",
    "\n",
    "# tiles = ['60N_130W']"
   ]
  },
  {
   "cell_type": "code",
   "execution_count": null,
   "id": "735dc448-0d13-4db0-90fe-a79fa8d49415",
   "metadata": {
    "tags": []
   },
   "outputs": [],
   "source": [
    "# then reproject into each tile and save\n",
    "for year in years:\n",
    "    ds = xr.open_zarr(f\"temp_{year}.zarr\")\n",
    "    ds = ds.where(ds < 65535)\n",
    "    for tile in tiles:\n",
    "        print(tile)\n",
    "        output_path = d + f\"{tile}_{year}.zarr\"\n",
    "        if fs.exists(output_path):\n",
    "            continue\n",
    "        template_path = f\"s3://carbonplan-climatetrace/intermediate/ecoregions_mask/{tile}.zarr\"\n",
    "        template = xr.open_zarr(fs.get_mapper(template_path))[\"ecoregion\"].rename(\n",
    "            {\"lat\": \"y\", \"lon\": \"x\"}\n",
    "        )\n",
    "        template = template.rio.write_crs(\"EPSG:4326\")\n",
    "        ds_projected = ds.rio.reproject_match(template)\n",
    "        ds_projected = ds_projected.where(ds_projected < 65535)\n",
    "        ds_projected[\"biomass\"] = ds_projected.biomass * 0.01 * 2\n",
    "        ds_projected.to_zarr(fs.get_mapper(output_path), mode=\"w\", consolidated=True)"
   ]
  },
  {
   "cell_type": "code",
   "execution_count": null,
   "id": "38d54048-3838-437e-afaf-53c8f89724b3",
   "metadata": {},
   "outputs": [],
   "source": [
    "ds_projected = xr.open_zarr(fs.get_mapper(d + f\"{tile}_{year}.zarr\"))\n",
    "ds_projected.biomass[::100, ::100].plot()"
   ]
  },
  {
   "cell_type": "markdown",
   "id": "a6630f01-ee24-41de-a4cc-ece3c51564de",
   "metadata": {},
   "source": [
    "## Getting performance metric\n"
   ]
  },
  {
   "cell_type": "code",
   "execution_count": null,
   "id": "27d1126b-199a-40dd-95da-7618b928ab5b",
   "metadata": {},
   "outputs": [],
   "source": [
    "import xarray as xr\n",
    "from numcodecs.zlib import Zlib\n",
    "import pandas as pd\n",
    "import numpy as np\n",
    "import dask\n",
    "from s3fs import S3FileSystem\n",
    "import geopandas\n",
    "from carbonplan_trace.v1 import utils\n",
    "import regionmask\n",
    "\n",
    "fs = S3FileSystem()\n",
    "\n",
    "dask.config.set({\"array.slicing.split_large_chunks\": False})\n",
    "from carbonplan_trace.v0.core import compute_grid_area"
   ]
  },
  {
   "cell_type": "code",
   "execution_count": null,
   "id": "a34cbccb-3e10-4c49-99cb-6a7fdece27d8",
   "metadata": {},
   "outputs": [],
   "source": [
    "# this should be combined with the above section\n",
    "above_tiles = [\n",
    "    \"60N_140W\",\n",
    "    \"60N_130W\",\n",
    "    \"60N_120W\",\n",
    "    \"60N_110W\",\n",
    "    \"70N_170W\",\n",
    "    \"70N_160W\",\n",
    "    \"70N_150W\",\n",
    "    \"70N_140W\",\n",
    "    \"70N_130W\",\n",
    "    \"70N_120W\",\n",
    "]\n",
    "# above_tiles = ['60N_130W']\n",
    "total_area = 0\n",
    "total_pct_change = 0\n",
    "\n",
    "for tile in above_tiles:\n",
    "    # open hansen and crop to landsat area\n",
    "    # doesn't need land mask because emissions there should be 0\n",
    "    hansen = xr.open_zarr(f\"s3://carbonplan-climatetrace/v0.4/tiles/30m/{tile}_tot.zarr\").sel(\n",
    "        year=slice(2011, 2013)\n",
    "    )[\"emissions\"]\n",
    "    disturbed = (hansen > 0).any(dim=\"year\")\n",
    "    if disturbed.lat[0] > disturbed.lat[-1]:\n",
    "        disturbed = disturbed.reindex(lat=disturbed.lat[::-1])\n",
    "\n",
    "    # open Jon's data, constrain to hansen emission > 0, and calculate % change of each pixel\n",
    "    jon_2010 = (\n",
    "        xr.open_zarr(f\"s3://carbonplan-climatetrace/validation/ABoVE/{tile}_2010.zarr\")\n",
    "        .drop([\"spatial_ref\", \"band\"])\n",
    "        .rename({\"x\": \"lon\", \"y\": \"lat\"})\n",
    "    )\n",
    "    jon_2014 = (\n",
    "        xr.open_zarr(f\"s3://carbonplan-climatetrace/validation/ABoVE/{tile}_2014.zarr\")\n",
    "        .drop([\"spatial_ref\", \"band\"])\n",
    "        .rename({\"x\": \"lon\", \"y\": \"lat\"})\n",
    "    )\n",
    "\n",
    "    if jon_2010.lat[0] > jon_2010.lat[-1]:\n",
    "        jon_2010 = jon_2010.reindex(lat=jon_2010.lat[::-1])\n",
    "    if jon_2014.lat[0] > jon_2014.lat[-1]:\n",
    "        jon_2014 = jon_2014.reindex(lat=jon_2014.lat[::-1])\n",
    "\n",
    "    disturbed = disturbed.assign_coords({\"lat\": jon_2010.lat, \"lon\": jon_2010.lon})\n",
    "    disturbed = disturbed.where(jon_2010.biomass > 0)\n",
    "    jon_2010 = jon_2010.where(disturbed == True).biomass\n",
    "    jon_2014 = jon_2014.where(disturbed == True).biomass\n",
    "\n",
    "    pct_change = ((jon_2014 - jon_2010) / jon_2010 * 100).compute()\n",
    "    da_area = compute_grid_area(pct_change)\n",
    "    da_area = da_area.where(disturbed == True)\n",
    "    biomass_area_summed = (jon_2010 * da_area).sum().values\n",
    "    pct_change_summed = (jon_2010 * da_area * pct_change.clip(max=0, min=-100)).sum().values\n",
    "\n",
    "    print(tile, np.round(pct_change_summed / biomass_area_summed, 4))\n",
    "    total_area += biomass_area_summed\n",
    "    total_pct_change += pct_change_summed\n",
    "\n",
    "print()\n",
    "print(\"total pct change \", total_pct_change)\n",
    "print(\"total area \", total_area)\n",
    "print(f\"average pct change {np.round(total_pct_change / total_area, 4)}\")"
   ]
  }
 ],
 "metadata": {
  "kernelspec": {
   "display_name": "Python 3 (ipykernel)",
   "language": "python",
   "name": "python3"
  },
  "language_info": {
   "codemirror_mode": {
    "name": "ipython",
    "version": 3
   },
   "file_extension": ".py",
   "mimetype": "text/x-python",
   "name": "python",
   "nbconvert_exporter": "python",
   "pygments_lexer": "ipython3",
   "version": "3.9.7"
  }
 },
 "nbformat": 4,
 "nbformat_minor": 5
}
