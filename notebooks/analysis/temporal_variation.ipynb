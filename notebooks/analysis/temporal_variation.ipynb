{
 "cells": [
  {
   "cell_type": "code",
   "execution_count": null,
   "id": "296b951d-1b89-4ae1-bfa0-2014474a64cb",
   "metadata": {},
   "outputs": [],
   "source": [
    "%load_ext autoreload\n",
    "%autoreload 2\n",
    "\n",
    "from s3fs import S3FileSystem\n",
    "\n",
    "fs = S3FileSystem()\n",
    "\n",
    "import random\n",
    "import rasterio as rio\n",
    "import numpy as np\n",
    "import xarray as xr\n",
    "import dask\n",
    "import copy\n",
    "import scipy\n",
    "import matplotlib.pyplot as plt\n",
    "import pandas as pd\n",
    "from datetime import datetime\n",
    "import time\n",
    "\n",
    "from carbonplan_trace.v1 import emissions_workflow"
   ]
  },
  {
   "cell_type": "code",
   "execution_count": null,
   "id": "d5ee0e34-3199-4be6-a5e3-56c64a9872ee",
   "metadata": {},
   "outputs": [],
   "source": [
    "import warnings\n",
    "\n",
    "warnings.filterwarnings(\"ignore\")"
   ]
  },
  {
   "cell_type": "code",
   "execution_count": null,
   "id": "4e971c57-fc5a-46b6-a0fe-96574f8339ac",
   "metadata": {},
   "outputs": [],
   "source": [
    "import seaborn as sns\n",
    "\n",
    "sns.set()"
   ]
  },
  {
   "cell_type": "markdown",
   "id": "d9d475e3-6cae-4ecf-bbd1-40363e57da4e",
   "metadata": {},
   "source": [
    "## functions\n"
   ]
  },
  {
   "cell_type": "code",
   "execution_count": null,
   "id": "b904e40b-b8a0-40f3-9b53-3ecd45aa6826",
   "metadata": {},
   "outputs": [],
   "source": [
    "def plot_diff(ds, year0, year1):\n",
    "    (\n",
    "        (ds.sel(time=year1).drop(\"time\") - ds.sel(time=year0).drop(\"time\"))\n",
    "        / (ds.sel(time=year0).drop(\"time\"))\n",
    "        * 100\n",
    "    ).plot(cmap=\"RdBu\", vmin=-100, vmax=100, cbar_kwargs={\"label\": \"%-age change in AGB\"})\n",
    "\n",
    "\n",
    "def plot_ts_diff(ds):\n",
    "    diff = ds - ds.shift(time=1)\n",
    "    diff.isel(time=slice(1, 7)).plot(col=\"time\", col_wrap=3, cmap=\"RdBu\", vmax=250, vmin=-250)"
   ]
  },
  {
   "cell_type": "markdown",
   "id": "fe9ae67f-5cfb-499a-81f4-ee496e7726c1",
   "metadata": {},
   "source": [
    "## simple plots\n"
   ]
  },
  {
   "cell_type": "code",
   "execution_count": null,
   "id": "5d55150d-73a1-449c-9648-00cf7d0abf4a",
   "metadata": {
    "tags": []
   },
   "outputs": [],
   "source": [
    "ds = xr.open_zarr(\"s3://carbonplan-climatetrace/v1/results/tiles/50N_120W.zarr\")\n",
    "ds.AGB.isel(time=3)[::100, ::100].plot()"
   ]
  },
  {
   "cell_type": "code",
   "execution_count": null,
   "id": "0a10fc37-c5c9-4bca-97b4-ab17a14a989c",
   "metadata": {
    "tags": []
   },
   "outputs": [],
   "source": [
    "lat = 48.020428\n",
    "lon = -117.868181  # -117.861472  #\n",
    "buffer = 0.000125\n",
    "pixels = 70\n",
    "\n",
    "sub = ds.AGB.sel(\n",
    "    lat=slice(lat - buffer * pixels, lat + buffer * pixels),\n",
    "    lon=slice(lon - buffer * pixels, lon + buffer * pixels),\n",
    ")\n",
    "\n",
    "sub.plot(col=\"time\", col_wrap=3, cmap=\"Greens\", vmin=0, vmax=400)"
   ]
  },
  {
   "cell_type": "code",
   "execution_count": null,
   "id": "0c8f2b1b-cc24-4afd-b706-3073c7e52a5a",
   "metadata": {
    "tags": []
   },
   "outputs": [],
   "source": [
    "plot_ts_diff(sub)"
   ]
  },
  {
   "cell_type": "code",
   "execution_count": null,
   "id": "01335125-30b2-494c-93e3-631749be929c",
   "metadata": {
    "tags": []
   },
   "outputs": [],
   "source": [
    "lat = 48.026050\n",
    "pixels = 1\n",
    "ds.AGB.sel(\n",
    "    lat=slice(lat - buffer * pixels, lat + buffer * pixels),\n",
    "    lon=slice(lon - buffer * pixels, lon + buffer * pixels),\n",
    ").plot()\n",
    "plt.show()"
   ]
  },
  {
   "cell_type": "markdown",
   "id": "cc8f04ea-98a5-4e96-8883-0aa4eb8400c8",
   "metadata": {},
   "source": [
    "## effect of spatial aggregation on temporal variability\n"
   ]
  },
  {
   "cell_type": "code",
   "execution_count": null,
   "id": "83fc9128-28d7-42e4-8057-961b7e3c224e",
   "metadata": {},
   "outputs": [],
   "source": [
    "# pick a 2x2 degree tile to work with\n",
    "sub = ds.sel(lat=slice(48, 50), lon=slice(-118, -116))\n",
    "sub"
   ]
  },
  {
   "cell_type": "code",
   "execution_count": null,
   "id": "39323361-a17c-46f2-8c43-f70da163a8d3",
   "metadata": {
    "tags": []
   },
   "outputs": [],
   "source": [
    "# sources and sink shrink when we increase spatial aggregation, but it's still unclear what the threshold should be\n",
    "\n",
    "plt.figure()\n",
    "ax = plt.gca()\n",
    "\n",
    "for res in [1, 5, 10, 50, 100, 500, 1000]:\n",
    "    if res == 1:\n",
    "        coarsened = sub\n",
    "    else:\n",
    "        coarsened = sub.coarsen(lat=res, lon=res).sum()\n",
    "\n",
    "    flux = emissions_workflow.calc_biomass_change(ds=coarsened)\n",
    "    sources = flux.clip(min=0).sum(dim=[\"lat\", \"lon\"])\n",
    "    #     sinks = flux.clip(max=0).sum(dim=['lat', 'lon'])\n",
    "    sources.AGB.plot(ax=ax, label=f\"res = {int(30*res)}m\")\n",
    "#     sinks.AGB.plot(ax=ax, label=f'res = {int(30*res)}m')\n",
    "\n",
    "min_lat = sub.lat.min().round().values.astype(int)\n",
    "max_lat = sub.lat.max().round().values.astype(int)\n",
    "min_lon = sub.lon.min().round().values.astype(int)\n",
    "max_lon = sub.lon.max().round().values.astype(int)\n",
    "\n",
    "plt.title(f\"lat {min_lat}-{max_lat}, lon {min_lon}-{max_lon}\")\n",
    "plt.ylabel(\"Total AGB Reduction (Mg/ha)\")\n",
    "plt.legend()\n",
    "plt.show()\n",
    "plt.close()"
   ]
  },
  {
   "cell_type": "code",
   "execution_count": null,
   "id": "5273539c-8ec7-482a-bb1f-04b600d31b11",
   "metadata": {
    "tags": []
   },
   "outputs": [],
   "source": [
    "# idea: without noises the changes should go to 0 when we look at a smaller region\n",
    "# judging by these figures we should pick a ~1km resolution, but it won't be getting at the temporal variability problem necessarily\n",
    "\n",
    "for _ in range(10):\n",
    "    i = random.randint(0, 7900)\n",
    "    j = random.randint(0, 7900)\n",
    "    ss = sub.isel(lat=slice(i, i + 100), lon=slice(j, j + 100))\n",
    "\n",
    "    plt.figure()\n",
    "    ax = plt.gca()\n",
    "    for res in [1, 5, 10, 25, 50, 100]:\n",
    "        if res == 1:\n",
    "            coarsened = ss\n",
    "        else:\n",
    "            coarsened = ss.coarsen(lat=res, lon=res).sum()\n",
    "\n",
    "        flux = emissions_workflow.calc_biomass_change(ds=coarsened)\n",
    "        sources = flux.clip(min=0).sum(dim=[\"lat\", \"lon\"])\n",
    "        sources.AGB.plot(ax=ax, label=f\"res = {int(30*res)}m\")\n",
    "\n",
    "    plt.title(\n",
    "        f\"lat {(ss.lat.min().values + ss.lat.max().values) / 2}, lon {(ss.lon.min().values + ss.lon.max().values) / 2}\"\n",
    "    )\n",
    "    plt.ylabel(\"Total AGB Gain (Mg/ha)\")\n",
    "    plt.legend()\n",
    "    plt.show()\n",
    "    plt.close()"
   ]
  },
  {
   "cell_type": "markdown",
   "id": "b1984a42-85a3-40ec-a3db-d5db677fe479",
   "metadata": {},
   "source": [
    "## histograms of abs change, pct change, and z score of change\n"
   ]
  },
  {
   "cell_type": "code",
   "execution_count": null,
   "id": "58e2fe24-4f19-41f4-97e2-bcc3bebe6a35",
   "metadata": {},
   "outputs": [],
   "source": [
    "flux = emissions_workflow.calc_biomass_change(ds=sub)\n",
    "flux_mean = flux.mean(dim=[\"time\"])  # .compute()\n",
    "flux_std = flux.std(dim=[\"time\"])  # .compute()\n",
    "\n",
    "zscore_flux = (flux - flux_mean) / flux_std\n",
    "\n",
    "biomass = sub.isel(time=slice(1, None))\n",
    "pct_flux = flux / biomass"
   ]
  },
  {
   "cell_type": "code",
   "execution_count": null,
   "id": "05b5bed6-be5d-4b3f-824f-f8abd288e8f1",
   "metadata": {
    "tags": []
   },
   "outputs": [],
   "source": [
    "v = flux.AGB.values\n",
    "v = v[~np.isnan(v)]\n",
    "\n",
    "bins = list(np.arange(-40, 40))\n",
    "plt.hist(v, bins=bins)\n",
    "plt.xlabel(\"AGB change (Mg/ha)\")\n",
    "plt.show()\n",
    "plt.close()"
   ]
  },
  {
   "cell_type": "code",
   "execution_count": null,
   "id": "2f0baa22-fdac-411e-8023-72a1bc2b878f",
   "metadata": {
    "tags": []
   },
   "outputs": [],
   "source": [
    "v = pct_flux.AGB.values * 100\n",
    "v = v[~np.isnan(v)]\n",
    "\n",
    "bins = list(np.arange(-50, 50))\n",
    "plt.hist(v, bins=bins)\n",
    "plt.xlabel(\"% AGB change\")\n",
    "plt.show()\n",
    "plt.close()"
   ]
  },
  {
   "cell_type": "code",
   "execution_count": null,
   "id": "12f3084f-3aa4-47cc-ac2b-10e0c0ccc9b6",
   "metadata": {
    "tags": []
   },
   "outputs": [],
   "source": [
    "v = zscore_flux.AGB.values\n",
    "v = v[~np.isnan(v)]\n",
    "bins = list(np.linspace(-4, 4, 81))\n",
    "plt.hist(v, bins=bins)\n",
    "plt.xlabel(\"Z score AGB change\")\n",
    "plt.show()\n",
    "plt.close()"
   ]
  },
  {
   "cell_type": "markdown",
   "id": "bec71201-9c1d-42cc-af6d-a407f833af43",
   "metadata": {},
   "source": [
    "## change detection using zscore\n"
   ]
  },
  {
   "cell_type": "code",
   "execution_count": null,
   "id": "04362da3-9472-46f6-abe9-b724b83eeb44",
   "metadata": {},
   "outputs": [],
   "source": [
    "v = (zscore_flux > 1.96).sum(dim=[\"time\"]).AGB.values\n",
    "np.unique(v, return_counts=True)"
   ]
  },
  {
   "cell_type": "code",
   "execution_count": null,
   "id": "bea40ec0-c899-4831-b92b-14724dd7c22c",
   "metadata": {
    "tags": []
   },
   "outputs": [],
   "source": [
    "for i in range(20):\n",
    "    print(i)\n",
    "    plt.figure()\n",
    "    ax1 = plt.gca()\n",
    "    sub.AGB.isel(lat=100 + i, lon=100 + i).plot.line(\"b\", ax=ax1)\n",
    "    ax2 = ax1.twinx()\n",
    "    zscore_flux.AGB.isel(lat=100 + i, lon=100 + i).plot.line(\"ro\", ax=ax2)\n",
    "\n",
    "    ax1.set_ylabel(\"AGB (Mg/ha)\", color=\"b\")\n",
    "    ax2.set_ylabel(\"Z Score Flux\", color=\"r\")\n",
    "    ax2.set_yticks([-2.5, -1.96, -1, 0, 1, 1.96, 2.5])\n",
    "    plt.show()\n",
    "    plt.close()"
   ]
  },
  {
   "cell_type": "markdown",
   "id": "de56ba67-4d68-4197-91d1-35a109f824c7",
   "metadata": {},
   "source": [
    "## change detection using chow test\n"
   ]
  },
  {
   "cell_type": "code",
   "execution_count": null,
   "id": "b70c8ef0-5da6-4b4b-a96e-52a5a5506d27",
   "metadata": {},
   "outputs": [],
   "source": [
    "# ds = xr.open_zarr('s3://carbonplan-climatetrace/v1/results/tiles/50N_130W.zarr')\n",
    "# subset = ds.AGB.sel(lat=slice(47.64, 47.68), lon=slice(-121.7, -121.61))\n",
    "# # subset = ds.AGB.sel(lat=slice(47.74, 47.78), lon=slice(-121.8, -121.71))\n",
    "# ds = xr.open_zarr('s3://carbonplan-climatetrace/v1/results/tiles/40N_130W.zarr')\n",
    "# subset = ds.AGB.sel(lat=slice(39.0, 39.1), lon=slice(-123.1, -123))\n",
    "\n",
    "ds = xr.open_zarr(\"s3://carbonplan-climatetrace/v1/results/tiles/50N_120W.zarr\").AGB\n",
    "sub = ds.sel(lat=slice(48, 50), lon=slice(-118, -116))"
   ]
  },
  {
   "cell_type": "code",
   "execution_count": null,
   "id": "ee11d576-5b82-4aa2-9e53-badabcbc2a09",
   "metadata": {},
   "outputs": [],
   "source": [
    "flux = emissions_workflow.calc_biomass_change(ds=sub)\n",
    "flux_mean = flux.mean(dim=[\"time\"])\n",
    "flux_std = flux.std(dim=[\"time\"])\n",
    "zscore_flux = (flux - flux_mean) / flux_std"
   ]
  },
  {
   "cell_type": "code",
   "execution_count": null,
   "id": "5aedd06b-bfea-40f9-94f0-b2b440de2057",
   "metadata": {},
   "outputs": [],
   "source": [
    "# x = xr.DataArray(\n",
    "#     1,\n",
    "#     dims=sub.dims,\n",
    "#     coords=sub.coords\n",
    "# ).cumsum(dim='time')"
   ]
  },
  {
   "cell_type": "code",
   "execution_count": null,
   "id": "7125eeb4-2346-4a33-86f2-6fedb671e0e1",
   "metadata": {},
   "outputs": [],
   "source": [
    "# import time"
   ]
  },
  {
   "cell_type": "code",
   "execution_count": null,
   "id": "5f8d49e6-18d5-42c9-b1dd-b08d0133bc1c",
   "metadata": {},
   "outputs": [],
   "source": [
    "from carbonplan_trace.v1.change_point_detection import *"
   ]
  },
  {
   "cell_type": "code",
   "execution_count": null,
   "id": "50d99931-d801-4663-a4a0-373f739e8080",
   "metadata": {},
   "outputs": [],
   "source": [
    "# x = x.astype('int8')"
   ]
  },
  {
   "cell_type": "code",
   "execution_count": null,
   "id": "6f482b6e-e3a4-40e7-a1b7-78eaa458ee14",
   "metadata": {
    "tags": []
   },
   "outputs": [],
   "source": [
    "# t1 = time.time()\n",
    "# slope_3d, intercept_3d, rss_3d, pvalue_3d = linear_regression_3D(x=x.astype('int8'), y=sub)\n",
    "# t2 = time.time()\n",
    "\n",
    "# print((t2 - t1) / 60.)"
   ]
  },
  {
   "cell_type": "code",
   "execution_count": null,
   "id": "16463155-a0b9-41fb-a780-af9dd0817e02",
   "metadata": {},
   "outputs": [],
   "source": [
    "pred, pvalue, has_breakpoint = perform_change_detection(ds)"
   ]
  },
  {
   "cell_type": "code",
   "execution_count": null,
   "id": "c002f488-0b05-4284-90eb-f7000848dbc9",
   "metadata": {},
   "outputs": [],
   "source": [
    "import random"
   ]
  },
  {
   "cell_type": "code",
   "execution_count": null,
   "id": "f791a225-4f67-432c-a488-60a1e325ad26",
   "metadata": {},
   "outputs": [],
   "source": [
    "for _ in range(20):\n",
    "    #     i = random.randint(0, len(sub.lat))\n",
    "    #     j = random.randint(0, len(sub.lon))\n",
    "    i = 100 + _\n",
    "    j = i\n",
    "    print(i, j)\n",
    "\n",
    "    ts = sub.isel(lat=i, lon=j).values\n",
    "    result = perform_sup_f_test(ts)\n",
    "\n",
    "    plt.figure()\n",
    "    ax1 = plt.gca()\n",
    "    ax1.plot(sub.time.values, ts, \"b\", label=\"raw\")\n",
    "    ax1.plot(sub.time.values, result, \"k\", label=\"2d pred\")\n",
    "    ax1.plot(sub.time.values, pred.isel(lat=i, lon=j).values, \"r\", label=\"3d pred\")\n",
    "\n",
    "    ax1.set_ylabel(\"AGB (Mg/ha)\", color=\"b\")\n",
    "\n",
    "    #     print(result['pvalue'])\n",
    "    plt.legend()\n",
    "    plt.show()\n",
    "    plt.close()"
   ]
  },
  {
   "cell_type": "code",
   "execution_count": null,
   "id": "922b38d6-eb2b-41c5-afe1-10ec68917f3d",
   "metadata": {},
   "outputs": [],
   "source": [
    "# caveats\n",
    "\n",
    "# only allowing for 1 break point, thus fitting 2 \"discontinuous\" linear regression functions\n",
    "# need to figure out a way to filter out positive changes (?)\n",
    "\n",
    "# todo\n",
    "# look for zero biomass maps\n",
    "# identify deforestation examples and verify ~100% drop\n",
    "# use v0 to identify the stand replacement clearings\n",
    "\n",
    "# 100 random pixels for validation/accuracy tests for break point detection, oversampling positive break point detections"
   ]
  },
  {
   "cell_type": "code",
   "execution_count": null,
   "id": "d00a070a-5eea-48e2-8377-de6dbff36771",
   "metadata": {
    "tags": []
   },
   "outputs": [],
   "source": [
    "# subset.isel(lat=slice(60, 80), lon=slice(120, 135))\n",
    "\n",
    "for i in range(15):\n",
    "    print(f\"looking at the pixel {i}\")\n",
    "    ts = subset.isel(lat=60 + i, lon=120 + i).values\n",
    "    result = perform_sup_f_test(ts)\n",
    "\n",
    "    plt.figure()\n",
    "    ax1 = plt.gca()\n",
    "    subset.isel(lat=60 + i, lon=120 + i).plot.line(\"b\", ax=ax1)\n",
    "    ax1.plot(subset.time.values, result[\"pred\"], \"k\")\n",
    "    ax2 = ax1.twinx()\n",
    "    zscore_flux.isel(lat=60 + i, lon=120 + i).plot.line(\"ro\", ax=ax2)\n",
    "\n",
    "    ax1.set_ylabel(\"AGB (Mg/ha)\", color=\"b\")\n",
    "    ax2.set_ylabel(\"Z Score Flux\", color=\"r\")\n",
    "    ax2.set_yticks([-2.5, -1.96, -1, 0, 1, 1.96, 2.5])\n",
    "    print(f\"overall pvalue =\", result[\"pvalue\"])\n",
    "    plt.show()\n",
    "    plt.close()"
   ]
  },
  {
   "cell_type": "code",
   "execution_count": null,
   "id": "8d8c8f4a-3365-4425-9d7b-ede445c2a7d7",
   "metadata": {},
   "outputs": [],
   "source": [
    "subset_result = xr.apply_ufunc(\n",
    "    perform_sup_f_test,\n",
    "    subset,\n",
    "    input_core_dims=[[\"time\"]],\n",
    "    output_core_dims=[[\"time\"]],\n",
    "    output_dtypes=[\"float\"],\n",
    "    dask=\"parallelized\",\n",
    "    vectorize=True,\n",
    "    dask_gufunc_kwargs={\"allow_rechunk\": 1},\n",
    ").load()"
   ]
  },
  {
   "cell_type": "code",
   "execution_count": null,
   "id": "fea3bcd4-649e-45da-80f0-fd6798a3c1b0",
   "metadata": {
    "tags": []
   },
   "outputs": [],
   "source": [
    "subset.plot(col=\"time\", col_wrap=3, cmap=\"Greens\", vmin=0, vmax=400)"
   ]
  },
  {
   "cell_type": "code",
   "execution_count": null,
   "id": "757fb4dd-9149-4379-97c8-b6e1566f9dc4",
   "metadata": {
    "tags": []
   },
   "outputs": [],
   "source": [
    "subset_result.plot(col=\"time\", col_wrap=3, cmap=\"Greens\", vmin=0, vmax=400)"
   ]
  },
  {
   "cell_type": "code",
   "execution_count": null,
   "id": "7a27474e-1bcc-4b3f-b365-add13ee65564",
   "metadata": {},
   "outputs": [],
   "source": [
    "plot_ts_diff(subset)\n",
    "plt.suptitle(f\"Original Flux\", y=1)\n",
    "plt.savefig(f\"original_flux.png\")\n",
    "plt.show()"
   ]
  },
  {
   "cell_type": "code",
   "execution_count": null,
   "id": "7921dd72-940a-4b72-8d8a-3abc58d46b0d",
   "metadata": {},
   "outputs": [],
   "source": [
    "# 95%\n",
    "plot_ts_diff(subset_result)\n",
    "plt.suptitle(f\"Smoothed Flux\", y=1)\n",
    "plt.savefig(f\"smoothed_flux.png\")\n",
    "plt.show()"
   ]
  },
  {
   "cell_type": "code",
   "execution_count": null,
   "id": "07b91276-08b4-4bbd-9975-0d58abb2a307",
   "metadata": {},
   "outputs": [],
   "source": [
    "# 90%\n",
    "plot_ts_diff(subset_result)\n",
    "plt.suptitle(f\"Smoothed Flux\", y=1)\n",
    "plt.savefig(f\"smoothed_flux.png\")\n",
    "plt.show()"
   ]
  },
  {
   "cell_type": "markdown",
   "id": "db6b8356-8c1e-4692-8a4e-e97e2e948e6e",
   "metadata": {},
   "source": [
    "## Components analysis\n"
   ]
  },
  {
   "cell_type": "code",
   "execution_count": null,
   "id": "c1c3aa15-bbee-4742-9664-006deb5e4db5",
   "metadata": {},
   "outputs": [],
   "source": [
    "from sklearn import decomposition\n",
    "from numpy.random import RandomState"
   ]
  },
  {
   "cell_type": "code",
   "execution_count": null,
   "id": "d1ad2c38-ff15-4c26-86bf-b67bd300790f",
   "metadata": {},
   "outputs": [],
   "source": [
    "ds = xr.open_zarr(\"s3://carbonplan-climatetrace/v1/results/tiles/50N_130W.zarr\")\n",
    "subset = ds.AGB.sel(lat=slice(47.64, 47.68), lon=slice(-121.7, -121.61))\n",
    "# # subset = ds.AGB.sel(lat=slice(47.74, 47.78), lon=slice(-121.8, -121.71))\n",
    "# ds = xr.open_zarr('s3://carbonplan-climatetrace/v1/results/tiles/40N_130W.zarr')\n",
    "# subset = ds.AGB.sel(lat=slice(39.0, 39.1), lon=slice(-123.1, -123))"
   ]
  },
  {
   "cell_type": "code",
   "execution_count": null,
   "id": "47203431-1578-4d7f-88fc-229863303370",
   "metadata": {},
   "outputs": [],
   "source": [
    "rng = 0\n",
    "image_size = subset.isel(time=0).shape\n",
    "n_components = 6\n",
    "\n",
    "diff = (subset - subset.shift(time=1)).isel(time=slice(1, None)).fillna(0)\n",
    "sample_size = len(diff.time)\n",
    "data = diff.values.reshape(sample_size, -1)\n",
    "\n",
    "# global centering\n",
    "global_mean = data.mean(axis=0)\n",
    "data_centered = data - global_mean"
   ]
  },
  {
   "cell_type": "code",
   "execution_count": null,
   "id": "a2a63952-2a39-4bcb-94db-640455acbae6",
   "metadata": {},
   "outputs": [],
   "source": [
    "estimators = [\n",
    "    (\n",
    "        \"MiniBatchSparsePCA\",\n",
    "        decomposition.MiniBatchSparsePCA(\n",
    "            n_components=n_components, n_iter=100, batch_size=3, random_state=rng\n",
    "        ),\n",
    "        True,\n",
    "    ),\n",
    "    (\n",
    "        \"PCA\",\n",
    "        decomposition.PCA(n_components=n_components, svd_solver=\"randomized\", whiten=True),\n",
    "        True,\n",
    "    ),\n",
    "    (\"ICA\", decomposition.FastICA(n_components=n_components, whiten=True), True),\n",
    "    (\n",
    "        \"MiniBatchDictionaryLearning\",\n",
    "        decomposition.MiniBatchDictionaryLearning(\n",
    "            n_components=15, alpha=0.1, n_iter=50, batch_size=3, random_state=rng\n",
    "        ),\n",
    "        True,\n",
    "    ),\n",
    "    (\"FA\", decomposition.FactorAnalysis(n_components=n_components, max_iter=20), True),\n",
    "]"
   ]
  },
  {
   "cell_type": "code",
   "execution_count": null,
   "id": "92f8a329-edb3-4662-8af5-0a64e2410b5d",
   "metadata": {},
   "outputs": [],
   "source": [
    "def plot_components(name, components, n_components=n_components, image_size=image_size):\n",
    "    da = xr.DataArray(\n",
    "        data=components.reshape(n_components, image_size[0], image_size[1]),\n",
    "        dims=[\"component\", \"lat\", \"lon\"],\n",
    "        coords=[np.arange(n_components), subset.lat.values, subset.lon.values],\n",
    "    )\n",
    "\n",
    "    if n_components > 1:\n",
    "        da.plot(col=\"component\", col_wrap=3, cmap=\"RdBu\")\n",
    "\n",
    "    else:\n",
    "        da.plot(cmap=\"RdBu\")\n",
    "\n",
    "    plt.suptitle(f\"{name} components\", y=1)\n",
    "    plt.savefig(f\"{name}_components.png\")\n",
    "    plt.show()\n",
    "\n",
    "\n",
    "def inverse_transform(estimator, d, center):\n",
    "    if center:\n",
    "        return np.dot(d, estimator.components_) + estimator.mean_ + global_mean\n",
    "    else:\n",
    "        return np.dot(d, estimator.components_) + estimator.mean_\n",
    "\n",
    "\n",
    "def inverse_transform2(estimator, d, i, center):\n",
    "    projected = project(d, estimator.components_[0])\n",
    "    for j in range(i):\n",
    "        projected += project(d, estimator.components_[j + 1])\n",
    "\n",
    "    if center:\n",
    "        return d + global_mean - projected\n",
    "    else:\n",
    "        return d - projected\n",
    "\n",
    "\n",
    "def project(x, y):\n",
    "    # projects x onto y\n",
    "    return y * np.dot(x, y).reshape(-1, 1) / np.dot(y, y)\n",
    "\n",
    "\n",
    "def plot_denoised_flux(name, estimator, transformed, d, center):\n",
    "    t = copy.deepcopy(transformed)\n",
    "\n",
    "    for i in range(2):\n",
    "        t[:, i] = 0\n",
    "\n",
    "        if name == \"MiniBatchSparsePCA\" or name == \"FA\":\n",
    "            # sparse pca does not have the inverse transform method\n",
    "            reconstructed = inverse_transform(estimator, t, center)\n",
    "        #             reconstructed = inverse_transform2(estimator, d, i, center)\n",
    "        elif name == \"MiniBatchDictionaryLearning\":\n",
    "            if center:\n",
    "                reconstructed = np.dot(t, estimator.components_) + global_mean\n",
    "            else:\n",
    "                reconstructed = np.dot(t, estimator.components_)\n",
    "        else:\n",
    "            reconstructed = estimator.inverse_transform(t)\n",
    "            if center:\n",
    "                reconstructed = reconstructed + global_mean\n",
    "\n",
    "        da = xr.DataArray(\n",
    "            data=reconstructed.reshape(sample_size, image_size[0], image_size[1]),\n",
    "            dims=[\"time\", \"lat\", \"lon\"],\n",
    "            coords=[np.arange(2021 - sample_size, 2021), subset.lat.values, subset.lon.values],\n",
    "        )\n",
    "        da.plot(col=\"time\", col_wrap=3, cmap=\"RdBu\", vmax=250, vmin=-250)\n",
    "        plt.suptitle(f\"{name} component {i} removed\", y=1)\n",
    "        plt.savefig(f\"{name}_component_{i}_removed.png\")\n",
    "        plt.show()\n",
    "\n",
    "\n",
    "def plot_component_by_time(name, n_components, estimator, transformed, d):\n",
    "    for i in range(n_components):\n",
    "        t = np.zeros(transformed.shape)\n",
    "        t[:, i] = transformed[:, i]\n",
    "\n",
    "        if name == \"MiniBatchSparsePCA\" or name == \"FA\":\n",
    "            # sparse pca does not have the inverse transform method\n",
    "            reconstructed = inverse_transform(estimator, t, center=False)\n",
    "        #             reconstructed = project(d, estimator.components_[i])\n",
    "        elif name == \"MiniBatchDictionaryLearning\":\n",
    "            reconstructed = np.dot(t, estimator.components_)\n",
    "        else:\n",
    "            reconstructed = estimator.inverse_transform(t) - estimator.mean_\n",
    "\n",
    "        da = xr.DataArray(\n",
    "            data=reconstructed.reshape(sample_size, image_size[0], image_size[1]),\n",
    "            dims=[\"time\", \"lat\", \"lon\"],\n",
    "            coords=[np.arange(2021 - sample_size, 2021), subset.lat.values, subset.lon.values],\n",
    "        )\n",
    "\n",
    "        da.plot(col=\"time\", col_wrap=3, cmap=\"RdBu\", vmax=250, vmin=-250)\n",
    "        plt.suptitle(f\"{name} component {i} only\", y=1)\n",
    "        plt.savefig(f\"{name}_component_{i}_only.png\")\n",
    "        plt.show()"
   ]
  },
  {
   "cell_type": "code",
   "execution_count": null,
   "id": "25b051ef-4f39-4ca3-8a56-478931fa070c",
   "metadata": {
    "tags": []
   },
   "outputs": [],
   "source": [
    "for name, estimator, center in estimators:\n",
    "    print(name)\n",
    "    if center:\n",
    "        transformed = estimator.fit_transform(data_centered)\n",
    "    else:\n",
    "        transformed = estimator.fit_transform(data)\n",
    "\n",
    "    if hasattr(estimator, \"cluster_centers_\"):\n",
    "        components_ = estimator.cluster_centers_\n",
    "    elif name == \"ICA\":\n",
    "        components_ = estimator.mixing_.T\n",
    "    else:\n",
    "        components_ = estimator.components_\n",
    "\n",
    "    # plot independent components\n",
    "    print(\"plotting components\")\n",
    "    plot_components(\n",
    "        name, components_[:n_components], n_components=n_components, image_size=image_size\n",
    "    )\n",
    "\n",
    "    # plot the data with 1st or first two components removed\n",
    "    print(\"plotting denoised fluxes\")\n",
    "    if center:\n",
    "        plot_denoised_flux(name, estimator, transformed, data_centered, center)\n",
    "    else:\n",
    "        plot_denoised_flux(name, estimator, transformed, data, center)\n",
    "\n",
    "    # plot components of each time slice\n",
    "    print(\"plotting components by time\")\n",
    "    if center:\n",
    "        plot_component_by_time(name, n_components, estimator, transformed, data_centered)\n",
    "    else:\n",
    "        plot_component_by_time(name, n_components, estimator, transformed, data)"
   ]
  }
 ],
 "metadata": {
  "kernelspec": {
   "display_name": "Python [conda env:notebook] *",
   "language": "python",
   "name": "conda-env-notebook-py"
  },
  "language_info": {
   "codemirror_mode": {
    "name": "ipython",
    "version": 3
   },
   "file_extension": ".py",
   "mimetype": "text/x-python",
   "name": "python",
   "nbconvert_exporter": "python",
   "pygments_lexer": "ipython3",
   "version": "3.9.7"
  }
 },
 "nbformat": 4,
 "nbformat_minor": 5
}
