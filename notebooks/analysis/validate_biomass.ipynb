{
 "cells": [
  {
   "cell_type": "code",
   "execution_count": null,
   "id": "recognized-lobby",
   "metadata": {},
   "outputs": [],
   "source": [
    "%load_ext autoreload\n",
    "%autoreload 2\n",
    "\n",
    "import xarray as xr\n",
    "from matplotlib import cm\n",
    "import cartopy.crs as ccrs\n",
    "import matplotlib.pyplot as plt\n",
    "from carbonplan_styles.mpl import set_theme\n",
    "\n",
    "set_theme()\n",
    "from sklearn.metrics import r2_score, mean_absolute_error, mean_absolute_percentage_error\n",
    "import numpy as np\n",
    "import seaborn as sns\n",
    "import pandas as pd\n",
    "from carbonplan_trace.tiles import tiles\n",
    "from carbonplan_trace.v0.core import coarsen_emissions\n",
    "from carbonplan_data.utils import set_zarr_encoding\n",
    "import rasterio"
   ]
  },
  {
   "cell_type": "markdown",
   "id": "e13d4d6c-10b5-4ec6-94d0-3b86e4f97c3a",
   "metadata": {},
   "source": [
    "# Get comparison data\n"
   ]
  },
  {
   "cell_type": "code",
   "execution_count": null,
   "id": "facb81ab-98b2-4142-8640-4e5f7fd3b1fb",
   "metadata": {},
   "outputs": [],
   "source": [
    "from carbonplan_trace.v1.landsat_preprocess import access_credentials\n",
    "import fsspec\n",
    "\n",
    "access_key_id, secret_access_key = access_credentials()\n",
    "fs = fsspec.get_filesystem_class(\"s3\")(\n",
    "    key=access_key_id,\n",
    "    secret=secret_access_key,\n",
    ")"
   ]
  },
  {
   "cell_type": "code",
   "execution_count": null,
   "id": "65bbede4-81af-45cd-b33c-83e8abde30c3",
   "metadata": {},
   "outputs": [],
   "source": [
    "version = \"v1.2\""
   ]
  },
  {
   "cell_type": "code",
   "execution_count": null,
   "id": "57bd7f61-12a1-4c58-8ea6-a42974f1f136",
   "metadata": {},
   "outputs": [],
   "source": [
    "log_bucket = f\"s3://carbonplan-climatetrace/{version}/changepoint_log2/\"\n",
    "completed_subtiles = fs.ls(log_bucket)\n",
    "completed_subtiles = [subtile.split(\"/\")[-1].split(\".txt\")[0] for subtile in completed_subtiles]\n",
    "len(completed_subtiles)"
   ]
  },
  {
   "cell_type": "code",
   "execution_count": null,
   "id": "3ea54c02-e366-4da9-ae62-b6994de82119",
   "metadata": {},
   "outputs": [],
   "source": [
    "ds = xr.open_zarr(\n",
    "    f\"s3://carbonplan-climatetrace/{version}/results/global/3000m/raster_biomass.zarr\"\n",
    ")\n",
    "# average carbonplan data for comparison since all other datasets are ~snapshots\n",
    "ds = ds.mean(dim=\"time\").compute()\n",
    "# rename\n",
    "ds = ds[[\"AGB\"]].rename({\"AGB\": \"CarbonPlan\"})\n",
    "ds = ds.assign_coords({\"lat\": ds.lat.round(4), \"lon\": ds.lon.round(4)})"
   ]
  },
  {
   "cell_type": "code",
   "execution_count": null,
   "id": "26785ecc-972b-49df-bdfb-13e1656bfba8",
   "metadata": {},
   "outputs": [],
   "source": [
    "comps = [\"Harris\", \"Spawn\", \"GEDI\", \"Xu\"]\n",
    "for name in comps + [\"training_biomass\"]:\n",
    "    temp = xr.open_zarr(f\"s3://carbonplan-climatetrace/validation/{name.lower()}_3000m_agbd.zarr\")\n",
    "    temp = temp.assign_coords({\"lat\": ds.lat, \"lon\": ds.lon})\n",
    "    if name == \"training_biomass\":\n",
    "        ds[name] = temp[\"biomass\"]\n",
    "    elif name == \"Xu\":\n",
    "        temp = temp.drop(\"spatial_ref\").sel(year=slice(2014, 2020)).mean(dim=\"year\").compute()\n",
    "    else:\n",
    "        ds[name] = temp[\"agbd\"]"
   ]
  },
  {
   "cell_type": "markdown",
   "id": "9ca82f32-8cfb-4c58-b94f-ee7aa509687a",
   "metadata": {},
   "source": [
    "# comparison to Xu dataset at 10km\n"
   ]
  },
  {
   "cell_type": "code",
   "execution_count": null,
   "id": "24746680-b14c-4bae-96ec-40d17c5d32c3",
   "metadata": {},
   "outputs": [],
   "source": [
    "# xu dataset obtained from https://zenodo.org/record/4161694#.YVToCGZueX2\n",
    "ds10km = xr.open_rasterio(\"/home/jovyan/test10a_cd_ab_pred_corr_2000_2019_v2.tif\")\n",
    "ds10km = (\n",
    "    ds10km.assign_coords({\"band\": np.arange(2000, 2020)})\n",
    "    .rename({\"band\": \"time\", \"y\": \"lat\", \"x\": \"lon\"})\n",
    "    .sel(time=slice(2014, None))\n",
    "    .to_dataset(name=\"Xu\")\n",
    ")\n",
    "if ds10km.lat[0] > ds10km.lat[-1]:\n",
    "    ds10km = ds10km.reindex(lat=ds10km.lat[::-1])\n",
    "ds10km = ds10km.sel(lat=slice(-60, 80))"
   ]
  },
  {
   "cell_type": "code",
   "execution_count": null,
   "id": "68f71410-6ce7-4d23-b4ed-361cb33dc3dd",
   "metadata": {},
   "outputs": [],
   "source": [
    "carbonplan = xr.open_zarr(\n",
    "    f\"s3://carbonplan-climatetrace/{version}/results/global/3000m/raster_biomass.zarr\"\n",
    ")[[\"AGB\"]]\n",
    "\n",
    "coarsening_factor = 4\n",
    "carbonplan10km = coarsen_emissions(\n",
    "    carbonplan, factor=coarsening_factor, mask_var=\"AGB\", method=\"mean\"\n",
    ")\n",
    "carbonplan10km = carbonplan10km.assign_coords(\n",
    "    {\"lat\": ds10km.lat, \"lon\": ds10km.lon, \"time\": np.arange(2014, 2021)}\n",
    ").sel(time=slice(2014, 2020))\n",
    "ds10km[\"CarbonPlan\"] = carbonplan10km[\"AGB\"]"
   ]
  },
  {
   "cell_type": "code",
   "execution_count": null,
   "id": "d6cd2a3f-1870-4389-92bb-01acefef92b2",
   "metadata": {},
   "outputs": [],
   "source": [
    "v0_emission = xr.open_zarr(f\"s3://carbonplan-climatetrace/v0.4/global/3000m/raster_tot.zarr\")\n",
    "v0_emission10km = coarsen_emissions(\n",
    "    v0_emission, factor=coarsening_factor, mask_var=\"emissions\", method=\"mean\"\n",
    ").rename({\"year\": \"time\"})\n",
    "v0_emission10km = v0_emission10km.assign_coords({\"lat\": ds10km.lat, \"lon\": ds10km.lon}).sel(\n",
    "    time=slice(2014, 2019)\n",
    ")"
   ]
  },
  {
   "cell_type": "code",
   "execution_count": null,
   "id": "082bbfc7-ff76-4218-97c7-316779202432",
   "metadata": {},
   "outputs": [],
   "source": [
    "# pick an arbitrary high emission value\n",
    "high_change = (v0_emission10km.emissions > 20000).any(dim=\"time\")\n",
    "high_change.plot()"
   ]
  },
  {
   "cell_type": "code",
   "execution_count": null,
   "id": "fb2f5e24-8544-495e-9a50-a2e46fe01a18",
   "metadata": {},
   "outputs": [],
   "source": [
    "lats, lons = np.where(high_change)\n",
    "len(lats)"
   ]
  },
  {
   "cell_type": "code",
   "execution_count": null,
   "id": "59651634-d021-4f5e-85ca-9bfb99d5360c",
   "metadata": {},
   "outputs": [],
   "source": [
    "vmax = ds10km.max(dim=\"time\")\n",
    "vmin = ds10km.min(dim=\"time\")\n",
    "pct_change = (vmax - vmin) / vmax * 100"
   ]
  },
  {
   "cell_type": "code",
   "execution_count": null,
   "id": "a1054007-015a-41b3-bfeb-b329539f0c86",
   "metadata": {},
   "outputs": [],
   "source": [
    "avg_change = pct_change.where(high_change).mean()\n",
    "print(avg_change.Xu.values)\n",
    "print(avg_change.CarbonPlan.values)"
   ]
  },
  {
   "cell_type": "code",
   "execution_count": null,
   "id": "9c5e0921-2074-4273-945d-d36ebf4d1081",
   "metadata": {
    "tags": []
   },
   "outputs": [],
   "source": [
    "import random\n",
    "\n",
    "# instead of using emission amount to pick pixels, use % of area disturbed to pick\n",
    "\n",
    "for _ in range(50):\n",
    "    ind = random.randint(a=0, b=len(lats))\n",
    "    lat = lats[ind]\n",
    "    lon = lons[ind]\n",
    "    plt.figure(figsize=(10, 4))\n",
    "    plt.subplot(1, 2, 1)\n",
    "    v0_emission10km.emissions.isel(lat=lat, lon=lon).plot(label=\"emission\")\n",
    "    plt.subplot(1, 2, 2)\n",
    "    pixel = ds10km.isel(lat=lat, lon=lon).load()\n",
    "    (pixel.CarbonPlan / pixel.CarbonPlan.max()).plot(label=\"CarbonPlan\")\n",
    "    (pixel.Xu / pixel.Xu.max()).plot(label=\"Xu\")\n",
    "    plt.legend()\n",
    "    plt.show()\n",
    "    plt.close()"
   ]
  },
  {
   "cell_type": "code",
   "execution_count": null,
   "id": "41fd4e2a-3317-4adb-b23d-81950ea2705d",
   "metadata": {},
   "outputs": [],
   "source": [
    "# also load realm\n",
    "realms = xr.open_zarr(\"s3://carbonplan-climatetrace/validation/realm_mask.zarr\")\n",
    "realms = realms.assign_coords({\"lat\": realms.lat.round(4), \"lon\": realms.lon.round(4)})\n",
    "ds[\"realm\"] = realms.realm\n",
    "\n",
    "ar6_mask = xr.open_zarr(f\"s3://carbonplan-climatetrace/validation/ar6_mask.zarr\")\n",
    "ar6_mask = ar6_mask.assign_coords({\"lat\": ar6_mask.lat.round(4), \"lon\": ar6_mask.lon.round(4)})\n",
    "ds[\"ar6_mask\"] = ar6_mask.ar6_mask"
   ]
  },
  {
   "cell_type": "code",
   "execution_count": null,
   "id": "738e594d-845b-41c7-a9b8-a7d7e60cd102",
   "metadata": {},
   "outputs": [],
   "source": [
    "# mask to land only\n",
    "land_mask = xr.open_zarr(\"s3://carbonplan-climatetrace/validation/land_mask.zarr\")\n",
    "land_mask = land_mask.assign_coords({\"lat\": land_mask.lat.round(4), \"lon\": land_mask.lon.round(4)})\n",
    "ds = ds.where(land_mask.land_mask == 0)"
   ]
  },
  {
   "cell_type": "markdown",
   "id": "distant-dallas",
   "metadata": {},
   "source": [
    "# Maps\n"
   ]
  },
  {
   "cell_type": "code",
   "execution_count": null,
   "id": "appointed-fossil",
   "metadata": {},
   "outputs": [],
   "source": [
    "from cartopy.io import shapereader\n",
    "import geopandas as gpd\n",
    "\n",
    "\n",
    "def cartopy_proj_plate_carree():\n",
    "    return ccrs.PlateCarree()\n",
    "\n",
    "\n",
    "def cartopy_borders_global():\n",
    "    states_df = gpd.read_file(\n",
    "        shapereader.natural_earth(\"50m\", \"cultural\", \"admin_1_states_provinces\")\n",
    "    )\n",
    "    states = states_df.set_crs(epsg=4326).to_crs(epsg=32662)[\"geometry\"].values\n",
    "\n",
    "    countries_df = gpd.read_file(shapereader.natural_earth(\"50m\", \"cultural\", \"admin_0_countries\"))\n",
    "    countries = countries_df.set_crs(epsg=4326).to_crs(epsg=32662)[\"geometry\"].values\n",
    "\n",
    "    return states, countries"
   ]
  },
  {
   "cell_type": "code",
   "execution_count": null,
   "id": "intelligent-newcastle",
   "metadata": {},
   "outputs": [],
   "source": [
    "import matplotlib as mpl\n",
    "from mpl_toolkits.axes_grid1 import make_axes_locatable\n",
    "\n",
    "\n",
    "def map_pretty(ax, title=\"\", min_lat=-90, max_lat=90, min_lon=-180, max_lon=180):\n",
    "    state_borders, country_borders = cartopy_borders_global()\n",
    "\n",
    "    ax.add_geometries(\n",
    "        state_borders,\n",
    "        facecolor=\"none\",\n",
    "        edgecolor=\"k\",\n",
    "        crs=cartopy_proj_plate_carree(),\n",
    "        linewidth=0.1,\n",
    "        zorder=0,\n",
    "    )\n",
    "    ax.add_geometries(\n",
    "        country_borders,\n",
    "        facecolor=\"none\",\n",
    "        edgecolor=\"k\",\n",
    "        crs=cartopy_proj_plate_carree(),\n",
    "        linewidth=0.3,\n",
    "        zorder=0,\n",
    "    )\n",
    "    ax.axis(\"off\")\n",
    "    ax.set_extent([min_lon, max_lon, min_lat, max_lat])\n",
    "    ax.text(0.35, 1.05, title, transform=ax.transAxes)\n",
    "\n",
    "\n",
    "def add_colorbar(\n",
    "    fig,\n",
    "    to_plot=None,\n",
    "    x_location=1.08,\n",
    "    y_location=0.76,\n",
    "    height=0.12,\n",
    "    width=0.018,\n",
    "    vmin=None,\n",
    "    vmax=None,\n",
    "    cbar_label=\"\",\n",
    "    cmap=\"viridis\",\n",
    "):\n",
    "\n",
    "    cax = fig.add_axes([x_location, y_location, width, height])\n",
    "    cax.text(\n",
    "        0.5,\n",
    "        -0.08,\n",
    "        vmin,\n",
    "        transform=cax.transAxes,\n",
    "        horizontalalignment=\"center\",\n",
    "        verticalalignment=\"center\",\n",
    "    )\n",
    "    cax.text(\n",
    "        0.5,\n",
    "        1.08,\n",
    "        vmax,\n",
    "        transform=cax.transAxes,\n",
    "        horizontalalignment=\"center\",\n",
    "        verticalalignment=\"center\",\n",
    "    )\n",
    "    cax.text(\n",
    "        1.8,\n",
    "        0.5,\n",
    "        cbar_label,\n",
    "        transform=cax.transAxes,\n",
    "        verticalalignment=\"center\",\n",
    "        multialignment=\"center\",\n",
    "        rotation=-90,\n",
    "    )\n",
    "    if to_plot is not None:\n",
    "        cbar = fig.colorbar(to_plot, cax=cax, orientation=\"vertical\")\n",
    "    else:\n",
    "        norm = mpl.colors.Normalize(vmin=vmin, vmax=vmax)\n",
    "        cbar = fig.colorbar(\n",
    "            mpl.cm.ScalarMappable(norm=norm, cmap=cmap),\n",
    "            cax=cax,\n",
    "            orientation=\"vertical\",\n",
    "        )\n",
    "    cbar.outline.set_visible(False)\n",
    "    cbar.set_ticks([])\n",
    "    return cbar"
   ]
  },
  {
   "cell_type": "code",
   "execution_count": null,
   "id": "double-corporation",
   "metadata": {},
   "outputs": [],
   "source": [
    "def plot_map(data, names, titles, plot_params, add_colorbar=False, figsize=(20, 10)):\n",
    "    plt.figure(figsize=figsize)\n",
    "    for i, name in enumerate(names):\n",
    "        print(name)\n",
    "        if name is None:\n",
    "            continue\n",
    "        da = data[name]\n",
    "        plt.subplot(nrows, ncols, i + 1, projection=cartopy_proj_plate_carree())\n",
    "        ax = plt.gca()\n",
    "\n",
    "        if not isinstance(plot_params[\"cmap\"], list):\n",
    "            cmap = plot_params[\"cmap\"]\n",
    "            vmin, vmax = plot_params[\"var_lims\"][0], plot_params[\"var_lims\"][1]\n",
    "            label = plot_params[\"label\"]\n",
    "        else:\n",
    "            cmap = plot_params[\"cmap\"][i]\n",
    "            vmin, vmax = plot_params[\"var_lims\"][i][0], plot_params[\"var_lims\"][i][1]\n",
    "            label = plot_params[\"label\"][i]\n",
    "\n",
    "        map_plot = da.plot.imshow(\n",
    "            ax=ax,\n",
    "            cmap=cmap,\n",
    "            vmin=vmin,\n",
    "            vmax=vmax,\n",
    "            add_colorbar=add_colorbar,\n",
    "            cbar_kwargs=None if not add_colorbar else {\"label\": label, \"shrink\": 0.5},\n",
    "            transform=ccrs.PlateCarree(),\n",
    "        )\n",
    "\n",
    "        map_pretty(\n",
    "            ax,\n",
    "            title=titles[i],\n",
    "        )\n",
    "\n",
    "    if not add_colorbar:\n",
    "        fig = plt.gcf()\n",
    "        cax = fig.add_axes([1.05, 0.33, 0.03, 0.35])\n",
    "        cbar = fig.colorbar(map_plot, cax=cax, orientation=\"vertical\")\n",
    "        cax.text(\n",
    "            0.5,\n",
    "            -0.12,\n",
    "            plot_params[\"var_lims\"][0],\n",
    "            transform=cax.transAxes,\n",
    "            horizontalalignment=\"center\",\n",
    "        )\n",
    "        cax.text(\n",
    "            0.5,\n",
    "            1.05,\n",
    "            plot_params[\"var_lims\"][1],\n",
    "            transform=cax.transAxes,\n",
    "            horizontalalignment=\"center\",\n",
    "        )\n",
    "        cax.text(\n",
    "            1.8,\n",
    "            0.5,\n",
    "            plot_params[\"label\"],\n",
    "            transform=cax.transAxes,\n",
    "            verticalalignment=\"center\",\n",
    "            multialignment=\"center\",\n",
    "            rotation=-90,\n",
    "        )\n",
    "        cbar.outline.set_visible(False)\n",
    "        cbar.set_ticks([])\n",
    "    plt.tight_layout()"
   ]
  },
  {
   "cell_type": "code",
   "execution_count": null,
   "id": "personalized-survival",
   "metadata": {},
   "outputs": [],
   "source": [
    "nrows = 3\n",
    "ncols = 2\n",
    "names = [None, \"CarbonPlan\"] + comps\n",
    "titles = [\n",
    "    None,\n",
    "    \"CarbonPlan (2014-2020)\",\n",
    "    \"Harris (2000)\",\n",
    "    \"GlobBiomass (2010)\",\n",
    "    \"GEDI (2019-2020)\",\n",
    "    \"Xu (2014-2019)\",\n",
    "]\n",
    "plot_params = {\n",
    "    \"cmap\": cm.Greens,\n",
    "    \"var_lims\": (0, 400),\n",
    "    \"label\": \"Aboveground Woody Biomass Density (Mg/ha)\",\n",
    "}\n",
    "\n",
    "plot_map(data=ds, names=names, titles=titles, plot_params=plot_params)\n",
    "plt.savefig(\"biomass_maps.png\")\n",
    "plt.show()\n",
    "plt.close()"
   ]
  },
  {
   "cell_type": "code",
   "execution_count": null,
   "id": "8cc13a3d-2dd1-4281-91ab-4e8c4de0d740",
   "metadata": {
    "tags": []
   },
   "outputs": [],
   "source": [
    "# training biomass difference plot\n",
    "\n",
    "# diff = xr.Dataset()\n",
    "# diff['training_biomass'] = ds['training_biomass']\n",
    "# diff['Harris'] = ds['training_biomass'] - ds['Harris']\n",
    "\n",
    "# nrows = 2\n",
    "# ncols = 1\n",
    "# names = ['training_biomass', 'Harris']\n",
    "# titles = [\n",
    "#     \"This Study\",\n",
    "#     \"Difference to Harris\",\n",
    "# ]\n",
    "# plot_params = {\n",
    "#     \"cmap\": [cm.Greens, cm.RdBu],\n",
    "#     \"var_lims\": [(0, 500), (-200, 200)],\n",
    "#     \"label\": \"Aboveground Woody Biomass Density (Mg/ha)\",\n",
    "# }\n",
    "\n",
    "# plot_map(data=diff, names=names, titles=titles, plot_params=plot_params, add_colorbar=True)"
   ]
  },
  {
   "cell_type": "code",
   "execution_count": null,
   "id": "partial-fiction",
   "metadata": {},
   "outputs": [],
   "source": [
    "abs_diff = xr.Dataset()\n",
    "for name in comps:\n",
    "    abs_diff[name] = ds[\"CarbonPlan\"] - ds[name]\n",
    "\n",
    "abs_diff[\"CarbonPlan\"] = ds[\"CarbonPlan\"]"
   ]
  },
  {
   "cell_type": "code",
   "execution_count": null,
   "id": "bafdb46c-42b6-474a-a3b5-5062c1afa81a",
   "metadata": {},
   "outputs": [],
   "source": [
    "abs_diff"
   ]
  },
  {
   "cell_type": "code",
   "execution_count": null,
   "id": "5254662c-0895-4bd6-ba9c-59b8df9c6408",
   "metadata": {},
   "outputs": [],
   "source": [
    "nrows = 3\n",
    "ncols = 2\n",
    "names = [None, None] + comps\n",
    "titles = [\n",
    "    None,\n",
    "    None,\n",
    "    \"Difference to Harris\",\n",
    "    \"Difference to Spawn\",\n",
    "    \"Difference to GEDI\",\n",
    "    \"Difference to Xu\",\n",
    "]\n",
    "plot_params = {\n",
    "    \"cmap\": cm.RdBu,\n",
    "    \"var_lims\": (-200, 200),\n",
    "    \"label\": \"Absolute Difference (Mg/ha)\",\n",
    "}\n",
    "\n",
    "plot_map(\n",
    "    data=abs_diff,\n",
    "    names=names,\n",
    "    titles=titles,\n",
    "    plot_params=plot_params,\n",
    "    add_colorbar=True,\n",
    "    figsize=(10, 15),\n",
    ")\n",
    "plt.savefig(\"biomass_diff_maps.png\")\n",
    "plt.show()\n",
    "plt.close()"
   ]
  },
  {
   "cell_type": "code",
   "execution_count": null,
   "id": "520b3279-e16e-4b48-8f16-38acdeb3ab9b",
   "metadata": {},
   "outputs": [],
   "source": [
    "# roll up to 0.5 degree\n",
    "\n",
    "coarsening_factor = 20\n",
    "half_degree_diff = coarsen_emissions(\n",
    "    abs_diff[[\"Harris\", \"GlobBiomass\", \"GEDI\"]],\n",
    "    factor=coarsening_factor,\n",
    "    mask_var=\"Harris\",\n",
    "    method=\"mean\",\n",
    ")\n",
    "half_degree_diff = half_degree_diff.to_array(dim=\"variable\")\n",
    "half_degree_diff = half_degree_diff.to_dataset(name=\"AGB_diff\")\n",
    "half_degree_diff = half_degree_diff.chunk({\"lat\": -1, \"lon\": -1, \"variable\": -1}).rename(\n",
    "    {\"lat\": \"y\", \"lon\": \"x\"}\n",
    ")\n",
    "half_degree_diff = set_zarr_encoding(\n",
    "    half_degree_diff, codec_config={\"id\": \"zlib\", \"level\": 1}, float_dtype=\"float32\", int_dtype=\"i4\"\n",
    ")\n",
    "half_degree_diff.to_zarr(\n",
    "    \"s3://carbonplan-climatetrace/v1.2/map/v2/half_degree_AGB_diff.zarr\",\n",
    "    mode=\"w\",\n",
    "    consolidated=True,\n",
    ")\n",
    "half_degree_diff"
   ]
  },
  {
   "cell_type": "code",
   "execution_count": null,
   "id": "b5b2aa02-ac86-47ab-b733-dac6168e8b5b",
   "metadata": {},
   "outputs": [],
   "source": [
    "pct_diff = xr.Dataset()\n",
    "for name in comps:\n",
    "    pct_diff[name] = 100.0 * (ds[\"CarbonPlan\"] - ds[name]) / ds[name]"
   ]
  },
  {
   "cell_type": "code",
   "execution_count": null,
   "id": "88b0927f-6941-4bd8-9db6-6cf88da75dca",
   "metadata": {},
   "outputs": [],
   "source": [
    "nrows = 3\n",
    "ncols = 2\n",
    "names = [None, None] + comps\n",
    "titles = [\n",
    "    None,\n",
    "    None,\n",
    "    \"Difference to Harris\",\n",
    "    \"Difference to Spawn\",\n",
    "    \"Difference to GEDI\",\n",
    "    \"Difference to Xu\",\n",
    "]\n",
    "plot_params = {\n",
    "    \"cmap\": cm.RdBu,\n",
    "    \"var_lims\": (-200, 200),\n",
    "    \"label\": \"Percent Difference in Biomass Density (%)\",\n",
    "}\n",
    "\n",
    "plot_map(data=pct_diff, names=names, titles=titles, plot_params=plot_params)"
   ]
  },
  {
   "cell_type": "markdown",
   "id": "da64fab8-e234-43f8-92c9-06ea9d277c35",
   "metadata": {},
   "source": [
    "# Scatter plots\n"
   ]
  },
  {
   "cell_type": "code",
   "execution_count": null,
   "id": "0fca6a81-46e6-4200-9eb9-a66ab3364302",
   "metadata": {},
   "outputs": [],
   "source": [
    "df = ds.to_dataframe()\n",
    "df[\"realm\"] = df.realm.replace([\"nan\", \"ice\"], np.nan)"
   ]
  },
  {
   "cell_type": "code",
   "execution_count": null,
   "id": "fad629c4-8cb0-4886-9499-45ba5ac1ada2",
   "metadata": {},
   "outputs": [],
   "source": [
    "def subplot_hist(\n",
    "    ax,\n",
    "    data,\n",
    "    x_col_name,\n",
    "    y_col_name,\n",
    "    x_name,\n",
    "    y_name,\n",
    "    plot_params,\n",
    "    hue_name=None,\n",
    "    plot_metrics=True\n",
    "    #     c=\"b\",\n",
    "    #     s=0.002,\n",
    "    #     alpha=0.1,\n",
    "):\n",
    "    #     tot = np.hstack((x_col, y_col))\n",
    "    #     xmax = np.percentile(tot, 99.5)\n",
    "    xmin = plot_params[\"xmin\"]\n",
    "    xmax = plot_params[\"xmax\"]\n",
    "    ymin, ymax = None, None\n",
    "    try:\n",
    "        ymin = plot_params[\"ymin\"]\n",
    "        ymax = plot_params[\"ymax\"]\n",
    "    except:\n",
    "        pass\n",
    "    unit = plot_params[\"unit\"]\n",
    "\n",
    "    ax.plot([xmin, xmax], [xmin, xmax], \"0.5\")\n",
    "    x_col = data[x_col_name].values\n",
    "    y_col = data[y_col_name].values\n",
    "    bias = np.mean(y_col - x_col)\n",
    "    r2 = r2_score(x_col, y_col)\n",
    "    mae = mean_absolute_error(x_col, y_col)\n",
    "\n",
    "    #     ind = (xcol < xmax) & (ycol < xmax)\n",
    "    sub = data.loc[(data[x_col_name] < xmax) & (data[y_col_name] < xmax)]\n",
    "    sns.histplot(\n",
    "        data=sub, ax=ax, x=x_col_name, y=y_col_name, hue=hue_name, bins=100, pthresh=0.01, pmax=0.3\n",
    "    )\n",
    "    ax.text(plot_params[\"text_x\"], xmax * 0.9, f\"bias = {round(bias, 2)} {unit}\")\n",
    "    ax.text(plot_params[\"text_x\"], xmax * 0.81, f\"MAE = {round(mae, 2)} {unit}\")\n",
    "    ax.text(plot_params[\"text_x\"], xmax * 0.72, f\"R$^2$ = {round(r2, 2)}\")\n",
    "    if unit != \"\":\n",
    "        unit_str = f\"({unit})\"\n",
    "    else:\n",
    "        unit_str = \"\"\n",
    "    ax.set_xlabel(f\"Biomass from {x_name} {unit_str}\")\n",
    "    ax.set_ylabel(f\"Biomass from {y_name} {unit_str}\")\n",
    "    ax.set_xlim(xmin, xmax)\n",
    "    if ymin is not None:\n",
    "        ax.set_ylim(ymin, ymax)\n",
    "    else:\n",
    "        ax.set_ylim(xmin, xmax)\n",
    "    if xmax > 100:\n",
    "        step = 100\n",
    "    else:\n",
    "        step = 1\n",
    "\n",
    "    #     ticks = np.arange(0, xmax, step)\n",
    "    #     ax.set_xticks(ticks)\n",
    "    #     ax.set_yticks(ticks)\n",
    "    return {\"r2\": r2, \"bias\": bias, \"mae\": mae}"
   ]
  },
  {
   "cell_type": "code",
   "execution_count": null,
   "id": "973a28f2-5e69-4a33-a2e5-fdb7d97c616e",
   "metadata": {},
   "outputs": [],
   "source": [
    "plot_params = {\n",
    "    \"xmin\": -10,\n",
    "    \"xmax\": 410,\n",
    "    \"unit\": \"Mg/ha\",\n",
    "    \"text_x\": 10,\n",
    "    #     \"text_y1\": 450,\n",
    "    #     \"text_y2\": 420,\n",
    "    #     \"text_y3\": 390,\n",
    "    #     \"ticks\": np.arange(0, 510, 100),\n",
    "}"
   ]
  },
  {
   "cell_type": "code",
   "execution_count": null,
   "id": "6c4dca01-0324-4ee2-8b5b-b2df76d27a73",
   "metadata": {},
   "outputs": [],
   "source": [
    "nonull = df.dropna()"
   ]
  },
  {
   "cell_type": "code",
   "execution_count": null,
   "id": "2b5ae057-19a2-4f4b-ad01-f4126917a885",
   "metadata": {},
   "outputs": [],
   "source": [
    "y = nonull.loc[nonull.Harris < 1000].CarbonPlan.values\n",
    "x = nonull.loc[nonull.Harris < 1000].Harris.values"
   ]
  },
  {
   "cell_type": "code",
   "execution_count": null,
   "id": "b5460fd3-3caf-430d-b92c-963c9d2fc0ed",
   "metadata": {},
   "outputs": [],
   "source": [
    "r2_score(x, y)"
   ]
  },
  {
   "cell_type": "code",
   "execution_count": null,
   "id": "3f854ed7-d9f7-4da3-8b1b-163b808bc200",
   "metadata": {},
   "outputs": [],
   "source": [
    "fig, axarr = plt.subplots(nrows=1, ncols=4, figsize=(15, 5))\n",
    "out_stats = {}\n",
    "for i, name in enumerate(comps):\n",
    "    sub = df[[\"CarbonPlan\", name]].dropna(how=\"any\")\n",
    "    out_stats[name] = subplot_hist(\n",
    "        ax=axarr[i],\n",
    "        data=sub,\n",
    "        x_col_name=name,\n",
    "        y_col_name=\"CarbonPlan\",\n",
    "        x_name=name,\n",
    "        y_name=\"CarbonPlan\",\n",
    "        plot_params=plot_params,\n",
    "    )\n",
    "plt.tight_layout()\n",
    "plt.savefig(\"biomass_comparison_scatter.png\")\n",
    "plt.show()\n",
    "plt.close()"
   ]
  },
  {
   "cell_type": "code",
   "execution_count": null,
   "id": "5b43e836-3de0-4990-9a14-2add3c1fb34c",
   "metadata": {},
   "outputs": [],
   "source": [
    "import json\n",
    "\n",
    "json.dumps(out_stats)"
   ]
  },
  {
   "cell_type": "code",
   "execution_count": null,
   "id": "a287f880-5a25-4f26-8f7a-c77cfc0395aa",
   "metadata": {},
   "outputs": [],
   "source": [
    "with fs.open(\"s3://carbonplan-climatetrace/v1.2/map/v2/diff_metrics.json\", \"w\") as f:\n",
    "    json.dump(out_stats, f)"
   ]
  },
  {
   "cell_type": "code",
   "execution_count": null,
   "id": "a447b001-a479-45c4-87b0-cdd71f6ccff6",
   "metadata": {},
   "outputs": [],
   "source": [
    "fig, axarr = plt.subplots(nrows=1, ncols=3, figsize=(15, 5))\n",
    "for i, name in enumerate(comps):\n",
    "    sub = df[[\"CarbonPlan\", name, \"realm\"]].dropna(how=\"any\")\n",
    "    subplot_hist(\n",
    "        ax=axarr[i],\n",
    "        data=sub,\n",
    "        x_col_name=name,\n",
    "        y_col_name=\"CarbonPlan\",\n",
    "        x_name=name,\n",
    "        y_name=\"CarbonPlan\",\n",
    "        plot_params=plot_params,\n",
    "        hue_name=\"realm\",\n",
    "    )\n",
    "plt.tight_layout()\n",
    "plt.show()\n",
    "plt.close()"
   ]
  },
  {
   "cell_type": "code",
   "execution_count": null,
   "id": "42c02ea8-44f7-4b74-98da-766c1681f784",
   "metadata": {},
   "outputs": [],
   "source": [
    "realms = df.realm.dropna().unique()"
   ]
  },
  {
   "cell_type": "code",
   "execution_count": null,
   "id": "455639ce-0f05-4f8c-a695-da737aeb2ec7",
   "metadata": {},
   "outputs": [],
   "source": [
    "fig, axarr = plt.subplots(nrows=6, ncols=4, figsize=(15, 30))\n",
    "for i, realm in enumerate(realms):\n",
    "    for j, name in enumerate(comps):\n",
    "        sub = df.loc[df.realm == realm][[\"CarbonPlan\", name]].dropna(how=\"any\")\n",
    "        ycol = sub[\"CarbonPlan\"].values\n",
    "        xcol = sub[name].values\n",
    "        subplot_hist(\n",
    "            ax=axarr[i, j],\n",
    "            x_col=xcol,\n",
    "            y_col=ycol,\n",
    "            x_name=name,\n",
    "            y_name=\"CarbonPlan\",\n",
    "            plot_params=plot_params,\n",
    "        )\n",
    "        if j == 1:\n",
    "            axarr[i, j].set_title(realm)\n",
    "plt.tight_layout()\n",
    "plt.show()\n",
    "plt.close()"
   ]
  },
  {
   "cell_type": "code",
   "execution_count": null,
   "id": "a074af93-02e7-4bb3-995d-ce28fce4141c",
   "metadata": {},
   "outputs": [],
   "source": [
    "def subplot_kde(\n",
    "    ax, data, x_col_name, y_col_name, hue_name, x_name, y_name, plot_params, sample_size=int(1e6)\n",
    "):\n",
    "    xmin = plot_params[\"xmin\"]\n",
    "    xmax = plot_params[\"xmax\"]\n",
    "    unit = plot_params[\"unit\"]\n",
    "\n",
    "    ax.plot([xmin, xmax], [xmin, xmax], \"0.5\")\n",
    "    x_col = data[x_col_name].values\n",
    "    y_col = data[y_col_name].values\n",
    "    bias = np.mean(ycol - xcol)\n",
    "    r2 = r2_score(x_col, y_col)\n",
    "    mae = mean_absolute_error(x_col, y_col)\n",
    "\n",
    "    sub = data.loc[(data[x_col_name] < xmax) & (data[y_col_name] < xmax)]\n",
    "    if len(sub) > sample_size:\n",
    "        sub = sub.sample(sample_size)\n",
    "    sns.kdeplot(data=sub, x=x_col_name, y=y_col_name, hue=\"realm\", levels=7, linewidth=0.5, ax=ax)\n",
    "    ax.text(plot_params[\"text_x\"], xmax * 0.9, f\"bias = {round(bias, 2)} {unit}\")\n",
    "    ax.text(plot_params[\"text_x\"], xmax * 0.81, f\"MAE = {round(mae, 2)} {unit}\")\n",
    "    ax.text(plot_params[\"text_x\"], xmax * 0.72, f\"R$^2$ = {round(r2, 2)}\")\n",
    "    if unit != \"\":\n",
    "        unit_str = f\"({unit})\"\n",
    "    else:\n",
    "        unit_str = \"\"\n",
    "    ax.set_xlabel(f\"Biomass from {x_name} {unit_str}\")\n",
    "    ax.set_ylabel(f\"Biomass from {y_name} {unit_str}\")\n",
    "    ax.set_xlim(xmin, xmax)\n",
    "    ax.set_ylim(xmin, xmax)\n",
    "    if xmax > 100:\n",
    "        step = 100\n",
    "    else:\n",
    "        step = 1\n",
    "\n",
    "\n",
    "#     ticks = np.arange(0, xmax, step)\n",
    "#     ax.set_xticks(ticks)\n",
    "#     ax.set_yticks(ticks)"
   ]
  },
  {
   "cell_type": "code",
   "execution_count": null,
   "id": "48ce447c-052a-4dc1-b0d0-f02d5a35ff93",
   "metadata": {},
   "outputs": [],
   "source": [
    "fig, axarr = plt.subplots(nrows=1, ncols=4, figsize=(15, 5))\n",
    "for i, name in enumerate(comps):\n",
    "    sub = df[[\"CarbonPlan\", name, \"realm\"]].dropna(how=\"any\")\n",
    "\n",
    "    subplot_kde(\n",
    "        ax=axarr[i],\n",
    "        data=sub,\n",
    "        x_col_name=name,\n",
    "        y_col_name=\"CarbonPlan\",\n",
    "        hue_name=\"realm\",\n",
    "        x_name=name,\n",
    "        y_name=\"CarbonPlan\",\n",
    "        plot_params=plot_params,\n",
    "    )\n",
    "plt.tight_layout()\n",
    "plt.show()\n",
    "plt.close()"
   ]
  },
  {
   "cell_type": "markdown",
   "id": "deaef51c-83b4-4b2f-9dde-5c744c274436",
   "metadata": {},
   "source": [
    "### Training data comparison\n"
   ]
  },
  {
   "cell_type": "code",
   "execution_count": null,
   "id": "e8385e36-ed02-4c71-98d9-476d1f9aa6e3",
   "metadata": {},
   "outputs": [],
   "source": [
    "plt.figure(figsize=(6, 6))\n",
    "sub = df[[\"training_biomass\", \"Harris\", \"realm\"]].dropna(how=\"any\")\n",
    "ax = plt.gca()\n",
    "subplot_kde(\n",
    "    ax=ax,\n",
    "    data=sub,\n",
    "    x_col_name=\"Harris\",\n",
    "    y_col_name=\"training_biomass\",\n",
    "    hue_name=\"realm\",\n",
    "    x_name=name,\n",
    "    y_name=\"this study\",\n",
    "    plot_params=plot_params,\n",
    "    sample_size=int(1e5),\n",
    ")\n",
    "ax.legend_.set_bbox_to_anchor((1.2, 0.6))\n",
    "plt.tight_layout()\n",
    "plt.show()\n",
    "plt.close()"
   ]
  },
  {
   "cell_type": "code",
   "execution_count": null,
   "id": "b517a087-6b92-4305-9b1f-d25034aafcad",
   "metadata": {},
   "outputs": [],
   "source": [
    "plt.figure(figsize=(6, 6))\n",
    "sub = df[[\"training_biomass\", \"Harris\", \"realm\"]].dropna(how=\"any\")\n",
    "ax = plt.gca()\n",
    "subplot_hist(\n",
    "    ax=ax,\n",
    "    data=sub,\n",
    "    x_col_name=\"Harris\",\n",
    "    y_col_name=\"training_biomass\",\n",
    "    x_name=\"Harris\",\n",
    "    y_name=\"This study\",\n",
    "    plot_params=plot_params,\n",
    "    hue_name=\"realm\",\n",
    ")\n",
    "plt.tight_layout()\n",
    "plt.show()\n",
    "plt.close()"
   ]
  },
  {
   "cell_type": "code",
   "execution_count": null,
   "id": "d97fbebe-f672-4aa6-88a7-655d77960a1a",
   "metadata": {},
   "outputs": [],
   "source": [
    "import regionmask\n",
    "\n",
    "sub = df[[\"training_biomass\", \"Harris\", \"ar6_mask\"]].dropna(how=\"any\")\n",
    "ar6_names = regionmask.defined_regions.ar6.all\n",
    "ar6_nums = sub.ar6_mask.dropna().astype(int).unique()\n",
    "ar6_mapping = {i: ar6_names[i].name for i in ar6_nums}\n",
    "sub[\"ar6_region\"] = sub.ar6_mask.apply(lambda x: ar6_mapping[x])"
   ]
  },
  {
   "cell_type": "code",
   "execution_count": null,
   "id": "eb979044-b665-4352-beb3-6c2bec89e0cd",
   "metadata": {},
   "outputs": [],
   "source": [
    "len(ar6_nums)"
   ]
  },
  {
   "cell_type": "code",
   "execution_count": null,
   "id": "477c1b12-dc8e-4916-89a8-410010328051",
   "metadata": {},
   "outputs": [],
   "source": [
    "xmin = plot_params[\"xmin\"]\n",
    "xmax = plot_params[\"xmax\"]\n",
    "unit = plot_params[\"unit\"]\n",
    "\n",
    "\n",
    "plt.figure(figsize=(16, 17))\n",
    "for i, num in enumerate(sorted(ar6_mapping)):\n",
    "    plt.subplot(8, 7, i + 1)\n",
    "    to_plot = sub.loc[sub.ar6_mask == num]\n",
    "    plt.title(ar6_mapping[num])\n",
    "    ax = plt.gca()\n",
    "    sns.histplot(\n",
    "        data=to_plot, ax=ax, x=\"Harris\", y=\"training_biomass\", bins=100, pthresh=0.05, pmax=0.7\n",
    "    )\n",
    "    n = len(to_plot)\n",
    "    ax.text(plot_params[\"text_x\"], xmax * 0.85, f\"n = {round(n, 2)}\")\n",
    "    ax.set(xlabel=None, ylabel=None)\n",
    "    plt.plot([xmin, xmax], [xmin, xmax], \"0.5\")\n",
    "    plt.xlim(xmin, xmax)\n",
    "    plt.ylim(xmin, xmax)\n",
    "\n",
    "plt.tight_layout()\n",
    "plt.savefig(\"ar6_region_comparison_training.png\")\n",
    "plt.show()\n",
    "plt.close()"
   ]
  },
  {
   "cell_type": "code",
   "execution_count": null,
   "id": "7ed4b069-6352-4503-b9cd-80ecc2c4da32",
   "metadata": {},
   "outputs": [],
   "source": [
    "sub[\"diff\"] = sub[\"training_biomass\"] - sub[\"Harris\"]\n",
    "\n",
    "plt.figure(figsize=(12, 5))\n",
    "sns.boxplot(ax=plt.gca(), x=\"ar6_region\", y=\"diff\", data=sub, whis=1.5, width=0.6)\n",
    "plt.ylim(-200, 200)\n",
    "plt.plot([-0.5, 51], [0, 0], \"0.5\")\n",
    "plt.xlim(-0.5, 51)\n",
    "plt.xticks(rotation=90)\n",
    "plt.xlabel(\"AR6 Regions\")\n",
    "plt.ylabel(\"Biomass Density Difference\")\n",
    "plt.savefig(\"ar6_region_comparison_boxplot_training.png\")\n",
    "plt.show()\n",
    "plt.close()"
   ]
  },
  {
   "cell_type": "markdown",
   "id": "f5970f2a-d790-422d-98ff-22c90bc20eed",
   "metadata": {},
   "source": [
    "# country level comparisons\n"
   ]
  },
  {
   "cell_type": "code",
   "execution_count": null,
   "id": "d0d55629-d406-4275-8440-dc02d6bfcc37",
   "metadata": {},
   "outputs": [],
   "source": [
    "df = pd.read_csv(f\"s3://carbonplan-climatetrace/{version}/country_rollups_AGB.csv\")\n",
    "df = df.groupby(\"iso3_country\").agbd.mean().reset_index()\n",
    "df = df.rename(columns={\"agbd\": \"CarbonPlan\"})"
   ]
  },
  {
   "cell_type": "code",
   "execution_count": null,
   "id": "31f4afed-62d6-4cdc-abc1-dcaaae319c60",
   "metadata": {},
   "outputs": [],
   "source": [
    "comps = [\"Harris\", \"Spawn\", \"GEDI\", \"Xu\"]\n",
    "for name in comps:\n",
    "    temp = pd.read_csv(\n",
    "        f\"s3://carbonplan-climatetrace/validation/{name.lower()}_country_rollups_agbd.csv\"\n",
    "    )\n",
    "    temp = temp.rename(columns={\"agbd\": name})\n",
    "    df = df.merge(temp, on=[\"iso3_country\"])"
   ]
  },
  {
   "cell_type": "code",
   "execution_count": null,
   "id": "3aa56f89-9571-4726-bb75-7e8d1af305ae",
   "metadata": {},
   "outputs": [],
   "source": [
    "df.head()"
   ]
  },
  {
   "cell_type": "code",
   "execution_count": null,
   "id": "4d7862b1-e96f-4287-8917-f107278ce598",
   "metadata": {},
   "outputs": [],
   "source": [
    "plt.figure(figsize=(5, 5))\n",
    "for name in comps:\n",
    "    plt.scatter(df[name].values, df.CarbonPlan.values, label=name, s=11)\n",
    "\n",
    "xmin = -10\n",
    "xmax = 350\n",
    "plt.plot([xmin, xmax], [xmin, xmax], \"0.5\")\n",
    "plt.legend()\n",
    "\n",
    "plt.xlim(xmin, xmax)\n",
    "plt.ylim(xmin, xmax)\n",
    "plt.xlabel(\"Average AGBD from other studies (Mg/ha)\")\n",
    "plt.ylabel(\"Average AGBD from CarbonPlan (Mg/ha)\")\n",
    "plt.show()\n",
    "plt.close()"
   ]
  },
  {
   "cell_type": "code",
   "execution_count": null,
   "id": "8b14b522-ca19-4a8e-a265-1cd722d43987",
   "metadata": {},
   "outputs": [],
   "source": [
    "df.loc[(df.CarbonPlan < 10) & (df.Harris > 50)]"
   ]
  },
  {
   "cell_type": "code",
   "execution_count": null,
   "id": "9450a57b-ae88-4953-aa34-d9c91ea08e03",
   "metadata": {},
   "outputs": [],
   "source": [
    "df.loc[(df.CarbonPlan < 10) & (df.Spawn > 50)]"
   ]
  },
  {
   "cell_type": "markdown",
   "id": "c2877e0e-01b0-4d92-a8c1-716c3efece71",
   "metadata": {},
   "source": [
    "# Compare with Xu 2021 to assess interannual biomass changes and emissions\n"
   ]
  },
  {
   "cell_type": "code",
   "execution_count": null,
   "id": "eb109215-ba22-4a25-981b-5f38409e9277",
   "metadata": {},
   "outputs": [],
   "source": [
    "ds_time_varying = xr.Dataset()"
   ]
  },
  {
   "cell_type": "code",
   "execution_count": null,
   "id": "7fd3ff67-b8f8-4d71-8e8e-ef894035c137",
   "metadata": {},
   "outputs": [],
   "source": [
    "temp = xr.open_zarr(\n",
    "    f\"s3://carbonplan-climatetrace/{version}/results/global/3000m/raster_biomass.zarr\"\n",
    ")"
   ]
  },
  {
   "cell_type": "code",
   "execution_count": null,
   "id": "2d99a298-39aa-40b9-ad6c-04f520098de8",
   "metadata": {},
   "outputs": [],
   "source": [
    "ds_time_varying[\"CarbonPlan\"] = temp.rename({\"time\": \"year\"}).assign_coords(\n",
    "    {\"year\": np.arange(2014, 2021)}\n",
    ")[\"AGB\"]"
   ]
  },
  {
   "cell_type": "code",
   "execution_count": null,
   "id": "28090a85-4fcf-4233-97be-30345b409709",
   "metadata": {},
   "outputs": [],
   "source": [
    "temp = xr.open_zarr(\"s3://carbonplan-climatetrace/validation/xu_3000m_agbd.zarr/\")\n",
    "ds_time_varying[\"Xu\"] = temp[\"agbd\"]"
   ]
  },
  {
   "cell_type": "code",
   "execution_count": null,
   "id": "c35fc441-6695-47ee-aa32-4f42f11b67fb",
   "metadata": {},
   "outputs": [],
   "source": [
    "cm = plt.get_cmap(\"RdBu\")\n",
    "cm.set_bad(\"lightgray\")"
   ]
  },
  {
   "cell_type": "code",
   "execution_count": null,
   "id": "decd3d36-8c75-4ceb-889b-3d1770e6fb55",
   "metadata": {},
   "outputs": [],
   "source": [
    "delta_biomass_absolute = ds_time_varying - ds_time_varying.shift(year=1)"
   ]
  },
  {
   "cell_type": "code",
   "execution_count": null,
   "id": "41ad5d1b-e64d-4d1c-8a2d-22094739e816",
   "metadata": {},
   "outputs": [],
   "source": [
    "delta_biomass_percentage = delta_biomass_absolute / ds_time_varying.shift(year=1) * 100"
   ]
  },
  {
   "cell_type": "code",
   "execution_count": null,
   "id": "f428dafc-f910-4638-bca1-6a55310fb1f8",
   "metadata": {
    "tags": []
   },
   "outputs": [],
   "source": [
    "delta_ds = (\n",
    "    xr.concat([delta_biomass_absolute, delta_biomass_percentage], dim=\"metric\")\n",
    "    .assign_coords({\"metric\": [\"Mg/ha\", \"%\"]})\n",
    "    .sel(year=slice(2015, 2020))\n",
    "    .compute()\n",
    ")"
   ]
  },
  {
   "cell_type": "code",
   "execution_count": null,
   "id": "a67f8b89-8918-42e9-813e-289bdefeb51d",
   "metadata": {},
   "outputs": [],
   "source": [
    "# mask to land only\n",
    "delta_ds = delta_ds.where(land_mask.land_mask == 0).compute()\n",
    "delta_ds[\"realm\"] = realms.realm"
   ]
  },
  {
   "cell_type": "code",
   "execution_count": null,
   "id": "76d839b1-26d9-4f82-94e1-e07fc7a3d53a",
   "metadata": {},
   "outputs": [],
   "source": [
    "delta_df = delta_ds.sel(metric=\"Mg/ha\").to_dataframe()"
   ]
  },
  {
   "cell_type": "code",
   "execution_count": null,
   "id": "b2b21ff2-6e7d-4a66-862b-fc0bc0ec1266",
   "metadata": {},
   "outputs": [],
   "source": [
    "delta_df[\"realm\"] = delta_df.realm.replace([\"nan\", \"ice\"], np.nan)"
   ]
  },
  {
   "cell_type": "code",
   "execution_count": null,
   "id": "508c086f-1b32-43ac-972d-714baf3f530a",
   "metadata": {},
   "outputs": [],
   "source": [
    "delta_df = delta_df[[\"CarbonPlan\", \"Xu\", \"realm\"]].dropna(how=\"any\")"
   ]
  },
  {
   "cell_type": "markdown",
   "id": "c778c2cf-f623-497f-95c1-138a6128915c",
   "metadata": {},
   "source": [
    "### for small changes, xu's change is much higher\n"
   ]
  },
  {
   "cell_type": "code",
   "execution_count": null,
   "id": "21fbe9e3-1b68-40b2-bdb7-db72aa4944c7",
   "metadata": {},
   "outputs": [],
   "source": [
    "plot_params = {\"xmin\": -5, \"xmax\": 5, \"unit\": \"Mg/ha\", \"text_x\": 5, \"ymin\": -1, \"ymax\": 1}"
   ]
  },
  {
   "cell_type": "code",
   "execution_count": null,
   "id": "04cf0330-4fcd-44ca-8d3a-ee8bcb9c17c2",
   "metadata": {},
   "outputs": [],
   "source": [
    "fig, axarr = plt.subplots(nrows=1, ncols=1, figsize=(5, 5))\n",
    "for i, name in enumerate([\"Xu\"]):\n",
    "    sub = delta_df[[\"CarbonPlan\", name]].loc[\n",
    "        delta_df[\"CarbonPlan\"].between(-1, 1) & delta_df[\"Xu\"].between(-5, 5)\n",
    "    ]\n",
    "    ycol = sub[\"CarbonPlan\"].values\n",
    "    xcol = sub[name].values\n",
    "    subplot_hist(\n",
    "        ax=axarr,\n",
    "        x_col=xcol,\n",
    "        y_col=ycol,\n",
    "        x_name=name,\n",
    "        y_name=\"CarbonPlan\",\n",
    "        plot_params=plot_params,\n",
    "        plot_metrics=False,\n",
    "    )\n",
    "plt.tight_layout()\n",
    "plt.show()\n",
    "plt.close()"
   ]
  },
  {
   "cell_type": "code",
   "execution_count": null,
   "id": "bd5e195a-286e-4902-98a1-dabbe980d265",
   "metadata": {},
   "outputs": [],
   "source": [
    "# our stdev is much lower than Xu's"
   ]
  },
  {
   "cell_type": "code",
   "execution_count": null,
   "id": "1af553e6-b15e-4880-8fa0-2771d2230a99",
   "metadata": {},
   "outputs": [],
   "source": [
    "ds_time_varying[\"CarbonPlan\"].std(dim=\"year\").plot(robust=True)"
   ]
  },
  {
   "cell_type": "code",
   "execution_count": null,
   "id": "407bebf7-6f57-4308-8d1c-945db534d688",
   "metadata": {},
   "outputs": [],
   "source": [
    "ds_time_varying[\"Xu\"].std(dim=\"year\").plot(robust=True)"
   ]
  },
  {
   "cell_type": "markdown",
   "id": "808d8c91-a394-4fa8-9c61-35223d789c95",
   "metadata": {},
   "source": [
    "# assess emissions from Xu 2021 and compare with v0 and v1\n"
   ]
  },
  {
   "cell_type": "code",
   "execution_count": null,
   "id": "7d20b19f-a72d-42aa-bd20-24cb7484044d",
   "metadata": {},
   "outputs": [],
   "source": [
    "ds_10km = xr.open_zarr(\"s3://carbonplan-climatetrace/v1.2/results/global/10km/raster_biomass.zarr\")\n",
    "ds_10km = ds_10km.rename({\"AGB\": \"CarbonPlan\"}).rename({\"x\": \"lon\", \"y\": \"lat\"}).drop(\"spatial_ref\")\n",
    "xu = xr.open_zarr(\"s3://carbonplan-climatetrace/validation/xu_10km_agbd.zarr/\")[\"agbd\"]\n",
    "ds_10km[\"Xu\"] = xu.assign_coords({\"lat\": ds_10km.lat.values, \"lon\": ds_10km.lon.values})\n",
    "ds_10km = ds_10km.chunk({\"year\": -1, \"lat\": 400, \"lon\": 400}).load()"
   ]
  },
  {
   "cell_type": "code",
   "execution_count": null,
   "id": "96a4d62f-7b32-4a7f-89ef-2debb9d94362",
   "metadata": {},
   "outputs": [],
   "source": [
    "v0_emissions = xr.open_zarr(\"s3://carbonplan-climatetrace/v0.4/global/3000m/raster_tot.zarr/\")"
   ]
  },
  {
   "cell_type": "code",
   "execution_count": null,
   "id": "19d17ec8-1c0c-4b14-af67-5ed033b89a10",
   "metadata": {},
   "outputs": [],
   "source": [
    "v0_emissions = (\n",
    "    v0_emissions.sel(year=slice(2014, 2020))\n",
    "    .rio.write_crs(\"EPSG:4326\")\n",
    "    .rename({\"lat\": \"y\", \"lon\": \"x\"})\n",
    "    .transpose(\"year\", \"y\", \"x\")\n",
    ")\n",
    "\n",
    "v0_10km = v0_emissions.rio.reproject_match(\n",
    "    ds_10km.sel(year=2015).rename({\"lat\": \"y\", \"lon\": \"x\"}),\n",
    "    resampling=rasterio.enums.Resampling.sum,\n",
    ")"
   ]
  },
  {
   "cell_type": "code",
   "execution_count": null,
   "id": "62822dfd-5ed2-4173-b02e-4964b39fa390",
   "metadata": {},
   "outputs": [],
   "source": [
    "xu_emissions = xr.Dataset()\n",
    "mechanisms = [\"deforestation\", \"degradation\", \"fireforest\", \"firenonforest\"]\n",
    "for variable in mechanisms:\n",
    "    xu_emissions[variable] = xr.open_rasterio(\n",
    "        f\"s3://carbonplan-climatetrace/validation/xu2021/{variable}_emission_0119_v2_inTg.tif\"\n",
    "    )"
   ]
  },
  {
   "cell_type": "code",
   "execution_count": null,
   "id": "04c3fab2-31e6-46a3-b87b-5a1b32336d47",
   "metadata": {},
   "outputs": [],
   "source": [
    "xu_emissions = xu_emissions.rename({\"band\": \"year\", \"x\": \"lon\", \"y\": \"lat\"}).assign_coords(\n",
    "    {\"year\": np.arange(2001, 2020)}\n",
    ")"
   ]
  },
  {
   "cell_type": "code",
   "execution_count": null,
   "id": "765c1427-cb6c-4b05-a3ad-4bb9357a9028",
   "metadata": {},
   "outputs": [],
   "source": [
    "xu_emissions *= 3.67 * 1e12 / 1e6  # xu reports emissions in Tg C so we convert to tCO2"
   ]
  },
  {
   "cell_type": "code",
   "execution_count": null,
   "id": "46c1baf1-b5db-4288-bf42-3db2d9e3a3a6",
   "metadata": {},
   "outputs": [],
   "source": [
    "v1_emissions = xr.open_zarr(\n",
    "    \"s3://carbonplan-climatetrace/v1.2/results/global/3000m/raster_split.zarr\"\n",
    ")"
   ]
  },
  {
   "cell_type": "code",
   "execution_count": null,
   "id": "2932981d-a316-48a1-a282-f84afee31388",
   "metadata": {},
   "outputs": [],
   "source": [
    "v1_emissions = (\n",
    "    v1_emissions.sel(year=slice(2014, 2020))\n",
    "    .rio.write_crs(\"EPSG:4326\")\n",
    "    .rename({\"lat\": \"y\", \"lon\": \"x\"})\n",
    "    .transpose(\"year\", \"y\", \"x\")\n",
    ")\n",
    "v1_10km = v1_emissions.rio.reproject_match(\n",
    "    ds_10km.sel(year=2015).rename({\"lat\": \"y\", \"lon\": \"x\"}),\n",
    "    resampling=rasterio.enums.Resampling.sum,\n",
    ")"
   ]
  },
  {
   "cell_type": "markdown",
   "id": "452d929d-c272-4f20-9374-a24d5dc76c41",
   "metadata": {},
   "source": [
    "### for a regional subset look at how the emissions differ among v0, v1, and Xu\n"
   ]
  },
  {
   "cell_type": "code",
   "execution_count": null,
   "id": "56a166b3-aabe-49b5-af31-79a1cd77b11e",
   "metadata": {},
   "outputs": [],
   "source": [
    "subset = {\"lat\": slice(39.7, 38.9), \"lon\": slice(-123.3, -122.6)}  # mendocino\n",
    "# subset = {'lat': slice(34.9,34.2), 'lon': slice(-120.2, -119.5)} #thomas"
   ]
  },
  {
   "cell_type": "code",
   "execution_count": null,
   "id": "0a8a002d-c974-43d1-bbb4-2f632d74b8c2",
   "metadata": {},
   "outputs": [],
   "source": [
    "v0_10km.sel({\"x\": subset[\"lon\"], \"y\": subset[\"lat\"]}).emissions.plot(col=\"year\", vmax=1.25e6)"
   ]
  },
  {
   "cell_type": "code",
   "execution_count": null,
   "id": "938f4bca-d9e2-45c5-aabe-08750d1fa0a5",
   "metadata": {},
   "outputs": [],
   "source": [
    "for mechanism in mechanisms:\n",
    "    xu_emissions[mechanism].sel(subset).sel(year=slice(2014, 2019)).plot(col=\"year\", vmax=1.25e6)"
   ]
  },
  {
   "cell_type": "code",
   "execution_count": null,
   "id": "90259e2a-129c-453b-b215-adaf859fa529",
   "metadata": {},
   "outputs": [],
   "source": [
    "(v1_10km[\"emissions_from_fire\"] + v1_10km[\"emissions_from_clearing\"]).sel(\n",
    "    {\"x\": subset[\"lon\"], \"y\": subset[\"lat\"]}\n",
    ").sel(year=slice(2014, 2019)).plot(col=\"year\", vmax=1.25e6)"
   ]
  },
  {
   "cell_type": "markdown",
   "id": "fa1ac0e2-bb5b-495a-820d-5befdbbb737b",
   "metadata": {},
   "source": [
    "### for some sample gridcells look at how the biomass in xu fluctuates and the resulting emissions\n"
   ]
  },
  {
   "cell_type": "code",
   "execution_count": null,
   "id": "47875865-1548-407a-9acd-e08969ec9f53",
   "metadata": {},
   "outputs": [],
   "source": [
    "comparison_cells = [(52.55, 107.65), (-15.95, -62.45), (0.35, 111.55), (63.25, 128.75)]\n",
    "fig, axarr = plt.subplots(nrows=2, ncols=4, figsize=(20, 4), sharex=True)\n",
    "for i, (lat, lon) in enumerate(comparison_cells):\n",
    "    for mechanism in mechanisms:\n",
    "        ds_10km.rename({\"Xu\": \"Biomass [t/ha]\"})[\"Biomass [t/ha]\"].sel(year=slice(2014, 2019)).sel(\n",
    "            lat=lat, lon=lon, method=\"nearest\"\n",
    "        ).plot(ax=axarr[0, i], label=mechanism)\n",
    "\n",
    "        xu_emissions[mechanism].sel(year=slice(2014, 2019)).sel(\n",
    "            lat=lat, lon=lon, method=\"nearest\"\n",
    "        ).plot(ax=axarr[1, i], label=mechanism)\n",
    "        axarr[1, i].set_ylabel(\"Emissions [tCO2]\")\n",
    "plt.legend()\n",
    "plt.tight_layout()"
   ]
  },
  {
   "cell_type": "markdown",
   "id": "01c3e5eb-c3b2-428f-b2e5-faad55add3a6",
   "metadata": {},
   "source": [
    "# change point detection validation\n"
   ]
  },
  {
   "cell_type": "markdown",
   "id": "00b6930e-e585-4a4a-a62c-efad9112d3b9",
   "metadata": {},
   "source": [
    "1. First randomly select from the 280 tiles, then within that tile randomly select a pixel\n",
    "2. If that pixel is all null, discard and repeat from step 1, do not increment pixel counter\n",
    "3. If that pixel is not null, plot the fillna version and the smoothed version,\n",
    "4. Increment pixel counter for with/without break point\n",
    "5. Repeat until we get 100 points for each\n"
   ]
  },
  {
   "cell_type": "code",
   "execution_count": null,
   "id": "1ba10a1c-0351-4c7e-8662-449d62ea9745",
   "metadata": {},
   "outputs": [],
   "source": [
    "import geopandas as gpd\n",
    "\n",
    "shapes_file = \"s3://carbonplan-climatetrace/inputs/shapes/countries.shp\"\n",
    "shapes_df = gpd.read_file(shapes_file)"
   ]
  },
  {
   "cell_type": "code",
   "execution_count": null,
   "id": "b557a405-6e9c-4a42-996e-ebe1414cd938",
   "metadata": {},
   "outputs": [],
   "source": [
    "shapes_df[\"country_area\"] = shapes_df.geometry.area"
   ]
  },
  {
   "cell_type": "code",
   "execution_count": null,
   "id": "5237119c-1143-4d51-95c2-63d8f46d50c8",
   "metadata": {},
   "outputs": [],
   "source": [
    "bounds = shapes_df.geometry.bounds"
   ]
  },
  {
   "cell_type": "code",
   "execution_count": null,
   "id": "00f50ded-06b8-47b3-aa8f-1d193f240380",
   "metadata": {},
   "outputs": [],
   "source": [
    "for col in bounds.columns:\n",
    "    shapes_df[col] = bounds[col]"
   ]
  },
  {
   "cell_type": "code",
   "execution_count": null,
   "id": "0533c54f-0c7e-4456-9b31-30ac03067183",
   "metadata": {},
   "outputs": [],
   "source": [
    "df = df.merge(\n",
    "    shapes_df[[\"alpha3\", \"country_area\"] + list(bounds.columns)],\n",
    "    left_on=\"iso3_country\",\n",
    "    right_on=\"alpha3\",\n",
    ")"
   ]
  },
  {
   "cell_type": "code",
   "execution_count": null,
   "id": "ec5f55f8-736e-416b-bd56-739525b8cfdc",
   "metadata": {
    "tags": []
   },
   "outputs": [],
   "source": [
    "df.loc[(df.CarbonPlan == 0)].sort_values(by=\"country_area\", ascending=False)"
   ]
  }
 ],
 "metadata": {
  "kernelspec": {
   "display_name": "Python [conda env:notebook] *",
   "language": "python",
   "name": "conda-env-notebook-py"
  },
  "language_info": {
   "codemirror_mode": {
    "name": "ipython",
    "version": 3
   },
   "file_extension": ".py",
   "mimetype": "text/x-python",
   "name": "python",
   "nbconvert_exporter": "python",
   "pygments_lexer": "ipython3",
   "version": "3.9.7"
  }
 },
 "nbformat": 4,
 "nbformat_minor": 5
}
