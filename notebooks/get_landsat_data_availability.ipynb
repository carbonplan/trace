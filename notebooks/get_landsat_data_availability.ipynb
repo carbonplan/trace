{
 "cells": [
  {
   "cell_type": "code",
   "execution_count": null,
   "id": "78d75b77-eacb-4aed-8f1d-9c30aec6c3c3",
   "metadata": {},
   "outputs": [],
   "source": [
    "%load_ext autoreload\n",
    "%autoreload 2\n",
    "\n",
    "import dask\n",
    "import numpy as np\n",
    "import pandas as pd\n",
    "import xarray as xr\n",
    "\n",
    "from carbonplan_trace.tiles import tiles\n",
    "from carbonplan_trace.v1 import biomass_rollup\n",
    "\n",
    "import fsspec\n",
    "import h5py\n",
    "import regionmask\n",
    "from rasterio.session import AWSSession\n",
    "from rasterio.warp import Resampling\n",
    "\n",
    "from carbonplan_trace.v1 import utils\n",
    "from collections import defaultdict\n",
    "from carbonplan_trace.v1.landsat_preprocess import access_credentials, find_months_of_interest, make_datestamps\n",
    "from carbonplan_trace.v0.core import compute_grid_area\n",
    "import rioxarray as rio \n",
    "import geopandas as gpd\n",
    "from s3fs import S3FileSystem"
   ]
  },
  {
   "cell_type": "code",
   "execution_count": null,
   "id": "56702fd8-4023-4435-8e73-89d9bbcb6d19",
   "metadata": {},
   "outputs": [],
   "source": [
    "from carbonplan_styles.mpl import set_theme\n",
    "\n",
    "set_theme()"
   ]
  },
  {
   "cell_type": "code",
   "execution_count": null,
   "id": "6577dd34-042b-4907-bb9e-edc2d5a2b09e",
   "metadata": {},
   "outputs": [],
   "source": [
    "from carbonplan_trace.v1.landsat_preprocess import access_credentials\n",
    "\n",
    "access_key_id, secret_access_key = access_credentials()\n",
    "# fs = fsspec.get_filesystem_class(\"s3\")(\n",
    "#     key=access_key_id,\n",
    "#     secret=secret_access_key,\n",
    "# )\n",
    "fs = S3FileSystem(key=access_key_id, secret=secret_access_key, requester_pays=True)"
   ]
  },
  {
   "cell_type": "code",
   "execution_count": null,
   "id": "f5cdce78-13cf-41fc-8e8f-d947cd5030ff",
   "metadata": {},
   "outputs": [],
   "source": [
    "gdf = gpd.read_file(\n",
    "    \"https://prd-wret.s3-us-west-2.amazonaws.com/assets/\"\n",
    "    \"palladium/production/s3fs-public/atoms/files/\"\n",
    "    \"WRS2_descending_0.zip\"\n",
    ")"
   ]
  },
  {
   "cell_type": "code",
   "execution_count": null,
   "id": "d8a50734-8b6e-4a6e-8c6e-79e428b761c5",
   "metadata": {},
   "outputs": [],
   "source": [
    "import boto3\n",
    "from rasterio.session import AWSSession\n",
    "from s3fs import S3FileSystem\n",
    "from carbonplan_trace.v1.landsat_preprocess import scene_seasonal_average"
   ]
  },
  {
   "cell_type": "code",
   "execution_count": null,
   "id": "9d92667e-63e3-4b4f-bd32-bdf77e19ed68",
   "metadata": {},
   "outputs": [],
   "source": [
    "\"\"\"\n",
    "iso3_country\tCarbonPlan\talpha3\tcountry_area\tminx\tminy\tmaxx\tmaxy\n",
    "193\tSJM\t0.0\tSJM\t25.043923\t-9.076563\t70.824997\t36.807816\t82.537498  --> Svalbard, probably don't have biomass\n",
    "106\tISL\t0.0\tISL\t19.424745\t-27.980730\t60.002083\t-12.050521\t66.702080  --> Iceland, 3 scenes available, but none in the right month\n",
    "194\tSLB\t0.0\tSLB\t2.345975\t155.392502\t-12.308334\t170.192505\t-4.445220 --> Solomon Island, no scenes available\n",
    "71\tFJI\t0.0\tFJI\t1.613079\t-180.000000\t-21.042500\t180.000000\t-12.461724 --> Fiji, no scenes available \n",
    "191\tSGS\t0.0\tSGS\t0.570622\t-41.815617\t-59.484280\t-26.229315\t-53.646881 --> South Georgia and South Sandwich islands near antartica, no scenes and no biomass\n",
    "49\tCPV\t0.0\tCPV\t0.345344\t-25.361803\t14.801805\t-22.656805\t17.205416 --> Cape Verde, no scenes \n",
    "181\tPYF\t0.0\tPYF\t0.342648\t-154.727295\t-27.900627\t-134.451111\t-7.894929 --> French Polynesia, no scenes \n",
    "74\tFRO\t0.0\tFRO\t0.247089\t-7.683333\t61.393749\t-6.245833\t62.391666\n",
    "239\tWSM\t0.0\tWSM\t0.238464\t-172.804123\t-14.077221\t-171.397705\t-13.439809\n",
    "183\tREU\t0.0\tREU\t0.218469\t55.216251\t-21.389860\t55.837360\t-20.871805\n",
    "\"\"\"\n",
    "\n",
    "min_lon, min_lat, max_lon, max_lat = [-27.980730, 60.002083, -12.050521, 66.702080]  # iceland\n",
    "min_lon, min_lat, max_lon, max_lat = [\n",
    "    155.392502,\n",
    "    -12.308334,\n",
    "    170.192505,\n",
    "    -4.445220,\n",
    "]  # solomon island\n",
    "# min_lon, min_lat, max_lon, max_lat = [177.000000, -21.042500, 180.000000, -12.461724]  # fiji\n",
    "# min_lon, min_lat, max_lon, max_lat = [-41.815617, -59.484280, -26.229315, -53.646881] # South Georgia and South Sandwich islands\n",
    "# min_lon, min_lat, max_lon, max_lat = [-25.361803, 14.801805, -22.656805, 17.205416]  # Cape Verde\n",
    "# min_lon, min_lat, max_lon, max_lat = [-154.727295, -27.900627, -134.451111, -7.894929]  # French Polynesia\n",
    "\n",
    "scenes_in_tile = gdf.cx[min_lon:max_lon, min_lat:max_lat][[\"PATH\", \"ROW\"]].values"
   ]
  },
  {
   "cell_type": "code",
   "execution_count": null,
   "id": "40302fd5-8fa5-4726-a0d9-0fbc45c08877",
   "metadata": {},
   "outputs": [],
   "source": [
    "landsat_bucket = \"s3://usgs-landsat/collection02/level-2/standard/etm/{}/{:03d}/{:03d}/\"\n",
    "\n",
    "for i in range(5):  # len(scenes_in_tile)):\n",
    "    path = scenes_in_tile[i][0]\n",
    "    row = scenes_in_tile[i][1]\n",
    "    for year in np.arange(2014, 2021):\n",
    "        scene_stores = fs.ls(landsat_bucket.format(year, path, row))\n",
    "        if len(scene_stores) > 0:\n",
    "            print(path, row, year)\n",
    "            print(scene_stores)"
   ]
  },
  {
   "cell_type": "code",
   "execution_count": null,
   "id": "b618a666-d8d7-425e-8ea8-177d22132172",
   "metadata": {},
   "outputs": [],
   "source": [
    "all_scenes = []\n",
    "\n",
    "for tile in tiles:\n",
    "    lat, lon = utils.get_lat_lon_tags_from_tile_path(tile)\n",
    "    min_lat, max_lat, min_lon, max_lon = utils.parse_bounding_box_from_lat_lon_tags(lat, lon)\n",
    "    all_scenes.extend(gdf.cx[min_lon:max_lon, min_lat:max_lat][[\"PATH\", \"ROW\"]].values)"
   ]
  },
  {
   "cell_type": "code",
   "execution_count": null,
   "id": "fb5b062c-0318-4696-ab5d-851fd8d9e19d",
   "metadata": {},
   "outputs": [],
   "source": [
    "len(all_scenes)"
   ]
  },
  {
   "cell_type": "code",
   "execution_count": null,
   "id": "0ebb6c8d-51d6-4a95-be25-c889ac57fc98",
   "metadata": {},
   "outputs": [],
   "source": [
    "scenes_with_valid_data = []\n",
    "for path, row in all_scenes:\n",
    "    months = find_months_of_interest(row)\n",
    "    valid_files = []\n",
    "    for year in np.arange(2014, 2021):\n",
    "        scene_stores = fs.ls(landsat_bucket.format(year, path, row))\n",
    "        datestamps = make_datestamps(months, year)\n",
    "        for scene_store in scene_stores:\n",
    "            for datestamp in datestamps:\n",
    "                if datestamp in scene_store:\n",
    "                    valid_files.append(scene_store)\n",
    "\n",
    "    if len(valid_files) > 0:\n",
    "        scenes_with_valid_data.append([path, row])"
   ]
  },
  {
   "cell_type": "code",
   "execution_count": null,
   "id": "982d8c0a-2629-43a7-88a2-9322d3e1d7b4",
   "metadata": {},
   "outputs": [],
   "source": [
    "len(scenes_with_valid_data)"
   ]
  },
  {
   "cell_type": "code",
   "execution_count": null,
   "id": "80416853-4bf2-454b-b781-bbab0b180e04",
   "metadata": {},
   "outputs": [],
   "source": [
    "scenes_with_valid_data[:2]"
   ]
  },
  {
   "cell_type": "code",
   "execution_count": null,
   "id": "9661a1b6-a268-4435-8648-b1f3cf92627c",
   "metadata": {},
   "outputs": [],
   "source": [
    "valid_scene_ids = list(\n",
    "    set([\"{:03d}/{:03d}\".format(path, row) for path, row in scenes_with_valid_data])\n",
    ")"
   ]
  },
  {
   "cell_type": "code",
   "execution_count": null,
   "id": "2e49d115-8185-42cf-a3fa-454c11ce866b",
   "metadata": {},
   "outputs": [],
   "source": [
    "len(valid_scene_ids)"
   ]
  },
  {
   "cell_type": "code",
   "execution_count": null,
   "id": "1205ac71-52ce-4e62-928b-a564eb036165",
   "metadata": {},
   "outputs": [],
   "source": [
    "gdf[\"scene_id\"] = gdf.apply(lambda row: \"{:03d}/{:03d}\".format(row[\"PATH\"], row[\"ROW\"]), axis=1)"
   ]
  },
  {
   "cell_type": "code",
   "execution_count": null,
   "id": "ab0a0b2b-55a9-44c1-8253-c5750970bdb9",
   "metadata": {},
   "outputs": [],
   "source": [
    "sub = gdf.loc[gdf.scene_id.isin(valid_scene_ids)]\n",
    "# get all scenes in our tiles\n",
    "# do len checking"
   ]
  },
  {
   "cell_type": "code",
   "execution_count": null,
   "id": "9f8062c3-d70e-4c52-b793-648846d904b7",
   "metadata": {},
   "outputs": [],
   "source": [
    "len(sub)"
   ]
  },
  {
   "cell_type": "code",
   "execution_count": null,
   "id": "45e7e74b-0e8f-4d35-8517-38ef32fac166",
   "metadata": {},
   "outputs": [],
   "source": [
    "sub = sub.dissolve()"
   ]
  },
  {
   "cell_type": "code",
   "execution_count": null,
   "id": "ec0a5677-4ea2-4c4d-9778-f9b5ee88881a",
   "metadata": {},
   "outputs": [],
   "source": [
    "# landsat 8 launched in 2014, same as landsat 5 decommissioning"
   ]
  },
  {
   "cell_type": "code",
   "execution_count": null,
   "id": "bb6e42b2-814f-4b11-a551-7cc868879e2a",
   "metadata": {},
   "outputs": [],
   "source": [
    "sub.geometry[0].plot()"
   ]
  },
  {
   "cell_type": "code",
   "execution_count": null,
   "id": "541d4d38-9e68-4ec7-afd2-63bd1259608d",
   "metadata": {},
   "outputs": [],
   "source": [
    "sub[\"name\"] = \"valid_landsat\""
   ]
  },
  {
   "cell_type": "code",
   "execution_count": null,
   "id": "4b704d73-0300-4efb-b6b7-5e9d8b00648a",
   "metadata": {},
   "outputs": [],
   "source": [
    "sub[[\"name\", \"geometry\"]].to_file(\"valid_landsat.shp\")"
   ]
  },
  {
   "cell_type": "code",
   "execution_count": null,
   "id": "168cf853-6e85-4a58-be54-d9bab7daddb2",
   "metadata": {},
   "outputs": [],
   "source": [
    "fs = S3FileSystem(requester_pays=True)\n",
    "\n",
    "with fs.open(\"s3://carbonplan-climatetrace/v1.2/masks/valid_landsat.shp.zip\") as f:\n",
    "    df = gpd.read_file(f)"
   ]
  },
  {
   "cell_type": "code",
   "execution_count": null,
   "id": "2039c2d6-40d7-4df6-a38a-e5b8064d0663",
   "metadata": {},
   "outputs": [],
   "source": [
    "import regionmask"
   ]
  },
  {
   "cell_type": "code",
   "execution_count": null,
   "id": "8e35456a-4b92-4d5d-a78f-0fcecddb0ff3",
   "metadata": {},
   "outputs": [],
   "source": [
    "land = regionmask.defined_regions.natural_earth.land_110"
   ]
  },
  {
   "cell_type": "code",
   "execution_count": null,
   "id": "0b03a380-91dd-449a-838a-59060ffbdad1",
   "metadata": {},
   "outputs": [],
   "source": [
    "land.plot()"
   ]
  },
  {
   "cell_type": "code",
   "execution_count": null,
   "id": "3d20c0e5-7337-4c04-853c-0ef084de9448",
   "metadata": {},
   "outputs": [],
   "source": [
    "import matplotlib.pyplot as plt"
   ]
  },
  {
   "cell_type": "code",
   "execution_count": null,
   "id": "2aacbbbf-c4e7-4dfe-ae50-d8029ea3cb48",
   "metadata": {},
   "outputs": [],
   "source": [
    "world = gpd.read_file(gpd.datasets.get_path(\"naturalearth_lowres\"))"
   ]
  },
  {
   "cell_type": "code",
   "execution_count": null,
   "id": "903ea8cd-8ed2-44f9-8ead-8fa61df02da8",
   "metadata": {},
   "outputs": [],
   "source": [
    "plt.figure(figsize=(16, 8))\n",
    "world.plot(ax=plt.gca())\n",
    "df.plot(ax=plt.gca(), facecolor=\"none\", edgecolor=\"red\", hatch=r\"//\")\n",
    "plt.ylabel(\"Latitude\")\n",
    "plt.xlabel(\"Longitude\")\n",
    "plt.tight_layout()\n",
    "plt.savefig(\"landsat_mask.png\")\n",
    "plt.show()\n",
    "plt.close()"
   ]
  }
 ],
 "metadata": {
  "kernelspec": {
   "display_name": "Python [conda env:notebook] *",
   "language": "python",
   "name": "conda-env-notebook-py"
  },
  "language_info": {
   "codemirror_mode": {
    "name": "ipython",
    "version": 3
   },
   "file_extension": ".py",
   "mimetype": "text/x-python",
   "name": "python",
   "nbconvert_exporter": "python",
   "pygments_lexer": "ipython3",
   "version": "3.9.7"
  }
 },
 "nbformat": 4,
 "nbformat_minor": 5
}
