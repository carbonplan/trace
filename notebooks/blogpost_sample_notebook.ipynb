{
 "cells": [
  {
   "cell_type": "markdown",
   "id": "75d9feed-9bc7-4fbe-92d0-a7150011a946",
   "metadata": {},
   "source": [
    "<img width=50 src=\"https://carbonplan-assets.s3.amazonaws.com/monogram/dark-small.png\" style=\"margin-left:0px;margin-top:20px\"/>\n",
    "\n",
    "# Sample notebook to explore biomass dataset\n",
    "\n",
    "Authors: Oriana Chegwidden and Cindy Chiao\n",
    "\n",
    "To run this notebook locally and produce the loveliest-possible figures, you'll\n",
    "want to have the CarbonPlan styles installed.\n"
   ]
  },
  {
   "cell_type": "code",
   "execution_count": null,
   "id": "04238914-9331-4c63-a30a-ac527ea1a471",
   "metadata": {},
   "outputs": [],
   "source": [
    "import xarray as xr\n",
    "import pandas as pd\n",
    "from carbonplan_styles.colors import colors\n",
    "from carbonplan_styles.mpl import set_theme\n",
    "import cartopy.crs as ccrs\n",
    "import matplotlib.pyplot as plt\n",
    "\n",
    "theme = \"dark\"\n",
    "set_theme(style=f\"carbonplan_{theme}\")\n",
    "c = colors(theme)"
   ]
  },
  {
   "cell_type": "markdown",
   "id": "3509696a-a0cc-4df8-97e1-0f0e680c3969",
   "metadata": {},
   "source": [
    "## Load in global 1 degree raster\n"
   ]
  },
  {
   "cell_type": "code",
   "execution_count": null,
   "id": "26e5f8e3-fe1d-4259-8c21-10736cca8131",
   "metadata": {},
   "outputs": [],
   "source": [
    "ds = xr.open_zarr(\n",
    "    \"s3://carbonplan-scratch/junk/v0_one_degree_raster.zarr\", consolidated=True\n",
    ")\n",
    "da = (ds.rename({\"emissions\": \"Emissions [Mt CO2]\"}) / 1e6)[\n",
    "    \"Emissions [Mt CO2]\"\n",
    "]"
   ]
  },
  {
   "cell_type": "markdown",
   "id": "7b04857d-d2e6-45b2-bbf3-ba67bee01ef3",
   "metadata": {},
   "source": [
    "## Global map of cumulative emisisons over 2001-2020\n"
   ]
  },
  {
   "cell_type": "code",
   "execution_count": null,
   "id": "1b0a22d2-7703-438b-8984-be555b134688",
   "metadata": {},
   "outputs": [],
   "source": [
    "plt.figure(figsize=(12, 10))\n",
    "s = da.where(da > 0.0).sum(\"year\")\n",
    "s = s.where(s > 0)\n",
    "p = s.plot(\n",
    "    cmap=f\"fire_{theme}\",\n",
    "    subplot_kws=dict(projection=ccrs.Robinson()),\n",
    "    transform=ccrs.PlateCarree(),\n",
    "    robust=True,\n",
    "    cbar_kwargs={\"orientation\": \"horizontal\", \"pad\": 0.02, \"shrink\": 0.55},\n",
    ")\n",
    "p.axes.set_global()\n",
    "p.axes.coastlines(color=c[\"secondary\"])\n",
    "p.axes.set_title(\"Cumulative emissions from forests (2001-2020)\")"
   ]
  },
  {
   "cell_type": "markdown",
   "id": "95c8c9b2-9a10-461d-a8f0-7d5f39fff45d",
   "metadata": {},
   "source": [
    "## Global emisisons for every year\n"
   ]
  },
  {
   "cell_type": "code",
   "execution_count": null,
   "id": "5a475178-33b5-404e-8f17-752cc2b2dd23",
   "metadata": {},
   "outputs": [],
   "source": [
    "s = da.where(da > 0.0)\n",
    "s = s.where(s > 0)\n",
    "fg = da.plot(\n",
    "    col=\"year\",\n",
    "    col_wrap=5,\n",
    "    vmax=1,\n",
    "    cmap=f\"fire_{theme}\",\n",
    "    subplot_kws=dict(projection=ccrs.Robinson()),\n",
    "    transform=ccrs.PlateCarree(),\n",
    "    robust=True,\n",
    "    cbar_kwargs={\"orientation\": \"horizontal\", \"pad\": 0.02, \"shrink\": 0.55},\n",
    ")\n",
    "for panel, year in zip(fg.axes.flatten(), da.year.values):\n",
    "    panel.set_title(year)\n",
    "    panel.set_global()\n",
    "    panel.coastlines(color=c[\"secondary\"])"
   ]
  },
  {
   "cell_type": "markdown",
   "id": "a4fd9f73-6d2d-40c9-9636-8beb47b9c8dd",
   "metadata": {},
   "source": [
    "## Timeseries of global forest emissions over time\n"
   ]
  },
  {
   "cell_type": "code",
   "execution_count": null,
   "id": "cc390c39-6a82-42c2-b96f-b729d3829a58",
   "metadata": {},
   "outputs": [],
   "source": [
    "da = da.assign_coords({\"year\": pd.date_range(\"2001\", \"2020\", freq=\"YS\")})\n",
    "da.sum(dim=[\"x\", \"y\"]).plot(color=c[\"orange\"])\n",
    "plt.xlabel(\"\")\n",
    "plt.title(\"Annual global emissions from forests\")"
   ]
  },
  {
   "cell_type": "markdown",
   "id": "ac23073d-f74a-4374-8b56-5540549e9052",
   "metadata": {},
   "source": [
    "## Load in a sample tile from the underlying 30 m dataset\n"
   ]
  },
  {
   "cell_type": "code",
   "execution_count": null,
   "id": "80d9a4fe-6878-42b4-800d-a12b4d9c86bb",
   "metadata": {},
   "outputs": [],
   "source": [
    "path_template = (\n",
    "    \"s3://carbonplan-climatetrace/{version}/tiles/30m/{tile}_tot.zarr/\"\n",
    ")"
   ]
  },
  {
   "cell_type": "markdown",
   "id": "7ec72a8d-8793-4c13-9804-e2c924617e5d",
   "metadata": {},
   "source": [
    "## Example of forest losses in the Amazon\n"
   ]
  },
  {
   "cell_type": "code",
   "execution_count": null,
   "id": "6fb31534-7880-4ef5-bdcc-a49e4b687d0a",
   "metadata": {},
   "outputs": [],
   "source": [
    "tile = \"00N_060W\"\n",
    "version = \"v0.4\"\n",
    "\n",
    "ds = xr.open_zarr(\n",
    "    path_template.format(tile=tile, version=version), consolidated=False\n",
    ")\n",
    "ds = ds.rename({\"emissions\": \"Emissions [t CO2]\"})\n",
    "sub = ds.sel(lat=slice(-6.225, -6.35), lon=slice(-53.45, -53.35))"
   ]
  },
  {
   "cell_type": "code",
   "execution_count": null,
   "id": "7d05da84-a501-4f33-bab4-79f808768ebd",
   "metadata": {},
   "outputs": [],
   "source": [
    "s = sub.where(sub > 0.0)\n",
    "s[\"Emissions [t CO2]\"].plot(\n",
    "    col=\"year\",\n",
    "    col_wrap=5,\n",
    "    cmap=f\"fire_{theme}\",\n",
    "    subplot_kws=dict(projection=ccrs.Robinson()),\n",
    "    transform=ccrs.PlateCarree(),\n",
    "    robust=True,\n",
    "    cbar_kwargs={\"orientation\": \"horizontal\", \"pad\": 0.02, \"shrink\": 0.55},\n",
    ")"
   ]
  }
 ],
 "metadata": {
  "kernelspec": {
   "display_name": "Python 3 (ipykernel)",
   "language": "python",
   "name": "python3"
  },
  "language_info": {
   "codemirror_mode": {
    "name": "ipython",
    "version": 3
   },
   "file_extension": ".py",
   "mimetype": "text/x-python",
   "name": "python",
   "nbconvert_exporter": "python",
   "pygments_lexer": "ipython3",
   "version": "3.9.7"
  }
 },
 "nbformat": 4,
 "nbformat_minor": 5
}
