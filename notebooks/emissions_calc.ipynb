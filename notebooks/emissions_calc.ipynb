{
 "cells": [
  {
   "cell_type": "code",
   "execution_count": null,
   "id": "76a0abaf-afa8-41a8-89dd-94807683afa5",
   "metadata": {},
   "outputs": [],
   "source": [
    "%load_ext autoreload\n",
    "%autoreload 2\n",
    "from carbonplan_trace.v1 import emissions_workflow"
   ]
  },
  {
   "cell_type": "markdown",
   "id": "d8898ef9-6205-4ec1-9b5e-89c11c5e06c3",
   "metadata": {},
   "source": [
    "### first run every tile. Each tile uses about 500GB-600GB of memory, so we did this by checking out two different TB machines and then running the first half of tiles on one machine and the second half on the other.\n"
   ]
  },
  {
   "cell_type": "code",
   "execution_count": null,
   "id": "e06c4ff4-c2fb-4790-a844-16390f1f052f",
   "metadata": {},
   "outputs": [],
   "source": [
    "for tile in tiles:\n",
    "    return_status = emissions_workflow.process_one_tile(tile)\n",
    "    return_status = emissions_workflow.coarsen_tile(tile)"
   ]
  },
  {
   "cell_type": "markdown",
   "id": "9070f2d9-48da-46d7-9009-9cf35dcd0d60",
   "metadata": {},
   "source": [
    "### once all the tiles are done the combining to the global raster and the country rollups are quick\n"
   ]
  },
  {
   "cell_type": "code",
   "execution_count": null,
   "id": "bb1d2d87-799a-4699-84b9-5f43c59c14eb",
   "metadata": {},
   "outputs": [],
   "source": [
    "emissions_workflow.combine_all_tiles()"
   ]
  },
  {
   "cell_type": "code",
   "execution_count": null,
   "id": "92abdfc8-ff5d-41a5-b9ce-336fbaec12d3",
   "metadata": {},
   "outputs": [],
   "source": [
    "emissions_workflow.rollup_shapes()"
   ]
  }
 ],
 "metadata": {
  "kernelspec": {
   "display_name": "Python [conda env:notebook] *",
   "language": "python",
   "name": "conda-env-notebook-py"
  },
  "language_info": {
   "codemirror_mode": {
    "name": "ipython",
    "version": 3
   },
   "file_extension": ".py",
   "mimetype": "text/x-python",
   "name": "python",
   "nbconvert_exporter": "python",
   "pygments_lexer": "ipython3",
   "version": "3.9.7"
  }
 },
 "nbformat": 4,
 "nbformat_minor": 5
}
