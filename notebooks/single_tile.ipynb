{
 "cells": [
  {
   "cell_type": "markdown",
   "metadata": {},
   "source": [
    "<img width=\"100\" src=\"https://carbonplan-assets.s3.amazonaws.com/monogram/dark-small.png\" style=\"margin-left:0px;margin-top:20px\"/>\n",
    "\n",
    "# Forest Emissions Tracking - Phase I\n",
    "\n",
    "_by Joe Hamman and Jeremy Freeman (CarbonPlan)_\n",
    "\n",
    "March 29, 2020\n",
    "\n",
    "## Introduction\n",
    "\n",
    "In general, greenhouse gasses (GHGs) arising from forest land use changes can be attributed to both\n",
    "natural factors (e.g. wildfire) and human activities (e.g. deforestation). Our approach is to build\n",
    "upon an existing body of research that has provided high-resolution satellite-based estimates of\n",
    "aboveground biomass (Spawn et al., 2020), forest cover change (Hansen et al., 2013), and change\n",
    "attribution (Curtis et al., 2018). While many of the necessary data products already exist, we can\n",
    "integrate, extend, or update these resources to provide global, current estimates that can be\n",
    "integrated with the other resources produced by the coalition.\n",
    "\n",
    "Specifically, for any given spatial extent and time duration ($t1$ to $t2$), we can use three\n",
    "quantities — existing biomass, forest cover change, and change attribution — to estimate the\n",
    "effective GHG emissions from land use changes. The simplest estimate is:\n",
    "\n",
    "$\\Delta Biomass (t) = TotalBiomass (t) * \\Delta ForestCover (\\%)$\n",
    "\n",
    "$Emissions (tCO_2) = \\Delta Biomass (t) * 0.5 (tC/t) * 3.67 (tC02 / tC)$\n",
    "\n",
    "where $\\Delta ForestCover$ is the fraction of pixels within the given spatial extent that\n",
    "experienced a stand-replacement disturbance between $t1$ and $t2$. The $TotalBiomass$ is estimated\n",
    "as the aboveground biomass at time $t1$. This estimate can be further refined by attributing, for\n",
    "each pixel, the source of forest cover loss (e.g. wildfire, deforestation, etc.), and using those\n",
    "sources to express emissions fractionally and/or exclude certain categories from total estimates\n",
    "(e.g. rotational clear-cutting within tree plantations). Pixel-wise estimates can then be aggregated\n",
    "into province and country-wide estimates.\n"
   ]
  },
  {
   "cell_type": "markdown",
   "metadata": {},
   "source": [
    "## Setup\n",
    "\n",
    "To begin, we'll import a handful of Python libraries and set a few constants.\n"
   ]
  },
  {
   "cell_type": "code",
   "execution_count": null,
   "metadata": {},
   "outputs": [],
   "source": [
    "%matplotlib inline\n",
    "import dask\n",
    "import matplotlib.pyplot as plt\n",
    "import geopandas\n",
    "import intake\n",
    "import xarray as xr\n",
    "import rioxarray\n",
    "import numpy as np\n",
    "import seaborn as sns\n",
    "from dask.distributed import Client\n",
    "from shapely.geometry import mapping\n",
    "from sklearn.metrics import mean_squared_error\n",
    "\n",
    "from data import open_hansen_2018_tile\n",
    "\n",
    "# TODO: switch to carbonplan style theme\n",
    "plt.rcParams[\"font.family\"] = \"monospace\"\n",
    "\n",
    "TC02_PER_TC = 3.67\n",
    "TC_PER_TBM = 0.5\n",
    "SQM_PER_HA = 10000\n",
    "ORNL_SCALING = 0.1"
   ]
  },
  {
   "cell_type": "code",
   "execution_count": null,
   "metadata": {},
   "outputs": [],
   "source": [
    "# start a local Dask cluster\n",
    "# client = Client(n_workers=4)\n",
    "# display(client)"
   ]
  },
  {
   "cell_type": "markdown",
   "metadata": {},
   "source": [
    "Next we will open a handful of datasets that we'll use in our analysis. Note that these datasets are\n",
    "all included in an _Intake Catalog_ called `catalog.yaml`. Intake, along with a small helper script\n",
    "(`data.py`) will handle opening all of our data for us.\n"
   ]
  },
  {
   "cell_type": "code",
   "execution_count": null,
   "metadata": {},
   "outputs": [],
   "source": [
    "# data catalog\n",
    "cat = intake.open_catalog(\"catalog.yaml\")"
   ]
  },
  {
   "cell_type": "markdown",
   "metadata": {},
   "source": [
    "The first dataset we will open is the Hansen et al (2018) forest cover change dataset. We also open\n",
    "auxillary datasets like above ground biomass (`abg`) and two partial estimates of emissions\n",
    "(`emissions_ha` and `emissions_px`) that are all available on the same 30x30m grid. All of this data\n",
    "is distributed in 10x10degree tiles so we define which tile we'll be looking at for this\n",
    "demonstration. We also define a smaller bounding box (`box`) that we will use for a few analyses\n",
    "later on.\n"
   ]
  },
  {
   "cell_type": "code",
   "execution_count": null,
   "metadata": {},
   "outputs": [],
   "source": [
    "# open a single 10x10degree tile of the Hansen 30x30m data\n",
    "lat = \"50N\"\n",
    "lon = \"130W\"\n",
    "box = dict(lat=slice(41.5, 41.0), lon=slice(-123, -122.5))\n",
    "\n",
    "ds = open_hansen_2018_tile(lat, lon)\n",
    "display(ds)"
   ]
  },
  {
   "cell_type": "markdown",
   "metadata": {},
   "source": [
    "Next, we open a few other datasets:\n",
    "\n",
    "1. The Spawn and Gibbs (2020) Global Aboveground and Belowground Biomass Carbon Density Maps for the\n",
    "   Year 2010: `ds_ornl`.\n",
    "1. A shapefile including the each of the US states: `us_states`.\n",
    "1. A data table of estimated state aggregated biomass for each US state: `df_fia_state`.\n",
    "1. A data table of biomass for all the FIA plot locations in California: `df_ca_fia`.\n"
   ]
  },
  {
   "cell_type": "code",
   "execution_count": null,
   "metadata": {
    "collapsed": true,
    "jupyter": {
     "outputs_hidden": true
    }
   },
   "outputs": [],
   "source": [
    "# open some data for benchmarking\n",
    "\n",
    "# ORNL biomass\n",
    "ds_ornl = cat.ornl_biomass.to_dask() * ORNL_SCALING\n",
    "\n",
    "# shapefile for US states\n",
    "states = geopandas.read_file(\n",
    "    \"/home/jovyan/.local/share/cartopy/shapefiles/natural_earth/cultural/ne_50m_admin_1_states_provinces_lakes.shp\"\n",
    ")\n",
    "us_states = states.query(\"admin == 'United States of America'\").set_index(\"iso_3166_2\")\n",
    "us_states.crs = \"EPSG:4326\"\n",
    "\n",
    "# State-wide Biomass aggregation from FIA\n",
    "df_fia_state = cat.fia_by_state.read()\n",
    "\n",
    "# California Biomass by FIA plot\n",
    "df_ca_fia = cat.fia_ca.read()"
   ]
  },
  {
   "cell_type": "code",
   "execution_count": null,
   "metadata": {},
   "outputs": [],
   "source": [
    "variables = [\"treecover2000\", \"lossyear\", \"agb\", \"emissions_ha\"]\n",
    "titles = [\n",
    "    \"Tree Cover Fraction (year: 2000)\\n(Hanson et al. 2013) \",\n",
    "    \"Year of Tree Cover Loss\\n(Hanson et al. 2013)\",\n",
    "    \"Aboveground Biomass\\n(Zarin et al. 2016)\",\n",
    "    \"Emissions\",\n",
    "]\n",
    "units = [\"[%]\", \"[year]\", \"[t/Ha]\", \"[tC02/Ha]\"]\n",
    "\n",
    "fig, axes = plt.subplots(nrows=2, ncols=2, sharex=True, sharey=True, figsize=(8, 8))\n",
    "\n",
    "ds_plot = ds.sel(**box)\n",
    "\n",
    "kwargs = {}\n",
    "for i, var in enumerate(variables):\n",
    "    ax = axes.flat[i]\n",
    "    if i == 2:\n",
    "        kwargs = dict(vmin=0, vmax=600, extend=\"max\")\n",
    "    if i == 3:\n",
    "        kwargs = dict(vmin=0, vmax=1100, extend=\"max\")\n",
    "    if i == 1:\n",
    "        kwargs = dict(vmin=2000, vmax=2018, levels=19)\n",
    "    da = ds_plot[var]\n",
    "    da.plot.imshow(ax=ax, add_labels=False, cbar_kwargs={\"label\": units[i]}, **kwargs)\n",
    "    ax.set_title(titles[i])\n",
    "\n",
    "fig.tight_layout()"
   ]
  },
  {
   "cell_type": "markdown",
   "metadata": {},
   "source": [
    "The Hansen tree cover and loss data is compressed into a initial treecover field and a lossyear\n",
    "field. In the cell below, we unpack this data into a 3-dimensional mask of losses by year. This will\n",
    "come in handy when we start analyzing emissions by year. We add this new field (`d_treecover`) to\n",
    "our dataset.\n"
   ]
  },
  {
   "cell_type": "code",
   "execution_count": null,
   "metadata": {},
   "outputs": [],
   "source": [
    "# calculate d_treecover\n",
    "years = xr.DataArray(range(2001, 2019), dims=(\"year\",), name=\"year\")\n",
    "loss_frac = []\n",
    "for year in years:\n",
    "    loss_frac.append(xr.where((ds[\"lossyear\"] == year), ds[\"treecover2000\"], 0))\n",
    "ds[\"d_treecover\"] = xr.concat(loss_frac, dim=years)\n",
    "display(ds)"
   ]
  },
  {
   "cell_type": "markdown",
   "metadata": {},
   "source": [
    "We can now sum over all the years in our data to see the change in treecover for each pixel in our\n",
    "tile.\n"
   ]
  },
  {
   "cell_type": "code",
   "execution_count": null,
   "metadata": {},
   "outputs": [],
   "source": [
    "ds[\"d_treecover\"].sum(\"year\").sel(**box).plot()"
   ]
  },
  {
   "cell_type": "markdown",
   "metadata": {},
   "source": [
    "### Emissions Calculation\n",
    "\n",
    "As we discussed above, the equation to compute emissions from a change in above ground biomass is\n",
    "simply a conversion of lost biomass to an equivalent mass of C02. The function below represents how\n",
    "this is performed in our analysis.\n"
   ]
  },
  {
   "cell_type": "code",
   "execution_count": null,
   "metadata": {},
   "outputs": [],
   "source": [
    "def calc_emissions(ds):\n",
    "    d_biomass = ds[\"agb\"] * ds[\"d_treecover\"]\n",
    "    emissions = d_biomass * TC_PER_TBM * TC02_PER_TC\n",
    "    return emissions"
   ]
  },
  {
   "cell_type": "code",
   "execution_count": null,
   "metadata": {},
   "outputs": [],
   "source": [
    "ds[\"emissions\"] = calc_emissions(ds)\n",
    "display(ds[\"emissions\"])"
   ]
  },
  {
   "cell_type": "markdown",
   "metadata": {},
   "source": [
    "Now that we have calculated the emissions at each point in our tile, we can visualize the results.\n",
    "The maps below show emissions, by year, for each pixel in our tile.\n"
   ]
  },
  {
   "cell_type": "code",
   "execution_count": null,
   "metadata": {},
   "outputs": [],
   "source": [
    "temp = ds[\"emissions\"].sel(**box)\n",
    "temp = temp.where(temp).persist()\n",
    "fg = temp.plot(col=\"year\", col_wrap=5, robust=True)"
   ]
  },
  {
   "cell_type": "markdown",
   "metadata": {},
   "source": [
    "We can now sum over our tile to compute the emissions from this region by year. To do this, we first\n",
    "need to compute the per-pixel area to perform an accurate unit conversion.\n"
   ]
  },
  {
   "cell_type": "code",
   "execution_count": null,
   "metadata": {},
   "outputs": [],
   "source": [
    "def compute_grid_area(da):\n",
    "    R = 6.371e6\n",
    "    total_area = 4 * np.pi * R ** 2\n",
    "    dϕ = np.radians((da[\"lat\"][1] - da[\"lat\"][0]).values)\n",
    "    dλ = np.radians((da[\"lon\"][1] - da[\"lon\"][0]).values)\n",
    "    dA = R ** 2 * np.abs(dϕ * dλ) * np.cos(np.radians(da[\"lat\"]))\n",
    "    areacella = dA * (0 * da + 1)\n",
    "\n",
    "    return areacella / SQM_PER_HA"
   ]
  },
  {
   "cell_type": "code",
   "execution_count": null,
   "metadata": {},
   "outputs": [],
   "source": [
    "def scatter_style(ax, aspect=(\"equal\", \"box\")):\n",
    "    \"\"\"helper function to style the next few scatter plots\"\"\"\n",
    "    if aspect:\n",
    "        ax.set_aspect(*aspect)\n",
    "    # Hide the right and top spines\n",
    "    ax.spines[\"right\"].set_visible(False)\n",
    "    ax.spines[\"top\"].set_visible(False)\n",
    "\n",
    "    # Only show ticks on the left and bottom spines\n",
    "    ax.yaxis.set_ticks_position(\"left\")\n",
    "    ax.xaxis.set_ticks_position(\"bottom\")"
   ]
  },
  {
   "cell_type": "code",
   "execution_count": null,
   "metadata": {},
   "outputs": [],
   "source": [
    "area = compute_grid_area(temp)\n",
    "\n",
    "fig, ax = plt.subplots(figsize=(5, 3))\n",
    "(temp * area).sum((\"lat\", \"lon\")).plot(ax=ax)[0]\n",
    "plt.ylabel(\"emissions (tCO2)\")\n",
    "plt.xticks(ticks=range(2000, 2020, 2))\n",
    "scatter_style(ax, aspect=None)"
   ]
  },
  {
   "cell_type": "markdown",
   "metadata": {},
   "source": [
    "## Comparison\n",
    "\n",
    "We focus on comparative analysis on the biomass datasets used so far in this notebook. For the\n",
    "purposes of this demonstration we will take a look at a small tile, to qualatatively assess the\n",
    "Zarin and Spawn & Gibbs data.\n"
   ]
  },
  {
   "cell_type": "code",
   "execution_count": null,
   "metadata": {},
   "outputs": [],
   "source": [
    "(ds_ornl[\"aboveground_biomass_carbon_2010\"]).sel(**box).plot(vmin=0, vmax=200)"
   ]
  },
  {
   "cell_type": "code",
   "execution_count": null,
   "metadata": {},
   "outputs": [],
   "source": [
    "(ds[\"agb\"] * TC_PER_TBM).sel(**box).plot(vmin=0, vmax=300)"
   ]
  },
  {
   "cell_type": "markdown",
   "metadata": {},
   "source": [
    "## Ground Truthing\n",
    "\n",
    "### Part 1. US State Aggregation\n",
    "\n",
    "Our ground truthing has taken two initial forms. First we compare regional (state) aggregated\n",
    "biomass estimates from Spawn & Gibbs to FIA state aggregated data.\n"
   ]
  },
  {
   "cell_type": "code",
   "execution_count": null,
   "metadata": {},
   "outputs": [],
   "source": [
    "@dask.delayed\n",
    "def calc_state_biomass(source, gdf):\n",
    "    \"\"\"lazy helper function to compute aggregated biomass by shape\"\"\"\n",
    "    import rioxarray\n",
    "\n",
    "    # open the dataset inside the task\n",
    "    obj = source.to_dask()[\"aboveground_biomass_carbon_2010\"] * ORNL_SCALING\n",
    "    obj.rio.set_spatial_dims(\"lon\", \"lat\")\n",
    "    obj.rio.set_crs(4326)\n",
    "    clipped = obj.rio.clip(gdf.geometry.apply(mapping), gdf.crs, drop=True)\n",
    "    cell_area = compute_grid_area(clipped)\n",
    "    return (clipped * cell_area).sum().values.item() / 1e6  # Tg C"
   ]
  },
  {
   "cell_type": "code",
   "execution_count": null,
   "metadata": {},
   "outputs": [],
   "source": [
    "# aggregate the ORNL (Spawn and Gibbs) data by state.\n",
    "\n",
    "from dask.diagnostics import ProgressBar\n",
    "\n",
    "biomass = [calc_state_biomass(cat.ornl_biomass, us_states.iloc[[i]]) for i in range(len(us_states))]\n",
    "with ProgressBar():\n",
    "    us_states[\"biomass_computed\"] = dask.compute(*biomass, scheduler=\"single-threaded\")\n",
    "\n",
    "# extract the FIA data and put it in our us_states dataframe\n",
    "for st, val in df_fia_state.values:\n",
    "    us_states.loc[f\"US-{st}\", \"biomass_fia\"] = val\n",
    "us_states.head(n=2)"
   ]
  },
  {
   "cell_type": "markdown",
   "metadata": {},
   "source": [
    "Now that we've computed biomass estimates for each state, we can compare them to the FIA aggregated\n",
    "data.\n"
   ]
  },
  {
   "cell_type": "code",
   "execution_count": null,
   "metadata": {},
   "outputs": [],
   "source": [
    "state_biomass = (\n",
    "    us_states[[\"biomass_fia\", \"biomass_computed\", \"geometry\"]].drop(labels=\"US-AK\").dropna(axis=0)\n",
    ")\n",
    "\n",
    "f, ax = plt.subplots(figsize=(5, 5))\n",
    "sns.regplot(\n",
    "    x=\"biomass_fia\",\n",
    "    y=\"biomass_computed\",\n",
    "    data=state_biomass,\n",
    "    color=\"#7EB36A\",\n",
    "    ax=ax,\n",
    ")\n",
    "scatter_style(ax)\n",
    "skill = mean_squared_error(\n",
    "    state_biomass[\"biomass_fia\"],\n",
    "    state_biomass[\"biomass_computed\"],\n",
    "    squared=False,\n",
    ")\n",
    "ax.text(0.65, 0.02, f\"rmse: {skill:.2f}\", transform=ax.transAxes)"
   ]
  },
  {
   "cell_type": "code",
   "execution_count": null,
   "metadata": {},
   "outputs": [],
   "source": [
    "# a few simple difference statistics\n",
    "state_biomass[\"pdiff\"] = (\n",
    "    (state_biomass[\"biomass_computed\"] - state_biomass[\"biomass_fia\"])\n",
    "    / state_biomass[\"biomass_fia\"]\n",
    ") * 100\n",
    "state_biomass[\"adiff\"] = state_biomass[\"biomass_computed\"] - state_biomass[\"biomass_fia\"]"
   ]
  },
  {
   "cell_type": "code",
   "execution_count": null,
   "metadata": {},
   "outputs": [],
   "source": [
    "state_biomass.plot(\n",
    "    column=\"biomass_fia\",\n",
    "    legend=True,\n",
    "    vmin=0,\n",
    "    vmax=1000,\n",
    "    cmap=\"Greens\",\n",
    "    legend_kwds={\"label\": \"Biomass (Tg C)\", \"orientation\": \"horizontal\"},\n",
    ")"
   ]
  },
  {
   "cell_type": "code",
   "execution_count": null,
   "metadata": {},
   "outputs": [],
   "source": [
    "state_biomass.plot(\n",
    "    column=\"pdiff\",\n",
    "    legend=True,\n",
    "    vmin=-100,\n",
    "    vmax=100,\n",
    "    cmap=\"RdBu\",\n",
    "    legend_kwds={\"label\": \"Difference (% FIA)\", \"orientation\": \"horizontal\"},\n",
    ")"
   ]
  },
  {
   "cell_type": "code",
   "execution_count": null,
   "metadata": {},
   "outputs": [],
   "source": [
    "state_biomass.plot(\n",
    "    column=\"adiff\",\n",
    "    legend=True,\n",
    "    vmin=-200,\n",
    "    vmax=200,\n",
    "    cmap=\"RdBu\",\n",
    "    legend_kwds={\"label\": \"Difference (Tg C)\", \"orientation\": \"horizontal\"},\n",
    ")"
   ]
  },
  {
   "cell_type": "markdown",
   "metadata": {},
   "source": [
    "### Part 2. FIA Plot Comparison\n",
    "\n",
    "For the second form of ground truthing we compare biomass estimates to actual FIA plot data. We have\n",
    "extracted all FIA plot locations in the state of California (shown in figure below) and we compare\n",
    "those to Spawn and Gibbs data below.\n"
   ]
  },
  {
   "cell_type": "code",
   "execution_count": null,
   "metadata": {},
   "outputs": [],
   "source": [
    "df_ca_fia.plot.scatter(\"lon\", \"lat\", c=\"carbon\", cmap=\"viridis\", vmax=120)"
   ]
  },
  {
   "cell_type": "code",
   "execution_count": null,
   "metadata": {},
   "outputs": [],
   "source": [
    "fia_da = df_ca_fia.to_xarray().rename({\"index\": \"plot\"})[[\"lat\", \"lon\"]]\n",
    "da = (\n",
    "    ds_ornl[\"aboveground_biomass_carbon_2010\"]\n",
    "    .sel(lat=fia_da.lat, lon=fia_da.lon, method=\"nearest\", tolerance=1.0)\n",
    "    .load()\n",
    ")\n",
    "df_ca_fia[\"ornl_biomass\"] = da.to_series()\n",
    "df_ca_fia.head()"
   ]
  },
  {
   "cell_type": "code",
   "execution_count": null,
   "metadata": {},
   "outputs": [],
   "source": [
    "f, axes = plt.subplots(nrows=3, figsize=(5, 8), sharex=True, sharey=True)\n",
    "\n",
    "sns.regplot(x=\"carbon\", y=\"ornl_biomass\", data=df_ca_fia, color=\"#7EB36A\", ax=axes[0])\n",
    "skill = mean_squared_error(df_ca_fia[\"carbon\"], df_ca_fia[\"ornl_biomass\"], squared=False)\n",
    "axes[0].annotate(\n",
    "    f\"rmse: {skill:.2f}\",\n",
    "    xy=(0.15, 0.8),\n",
    "    xycoords=\"data\",\n",
    "    xytext=(0.75, 0.1),\n",
    "    textcoords=\"axes fraction\",\n",
    ")\n",
    "axes[0].set_title(f\"all plots (n={len(df_ca_fia)})\")\n",
    "\n",
    "df = df_ca_fia.query(\"year == 2010\")\n",
    "sns.regplot(x=\"carbon\", y=\"ornl_biomass\", data=df, color=\"#7EB36A\", ax=axes[1])\n",
    "skill = mean_squared_error(df[\"carbon\"], df[\"ornl_biomass\"], squared=False)\n",
    "axes[1].annotate(\n",
    "    f\"rmse: {skill:.2f}\",\n",
    "    xy=(0.15, 0.8),\n",
    "    xycoords=\"data\",\n",
    "    xytext=(0.75, 0.1),\n",
    "    textcoords=\"axes fraction\",\n",
    ")\n",
    "axes[1].set_title(f\"2010 only (n={len(df)})\")\n",
    "\n",
    "df = df.query(\"forested > 0.99\")\n",
    "sns.regplot(x=\"carbon\", y=\"ornl_biomass\", data=df, color=\"#7EB36A\", ax=axes[2])\n",
    "skill = mean_squared_error(df[\"carbon\"], df[\"ornl_biomass\"], squared=False)\n",
    "axes[2].annotate(\n",
    "    f\"rmse: {skill:.2f}\",\n",
    "    xy=(0.15, 0.8),\n",
    "    xycoords=\"data\",\n",
    "    xytext=(0.75, 0.1),\n",
    "    textcoords=\"axes fraction\",\n",
    ")\n",
    "axes[2].set_title(f\"2010 & 100% forested (n={len(df)})\")\n",
    "\n",
    "for ax in axes:\n",
    "    plt.sca(ax)\n",
    "    plt.ylabel(\"ORNL biomass \\n(tC / ha)\")\n",
    "    plt.xlabel(\"FIA biomass (tC / ha)\")\n",
    "    scatter_style(ax)\n",
    "fig.tight_layout()"
   ]
  },
  {
   "cell_type": "code",
   "execution_count": null,
   "metadata": {},
   "outputs": [],
   "source": [
    "f, ax = plt.subplots(figsize=(6, 6))\n",
    "sns.kdeplot(\n",
    "    df_ca_fia.carbon,\n",
    "    df_ca_fia.ornl_biomass,\n",
    "    ax=ax,\n",
    ")\n",
    "\n",
    "plt.ylabel(\"ORNL biomass \\n(tC / ha)\")\n",
    "plt.xlabel(\"FIA biomass (tC / ha)\")\n",
    "plt.xlim(0, 150)\n",
    "plt.ylim(0, 150)\n",
    "scatter_style(ax)"
   ]
  },
  {
   "cell_type": "markdown",
   "metadata": {},
   "source": [
    "## References:\n",
    "\n",
    "- Curtis, P. G. et al. (2018) ‘Classifying drivers of global forest loss’, Science, 361(6407), pp.\n",
    "  1108–1111. doi: 10.1126/science.aau3445.\n",
    "- Eidenshink, J. et al. (2007) ‘A Project for Monitoring Trends in Burn Severity’, Fire Ecology,\n",
    "  3(1), pp. 3–21. doi: 10.4996/fireecology.0301003.\n",
    "- Hansen, M. C. et al. (2013) ‘High-resolution global maps of 21st-century forest cover change’,\n",
    "  Science, 342(6160), pp. 850–853. doi: 10.1126/science.1244693.\n",
    "- Hubau, W., et al. (2020) ‘Asynchronous carbon sink saturation in African and Amazonian tropical\n",
    "  forests’, Nature, 80–87(2020). doi: 10.1038/s41586-020-2035-0\n",
    "- Spawn, S. A. et al. (2020) ‘Harmonized global maps of above and belowground biomass carbon density\n",
    "  in the year 2010’, Scientific Data. doi: 10.1038/s41597-020-0444-4.\n",
    "- Zarin, D. J. et al. (2016) ‘Can carbon emissions from tropical deforestation drop by 50% in 5\n",
    "  years?’, Global Change Biology, pp. 1336–1347. doi: 10.1111/gcb.13153.\n"
   ]
  }
 ],
 "metadata": {
  "kernelspec": {
   "display_name": "Python 3",
   "language": "python",
   "name": "python3"
  },
  "language_info": {
   "codemirror_mode": {
    "name": "ipython",
    "version": 3
   },
   "file_extension": ".py",
   "mimetype": "text/x-python",
   "name": "python",
   "nbconvert_exporter": "python",
   "pygments_lexer": "ipython3",
   "version": "3.8.8"
  }
 },
 "nbformat": 4,
 "nbformat_minor": 4
}
